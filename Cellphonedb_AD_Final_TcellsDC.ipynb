{
  "nbformat": 4,
  "nbformat_minor": 0,
  "metadata": {
    "colab": {
      "provenance": [],
      "toc_visible": true,
      "include_colab_link": true
    },
    "kernelspec": {
      "name": "python3",
      "display_name": "Python 3"
    }
  },
  "cells": [
    {
      "cell_type": "markdown",
      "metadata": {
        "id": "view-in-github",
        "colab_type": "text"
      },
      "source": [
        "<a href=\"https://colab.research.google.com/github/afvallejo/AD_2023/blob/main/Cellphonedb_AD_Final_TcellsDC.ipynb\" target=\"_parent\"><img src=\"https://colab.research.google.com/assets/colab-badge.svg\" alt=\"Open In Colab\"/></a>"
      ]
    },
    {
      "cell_type": "code",
      "metadata": {
        "id": "M2oyRVP51a_u"
      },
      "source": [
        "pip install scanpy"
      ],
      "execution_count": null,
      "outputs": []
    },
    {
      "cell_type": "code",
      "metadata": {
        "id": "VorUxOVlUHWw"
      },
      "source": [
        "import scanpy as sc\n",
        "import matplotlib\n",
        "import matplotlib.pyplot as pl\n",
        "#import anndata2ri\n",
        "import numpy as np\n",
        "import scipy as sp\n",
        "import pandas as pd\n",
        "#import re\n",
        "#anndata2ri.activate()\n",
        "#%load_ext rpy2.ipython"
      ],
      "execution_count": null,
      "outputs": []
    },
    {
      "cell_type": "code",
      "metadata": {
        "id": "41v0FJjkCVKZ",
        "colab": {
          "base_uri": "https://localhost:8080/"
        },
        "outputId": "04a72586-1f21-4bfe-dec2-38ce0fce4530"
      },
      "source": [
        "%cd /home/jupyter/bucket/AD_Final/Aligned/"
      ],
      "execution_count": null,
      "outputs": [
        {
          "output_type": "stream",
          "text": [
            "/home/jupyter/bucket/AD_Final/Aligned\n"
          ],
          "name": "stdout"
        }
      ]
    },
    {
      "cell_type": "code",
      "metadata": {
        "id": "tZrQw-aQrEIK"
      },
      "source": [
        "folder='/home/jupyter/bucket/AD_Final/Aligned/'\n",
        "#folder='/home/jupyter/bucket/20200519_DC_LPS_Dropseq/RNA_velocity/'\n",
        "\n",
        "samplename='TcellsDC'\n",
        "\n",
        "import os\n",
        "os.chdir(folder)\n",
        "if not os.path.exists('./figures'):\n",
        "    os.makedirs('./figures')\n",
        "\n",
        "random_state = 42\n",
        "metric = \"euclidean\"\n",
        "# Filtering criteria\n",
        "flavor=\"cell_ranger\"\n",
        "n_top_genes = 3000\n",
        "BBKNN=\"False\"\n",
        "n_neighbors = 10\n",
        "#PCA\n",
        "n_comps=50\n",
        "#neighbors\n",
        "num_PCA = 30\n",
        "n_pcs=30\n",
        "resolution=0.5"
      ],
      "execution_count": null,
      "outputs": []
    },
    {
      "cell_type": "code",
      "metadata": {
        "id": "j3fb32lNbGSd",
        "colab": {
          "base_uri": "https://localhost:8080/"
        },
        "outputId": "eebdd96a-de00-43d8-a22a-4344017d9ffa"
      },
      "source": [
        "adata=sc.read(\"TcellsDC_leiden_cl_vst.h5ad\")\n",
        "adata"
      ],
      "execution_count": null,
      "outputs": [
        {
          "output_type": "execute_result",
          "data": {
            "text/plain": [
              "AnnData object with n_obs × n_vars = 2889 × 20902\n",
              "    obs: 'batch', 'n_counts', 'log_counts', 'n_genes', 'mt_frac', 'n_genes_by_counts', 'log1p_n_genes_by_counts', 'total_counts', 'log1p_total_counts', 'pct_counts_in_top_50_genes', 'pct_counts_in_top_100_genes', 'pct_counts_in_top_200_genes', 'pct_counts_in_top_500_genes', 'total_counts_mito', 'log1p_total_counts_mito', 'pct_counts_mito', 'doublet_score', 'predicted_doublet', 'sample', 'Donnor', 'Treatment', 'Condition', 'treatmentcondition', 'leiden_r1.5', 'leiden_r1', 'leiden_r0.8', 'leiden_r0.5', 'leiden_r0.4', 'leiden_r0.3', 'leiden_r0.2', 'annotated', 'CD8.TE', 'NKT', 'CD4.CM', 'CD4.Naive', 'Treg', 'Plasmablast', 'CD14_mono', 'pDC', 'CD16_mono', 'CD4.Th2', 'ILC2', 'CD4.IL22', 'CD8.EM', 'Plasma_cell_IgA', 'NK_56hi', 'Platelets', 'CD8.Naive', 'B_non-switched_memory', 'C1_CD16_mono', 'Mono_prolif', 'CD4.EM', 'ASDC', 'DC_prolif', 'NK_16hi', 'RBC', 'CD4.Prolif', 'DC1', 'gdT', 'DC3', 'Plasma_cell_IgM', 'DC2', 'Plasma_cell_IgG', 'CD83_CD14_mono', 'CD4.Tfh', 'MAIT', 'B_naive', 'CD4.Th1', 'NK_prolif', 'HSC', 'CD8.Prolif', 'ILC1_3', 'B_switched_memory', 'B_exhausted', 'B_immature', 'DC1_gene', 'LE2_gene', 'Schwann_2_gene', 'LE1_gene', 'Schwann_1_gene', 'LC_2_gene', 'Th_gene', 'Fb3_gene', 'ILC1_NK_gene', 'VE3_gene', 'NK_gene', 'Mono_mac_gene', 'ILC1_3_gene', 'moDC_1_gene', 'Fb1_gene', 'Fb2_gene', 'DC2_gene', 'LC_1_gene', 'Undifferentiated_KC_gene', 'moDC_3_gene', 'Tc_gene', 'Melanocyte_gene', 'proliferating_KC_gene', 'Plasma_gene', 'moDC_2_gene', 'Inf_mac_gene', 'VE1_gene', 'ILC2_gene', 'LC_4_gene', 'MigDC_gene', 'VE2_gene', 'Pericyte_1_gene', 'Mast_cell_gene', 'LC_3_gene', 'Treg_gene', 'Pericyte_2_gene', 'Macro_2_gene', 'Macro_1_gene', 'Differentiated_KC_gene'\n",
              "    var: 'gene_name', 'mito', 'n_cells_by_counts-0', 'mean_counts-0', 'log1p_mean_counts-0', 'pct_dropout_by_counts-0', 'total_counts-0', 'log1p_total_counts-0', 'n_cells_by_counts-1', 'mean_counts-1', 'log1p_mean_counts-1', 'pct_dropout_by_counts-1', 'total_counts-1', 'log1p_total_counts-1', 'n_cells_by_counts-2', 'mean_counts-2', 'log1p_mean_counts-2', 'pct_dropout_by_counts-2', 'total_counts-2', 'log1p_total_counts-2', 'n_cells_by_counts-3', 'mean_counts-3', 'log1p_mean_counts-3', 'pct_dropout_by_counts-3', 'total_counts-3', 'log1p_total_counts-3', 'n_cells_by_counts-4', 'mean_counts-4', 'log1p_mean_counts-4', 'pct_dropout_by_counts-4', 'total_counts-4', 'log1p_total_counts-4', 'n_cells_by_counts', 'mean_counts', 'log1p_mean_counts', 'pct_dropout_by_counts', 'total_counts', 'log1p_total_counts', 'n_cells', 'highly_variable_sct_residual_var', 'highly_variable', 'mean', 'std'\n",
              "    uns: 'Condition_colors', 'Donnor_colors', 'Treatment_colors', 'annotated_colors', 'leiden', 'leiden_r0.2_colors', 'leiden_r0.3_colors', 'leiden_r0.4_colors', 'leiden_r0.5_colors', 'leiden_r0.8_colors', 'leiden_r1_colors', 'neighbors', 'pca', 'rank_genes_groups', 'sample_colors', 'treatmentcondition_colors', 'umap'\n",
              "    obsm: 'X_pca', 'X_umap'\n",
              "    varm: 'PCs'\n",
              "    layers: 'counts', 'logcounts', 'sct_corrected', 'sct_residuals', 'spliced', 'unspliced'\n",
              "    obsp: 'connectivities', 'distances'"
            ]
          },
          "metadata": {
            "tags": []
          },
          "execution_count": 4
        }
      ]
    },
    {
      "cell_type": "code",
      "metadata": {
        "colab": {
          "base_uri": "https://localhost:8080/",
          "height": 342
        },
        "id": "csvZYlZ2bmkj",
        "outputId": "6966e122-441c-48f9-fdee-5415986342c3"
      },
      "source": [
        "\n",
        "pl.rcParams['figure.figsize']=(5,5)\n",
        "#sc.tl.leiden(adata,random_state=random_state, resolution = 0.5)\n",
        "savefig=samplename+\"_clustering_vst_bbknn.pdf\"\n",
        "sc.pl.umap(adata, color=['annotated','sample'],legend_fontoutline=3, \n",
        "           hspace=0.5,wspace=0.5,legend_fontweight='normal',frameon=False,save=savefig)"
      ],
      "execution_count": null,
      "outputs": [
        {
          "output_type": "stream",
          "text": [
            "WARNING: saving figure to file figures/umapTcellsDC_clustering_vst_bbknn.pdf\n"
          ],
          "name": "stderr"
        },
        {
          "output_type": "display_data",
          "data": {
            "text/plain": [
              "<Figure size 1080x360 with 2 Axes>"
            ],
            "image/png": "[encoded data removed]"
          },
          "metadata": {
            "tags": []
          }
        }
      ]
    },
    {
      "cell_type": "code",
      "metadata": {
        "colab": {
          "base_uri": "https://localhost:8080/"
        },
        "id": "-k_Q2h9rIqW_",
        "outputId": "ee1d7a25-391a-40a1-cca4-e327fbb057fa"
      },
      "source": [
        "print(adata.obs['treatmentcondition'].value_counts())"
      ],
      "execution_count": null,
      "outputs": [
        {
          "output_type": "stream",
          "text": [
            "HT    1156\n",
            "HR     890\n",
            "CR     533\n",
            "CT     310\n",
            "Name: treatmentcondition, dtype: int64\n"
          ],
          "name": "stdout"
        }
      ]
    },
    {
      "cell_type": "code",
      "metadata": {
        "id": "LKijR3pQuuE-"
      },
      "source": [
        "# using corrected counts as X\n",
        "adata.X=adata.layers[\"sct_corrected\"]\n",
        "adata.X = sp.sparse.csr_matrix(adata.X)\n",
        "sc.pp.log1p(adata)\n",
        "adata.layers[\"logcounts\"] = adata.X\n",
        "\n",
        "####################################\n",
        "#using pearsons residuals as X\n",
        "####################################\n",
        "\n",
        "#adata.X=adata.layers[\"sct_residuals\"]\n",
        "#adata.layers[\"logcounts\"] = adata.X"
      ],
      "execution_count": null,
      "outputs": []
    },
    {
      "cell_type": "code",
      "metadata": {
        "colab": {
          "base_uri": "https://localhost:8080/"
        },
        "id": "xoicZvq2fhER",
        "outputId": "c2d4da98-9fc0-4d04-8d6d-b3fd2804f592"
      },
      "source": [
        "adata1= adata[adata.obs['treatmentcondition'].isin(['CR']),:].copy()\n",
        "adata1"
      ],
      "execution_count": null,
      "outputs": [
        {
          "output_type": "execute_result",
          "data": {
            "text/plain": [
              "AnnData object with n_obs × n_vars = 533 × 20902\n",
              "    obs: 'batch', 'n_counts', 'log_counts', 'n_genes', 'mt_frac', 'n_genes_by_counts', 'log1p_n_genes_by_counts', 'total_counts', 'log1p_total_counts', 'pct_counts_in_top_50_genes', 'pct_counts_in_top_100_genes', 'pct_counts_in_top_200_genes', 'pct_counts_in_top_500_genes', 'total_counts_mito', 'log1p_total_counts_mito', 'pct_counts_mito', 'doublet_score', 'predicted_doublet', 'sample', 'Donnor', 'Treatment', 'Condition', 'treatmentcondition', 'leiden_r1.5', 'leiden_r1', 'leiden_r0.8', 'leiden_r0.5', 'leiden_r0.4', 'leiden_r0.3', 'leiden_r0.2', 'annotated', 'CD8.TE', 'NKT', 'CD4.CM', 'CD4.Naive', 'Treg', 'Plasmablast', 'CD14_mono', 'pDC', 'CD16_mono', 'CD4.Th2', 'ILC2', 'CD4.IL22', 'CD8.EM', 'Plasma_cell_IgA', 'NK_56hi', 'Platelets', 'CD8.Naive', 'B_non-switched_memory', 'C1_CD16_mono', 'Mono_prolif', 'CD4.EM', 'ASDC', 'DC_prolif', 'NK_16hi', 'RBC', 'CD4.Prolif', 'DC1', 'gdT', 'DC3', 'Plasma_cell_IgM', 'DC2', 'Plasma_cell_IgG', 'CD83_CD14_mono', 'CD4.Tfh', 'MAIT', 'B_naive', 'CD4.Th1', 'NK_prolif', 'HSC', 'CD8.Prolif', 'ILC1_3', 'B_switched_memory', 'B_exhausted', 'B_immature', 'DC1_gene', 'LE2_gene', 'Schwann_2_gene', 'LE1_gene', 'Schwann_1_gene', 'LC_2_gene', 'Th_gene', 'Fb3_gene', 'ILC1_NK_gene', 'VE3_gene', 'NK_gene', 'Mono_mac_gene', 'ILC1_3_gene', 'moDC_1_gene', 'Fb1_gene', 'Fb2_gene', 'DC2_gene', 'LC_1_gene', 'Undifferentiated_KC_gene', 'moDC_3_gene', 'Tc_gene', 'Melanocyte_gene', 'proliferating_KC_gene', 'Plasma_gene', 'moDC_2_gene', 'Inf_mac_gene', 'VE1_gene', 'ILC2_gene', 'LC_4_gene', 'MigDC_gene', 'VE2_gene', 'Pericyte_1_gene', 'Mast_cell_gene', 'LC_3_gene', 'Treg_gene', 'Pericyte_2_gene', 'Macro_2_gene', 'Macro_1_gene', 'Differentiated_KC_gene'\n",
              "    var: 'gene_name', 'mito', 'n_cells_by_counts-0', 'mean_counts-0', 'log1p_mean_counts-0', 'pct_dropout_by_counts-0', 'total_counts-0', 'log1p_total_counts-0', 'n_cells_by_counts-1', 'mean_counts-1', 'log1p_mean_counts-1', 'pct_dropout_by_counts-1', 'total_counts-1', 'log1p_total_counts-1', 'n_cells_by_counts-2', 'mean_counts-2', 'log1p_mean_counts-2', 'pct_dropout_by_counts-2', 'total_counts-2', 'log1p_total_counts-2', 'n_cells_by_counts-3', 'mean_counts-3', 'log1p_mean_counts-3', 'pct_dropout_by_counts-3', 'total_counts-3', 'log1p_total_counts-3', 'n_cells_by_counts-4', 'mean_counts-4', 'log1p_mean_counts-4', 'pct_dropout_by_counts-4', 'total_counts-4', 'log1p_total_counts-4', 'n_cells_by_counts', 'mean_counts', 'log1p_mean_counts', 'pct_dropout_by_counts', 'total_counts', 'log1p_total_counts', 'n_cells', 'highly_variable_sct_residual_var', 'highly_variable', 'mean', 'std'\n",
              "    uns: 'Condition_colors', 'Donnor_colors', 'Treatment_colors', 'annotated_colors', 'leiden', 'leiden_r0.3_colors', 'leiden_r0.4_colors', 'leiden_r0.5_colors', 'leiden_r0.8_colors', 'leiden_r1_colors', 'neighbors', 'pca', 'rank_genes_groups', 'sample_colors', 'treatmentcondition_colors', 'umap', 'log1p'\n",
              "    obsm: 'X_pca', 'X_umap'\n",
              "    varm: 'PCs'\n",
              "    layers: 'counts', 'logcounts', 'sct_corrected', 'sct_residuals', 'spliced', 'unspliced'\n",
              "    obsp: 'connectivities', 'distances'"
            ]
          },
          "metadata": {
            "tags": []
          },
          "execution_count": 10
        }
      ]
    },
    {
      "cell_type": "code",
      "metadata": {
        "id": "TZshBgJVwUeq",
        "colab": {
          "base_uri": "https://localhost:8080/"
        },
        "outputId": "872375a8-12f9-4d6d-eba1-2a5dd74b8326"
      },
      "source": [
        "# using corrected counts as X\n",
        "adata1.X=adata1.layers[\"sct_corrected\"]\n",
        "adata1.X = sp.sparse.csr_matrix(adata1.X)\n",
        "sc.pp.log1p(adata1)\n",
        "adata1.layers[\"logcounts\"] = adata1.X\n",
        "\n"
      ],
      "execution_count": null,
      "outputs": [
        {
          "output_type": "stream",
          "text": [
            "WARNING: adata.X seems to be already log-transformed.\n"
          ],
          "name": "stderr"
        }
      ]
    },
    {
      "cell_type": "code",
      "metadata": {
        "colab": {
          "base_uri": "https://localhost:8080/"
        },
        "id": "QYsBe4s8fhuT",
        "outputId": "968cb104-7350-40e6-cd8a-37e1beeb931a"
      },
      "source": [
        "adata2= adata[adata.obs['treatmentcondition'].isin(['HR']),:].copy()\n",
        "adata2"
      ],
      "execution_count": null,
      "outputs": [
        {
          "output_type": "execute_result",
          "data": {
            "text/plain": [
              "AnnData object with n_obs × n_vars = 890 × 20902\n",
              "    obs: 'batch', 'n_counts', 'log_counts', 'n_genes', 'mt_frac', 'n_genes_by_counts', 'log1p_n_genes_by_counts', 'total_counts', 'log1p_total_counts', 'pct_counts_in_top_50_genes', 'pct_counts_in_top_100_genes', 'pct_counts_in_top_200_genes', 'pct_counts_in_top_500_genes', 'total_counts_mito', 'log1p_total_counts_mito', 'pct_counts_mito', 'doublet_score', 'predicted_doublet', 'sample', 'Donnor', 'Treatment', 'Condition', 'treatmentcondition', 'leiden_r1.5', 'leiden_r1', 'leiden_r0.8', 'leiden_r0.5', 'leiden_r0.4', 'leiden_r0.3', 'leiden_r0.2', 'annotated', 'CD8.TE', 'NKT', 'CD4.CM', 'CD4.Naive', 'Treg', 'Plasmablast', 'CD14_mono', 'pDC', 'CD16_mono', 'CD4.Th2', 'ILC2', 'CD4.IL22', 'CD8.EM', 'Plasma_cell_IgA', 'NK_56hi', 'Platelets', 'CD8.Naive', 'B_non-switched_memory', 'C1_CD16_mono', 'Mono_prolif', 'CD4.EM', 'ASDC', 'DC_prolif', 'NK_16hi', 'RBC', 'CD4.Prolif', 'DC1', 'gdT', 'DC3', 'Plasma_cell_IgM', 'DC2', 'Plasma_cell_IgG', 'CD83_CD14_mono', 'CD4.Tfh', 'MAIT', 'B_naive', 'CD4.Th1', 'NK_prolif', 'HSC', 'CD8.Prolif', 'ILC1_3', 'B_switched_memory', 'B_exhausted', 'B_immature', 'DC1_gene', 'LE2_gene', 'Schwann_2_gene', 'LE1_gene', 'Schwann_1_gene', 'LC_2_gene', 'Th_gene', 'Fb3_gene', 'ILC1_NK_gene', 'VE3_gene', 'NK_gene', 'Mono_mac_gene', 'ILC1_3_gene', 'moDC_1_gene', 'Fb1_gene', 'Fb2_gene', 'DC2_gene', 'LC_1_gene', 'Undifferentiated_KC_gene', 'moDC_3_gene', 'Tc_gene', 'Melanocyte_gene', 'proliferating_KC_gene', 'Plasma_gene', 'moDC_2_gene', 'Inf_mac_gene', 'VE1_gene', 'ILC2_gene', 'LC_4_gene', 'MigDC_gene', 'VE2_gene', 'Pericyte_1_gene', 'Mast_cell_gene', 'LC_3_gene', 'Treg_gene', 'Pericyte_2_gene', 'Macro_2_gene', 'Macro_1_gene', 'Differentiated_KC_gene'\n",
              "    var: 'gene_name', 'mito', 'n_cells_by_counts-0', 'mean_counts-0', 'log1p_mean_counts-0', 'pct_dropout_by_counts-0', 'total_counts-0', 'log1p_total_counts-0', 'n_cells_by_counts-1', 'mean_counts-1', 'log1p_mean_counts-1', 'pct_dropout_by_counts-1', 'total_counts-1', 'log1p_total_counts-1', 'n_cells_by_counts-2', 'mean_counts-2', 'log1p_mean_counts-2', 'pct_dropout_by_counts-2', 'total_counts-2', 'log1p_total_counts-2', 'n_cells_by_counts-3', 'mean_counts-3', 'log1p_mean_counts-3', 'pct_dropout_by_counts-3', 'total_counts-3', 'log1p_total_counts-3', 'n_cells_by_counts-4', 'mean_counts-4', 'log1p_mean_counts-4', 'pct_dropout_by_counts-4', 'total_counts-4', 'log1p_total_counts-4', 'n_cells_by_counts', 'mean_counts', 'log1p_mean_counts', 'pct_dropout_by_counts', 'total_counts', 'log1p_total_counts', 'n_cells', 'highly_variable_sct_residual_var', 'highly_variable', 'mean', 'std'\n",
              "    uns: 'Condition_colors', 'Donnor_colors', 'Treatment_colors', 'annotated_colors', 'leiden', 'leiden_r0.3_colors', 'leiden_r0.4_colors', 'leiden_r0.5_colors', 'leiden_r0.8_colors', 'leiden_r1_colors', 'neighbors', 'pca', 'rank_genes_groups', 'sample_colors', 'treatmentcondition_colors', 'umap', 'log1p'\n",
              "    obsm: 'X_pca', 'X_umap'\n",
              "    varm: 'PCs'\n",
              "    layers: 'counts', 'logcounts', 'sct_corrected', 'sct_residuals', 'spliced', 'unspliced'\n",
              "    obsp: 'connectivities', 'distances'"
            ]
          },
          "metadata": {
            "tags": []
          },
          "execution_count": 24
        }
      ]
    },
    {
      "cell_type": "code",
      "metadata": {
        "colab": {
          "base_uri": "https://localhost:8080/"
        },
        "id": "_xDsU23bfjnn",
        "outputId": "8d587117-c212-4f7e-90b3-a9a73a334cef"
      },
      "source": [
        "adata3= adata[adata.obs['treatmentcondition'].isin(['CT']),:].copy()\n",
        "adata3"
      ],
      "execution_count": null,
      "outputs": [
        {
          "output_type": "execute_result",
          "data": {
            "text/plain": [
              "AnnData object with n_obs × n_vars = 310 × 20902\n",
              "    obs: 'batch', 'n_counts', 'log_counts', 'n_genes', 'mt_frac', 'n_genes_by_counts', 'log1p_n_genes_by_counts', 'total_counts', 'log1p_total_counts', 'pct_counts_in_top_50_genes', 'pct_counts_in_top_100_genes', 'pct_counts_in_top_200_genes', 'pct_counts_in_top_500_genes', 'total_counts_mito', 'log1p_total_counts_mito', 'pct_counts_mito', 'doublet_score', 'predicted_doublet', 'sample', 'Donnor', 'Treatment', 'Condition', 'treatmentcondition', 'leiden_r1.5', 'leiden_r1', 'leiden_r0.8', 'leiden_r0.5', 'leiden_r0.4', 'leiden_r0.3', 'leiden_r0.2', 'annotated', 'CD8.TE', 'NKT', 'CD4.CM', 'CD4.Naive', 'Treg', 'Plasmablast', 'CD14_mono', 'pDC', 'CD16_mono', 'CD4.Th2', 'ILC2', 'CD4.IL22', 'CD8.EM', 'Plasma_cell_IgA', 'NK_56hi', 'Platelets', 'CD8.Naive', 'B_non-switched_memory', 'C1_CD16_mono', 'Mono_prolif', 'CD4.EM', 'ASDC', 'DC_prolif', 'NK_16hi', 'RBC', 'CD4.Prolif', 'DC1', 'gdT', 'DC3', 'Plasma_cell_IgM', 'DC2', 'Plasma_cell_IgG', 'CD83_CD14_mono', 'CD4.Tfh', 'MAIT', 'B_naive', 'CD4.Th1', 'NK_prolif', 'HSC', 'CD8.Prolif', 'ILC1_3', 'B_switched_memory', 'B_exhausted', 'B_immature', 'DC1_gene', 'LE2_gene', 'Schwann_2_gene', 'LE1_gene', 'Schwann_1_gene', 'LC_2_gene', 'Th_gene', 'Fb3_gene', 'ILC1_NK_gene', 'VE3_gene', 'NK_gene', 'Mono_mac_gene', 'ILC1_3_gene', 'moDC_1_gene', 'Fb1_gene', 'Fb2_gene', 'DC2_gene', 'LC_1_gene', 'Undifferentiated_KC_gene', 'moDC_3_gene', 'Tc_gene', 'Melanocyte_gene', 'proliferating_KC_gene', 'Plasma_gene', 'moDC_2_gene', 'Inf_mac_gene', 'VE1_gene', 'ILC2_gene', 'LC_4_gene', 'MigDC_gene', 'VE2_gene', 'Pericyte_1_gene', 'Mast_cell_gene', 'LC_3_gene', 'Treg_gene', 'Pericyte_2_gene', 'Macro_2_gene', 'Macro_1_gene', 'Differentiated_KC_gene'\n",
              "    var: 'gene_name', 'mito', 'n_cells_by_counts-0', 'mean_counts-0', 'log1p_mean_counts-0', 'pct_dropout_by_counts-0', 'total_counts-0', 'log1p_total_counts-0', 'n_cells_by_counts-1', 'mean_counts-1', 'log1p_mean_counts-1', 'pct_dropout_by_counts-1', 'total_counts-1', 'log1p_total_counts-1', 'n_cells_by_counts-2', 'mean_counts-2', 'log1p_mean_counts-2', 'pct_dropout_by_counts-2', 'total_counts-2', 'log1p_total_counts-2', 'n_cells_by_counts-3', 'mean_counts-3', 'log1p_mean_counts-3', 'pct_dropout_by_counts-3', 'total_counts-3', 'log1p_total_counts-3', 'n_cells_by_counts-4', 'mean_counts-4', 'log1p_mean_counts-4', 'pct_dropout_by_counts-4', 'total_counts-4', 'log1p_total_counts-4', 'n_cells_by_counts', 'mean_counts', 'log1p_mean_counts', 'pct_dropout_by_counts', 'total_counts', 'log1p_total_counts', 'n_cells', 'highly_variable_sct_residual_var', 'highly_variable', 'mean', 'std'\n",
              "    uns: 'Condition_colors', 'Donnor_colors', 'Treatment_colors', 'annotated_colors', 'leiden', 'leiden_r0.3_colors', 'leiden_r0.4_colors', 'leiden_r0.5_colors', 'leiden_r0.8_colors', 'leiden_r1_colors', 'neighbors', 'pca', 'rank_genes_groups', 'sample_colors', 'treatmentcondition_colors', 'umap', 'log1p'\n",
              "    obsm: 'X_pca', 'X_umap'\n",
              "    varm: 'PCs'\n",
              "    layers: 'counts', 'logcounts', 'sct_corrected', 'sct_residuals', 'spliced', 'unspliced'\n",
              "    obsp: 'connectivities', 'distances'"
            ]
          },
          "metadata": {
            "tags": []
          },
          "execution_count": 25
        }
      ]
    },
    {
      "cell_type": "code",
      "metadata": {
        "colab": {
          "base_uri": "https://localhost:8080/"
        },
        "id": "EtB8rc6Wflc5",
        "outputId": "32fcaa77-8cc2-4068-fd1f-f39f737c5c38"
      },
      "source": [
        "adata4= adata[adata.obs['treatmentcondition'].isin(['HT']),:].copy()\n",
        "adata4"
      ],
      "execution_count": null,
      "outputs": [
        {
          "output_type": "execute_result",
          "data": {
            "text/plain": [
              "AnnData object with n_obs × n_vars = 1156 × 20902\n",
              "    obs: 'batch', 'n_counts', 'log_counts', 'n_genes', 'mt_frac', 'n_genes_by_counts', 'log1p_n_genes_by_counts', 'total_counts', 'log1p_total_counts', 'pct_counts_in_top_50_genes', 'pct_counts_in_top_100_genes', 'pct_counts_in_top_200_genes', 'pct_counts_in_top_500_genes', 'total_counts_mito', 'log1p_total_counts_mito', 'pct_counts_mito', 'doublet_score', 'predicted_doublet', 'sample', 'Donnor', 'Treatment', 'Condition', 'treatmentcondition', 'leiden_r1.5', 'leiden_r1', 'leiden_r0.8', 'leiden_r0.5', 'leiden_r0.4', 'leiden_r0.3', 'leiden_r0.2', 'annotated', 'CD8.TE', 'NKT', 'CD4.CM', 'CD4.Naive', 'Treg', 'Plasmablast', 'CD14_mono', 'pDC', 'CD16_mono', 'CD4.Th2', 'ILC2', 'CD4.IL22', 'CD8.EM', 'Plasma_cell_IgA', 'NK_56hi', 'Platelets', 'CD8.Naive', 'B_non-switched_memory', 'C1_CD16_mono', 'Mono_prolif', 'CD4.EM', 'ASDC', 'DC_prolif', 'NK_16hi', 'RBC', 'CD4.Prolif', 'DC1', 'gdT', 'DC3', 'Plasma_cell_IgM', 'DC2', 'Plasma_cell_IgG', 'CD83_CD14_mono', 'CD4.Tfh', 'MAIT', 'B_naive', 'CD4.Th1', 'NK_prolif', 'HSC', 'CD8.Prolif', 'ILC1_3', 'B_switched_memory', 'B_exhausted', 'B_immature', 'DC1_gene', 'LE2_gene', 'Schwann_2_gene', 'LE1_gene', 'Schwann_1_gene', 'LC_2_gene', 'Th_gene', 'Fb3_gene', 'ILC1_NK_gene', 'VE3_gene', 'NK_gene', 'Mono_mac_gene', 'ILC1_3_gene', 'moDC_1_gene', 'Fb1_gene', 'Fb2_gene', 'DC2_gene', 'LC_1_gene', 'Undifferentiated_KC_gene', 'moDC_3_gene', 'Tc_gene', 'Melanocyte_gene', 'proliferating_KC_gene', 'Plasma_gene', 'moDC_2_gene', 'Inf_mac_gene', 'VE1_gene', 'ILC2_gene', 'LC_4_gene', 'MigDC_gene', 'VE2_gene', 'Pericyte_1_gene', 'Mast_cell_gene', 'LC_3_gene', 'Treg_gene', 'Pericyte_2_gene', 'Macro_2_gene', 'Macro_1_gene', 'Differentiated_KC_gene'\n",
              "    var: 'gene_name', 'mito', 'n_cells_by_counts-0', 'mean_counts-0', 'log1p_mean_counts-0', 'pct_dropout_by_counts-0', 'total_counts-0', 'log1p_total_counts-0', 'n_cells_by_counts-1', 'mean_counts-1', 'log1p_mean_counts-1', 'pct_dropout_by_counts-1', 'total_counts-1', 'log1p_total_counts-1', 'n_cells_by_counts-2', 'mean_counts-2', 'log1p_mean_counts-2', 'pct_dropout_by_counts-2', 'total_counts-2', 'log1p_total_counts-2', 'n_cells_by_counts-3', 'mean_counts-3', 'log1p_mean_counts-3', 'pct_dropout_by_counts-3', 'total_counts-3', 'log1p_total_counts-3', 'n_cells_by_counts-4', 'mean_counts-4', 'log1p_mean_counts-4', 'pct_dropout_by_counts-4', 'total_counts-4', 'log1p_total_counts-4', 'n_cells_by_counts', 'mean_counts', 'log1p_mean_counts', 'pct_dropout_by_counts', 'total_counts', 'log1p_total_counts', 'n_cells', 'highly_variable_sct_residual_var', 'highly_variable', 'mean', 'std'\n",
              "    uns: 'Condition_colors', 'Donnor_colors', 'Treatment_colors', 'annotated_colors', 'leiden', 'leiden_r0.3_colors', 'leiden_r0.4_colors', 'leiden_r0.5_colors', 'leiden_r0.8_colors', 'leiden_r1_colors', 'neighbors', 'pca', 'rank_genes_groups', 'sample_colors', 'treatmentcondition_colors', 'umap', 'log1p'\n",
              "    obsm: 'X_pca', 'X_umap'\n",
              "    varm: 'PCs'\n",
              "    layers: 'counts', 'logcounts', 'sct_corrected', 'sct_residuals', 'spliced', 'unspliced'\n",
              "    obsp: 'connectivities', 'distances'"
            ]
          },
          "metadata": {
            "tags": []
          },
          "execution_count": 26
        }
      ]
    },
    {
      "cell_type": "code",
      "metadata": {
        "colab": {
          "base_uri": "https://localhost:8080/",
          "height": 506
        },
        "id": "pMIVQHg-rJuR",
        "outputId": "83a1bf9f-c0c5-4ce0-a2c2-d93ca64eae23"
      },
      "source": [
        "adata.obs"
      ],
      "execution_count": null,
      "outputs": [
        {
          "output_type": "execute_result",
          "data": {
            "text/plain": [
              "                   batch  n_counts  log_counts  n_genes   mt_frac  \\\n",
              "barcode                                                             \n",
              "AAACGAAGTGCACAAG-0     0    8626.0    9.062536     2281  0.018872   \n",
              "AAACGAAGTGTGCTTA-0     0    4423.0    8.394573     1429  0.048254   \n",
              "AAAGGATAGCAGCAGT-0     0    4933.0    8.503702     1337  0.016816   \n",
              "AAAGGGCCAGACACCC-0     0    6576.0    8.791182     1745  0.013440   \n",
              "AACAACCAGTGTTGTC-0     0   12327.0    9.419547     2469  0.018513   \n",
              "...                  ...       ...         ...      ...       ...   \n",
              "TTGTGGATCTCATGGA-4     4    3430.0    8.140316     1319  0.075229   \n",
              "TTGTTTGTCCAAACCA-4     4    1354.0    7.210818      606  0.148589   \n",
              "TTTCATGTCCTCTCGA-4     4    2321.0    7.749753      954  0.011446   \n",
              "TTTCCTCTCCAGCTCT-4     4    6269.0    8.743372     1479  0.058510   \n",
              "TTTCGATCAAGCGATG-4     4    1043.0    6.949856      711  0.108472   \n",
              "\n",
              "                    n_genes_by_counts  log1p_n_genes_by_counts  total_counts  \\\n",
              "barcode                                                                        \n",
              "AAACGAAGTGCACAAG-0               2281                 7.732808        8626.0   \n",
              "AAACGAAGTGTGCTTA-0               1429                 7.265430        4423.0   \n",
              "AAAGGATAGCAGCAGT-0               1337                 7.198931        4933.0   \n",
              "AAAGGGCCAGACACCC-0               1745                 7.465083        6576.0   \n",
              "AACAACCAGTGTTGTC-0               2469                 7.811973       12327.0   \n",
              "...                               ...                      ...           ...   \n",
              "TTGTGGATCTCATGGA-4               1319                 7.185387        3430.0   \n",
              "TTGTTTGTCCAAACCA-4                606                 6.408529        1354.0   \n",
              "TTTCATGTCCTCTCGA-4                954                 6.861711        2321.0   \n",
              "TTTCCTCTCCAGCTCT-4               1479                 7.299797        6269.0   \n",
              "TTTCGATCAAGCGATG-4                711                 6.568078        1043.0   \n",
              "\n",
              "                    log1p_total_counts  pct_counts_in_top_50_genes  ...  \\\n",
              "barcode                                                             ...   \n",
              "AAACGAAGTGCACAAG-0            9.062652                   25.828889  ...   \n",
              "AAACGAAGTGTGCTTA-0            8.394799                   29.278770  ...   \n",
              "AAAGGATAGCAGCAGT-0            8.503905                   31.765660  ...   \n",
              "AAAGGGCCAGACACCC-0            8.791334                   25.349757  ...   \n",
              "AACAACCAGTGTTGTC-0            9.419628                   22.519672  ...   \n",
              "...                                ...                         ...  ...   \n",
              "TTGTGGATCTCATGGA-4            8.140607                   36.938776  ...   \n",
              "TTGTTTGTCCAAACCA-4            7.211557                   37.075332  ...   \n",
              "TTTCATGTCCTCTCGA-4            7.750184                   32.529082  ...   \n",
              "TTTCCTCTCCAGCTCT-4            8.743531                   42.973361  ...   \n",
              "TTTCGATCAAGCGATG-4            6.950815                   27.037392  ...   \n",
              "\n",
              "                    MigDC_gene  VE2_gene  Pericyte_1_gene  Mast_cell_gene  \\\n",
              "barcode                                                                     \n",
              "AAACGAAGTGCACAAG-0   -0.061011 -0.026227         0.016654        0.109420   \n",
              "AAACGAAGTGTGCTTA-0    0.123935 -0.002467         0.052712       -0.041895   \n",
              "AAAGGATAGCAGCAGT-0    0.116271 -0.022047        -0.033343       -0.010309   \n",
              "AAAGGGCCAGACACCC-0    0.039791 -0.014272        -0.048594       -0.051657   \n",
              "AACAACCAGTGTTGTC-0   -0.001355 -0.024874        -0.021231        0.078277   \n",
              "...                        ...       ...              ...             ...   \n",
              "TTGTGGATCTCATGGA-4    0.532154 -0.006531        -0.013979        0.010269   \n",
              "TTGTTTGTCCAAACCA-4   -0.002245  0.041000        -0.031358       -0.057841   \n",
              "TTTCATGTCCTCTCGA-4    0.165110  0.074635        -0.030190        0.038296   \n",
              "TTTCCTCTCCAGCTCT-4    0.847931  0.028156        -0.037634       -0.065239   \n",
              "TTTCGATCAAGCGATG-4   -0.041150  0.059892        -0.015193       -0.061229   \n",
              "\n",
              "                    LC_3_gene  Treg_gene  Pericyte_2_gene  Macro_2_gene  \\\n",
              "barcode                                                                   \n",
              "AAACGAAGTGCACAAG-0  -0.043509   0.339299        -0.028614     -0.045974   \n",
              "AAACGAAGTGTGCTTA-0  -0.033257   0.323379         0.023543      0.090653   \n",
              "AAAGGATAGCAGCAGT-0  -0.023153   0.209170         0.073154      0.300795   \n",
              "AAAGGGCCAGACACCC-0   0.027031   0.006915        -0.070926     -0.020641   \n",
              "AACAACCAGTGTTGTC-0   0.040294   0.082343        -0.076240     -0.067039   \n",
              "...                       ...        ...              ...           ...   \n",
              "TTGTGGATCTCATGGA-4   0.577144  -0.113076        -0.000204      0.673708   \n",
              "TTGTTTGTCCAAACCA-4   0.030482   0.128966        -0.051674     -0.054644   \n",
              "TTTCATGTCCTCTCGA-4   0.225412  -0.078354         0.001489      0.565893   \n",
              "TTTCCTCTCCAGCTCT-4   0.936790  -0.129659        -0.006956      0.493424   \n",
              "TTTCGATCAAGCGATG-4  -0.014403   0.172586        -0.030274      0.060283   \n",
              "\n",
              "                   Macro_1_gene Differentiated_KC_gene  \n",
              "barcode                                                 \n",
              "AAACGAAGTGCACAAG-0     0.028779              -0.021256  \n",
              "AAACGAAGTGTGCTTA-0    -0.017899              -0.023214  \n",
              "AAAGGATAGCAGCAGT-0     0.016076               0.066966  \n",
              "AAAGGGCCAGACACCC-0     0.009448              -0.012234  \n",
              "AACAACCAGTGTTGTC-0     0.026568              -0.019266  \n",
              "...                         ...                    ...  \n",
              "TTGTGGATCTCATGGA-4     0.451674               0.310435  \n",
              "TTGTTTGTCCAAACCA-4    -0.045537              -0.008998  \n",
              "TTTCATGTCCTCTCGA-4     0.115902              -0.021110  \n",
              "TTTCCTCTCCAGCTCT-4     0.377849              -0.012622  \n",
              "TTTCGATCAAGCGATG-4    -0.018902              -0.016973  \n",
              "\n",
              "[2889 rows x 114 columns]"
            ],
            "text/html": [
              "<div>\n",
              "<style scoped>\n",
              "    .dataframe tbody tr th:only-of-type {\n",
              "        vertical-align: middle;\n",
              "    }\n",
              "\n",
              "    .dataframe tbody tr th {\n",
              "        vertical-align: top;\n",
              "    }\n",
              "\n",
              "    .dataframe thead th {\n",
              "        text-align: right;\n",
              "    }\n",
              "</style>\n",
              "<table border=\"1\" class=\"dataframe\">\n",
              "  <thead>\n",
              "    <tr style=\"text-align: right;\">\n",
              "      <th></th>\n",
              "      <th>batch</th>\n",
              "      <th>n_counts</th>\n",
              "      <th>log_counts</th>\n",
              "      <th>n_genes</th>\n",
              "      <th>mt_frac</th>\n",
              "      <th>n_genes_by_counts</th>\n",
              "      <th>log1p_n_genes_by_counts</th>\n",
              "      <th>total_counts</th>\n",
              "      <th>log1p_total_counts</th>\n",
              "      <th>pct_counts_in_top_50_genes</th>\n",
              "      <th>...</th>\n",
              "      <th>MigDC_gene</th>\n",
              "      <th>VE2_gene</th>\n",
              "      <th>Pericyte_1_gene</th>\n",
              "      <th>Mast_cell_gene</th>\n",
              "      <th>LC_3_gene</th>\n",
              "      <th>Treg_gene</th>\n",
              "      <th>Pericyte_2_gene</th>\n",
              "      <th>Macro_2_gene</th>\n",
              "      <th>Macro_1_gene</th>\n",
              "      <th>Differentiated_KC_gene</th>\n",
              "    </tr>\n",
              "    <tr>\n",
              "      <th>barcode</th>\n",
              "      <th></th>\n",
              "      <th></th>\n",
              "      <th></th>\n",
              "      <th></th>\n",
              "      <th></th>\n",
              "      <th></th>\n",
              "      <th></th>\n",
              "      <th></th>\n",
              "      <th></th>\n",
              "      <th></th>\n",
              "      <th></th>\n",
              "      <th></th>\n",
              "      <th></th>\n",
              "      <th></th>\n",
              "      <th></th>\n",
              "      <th></th>\n",
              "      <th></th>\n",
              "      <th></th>\n",
              "      <th></th>\n",
              "      <th></th>\n",
              "      <th></th>\n",
              "    </tr>\n",
              "  </thead>\n",
              "  <tbody>\n",
              "    <tr>\n",
              "      <th>AAACGAAGTGCACAAG-0</th>\n",
              "      <td>0</td>\n",
              "      <td>8626.0</td>\n",
              "      <td>9.062536</td>\n",
              "      <td>2281</td>\n",
              "      <td>0.018872</td>\n",
              "      <td>2281</td>\n",
              "      <td>7.732808</td>\n",
              "      <td>8626.0</td>\n",
              "      <td>9.062652</td>\n",
              "      <td>25.828889</td>\n",
              "      <td>...</td>\n",
              "      <td>-0.061011</td>\n",
              "      <td>-0.026227</td>\n",
              "      <td>0.016654</td>\n",
              "      <td>0.109420</td>\n",
              "      <td>-0.043509</td>\n",
              "      <td>0.339299</td>\n",
              "      <td>-0.028614</td>\n",
              "      <td>-0.045974</td>\n",
              "      <td>0.028779</td>\n",
              "      <td>-0.021256</td>\n",
              "    </tr>\n",
              "    <tr>\n",
              "      <th>AAACGAAGTGTGCTTA-0</th>\n",
              "      <td>0</td>\n",
              "      <td>4423.0</td>\n",
              "      <td>8.394573</td>\n",
              "      <td>1429</td>\n",
              "      <td>0.048254</td>\n",
              "      <td>1429</td>\n",
              "      <td>7.265430</td>\n",
              "      <td>4423.0</td>\n",
              "      <td>8.394799</td>\n",
              "      <td>29.278770</td>\n",
              "      <td>...</td>\n",
              "      <td>0.123935</td>\n",
              "      <td>-0.002467</td>\n",
              "      <td>0.052712</td>\n",
              "      <td>-0.041895</td>\n",
              "      <td>-0.033257</td>\n",
              "      <td>0.323379</td>\n",
              "      <td>0.023543</td>\n",
              "      <td>0.090653</td>\n",
              "      <td>-0.017899</td>\n",
              "      <td>-0.023214</td>\n",
              "    </tr>\n",
              "    <tr>\n",
              "      <th>AAAGGATAGCAGCAGT-0</th>\n",
              "      <td>0</td>\n",
              "      <td>4933.0</td>\n",
              "      <td>8.503702</td>\n",
              "      <td>1337</td>\n",
              "      <td>0.016816</td>\n",
              "      <td>1337</td>\n",
              "      <td>7.198931</td>\n",
              "      <td>4933.0</td>\n",
              "      <td>8.503905</td>\n",
              "      <td>31.765660</td>\n",
              "      <td>...</td>\n",
              "      <td>0.116271</td>\n",
              "      <td>-0.022047</td>\n",
              "      <td>-0.033343</td>\n",
              "      <td>-0.010309</td>\n",
              "      <td>-0.023153</td>\n",
              "      <td>0.209170</td>\n",
              "      <td>0.073154</td>\n",
              "      <td>0.300795</td>\n",
              "      <td>0.016076</td>\n",
              "      <td>0.066966</td>\n",
              "    </tr>\n",
              "    <tr>\n",
              "      <th>AAAGGGCCAGACACCC-0</th>\n",
              "      <td>0</td>\n",
              "      <td>6576.0</td>\n",
              "      <td>8.791182</td>\n",
              "      <td>1745</td>\n",
              "      <td>0.013440</td>\n",
              "      <td>1745</td>\n",
              "      <td>7.465083</td>\n",
              "      <td>6576.0</td>\n",
              "      <td>8.791334</td>\n",
              "      <td>25.349757</td>\n",
              "      <td>...</td>\n",
              "      <td>0.039791</td>\n",
              "      <td>-0.014272</td>\n",
              "      <td>-0.048594</td>\n",
              "      <td>-0.051657</td>\n",
              "      <td>0.027031</td>\n",
              "      <td>0.006915</td>\n",
              "      <td>-0.070926</td>\n",
              "      <td>-0.020641</td>\n",
              "      <td>0.009448</td>\n",
              "      <td>-0.012234</td>\n",
              "    </tr>\n",
              "    <tr>\n",
              "      <th>AACAACCAGTGTTGTC-0</th>\n",
              "      <td>0</td>\n",
              "      <td>12327.0</td>\n",
              "      <td>9.419547</td>\n",
              "      <td>2469</td>\n",
              "      <td>0.018513</td>\n",
              "      <td>2469</td>\n",
              "      <td>7.811973</td>\n",
              "      <td>12327.0</td>\n",
              "      <td>9.419628</td>\n",
              "      <td>22.519672</td>\n",
              "      <td>...</td>\n",
              "      <td>-0.001355</td>\n",
              "      <td>-0.024874</td>\n",
              "      <td>-0.021231</td>\n",
              "      <td>0.078277</td>\n",
              "      <td>0.040294</td>\n",
              "      <td>0.082343</td>\n",
              "      <td>-0.076240</td>\n",
              "      <td>-0.067039</td>\n",
              "      <td>0.026568</td>\n",
              "      <td>-0.019266</td>\n",
              "    </tr>\n",
              "    <tr>\n",
              "      <th>...</th>\n",
              "      <td>...</td>\n",
              "      <td>...</td>\n",
              "      <td>...</td>\n",
              "      <td>...</td>\n",
              "      <td>...</td>\n",
              "      <td>...</td>\n",
              "      <td>...</td>\n",
              "      <td>...</td>\n",
              "      <td>...</td>\n",
              "      <td>...</td>\n",
              "      <td>...</td>\n",
              "      <td>...</td>\n",
              "      <td>...</td>\n",
              "      <td>...</td>\n",
              "      <td>...</td>\n",
              "      <td>...</td>\n",
              "      <td>...</td>\n",
              "      <td>...</td>\n",
              "      <td>...</td>\n",
              "      <td>...</td>\n",
              "      <td>...</td>\n",
              "    </tr>\n",
              "    <tr>\n",
              "      <th>TTGTGGATCTCATGGA-4</th>\n",
              "      <td>4</td>\n",
              "      <td>3430.0</td>\n",
              "      <td>8.140316</td>\n",
              "      <td>1319</td>\n",
              "      <td>0.075229</td>\n",
              "      <td>1319</td>\n",
              "      <td>7.185387</td>\n",
              "      <td>3430.0</td>\n",
              "      <td>8.140607</td>\n",
              "      <td>36.938776</td>\n",
              "      <td>...</td>\n",
              "      <td>0.532154</td>\n",
              "      <td>-0.006531</td>\n",
              "      <td>-0.013979</td>\n",
              "      <td>0.010269</td>\n",
              "      <td>0.577144</td>\n",
              "      <td>-0.113076</td>\n",
              "      <td>-0.000204</td>\n",
              "      <td>0.673708</td>\n",
              "      <td>0.451674</td>\n",
              "      <td>0.310435</td>\n",
              "    </tr>\n",
              "    <tr>\n",
              "      <th>TTGTTTGTCCAAACCA-4</th>\n",
              "      <td>4</td>\n",
              "      <td>1354.0</td>\n",
              "      <td>7.210818</td>\n",
              "      <td>606</td>\n",
              "      <td>0.148589</td>\n",
              "      <td>606</td>\n",
              "      <td>6.408529</td>\n",
              "      <td>1354.0</td>\n",
              "      <td>7.211557</td>\n",
              "      <td>37.075332</td>\n",
              "      <td>...</td>\n",
              "      <td>-0.002245</td>\n",
              "      <td>0.041000</td>\n",
              "      <td>-0.031358</td>\n",
              "      <td>-0.057841</td>\n",
              "      <td>0.030482</td>\n",
              "      <td>0.128966</td>\n",
              "      <td>-0.051674</td>\n",
              "      <td>-0.054644</td>\n",
              "      <td>-0.045537</td>\n",
              "      <td>-0.008998</td>\n",
              "    </tr>\n",
              "    <tr>\n",
              "      <th>TTTCATGTCCTCTCGA-4</th>\n",
              "      <td>4</td>\n",
              "      <td>2321.0</td>\n",
              "      <td>7.749753</td>\n",
              "      <td>954</td>\n",
              "      <td>0.011446</td>\n",
              "      <td>954</td>\n",
              "      <td>6.861711</td>\n",
              "      <td>2321.0</td>\n",
              "      <td>7.750184</td>\n",
              "      <td>32.529082</td>\n",
              "      <td>...</td>\n",
              "      <td>0.165110</td>\n",
              "      <td>0.074635</td>\n",
              "      <td>-0.030190</td>\n",
              "      <td>0.038296</td>\n",
              "      <td>0.225412</td>\n",
              "      <td>-0.078354</td>\n",
              "      <td>0.001489</td>\n",
              "      <td>0.565893</td>\n",
              "      <td>0.115902</td>\n",
              "      <td>-0.021110</td>\n",
              "    </tr>\n",
              "    <tr>\n",
              "      <th>TTTCCTCTCCAGCTCT-4</th>\n",
              "      <td>4</td>\n",
              "      <td>6269.0</td>\n",
              "      <td>8.743372</td>\n",
              "      <td>1479</td>\n",
              "      <td>0.058510</td>\n",
              "      <td>1479</td>\n",
              "      <td>7.299797</td>\n",
              "      <td>6269.0</td>\n",
              "      <td>8.743531</td>\n",
              "      <td>42.973361</td>\n",
              "      <td>...</td>\n",
              "      <td>0.847931</td>\n",
              "      <td>0.028156</td>\n",
              "      <td>-0.037634</td>\n",
              "      <td>-0.065239</td>\n",
              "      <td>0.936790</td>\n",
              "      <td>-0.129659</td>\n",
              "      <td>-0.006956</td>\n",
              "      <td>0.493424</td>\n",
              "      <td>0.377849</td>\n",
              "      <td>-0.012622</td>\n",
              "    </tr>\n",
              "    <tr>\n",
              "      <th>TTTCGATCAAGCGATG-4</th>\n",
              "      <td>4</td>\n",
              "      <td>1043.0</td>\n",
              "      <td>6.949856</td>\n",
              "      <td>711</td>\n",
              "      <td>0.108472</td>\n",
              "      <td>711</td>\n",
              "      <td>6.568078</td>\n",
              "      <td>1043.0</td>\n",
              "      <td>6.950815</td>\n",
              "      <td>27.037392</td>\n",
              "      <td>...</td>\n",
              "      <td>-0.041150</td>\n",
              "      <td>0.059892</td>\n",
              "      <td>-0.015193</td>\n",
              "      <td>-0.061229</td>\n",
              "      <td>-0.014403</td>\n",
              "      <td>0.172586</td>\n",
              "      <td>-0.030274</td>\n",
              "      <td>0.060283</td>\n",
              "      <td>-0.018902</td>\n",
              "      <td>-0.016973</td>\n",
              "    </tr>\n",
              "  </tbody>\n",
              "</table>\n",
              "<p>2889 rows × 114 columns</p>\n",
              "</div>"
            ]
          },
          "metadata": {
            "tags": []
          },
          "execution_count": 12
        }
      ]
    },
    {
      "cell_type": "code",
      "metadata": {
        "id": "7xLjS8F0cJPr"
      },
      "source": [
        "annot_key = ['leiden_r1', 'sample', 'Treatment','Condition','treatmentcondition']\n",
        "gene_names = adata1.var.index\n",
        "\n",
        "counts = pd.DataFrame(adata1.X.toarray().T, index = gene_names, columns = adata1.obs_names)\n",
        "meta = pd.DataFrame(adata1.obs[annot_key])\n",
        "counts.to_csv('CR_allsamples_HVG_counts.tsv', sep = '\\t')\n",
        "meta.to_csv('CR_allsamples_HVG_meta.tsv', sep = '\\t')"
      ],
      "execution_count": null,
      "outputs": []
    },
    {
      "cell_type": "code",
      "metadata": {
        "id": "BOsnP30EgO4A"
      },
      "source": [
        "annot_key = ['leiden_r1', 'sample', 'Treatment','Condition','treatmentcondition']\n",
        "gene_names = adata2.var.index\n",
        "\n",
        "counts = pd.DataFrame(adata2.X.toarray().T, index = gene_names, columns = adata2.obs_names)\n",
        "meta = pd.DataFrame(adata2.obs[annot_key])\n",
        "counts.to_csv('HR_allsamples_HVG_counts.tsv', sep = '\\t')\n",
        "meta.to_csv('HR_allsamples_HVG_meta.tsv', sep = '\\t')"
      ],
      "execution_count": null,
      "outputs": []
    },
    {
      "cell_type": "code",
      "metadata": {
        "id": "c3x_5A0EgO_t"
      },
      "source": [
        "annot_key = ['leiden_r1', 'sample', 'Treatment','Condition','treatmentcondition']\n",
        "gene_names = adata3.var.index\n",
        "\n",
        "counts = pd.DataFrame(adata3.X.toarray().T, index = gene_names, columns = adata3.obs_names)\n",
        "meta = pd.DataFrame(adata3.obs[annot_key])\n",
        "counts.to_csv('CT_allsamples_HVG_counts.tsv', sep = '\\t')\n",
        "meta.to_csv('CT_allsamples_HVG_meta.tsv', sep = '\\t')"
      ],
      "execution_count": null,
      "outputs": []
    },
    {
      "cell_type": "code",
      "metadata": {
        "id": "-tslz55xgN9X"
      },
      "source": [
        "annot_key = ['leiden_r1', 'sample', 'Treatment','Condition','treatmentcondition']\n",
        "gene_names = adata4.var.index\n",
        "\n",
        "counts = pd.DataFrame(adata4.X.toarray().T, index = gene_names, columns = adata4.obs_names)\n",
        "meta = pd.DataFrame(adata4.obs[annot_key])\n",
        "counts.to_csv('HT_allsamples_HVG_counts.tsv', sep = '\\t')\n",
        "meta.to_csv('HT_allsamples_HVG_meta.tsv', sep = '\\t')"
      ],
      "execution_count": null,
      "outputs": []
    },
    {
      "cell_type": "markdown",
      "metadata": {
        "id": "DEZS7h9RsH_5"
      },
      "source": [
        "# CellphoneDB run"
      ]
    },
    {
      "cell_type": "code",
      "metadata": {
        "colab": {
          "base_uri": "https://localhost:8080/",
          "height": 613
        },
        "id": "OA_3wdDK5GUN",
        "outputId": "bda970a9-913f-429a-9943-8aa2a616b55e"
      },
      "source": [
        "from future.utils import iteritems\n",
        "\n",
        "import os\n",
        "import importlib as imp\n",
        "import collections\n",
        "import copy\n",
        "\n",
        "import pandas as pd\n",
        "\n",
        "import pypath.mapping as mapping\n",
        "import pypath.session_mod as session_mod\n",
        "import pypath.main as main_mod\n",
        "import pypath.network as network_mod\n",
        "import pypath.data_formats as data_formats\n",
        "import pypath.annot as annot\n",
        "import pypath.intercell as intercell\n",
        "import pypath.omnipath as omnipath"
      ],
      "execution_count": null,
      "outputs": [
        {
          "output_type": "stream",
          "text": [
            "\n",
            "\t=== d i s c l a i m e r ===\n",
            "\n",
            "\tAll data accessed through this module,\n",
            "\teither as redistributed copy or downloaded using the\n",
            "\tprogrammatic interfaces included in the present module,\n",
            "\tare free to use at least for academic research or\n",
            "\teducation purposes.\n",
            "\tPlease be aware of the licenses of all the datasets\n",
            "\tyou use in your analysis, and please give appropriate\n",
            "\tcredits for the original sources when you publish your\n",
            "\tresults. To find out more about data sources please\n",
            "\tlook at `src/pypath/resources/data/resources.json` or\n",
            "\thttps://omnipathdb.org/info and \n",
            "\t`pypath.resources.urls.urls`.\n",
            "\n",
            "[2021-05-04 15:02:11] [pypath] \n",
            "\t- session ID: `64n7s`\n",
            "\t- working directory: `/home/jupyter/bucket`\n",
            "\t- logfile: `/home/jupyter/bucket/pypath_log/pypath-64n7s.log`\n",
            "\t- pypath version: 0.11.50\n"
          ],
          "name": "stdout"
        },
        {
          "output_type": "error",
          "ename": "ModuleNotFoundError",
          "evalue": "ignored",
          "traceback": [
            "\u001b[0;31m---------------------------------------------------------------------------\u001b[0m",
            "\u001b[0;31mModuleNotFoundError\u001b[0m                       Traceback (most recent call last)",
            "\u001b[0;32m<ipython-input-1-0bd9cfd63b83>\u001b[0m in \u001b[0;36m<module>\u001b[0;34m\u001b[0m\n\u001b[1;32m      8\u001b[0m \u001b[0;32mimport\u001b[0m \u001b[0mpandas\u001b[0m \u001b[0;32mas\u001b[0m \u001b[0mpd\u001b[0m\u001b[0;34m\u001b[0m\u001b[0;34m\u001b[0m\u001b[0m\n\u001b[1;32m      9\u001b[0m \u001b[0;34m\u001b[0m\u001b[0m\n\u001b[0;32m---> 10\u001b[0;31m \u001b[0;32mimport\u001b[0m \u001b[0mpypath\u001b[0m\u001b[0;34m.\u001b[0m\u001b[0mmapping\u001b[0m \u001b[0;32mas\u001b[0m \u001b[0mmapping\u001b[0m\u001b[0;34m\u001b[0m\u001b[0;34m\u001b[0m\u001b[0m\n\u001b[0m\u001b[1;32m     11\u001b[0m \u001b[0;32mimport\u001b[0m \u001b[0mpypath\u001b[0m\u001b[0;34m.\u001b[0m\u001b[0msession_mod\u001b[0m \u001b[0;32mas\u001b[0m \u001b[0msession_mod\u001b[0m\u001b[0;34m\u001b[0m\u001b[0;34m\u001b[0m\u001b[0m\n\u001b[1;32m     12\u001b[0m \u001b[0;32mimport\u001b[0m \u001b[0mpypath\u001b[0m\u001b[0;34m.\u001b[0m\u001b[0mmain\u001b[0m \u001b[0;32mas\u001b[0m \u001b[0mmain_mod\u001b[0m\u001b[0;34m\u001b[0m\u001b[0;34m\u001b[0m\u001b[0m\n",
            "\u001b[0;31mModuleNotFoundError\u001b[0m: No module named 'pypath.mapping'"
          ]
        }
      ]
    },
    {
      "cell_type": "code",
      "metadata": {
        "id": "03D5Fu0u62dH"
      },
      "source": [
        "pip install pysftp"
      ],
      "execution_count": null,
      "outputs": []
    },
    {
      "cell_type": "code",
      "metadata": {
        "id": "RKLbzzvI7OA3"
      },
      "source": [
        "from pypath import *\n",
        "from pypath.share import settings"
      ],
      "execution_count": null,
      "outputs": []
    },
    {
      "cell_type": "code",
      "metadata": {
        "id": "-WZ-U7eg6uyG"
      },
      "source": [
        "from pypath.inputs import cellphonedb\n",
        "from pypath.share import settings\n",
        "settings.setup(network_expand_complexes = False)"
      ],
      "execution_count": null,
      "outputs": []
    },
    {
      "cell_type": "code",
      "metadata": {
        "colab": {
          "base_uri": "https://localhost:8080/"
        },
        "id": "gCJPVsJU8v5f",
        "outputId": "43c3a23e-e3c7-462a-da91-f7f98bf4ac8e"
      },
      "source": [
        "\n",
        "from pypath import omnipath\n",
        "\n",
        "omnipath"
      ],
      "execution_count": null,
      "outputs": [
        {
          "output_type": "execute_result",
          "data": {
            "text/plain": [
              "<module 'pypath.omnipath' from '/opt/conda/envs/cpdb/lib/python3.7/site-packages/pypath/omnipath/__init__.py'>"
            ]
          },
          "metadata": {
            "tags": []
          },
          "execution_count": 15
        }
      ]
    },
    {
      "cell_type": "code",
      "metadata": {
        "colab": {
          "base_uri": "https://localhost:8080/",
          "height": 204
        },
        "id": "AoaHn0Vo8wBX",
        "outputId": "b50d5708-fa36-4c2e-c330-2883e8ef44a2"
      },
      "source": [
        "from pypath import omnipath\n",
        "cu = omnipath.get_db('curated')\n",
        "cu"
      ],
      "execution_count": null,
      "outputs": [
        {
          "output_type": "error",
          "ename": "AttributeError",
          "evalue": "ignored",
          "traceback": [
            "\u001b[0;31m---------------------------------------------------------------------------\u001b[0m",
            "\u001b[0;31mAttributeError\u001b[0m                            Traceback (most recent call last)",
            "\u001b[0;32m<ipython-input-17-06c9dc7241fa>\u001b[0m in \u001b[0;36m<module>\u001b[0;34m\u001b[0m\n\u001b[1;32m      1\u001b[0m \u001b[0;32mfrom\u001b[0m \u001b[0mpypath\u001b[0m \u001b[0;32mimport\u001b[0m \u001b[0momnipath\u001b[0m\u001b[0;34m\u001b[0m\u001b[0;34m\u001b[0m\u001b[0m\n\u001b[0;32m----> 2\u001b[0;31m \u001b[0mcu\u001b[0m \u001b[0;34m=\u001b[0m \u001b[0momnipath\u001b[0m\u001b[0;34m.\u001b[0m\u001b[0mget_db\u001b[0m\u001b[0;34m(\u001b[0m\u001b[0;34m'curated'\u001b[0m\u001b[0;34m)\u001b[0m\u001b[0;34m\u001b[0m\u001b[0;34m\u001b[0m\u001b[0m\n\u001b[0m\u001b[1;32m      3\u001b[0m \u001b[0mcu\u001b[0m\u001b[0;34m\u001b[0m\u001b[0;34m\u001b[0m\u001b[0m\n",
            "\u001b[0;31mAttributeError\u001b[0m: module 'pypath.omnipath' has no attribute 'get_db'"
          ]
        }
      ]
    },
    {
      "cell_type": "code",
      "metadata": {
        "colab": {
          "base_uri": "https://localhost:8080/"
        },
        "id": "mTTRONpS8wEr",
        "outputId": "ff41da58-3d24-41de-bc57-38e77916e8c7"
      },
      "source": [
        "!cellphonedb database list_remote"
      ],
      "execution_count": null,
      "outputs": [
        {
          "output_type": "stream",
          "text": [
            "/opt/conda/envs/cpdb/lib/python3.7/site-packages/sklearn/utils/deprecation.py:144: FutureWarning: The sklearn.cluster.k_means_ module is  deprecated in version 0.22 and will be removed in version 0.24. The corresponding classes / functions should instead be imported from sklearn.cluster. Anything that cannot be imported from sklearn.cluster is now part of the private API.\r\n",
            "  warnings.warn(message, FutureWarning)\n",
            "version v2.0.0 *latest: released: 2019-06-21T19:55:09Z, url: https://github.com/Teichlab/cellphonedb-data/releases/tag/v2.0.0, compatible: True\n"
          ],
          "name": "stdout"
        }
      ]
    },
    {
      "cell_type": "code",
      "metadata": {
        "colab": {
          "base_uri": "https://localhost:8080/",
          "height": 168
        },
        "id": "gIpJK2rA4Dl5",
        "outputId": "5ac84939-b205-4951-cbd5-555a985f1b99"
      },
      "source": [
        "c = cellphonedb.CellPhoneDB()"
      ],
      "execution_count": null,
      "outputs": [
        {
          "output_type": "error",
          "ename": "TypeError",
          "evalue": "ignored",
          "traceback": [
            "\u001b[0;31m---------------------------------------------------------------------------\u001b[0m",
            "\u001b[0;31mTypeError\u001b[0m                                 Traceback (most recent call last)",
            "\u001b[0;32m<ipython-input-13-599420e1924c>\u001b[0m in \u001b[0;36m<module>\u001b[0;34m\u001b[0m\n\u001b[0;32m----> 1\u001b[0;31m \u001b[0mc\u001b[0m \u001b[0;34m=\u001b[0m \u001b[0mcellphonedb\u001b[0m\u001b[0;34m(\u001b[0m\u001b[0;34m)\u001b[0m\u001b[0;34m\u001b[0m\u001b[0;34m\u001b[0m\u001b[0m\n\u001b[0m",
            "\u001b[0;31mTypeError\u001b[0m: 'module' object is not callable"
          ]
        }
      ]
    },
    {
      "cell_type": "code",
      "metadata": {
        "colab": {
          "base_uri": "https://localhost:8080/"
        },
        "id": "zeRFBp1GgcaS",
        "outputId": "601a2eb7-09d8-47b2-b775-9fcdec116a7f"
      },
      "source": [
        "%cd /home/jupyter/bucket/AD_Final/Aligned/CellphoneDB/CR"
      ],
      "execution_count": null,
      "outputs": [
        {
          "output_type": "stream",
          "text": [
            "/home/jupyter/bucket/AD_Final/Aligned/CellphoneDB/CR\n"
          ],
          "name": "stdout"
        }
      ]
    },
    {
      "cell_type": "code",
      "metadata": {
        "colab": {
          "base_uri": "https://localhost:8080/"
        },
        "id": "Ze_-J9CjiYTU",
        "outputId": "a9d3c435-1381-4c9c-a534-f8cc38ba01ce"
      },
      "source": [
        "ls"
      ],
      "execution_count": null,
      "outputs": [
        {
          "output_type": "stream",
          "text": [
            "CR_allsamples_HVG_counts.tsv  CR_allsamples_HVG_meta.tsv\r\n"
          ],
          "name": "stdout"
        }
      ]
    },
    {
      "cell_type": "code",
      "metadata": {
        "colab": {
          "base_uri": "https://localhost:8080/"
        },
        "id": "iKEsjqiggcgH",
        "outputId": "7081f5d6-b5a6-4d79-d3ea-bfdde411ca8c"
      },
      "source": [
        "%%!\n",
        "cellphonedb method statistical_analysis CR_allsamples_HVG_meta.tsv --counts-data hgnc_symbol CR_allsamples_HVG_counts.tsv  --threads 16 "
      ],
      "execution_count": null,
      "outputs": [
        {
          "output_type": "execute_result",
          "data": {
            "text/plain": [
              "['[ ][APP][27/03/21-14:53:38][WARNING] Latest local available version is `v2.0.0`, using it',\n",
              " '[ ][APP][27/03/21-14:53:38][WARNING] User selected downloaded database `v2.0.0` is available, using it',\n",
              " '[ ][CORE][27/03/21-14:53:38][INFO] Initializing SqlAlchemy CellPhoneDB Core',\n",
              " '[ ][CORE][27/03/21-14:53:38][INFO] Using custom database at /home/afvp1f17/.cpdb/releases/v2.0.0/cellphone.db',\n",
              " '[ ][APP][27/03/21-14:53:38][INFO] Launching Method cpdb_statistical_analysis_local_method_launcher',\n",
              " '[ ][APP][27/03/21-14:53:38][INFO] Launching Method _set_paths',\n",
              " '[ ][APP][27/03/21-14:53:38][INFO] Launching Method _load_meta_counts',\n",
              " '[ ][CORE][27/03/21-14:53:40][INFO] Launching Method cpdb_statistical_analysis_launcher',\n",
              " '[ ][CORE][27/03/21-14:53:40][INFO] Launching Method _counts_validations',\n",
              " '[ ][CORE][27/03/21-14:53:40][INFO] [Cluster Statistical Analysis] Threshold:0.1 Iterations:1000 Debug-seed:-1 Threads:16 Precision:3',\n",
              " '[ ][CORE][27/03/21-14:53:44][INFO] Running Real Analysis',\n",
              " '[ ][CORE][27/03/21-14:53:59][INFO] Running Statistical Analysis',\n",
              " '/home/jupyter/cpdb-venv/lib/python3.7/site-packages/sklearn/utils/deprecation.py:144: FutureWarning: The sklearn.cluster.k_means_ module is  deprecated in version 0.22 and will be removed in version 0.24. The corresponding classes / functions should instead be imported from sklearn.cluster. Anything that cannot be imported from sklearn.cluster is now part of the private API.',\n",
              " '  warnings.warn(message, FutureWarning)',\n",
              " '/home/jupyter/cpdb-venv/lib/python3.7/site-packages/cellphonedb/src/core/methods/cpdb_statistical_analysis_helper.py:88: SettingWithCopyWarning: ',\n",
              " 'A value is trying to be set on a copy of a slice from a DataFrame.',\n",
              " 'Try using .loc[row_indexer,col_indexer] = value instead',\n",
              " '',\n",
              " 'See the caveats in the documentation: http://pandas.pydata.org/pandas-docs/stable/user_guide/indexing.html#returning-a-view-versus-a-copy',\n",
              " \"  lambda protein: clusters['means'].at[protein, cluster_name])\",\n",
              " '[ ][CORE][27/03/21-15:30:11][INFO] Building Pvalues result',\n",
              " '[ ][CORE][27/03/21-15:30:28][INFO] Building results']"
            ]
          },
          "metadata": {
            "tags": []
          },
          "execution_count": 6
        }
      ]
    },
    {
      "cell_type": "code",
      "metadata": {
        "colab": {
          "base_uri": "https://localhost:8080/"
        },
        "id": "4u0oAkxcjJyE",
        "outputId": "95800cd4-7407-4dcd-b2f1-92e72a3ec57b"
      },
      "source": [
        "%cd /home/jupyter/bucket/AD_Final/Aligned/CellphoneDB/HR"
      ],
      "execution_count": null,
      "outputs": [
        {
          "output_type": "stream",
          "text": [
            "/home/jupyter/bucket/AD_Final/Aligned/CellphoneDB/HR\n"
          ],
          "name": "stdout"
        }
      ]
    },
    {
      "cell_type": "code",
      "metadata": {
        "colab": {
          "base_uri": "https://localhost:8080/"
        },
        "id": "FXbfIx1wjTFI",
        "outputId": "5d40e3e1-f730-48cb-b6c1-fb3fe96b5e3d"
      },
      "source": [
        "%%!\n",
        "cellphonedb method statistical_analysis HR_allsamples_HVG_meta.tsv --counts-data hgnc_symbol HR_allsamples_HVG_counts.tsv  --threads 16 "
      ],
      "execution_count": null,
      "outputs": [
        {
          "output_type": "execute_result",
          "data": {
            "text/plain": [
              "['[ ][APP][27/03/21-16:49:55][WARNING] Latest local available version is `v2.0.0`, using it',\n",
              " '[ ][APP][27/03/21-16:49:55][WARNING] User selected downloaded database `v2.0.0` is available, using it',\n",
              " '[ ][CORE][27/03/21-16:49:55][INFO] Initializing SqlAlchemy CellPhoneDB Core',\n",
              " '[ ][CORE][27/03/21-16:49:55][INFO] Using custom database at /home/afvp1f17/.cpdb/releases/v2.0.0/cellphone.db',\n",
              " '[ ][APP][27/03/21-16:49:55][INFO] Launching Method cpdb_statistical_analysis_local_method_launcher',\n",
              " '[ ][APP][27/03/21-16:49:55][INFO] Launching Method _set_paths',\n",
              " '[ ][APP][27/03/21-16:49:55][INFO] Launching Method _load_meta_counts',\n",
              " '[ ][CORE][27/03/21-16:49:57][INFO] Launching Method cpdb_statistical_analysis_launcher',\n",
              " '[ ][CORE][27/03/21-16:49:57][INFO] Launching Method _counts_validations',\n",
              " '[ ][CORE][27/03/21-16:49:58][INFO] [Cluster Statistical Analysis] Threshold:0.1 Iterations:1000 Debug-seed:-1 Threads:16 Precision:3',\n",
              " '[ ][CORE][27/03/21-16:50:02][INFO] Running Real Analysis',\n",
              " '[ ][CORE][27/03/21-16:50:18][INFO] Running Statistical Analysis',\n",
              " '/home/jupyter/cpdb-venv/lib/python3.7/site-packages/sklearn/utils/deprecation.py:144: FutureWarning: The sklearn.cluster.k_means_ module is  deprecated in version 0.22 and will be removed in version 0.24. The corresponding classes / functions should instead be imported from sklearn.cluster. Anything that cannot be imported from sklearn.cluster is now part of the private API.',\n",
              " '  warnings.warn(message, FutureWarning)',\n",
              " '/home/jupyter/cpdb-venv/lib/python3.7/site-packages/cellphonedb/src/core/methods/cpdb_statistical_analysis_helper.py:88: SettingWithCopyWarning: ',\n",
              " 'A value is trying to be set on a copy of a slice from a DataFrame.',\n",
              " 'Try using .loc[row_indexer,col_indexer] = value instead',\n",
              " '',\n",
              " 'See the caveats in the documentation: http://pandas.pydata.org/pandas-docs/stable/user_guide/indexing.html#returning-a-view-versus-a-copy',\n",
              " \"  lambda protein: clusters['means'].at[protein, cluster_name])\",\n",
              " '[ ][CORE][27/03/21-17:28:35][INFO] Building Pvalues result',\n",
              " '[ ][CORE][27/03/21-17:28:50][INFO] Building results']"
            ]
          },
          "metadata": {
            "tags": []
          },
          "execution_count": 18
        }
      ]
    },
    {
      "cell_type": "code",
      "metadata": {
        "colab": {
          "base_uri": "https://localhost:8080/"
        },
        "id": "TB0bT17UjTOb",
        "outputId": "0523a8df-ba33-4e8a-b410-4bb66ea9d638"
      },
      "source": [
        "%cd /home/jupyter/bucket/AD_Final/Aligned/CellphoneDB/CT"
      ],
      "execution_count": null,
      "outputs": [
        {
          "output_type": "stream",
          "text": [
            "/home/jupyter/bucket/AD_Final/Aligned/CellphoneDB/CT\n"
          ],
          "name": "stdout"
        }
      ]
    },
    {
      "cell_type": "code",
      "metadata": {
        "colab": {
          "base_uri": "https://localhost:8080/"
        },
        "id": "FRCv4ThSjTW1",
        "outputId": "16694735-110c-4064-b60d-b4d964b6e284"
      },
      "source": [
        "%%!\n",
        "cellphonedb method statistical_analysis CT_allsamples_HVG_meta.tsv --counts-data hgnc_symbol CT_allsamples_HVG_counts.tsv  --threads 16 "
      ],
      "execution_count": null,
      "outputs": [
        {
          "output_type": "execute_result",
          "data": {
            "text/plain": [
              "['[ ][APP][27/03/21-15:30:34][WARNING] Latest local available version is `v2.0.0`, using it',\n",
              " '[ ][APP][27/03/21-15:30:34][WARNING] User selected downloaded database `v2.0.0` is available, using it',\n",
              " '[ ][CORE][27/03/21-15:30:34][INFO] Initializing SqlAlchemy CellPhoneDB Core',\n",
              " '[ ][CORE][27/03/21-15:30:34][INFO] Using custom database at /home/afvp1f17/.cpdb/releases/v2.0.0/cellphone.db',\n",
              " '[ ][APP][27/03/21-15:30:34][INFO] Launching Method cpdb_statistical_analysis_local_method_launcher',\n",
              " '[ ][APP][27/03/21-15:30:34][INFO] Launching Method _set_paths',\n",
              " '[ ][APP][27/03/21-15:30:35][INFO] Launching Method _load_meta_counts',\n",
              " '[ ][CORE][27/03/21-15:30:35][INFO] Launching Method cpdb_statistical_analysis_launcher',\n",
              " '[ ][CORE][27/03/21-15:30:35][INFO] Launching Method _counts_validations',\n",
              " '[ ][CORE][27/03/21-15:30:36][INFO] [Cluster Statistical Analysis] Threshold:0.1 Iterations:1000 Debug-seed:-1 Threads:16 Precision:3',\n",
              " '[ ][CORE][27/03/21-15:30:41][INFO] Running Real Analysis',\n",
              " '[ ][CORE][27/03/21-15:30:59][INFO] Running Statistical Analysis',\n",
              " '/home/jupyter/cpdb-venv/lib/python3.7/site-packages/sklearn/utils/deprecation.py:144: FutureWarning: The sklearn.cluster.k_means_ module is  deprecated in version 0.22 and will be removed in version 0.24. The corresponding classes / functions should instead be imported from sklearn.cluster. Anything that cannot be imported from sklearn.cluster is now part of the private API.',\n",
              " '  warnings.warn(message, FutureWarning)',\n",
              " '/home/jupyter/cpdb-venv/lib/python3.7/site-packages/cellphonedb/src/core/methods/cpdb_statistical_analysis_helper.py:88: SettingWithCopyWarning: ',\n",
              " 'A value is trying to be set on a copy of a slice from a DataFrame.',\n",
              " 'Try using .loc[row_indexer,col_indexer] = value instead',\n",
              " '',\n",
              " 'See the caveats in the documentation: http://pandas.pydata.org/pandas-docs/stable/user_guide/indexing.html#returning-a-view-versus-a-copy',\n",
              " \"  lambda protein: clusters['means'].at[protein, cluster_name])\",\n",
              " '[ ][CORE][27/03/21-16:01:29][INFO] Building Pvalues result',\n",
              " '[ ][CORE][27/03/21-16:01:44][INFO] Building results']"
            ]
          },
          "metadata": {
            "tags": []
          },
          "execution_count": 10
        }
      ]
    },
    {
      "cell_type": "code",
      "metadata": {
        "colab": {
          "base_uri": "https://localhost:8080/"
        },
        "id": "iOO55nIBjTit",
        "outputId": "de51700b-b441-4277-a79a-b63b9919f3ff"
      },
      "source": [
        "%cd /home/jupyter/bucket/AD_Final/Aligned/CellphoneDB/HT"
      ],
      "execution_count": null,
      "outputs": [
        {
          "output_type": "stream",
          "text": [
            "/home/jupyter/bucket/AD_Final/Aligned/CellphoneDB/HT\n"
          ],
          "name": "stdout"
        }
      ]
    },
    {
      "cell_type": "code",
      "metadata": {
        "colab": {
          "base_uri": "https://localhost:8080/"
        },
        "id": "S2NhysF0gcjU",
        "outputId": "eb88935e-cdbb-4107-ff7f-148872c63e62"
      },
      "source": [
        "%%!\n",
        "cellphonedb method statistical_analysis HT_allsamples_HVG_meta.tsv --counts-data hgnc_symbol HT_allsamples_HVG_counts.tsv  --threads 16 "
      ],
      "execution_count": null,
      "outputs": [
        {
          "output_type": "execute_result",
          "data": {
            "text/plain": [
              "['[ ][APP][27/03/21-16:03:38][WARNING] Latest local available version is `v2.0.0`, using it',\n",
              " '[ ][APP][27/03/21-16:03:38][WARNING] User selected downloaded database `v2.0.0` is available, using it',\n",
              " '[ ][CORE][27/03/21-16:03:38][INFO] Initializing SqlAlchemy CellPhoneDB Core',\n",
              " '[ ][CORE][27/03/21-16:03:38][INFO] Using custom database at /home/afvp1f17/.cpdb/releases/v2.0.0/cellphone.db',\n",
              " '[ ][APP][27/03/21-16:03:38][INFO] Launching Method cpdb_statistical_analysis_local_method_launcher',\n",
              " '[ ][APP][27/03/21-16:03:38][INFO] Launching Method _set_paths',\n",
              " '[ ][APP][27/03/21-16:03:38][INFO] Launching Method _load_meta_counts',\n",
              " '[ ][CORE][27/03/21-16:03:41][INFO] Launching Method cpdb_statistical_analysis_launcher',\n",
              " '[ ][CORE][27/03/21-16:03:41][INFO] Launching Method _counts_validations',\n",
              " '[ ][CORE][27/03/21-16:03:41][INFO] [Cluster Statistical Analysis] Threshold:0.1 Iterations:1000 Debug-seed:-1 Threads:16 Precision:3',\n",
              " '[ ][CORE][27/03/21-16:03:46][INFO] Running Real Analysis',\n",
              " '[ ][CORE][27/03/21-16:04:06][INFO] Running Statistical Analysis',\n",
              " '/home/jupyter/cpdb-venv/lib/python3.7/site-packages/sklearn/utils/deprecation.py:144: FutureWarning: The sklearn.cluster.k_means_ module is  deprecated in version 0.22 and will be removed in version 0.24. The corresponding classes / functions should instead be imported from sklearn.cluster. Anything that cannot be imported from sklearn.cluster is now part of the private API.',\n",
              " '  warnings.warn(message, FutureWarning)',\n",
              " '/home/jupyter/cpdb-venv/lib/python3.7/site-packages/cellphonedb/src/core/methods/cpdb_statistical_analysis_helper.py:88: SettingWithCopyWarning: ',\n",
              " 'A value is trying to be set on a copy of a slice from a DataFrame.',\n",
              " 'Try using .loc[row_indexer,col_indexer] = value instead',\n",
              " '',\n",
              " 'See the caveats in the documentation: http://pandas.pydata.org/pandas-docs/stable/user_guide/indexing.html#returning-a-view-versus-a-copy',\n",
              " \"  lambda protein: clusters['means'].at[protein, cluster_name])\",\n",
              " '[ ][CORE][27/03/21-16:49:33][INFO] Building Pvalues result',\n",
              " '[ ][CORE][27/03/21-16:49:49][INFO] Building results']"
            ]
          },
          "metadata": {
            "tags": []
          },
          "execution_count": 16
        }
      ]
    },
    {
      "cell_type": "markdown",
      "metadata": {
        "id": "qgkxGh6WFpYg"
      },
      "source": [
        "# Extracting LR"
      ]
    },
    {
      "cell_type": "code",
      "metadata": {
        "colab": {
          "base_uri": "https://localhost:8080/"
        },
        "id": "c6ryD2O6GbHj",
        "outputId": "050b0757-4a88-4faa-df60-6b3ef319d78a"
      },
      "source": [
        "%cd /home/jupyter/bucket/AD_Final/Aligned/CellphoneDB/"
      ],
      "execution_count": null,
      "outputs": [
        {
          "output_type": "stream",
          "text": [
            "/home/jupyter/bucket/AD_Final/Aligned/CellphoneDB\n"
          ],
          "name": "stdout"
        }
      ]
    },
    {
      "cell_type": "code",
      "metadata": {
        "colab": {
          "base_uri": "https://localhost:8080/"
        },
        "id": "Y3kT1ozpIJhg",
        "outputId": "f592685a-a73d-4884-cbd1-f28911b8a0ec"
      },
      "source": [
        "ls"
      ],
      "execution_count": null,
      "outputs": [
        {
          "output_type": "stream",
          "text": [
            "\u001b[0m\u001b[01;34mCR\u001b[0m/  \u001b[01;34mCT\u001b[0m/  \u001b[01;34mHR\u001b[0m/  \u001b[01;34mHT\u001b[0m/\r\n"
          ],
          "name": "stdout"
        }
      ]
    },
    {
      "cell_type": "code",
      "metadata": {
        "id": "vwRqo1zeID5k"
      },
      "source": [
        "import pandas as pd"
      ],
      "execution_count": null,
      "outputs": []
    },
    {
      "cell_type": "code",
      "metadata": {
        "id": "1Nn4mquvl4v1"
      },
      "source": [
        "pip install --upgrade pandas"
      ],
      "execution_count": null,
      "outputs": []
    },
    {
      "cell_type": "code",
      "metadata": {
        "id": "nSqNVa8CjnzK"
      },
      "source": [
        "def correct_lr(data):\n",
        "    '''\n",
        "    Invert the RL to LR and R1R2 to r2>r1\n",
        "    '''\n",
        "    import pandas as pd\n",
        "    def swap(a,b): return b,a\n",
        "    data = data.to_dict('index')\n",
        "    for k,v in data.items():\n",
        "        if v['isReceptor_fst'] and v['isReceptor_scn']:\n",
        "            v['isReceptor_fst'],v['isReceptor_scn'] = swap(v['isReceptor_fst'],v['isReceptor_scn'])\n",
        "            v['Ligand'],v['Receptor'] = swap(v['Ligand'],v['Receptor'])\n",
        "            v['Ligand.Cluster'],v['Receptor.Cluster'] = swap(v['Ligand.Cluster'],v['Receptor.Cluster'])\n",
        "        elif v['isReceptor_fst'] and not v['isReceptor_scn']:\n",
        "            v['isReceptor_fst'],v['isReceptor_scn'] = swap(v['isReceptor_fst'],v['isReceptor_scn'])\n",
        "            v['Ligand'],v['Receptor'] = swap(v['Ligand'],v['Receptor'])\n",
        "            v['Ligand.Cluster'],v['Receptor.Cluster'] = swap(v['Ligand.Cluster'],v['Receptor.Cluster'])\n",
        "    res_df = pd.DataFrame.from_dict(data,orient='index')\n",
        "    return (res_df)\n",
        "def cpdb2df(data,clsmapping):\n",
        "    data = data.fillna(0)\n",
        "    df_data = {}\n",
        "    df_data['Ligand'] = []\n",
        "    df_data['Receptor'] = []\n",
        "    df_data['Ligand.Cluster'] = []\n",
        "    df_data['Receptor.Cluster'] = []\n",
        "    df_data['isReceptor_fst'] = []\n",
        "    df_data['isReceptor_scn'] = []\n",
        "    df_data['MeanLR'] = []\n",
        "    for i in range(data.shape[0]):\n",
        "        pair = list(data['interacting_pair'])[i].split('_')\n",
        "        for j in range(data.iloc[:,12:].shape[1]):\n",
        "            c_pair = list(data.columns)[j+12].split('|')\n",
        "            if float(data.iloc[i,j+12]) !=0.0:\n",
        "                df_data['Ligand'].append(pair[0])\n",
        "                df_data['Receptor'].append(pair[1])\n",
        "                df_data['Ligand.Cluster'].append(clsmapping[c_pair[0]])\n",
        "                df_data['Receptor.Cluster'].append(clsmapping[c_pair[1]])\n",
        "                df_data['isReceptor_fst'].append(list(data['receptor_a'])[i])\n",
        "                df_data['isReceptor_scn'].append(list(data['receptor_b'])[i])\n",
        "                df_data['MeanLR'].append(data.iloc[i,j+12])\n",
        "    data_final = pd.DataFrame.from_dict(df_data)\n",
        "    return(data_final)\n",
        "            \n",
        "def cpdb2df_nocls(data):\n",
        "    '''\n",
        "   \t\tWhen the cluster name is used on CPDB\n",
        "    '''\n",
        "    data = data.fillna(0)\n",
        "    df_data = {}\n",
        "    df_data['Ligand'] = []\n",
        "    df_data['Receptor'] = []\n",
        "    df_data['Ligand.Cluster'] = []\n",
        "    df_data['Receptor.Cluster'] = []\n",
        "    df_data['isReceptor_fst'] = []\n",
        "    df_data['isReceptor_scn'] = []\n",
        "    df_data['MeanLR'] = []\n",
        "    for i in range(data.shape[0]):\n",
        "        pair = list(data['interacting_pair'])[i].split('_')\n",
        "        for j in range(data.iloc[:,12:].shape[1]):\n",
        "            c_pair = list(data.columns)[j+12].split('|')\n",
        "            if float(data.iloc[i,j+12]) !=0.0:\n",
        "                df_data['Ligand'].append(pair[0])\n",
        "                df_data['Receptor'].append(pair[1])\n",
        "                df_data['Ligand.Cluster'].append(c_pair[0])\n",
        "                df_data['Receptor.Cluster'].append(c_pair[1])\n",
        "                df_data['isReceptor_fst'].append(list(data['receptor_a'])[i])\n",
        "                df_data['isReceptor_scn'].append(list(data['receptor_b'])[i])\n",
        "                df_data['MeanLR'].append(data.iloc[i,j+12])\n",
        "    data_final = pd.DataFrame.from_dict(df_data)\n",
        "    return(data_final)\n",
        "            \n",
        "s1 = pd.read_csv('./CR/out/significant_means.txt',sep='\\t')\n",
        "s2 = pd.read_csv('./HR/out/significant_means.txt',sep='\\t')\n",
        "s3 = pd.read_csv('./CT/out/significant_means.txt',sep='\\t')\n",
        "s4 = pd.read_csv('./HT/out/significant_means.txt',sep='\\t')\n",
        "#dict with the mapping\n",
        "num_to_clust = {'1':'Cluters 1',\n",
        "                '2':'Cluters 2',\n",
        "                '3':'Cluters 3',\n",
        "                '4':'Cluters 4',\n",
        "                '5':'Cluters 5'}\n",
        "\n",
        "#s1_filtered = cpdb2df_nocls(s1,num_to_clust)\n",
        "#s2_filtered = cpdb2df_nocls(s2,num_to_clust)\n",
        "s1_filtered = cpdb2df_nocls(s1)\n",
        "s2_filtered = cpdb2df_nocls(s2)\n",
        "s1_filtered = correct_lr(s1_filtered)\n",
        "s2_filtered = correct_lr(s2_filtered)\n",
        "s3_filtered = cpdb2df_nocls(s3)\n",
        "s4_filtered = cpdb2df_nocls(s4)\n",
        "s3_filtered = correct_lr(s3_filtered)\n",
        "s4_filtered = correct_lr(s4_filtered)\n",
        "\n",
        "s1_filtered.to_csv('CR_filtered_corrected.csv')\n",
        "s2_filtered.to_csv('HR_filtered_corrected.csv')\n",
        "s3_filtered.to_csv('CT_filtered_corrected.csv')\n",
        "s4_filtered.to_csv('HT_filtered_corrected.csv')\n",
        "            \n"
      ],
      "execution_count": null,
      "outputs": []
    },
    {
      "cell_type": "markdown",
      "metadata": {
        "id": "ZwQN0_XhJyXE"
      },
      "source": [
        "# Integrate with crosstalkR"
      ]
    },
    {
      "cell_type": "code",
      "metadata": {
        "id": "Odset99tJ_0C",
        "colab": {
          "base_uri": "https://localhost:8080/"
        },
        "outputId": "a2229b32-fd47-47be-c9ba-ff2fabba6fa8"
      },
      "source": [
        "%load_ext rpy2.ipython"
      ],
      "execution_count": null,
      "outputs": [
        {
          "output_type": "stream",
          "text": [
            "/opt/conda/lib/python3.7/site-packages/rpy2/robjects/pandas2ri.py:15: FutureWarning: pandas.core.index is deprecated and will be removed in a future version.  The public classes are available in the top-level namespace.\n",
            "  from pandas.core.index import Index as PandasIndex\n"
          ],
          "name": "stderr"
        }
      ]
    },
    {
      "cell_type": "code",
      "metadata": {
        "colab": {
          "base_uri": "https://localhost:8080/"
        },
        "id": "3FpXBdaOFnoP",
        "outputId": "d0e12c29-9e0a-4364-94a6-d39a939225e8"
      },
      "source": [
        "%%R\n",
        "library('CrossTalkeR')\n",
        "\n",
        "# the method always consider the first path as control: the multiple control case will be handle soon\n",
        "paths <- c('CTR' = 's1_filtered_corrected.csv', \n",
        "           'EXP' = 's1_filtered_corrected.csv',\n",
        "           'EXP1' = 's1_filtered_corrected.csv',)\n",
        "# Selected gene list     \n",
        "genes <- c('TGFB1', 'PF4')\n",
        "\n",
        "# Generating the report and the object\n",
        "\n",
        "data <- generate_report(paths=paths, # paths list\n",
        "\t\t\t\t\t\tselected_genes=genes, # Selected list\n",
        "\t\t\t\t\t\toutput='/home/nagai/Documents/', # output path\n",
        "\t\t\t\t\t\tthreshold = 0, # threshold of prune edges 0=keep all\n",
        "\t\t\t\t\t\tout_file='All_Nils.html' report name\n",
        "\t\t\t\t\t\t)"
      ],
      "execution_count": null,
      "outputs": [
        {
          "output_type": "stream",
          "text": [
            "R[write to console]: Error in (function (file = \"\", n = NULL, text = NULL, prompt = \"?\", keep.source = getOption(\"keep.source\"),  : \n",
            "  <text>:16:74: unexpected symbol\n",
            "15:                                                 threshold = 0, # threshold of prune edges 0=keep all\n",
            "16:                                                 out_file='All_Nils.html' report\n",
            "                                                                             ^\n",
            "\n"
          ],
          "name": "stderr"
        },
        {
          "output_type": "stream",
          "text": [
            "\n",
            "Error in (function (file = \"\", n = NULL, text = NULL, prompt = \"?\", keep.source = getOption(\"keep.source\"),  : \n",
            "  <text>:16:74: unexpected symbol\n",
            "15:                                                 threshold = 0, # threshold of prune edges 0=keep all\n",
            "16:                                                 out_file='All_Nils.html' report\n",
            "                                                                             ^\n"
          ],
          "name": "stdout"
        }
      ]
    },
    {
      "cell_type": "code",
      "metadata": {
        "colab": {
          "base_uri": "https://localhost:8080/"
        },
        "id": "x4Y19wMcJ3Fg",
        "outputId": "1d6bcb20-cab6-43cb-8fcc-1944711d1cc2"
      },
      "source": [
        "%%R\n",
        "library('CrossTalkeR')"
      ],
      "execution_count": null,
      "outputs": [
        {
          "output_type": "stream",
          "text": [
            "R[write to console]: Error in library(\"CrossTalkeR\") : \n",
            "  there is no package called ‘CrossTalkeR’\n",
            "Calls: <Anonymous> -> <Anonymous> -> withVisible -> library\n",
            "\n"
          ],
          "name": "stderr"
        },
        {
          "output_type": "stream",
          "text": [
            "\n",
            "Error in library(\"CrossTalkeR\") : \n",
            "  there is no package called ‘CrossTalkeR’\n",
            "Calls: <Anonymous> -> <Anonymous> -> withVisible -> library\n"
          ],
          "name": "stdout"
        }
      ]
    },
    {
      "cell_type": "code",
      "metadata": {
        "id": "yhoi7xX1J3MZ"
      },
      "source": [],
      "execution_count": null,
      "outputs": []
    },
    {
      "cell_type": "code",
      "metadata": {
        "id": "YAhggMeEJ3P8"
      },
      "source": [],
      "execution_count": null,
      "outputs": []
    },
    {
      "cell_type": "code",
      "metadata": {
        "id": "JzQHhSOscW69"
      },
      "source": [
        "!cellphonedb method statistical_analysis test_meta.txt test_counts.txt --iterations=10 --threads=4 --counts-data hgnc_symbol"
      ],
      "execution_count": null,
      "outputs": []
    },
    {
      "cell_type": "code",
      "metadata": {
        "id": "zdOFa2AacJTX"
      },
      "source": [],
      "execution_count": null,
      "outputs": []
    },
    {
      "cell_type": "code",
      "metadata": {
        "id": "iyXCYXq-UNQc",
        "colab": {
          "base_uri": "https://localhost:8080/"
        },
        "outputId": "fc4b0cb3-666c-49f8-8832-51140f9de5a9"
      },
      "source": [
        "!cellphonedb method statistical_analysis test_meta.txt test_counts.txt --iterations=10 --threads=4 --counts-data hgnc_symbol"
      ],
      "execution_count": null,
      "outputs": [
        {
          "output_type": "stream",
          "text": [
            "/opt/conda/lib/python3.7/site-packages/sklearn/utils/deprecation.py:144: FutureWarning: The sklearn.cluster.k_means_ module is  deprecated in version 0.22 and will be removed in version 0.24. The corresponding classes / functions should instead be imported from sklearn.cluster. Anything that cannot be imported from sklearn.cluster is now part of the private API.\r\n",
            "  warnings.warn(message, FutureWarning)\n",
            "[ ][APP][07/02/21-19:48:55][WARNING] Latest local available version is `v2.0.0`, using it\n",
            "[ ][APP][07/02/21-19:48:55][WARNING] User selected downloaded database `v2.0.0` is available, using it\n",
            "[ ][CORE][07/02/21-19:48:55][INFO] Initializing SqlAlchemy CellPhoneDB Core\n",
            "[ ][CORE][07/02/21-19:48:55][INFO] Using custom database at /home/afvp1f17/.cpdb/releases/v2.0.0/cellphone.db\n",
            "[ ][APP][07/02/21-19:48:55][INFO] Launching Method cpdb_statistical_analysis_local_method_launcher\n",
            "[ ][APP][07/02/21-19:48:55][INFO] Launching Method _set_paths\n",
            "[ ][APP][07/02/21-19:48:55][INFO] Launching Method _load_meta_counts\n",
            "[ ][CORE][07/02/21-19:48:55][INFO] Launching Method cpdb_statistical_analysis_launcher\n",
            "[ ][CORE][07/02/21-19:48:55][INFO] Launching Method _counts_validations\n",
            "/opt/conda/lib/python3.7/site-packages/cellphonedb/src/core/methods/method_launcher.py:122: FutureWarning: The pandas.np module is deprecated and will be removed from pandas in a future version. Import numpy directly instead\n",
            "  counts = counts.astype(pd.np.float)  # type: pd.DataFrame\n",
            "[ ][CORE][07/02/21-19:48:55][INFO] [Cluster Statistical Analysis] Threshold:0.1 Iterations:10 Debug-seed:-1 Threads:4 Precision:3\n",
            "[ ][APP][07/02/21-19:48:55][ERROR] All counts filtered: Are you using human data?.\n"
          ],
          "name": "stdout"
        }
      ]
    },
    {
      "cell_type": "code",
      "metadata": {
        "id": "hW8WkN9LUWys",
        "colab": {
          "base_uri": "https://localhost:8080/"
        },
        "outputId": "dba1dfad-75c5-40db-b71a-83b3a99d1644"
      },
      "source": [
        "!cellphonedb plot dot_plot"
      ],
      "execution_count": null,
      "outputs": [
        {
          "output_type": "stream",
          "text": [
            "/opt/conda/lib/python3.7/site-packages/sklearn/utils/deprecation.py:144: FutureWarning: The sklearn.cluster.k_means_ module is  deprecated in version 0.22 and will be removed in version 0.24. The corresponding classes / functions should instead be imported from sklearn.cluster. Anything that cannot be imported from sklearn.cluster is now part of the private API.\r\n",
            "  warnings.warn(message, FutureWarning)\n",
            "Usage: cellphonedb plot dot_plot [OPTIONS]\n",
            "\n",
            "Error: Invalid value for \"--means-path\": Path \"./out/means.txt\" does not exist.\n"
          ],
          "name": "stdout"
        }
      ]
    },
    {
      "cell_type": "code",
      "metadata": {
        "id": "iaNuLOnJUW4c"
      },
      "source": [
        "!cellphonedb plot heatmap_plot cpdb_meta.txt"
      ],
      "execution_count": null,
      "outputs": []
    },
    {
      "cell_type": "code",
      "metadata": {
        "id": "dMcKLI6iVog4"
      },
      "source": [
        "import scanpy as sc\n",
        "\n",
        "# numpy et al.\n",
        "import numpy as np\n",
        "import sys\n",
        "import scipy as sp\n",
        "import pandas as pd"
      ],
      "execution_count": null,
      "outputs": []
    },
    {
      "cell_type": "markdown",
      "metadata": {
        "id": "G63fWnhqZHFs"
      },
      "source": [
        "# Load H5ADfile"
      ]
    },
    {
      "cell_type": "code",
      "metadata": {
        "id": "tFdsLEEHZKXL"
      },
      "source": [
        "adata=sc.read('/content/drive/My Drive/aligned/DC_CTR_VitD3_clean_annot_scran.h5ad')"
      ],
      "execution_count": null,
      "outputs": []
    },
    {
      "cell_type": "code",
      "metadata": {
        "id": "lBDVwHL6dxnl"
      },
      "source": [
        "subset=adata[adata.obs['treatment'].isin(['VitD3'])].copy()"
      ],
      "execution_count": null,
      "outputs": []
    },
    {
      "cell_type": "code",
      "metadata": {
        "id": "DIbVHTp4Zsro"
      },
      "source": [
        "subset.obs"
      ],
      "execution_count": null,
      "outputs": []
    },
    {
      "cell_type": "markdown",
      "metadata": {
        "id": "MTk3rJHLYND0"
      },
      "source": [
        "# Prepare cpdb_counts file"
      ]
    },
    {
      "cell_type": "code",
      "metadata": {
        "id": "GBIi2wNIYN43"
      },
      "source": [
        "#Transpose the adata object to have the cells as columns and genes as rows\n",
        "df_exp_matrix = subset.T\n",
        "\n",
        "\n"
      ],
      "execution_count": null,
      "outputs": []
    },
    {
      "cell_type": "code",
      "metadata": {
        "id": "PyZZb0tDez0f"
      },
      "source": [
        "\n",
        "#Convert the adata object to an arrayed dataframe\n",
        "df_exp_matrix = pd.DataFrame(df_exp_matrix.X)\n"
      ],
      "execution_count": null,
      "outputs": []
    },
    {
      "cell_type": "code",
      "metadata": {
        "id": "1-5DfJ-QewsJ"
      },
      "source": [
        "#Set columns IDs to cell name\n",
        "df_exp_matrix.columns = subset.obs_names\n",
        "\n",
        "#Set the row IDs (index) to gene names\n",
        "df_exp_matrix.set_index(subset.var.index, inplace = True)\n",
        "\n",
        "#Saving the file\n",
        "df_exp_matrix.to_csv('cpdb_counts.txt',sep='\\t')"
      ],
      "execution_count": null,
      "outputs": []
    },
    {
      "cell_type": "markdown",
      "metadata": {
        "id": "sqce4XbtYXU8"
      },
      "source": [
        "# Prepare cpdb_meta"
      ]
    },
    {
      "cell_type": "code",
      "metadata": {
        "id": "En42brojYWvD"
      },
      "source": [
        "df_meta = pd.DataFrame(data={'Cell':subset.obs_names, 'annotated':list(subset.obs['annotated'])})\n",
        "df_meta.set_index('Cell', inplace = True)\n",
        "\n",
        "df_meta.to_csv('cpdb_meta.txt', sep='\\t')\n",
        "\n",
        "df_meta.head()"
      ],
      "execution_count": null,
      "outputs": []
    },
    {
      "cell_type": "code",
      "metadata": {
        "id": "Til7PB5R3IHu"
      },
      "source": [],
      "execution_count": null,
      "outputs": []
    }
  ]
}
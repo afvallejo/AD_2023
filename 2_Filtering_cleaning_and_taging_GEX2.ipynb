{
  "nbformat": 4,
  "nbformat_minor": 0,
  "metadata": {
    "colab": {
      "provenance": [],
      "toc_visible": true,
      "machine_shape": "hm",
      "include_colab_link": true
    },
    "kernelspec": {
      "name": "python3",
      "display_name": "Python 3"
    }
  },
  "cells": [
    {
      "cell_type": "markdown",
      "metadata": {
        "id": "view-in-github",
        "colab_type": "text"
      },
      "source": [
        "<a href=\"https://colab.research.google.com/github/afvallejo/AD_2023/blob/main/2_Filtering_cleaning_and_taging_GEX2.ipynb\" target=\"_parent\"><img src=\"https://colab.research.google.com/assets/colab-badge.svg\" alt=\"Open In Colab\"/></a>"
      ]
    },
    {
      "cell_type": "markdown",
      "metadata": {
        "id": "eNhDYdHiRq10"
      },
      "source": [
        "# Setup"
      ]
    },
    {
      "cell_type": "markdown",
      "metadata": {
        "id": "iXN3o7eT3gcl"
      },
      "source": [
        "## link Gdrive"
      ]
    },
    {
      "cell_type": "code",
      "metadata": {
        "id": "3uaQHd50uiZk"
      },
      "source": [
        "from google.colab import drive\n",
        "drive.mount('/content/drive',force_remount=True)"
      ],
      "execution_count": null,
      "outputs": []
    },
    {
      "cell_type": "code",
      "metadata": {
        "id": "QIAV8cCXTx-4"
      },
      "source": [
        "!mkdir MyDrive   \n",
        "!mount --bind /content/drive/My\\ Drive /content/MyDrive"
      ],
      "execution_count": null,
      "outputs": []
    },
    {
      "cell_type": "markdown",
      "metadata": {
        "id": "evXce7PHiCTj"
      },
      "source": [
        "## Installing packages"
      ]
    },
    {
      "cell_type": "code",
      "metadata": {
        "id": "hxIW3wpDTkzf"
      },
      "source": [
        "#%%capture\n",
        "!pip install rpy2 "
      ],
      "execution_count": null,
      "outputs": []
    },
    {
      "cell_type": "code",
      "metadata": {
        "id": "d65pSmSF17oc"
      },
      "source": [
        "pip install make"
      ],
      "execution_count": null,
      "outputs": []
    },
    {
      "cell_type": "code",
      "metadata": {
        "id": "SCXxenvfA3X5"
      },
      "source": [
        "#%%capture\n",
        "!pip install scanpy[louvain] anndata2ri scrublet loompy "
      ],
      "execution_count": null,
      "outputs": []
    },
    {
      "cell_type": "code",
      "metadata": {
        "id": "S4kRGfRWRjGn",
        "cellView": "both"
      },
      "source": [
        "#%%capture\n",
        "%%!\n",
        "git clone https://github.com/afvallejo/scanpy\n",
        "cd scanpy\n",
        "pip install -e .\n",
        "cd .."
      ],
      "execution_count": null,
      "outputs": []
    },
    {
      "cell_type": "code",
      "metadata": {
        "id": "GFe9762shYOc"
      },
      "source": [
        "pip install cellrank"
      ],
      "execution_count": null,
      "outputs": []
    },
    {
      "cell_type": "code",
      "metadata": {
        "id": "RANsi-anMW2b"
      },
      "source": [
        " pip install llvmlite --ignore-installed"
      ],
      "execution_count": null,
      "outputs": []
    },
    {
      "cell_type": "code",
      "metadata": {
        "id": "yS1c-HuKEXih"
      },
      "source": [
        "!conda install -c conda-forge -c bioconda cellrank"
      ],
      "execution_count": null,
      "outputs": []
    },
    {
      "cell_type": "code",
      "metadata": {
        "id": "zJZG6TF0DBgn"
      },
      "source": [
        "%load_ext rpy2.ipython"
      ],
      "execution_count": null,
      "outputs": []
    },
    {
      "cell_type": "code",
      "metadata": {
        "id": "H-GsqdVjhzLq"
      },
      "source": [
        "%%R\n",
        "parallel::detectCores()"
      ],
      "execution_count": null,
      "outputs": []
    },
    {
      "cell_type": "code",
      "metadata": {
        "id": "Y_yK99OZEziE"
      },
      "source": [
        "%%time\n",
        "!Rscript -e \"options(Ncpus = 4)\" -e \"install.packages('BiocManager')\" -e \"BiocManager::install(c('DropletUtils', 'scater','scRNAseq'))\" "
      ],
      "execution_count": null,
      "outputs": []
    },
    {
      "cell_type": "code",
      "metadata": {
        "id": "VMtQSVNH2gON"
      },
      "source": [
        "import os\n",
        "os.kill(os.getpid(), 9)"
      ],
      "execution_count": null,
      "outputs": []
    },
    {
      "cell_type": "markdown",
      "metadata": {
        "id": "t2gGXPnOn3FD"
      },
      "source": [
        "## Load packages"
      ]
    },
    {
      "cell_type": "code",
      "metadata": {
        "id": "e_-1TbTiIBKC",
        "colab": {
          "base_uri": "https://localhost:8080/"
        },
        "outputId": "fd238701-373e-4776-cc37-8a23045baecb"
      },
      "source": [
        "import scanpy as sc\n",
        "\n",
        "# numpy et al.\n",
        "import numpy as np\n",
        "import sys\n",
        "import scipy as sp\n",
        "import pandas as pd\n",
        "import scrublet as scr\n",
        "import gc\n",
        "import loompy as lp\n",
        "import warnings\n",
        "import scanpy.external as sce\n",
        "\n",
        "# R integration\n",
        "from rpy2.robjects.packages import importr\n",
        "from rpy2.robjects.vectors import StrVector, FloatVector, ListVector\n",
        "import rpy2.robjects as ro\n",
        "import anndata2ri\n",
        "import rpy2.rinterface_lib.callbacks\n",
        "import logging\n",
        "from rpy2.robjects import pandas2ri, numpy2ri, r\n",
        "\n",
        "import matplotlib\n",
        "import matplotlib.pyplot as pl\n",
        "\n",
        "import seaborn as sb\n",
        "import re\n",
        "import datetime, time\n",
        "sc.settings.verbosity = 3               # verbosity: errors (0), warnings (1), info (2), hints (3)\n",
        "#sc.logging.print_versions()\n",
        "sc.logging.print_version_and_date()\n",
        "\n",
        "\n",
        "# R integration\n",
        "from rpy2.robjects.packages import importr\n",
        "from rpy2.robjects.vectors import StrVector, FloatVector, ListVector\n",
        "import rpy2.robjects as ro\n",
        "import anndata2ri\n",
        "import rpy2.rinterface_lib.callbacks\n",
        "import logging\n",
        "from rpy2.robjects import pandas2ri, numpy2ri, r\n",
        "import cellrank as cr\n",
        "\n",
        "%matplotlib inline\n",
        "\n",
        "# add extra code to the path\n",
        "import sys\n",
        "sys.path.append('/home/jupyter/bucket/sctoolkit/sctoolkit')\n",
        "from sctransform import sctransform\n",
        "from proportions import *\n",
        "\n",
        "\n",
        "from matplotlib import colors\n",
        "pl.rcParams['pdf.fonttype'] = 'truetype'\n",
        "sc.set_figure_params(vector_friendly=False,dpi_save=300,transparent=True)\n",
        "pl.rcParams['lines.linewidth'] = 0.1\n",
        "sc.set_figure_params(color_map='viridis')\n",
        "colorsComb = np.vstack([pl.cm.Reds(np.linspace(0, 1, 10)), pl.cm.Greys_r(np.linspace(0.7, 0.8, 0))])\n",
        "mymap = colors.LinearSegmentedColormap.from_list('my_colormap', colorsComb)\n",
        "\n",
        "\n",
        "cr.logging.print_versions()"
      ],
      "execution_count": null,
      "outputs": [
        {
          "output_type": "stream",
          "text": [
            "Running Scanpy 1.7.2, on 2021-05-23 18:06.\n"
          ],
          "name": "stdout"
        },
        {
          "output_type": "stream",
          "text": [
            "cellrank==1.3.1 scanpy==1.7.2 anndata==0.7.6 numpy==1.19.5 numba==0.51.2 scipy==1.6.3 pandas==1.2.4 pygpcca==1.0.2 scikit-learn==0.24.2 statsmodels==0.12.2 python-igraph==0.9.1 scvelo==0.2.3 pygam==0.8.0 matplotlib==3.4.2 seaborn==0.11.1\n"
          ],
          "name": "stderr"
        }
      ]
    },
    {
      "cell_type": "markdown",
      "metadata": {
        "id": "tRW_Dtqv9kAa"
      },
      "source": [
        "# Setup"
      ]
    },
    {
      "cell_type": "markdown",
      "metadata": {
        "id": "cV9xVzomjfe1"
      },
      "source": [
        "## set WD"
      ]
    },
    {
      "cell_type": "code",
      "metadata": {
        "colab": {
          "base_uri": "https://localhost:8080/"
        },
        "id": "MwOk4M3MO1Mp",
        "outputId": "677f49c4-3197-4107-b475-c2d952f92451"
      },
      "source": [
        "%cd /home/jupyter/bucket/AD_Final/KB_cellbender/Kallisto_AD_FINAL/"
      ],
      "execution_count": null,
      "outputs": [
        {
          "output_type": "stream",
          "text": [
            "/home/jupyter/bucket/AD_Final/KB_cellbender/Kallisto_AD_FINAL\n"
          ],
          "name": "stdout"
        }
      ]
    },
    {
      "cell_type": "code",
      "metadata": {
        "id": "JLUeRkjKuz0_"
      },
      "source": [
        "folder='/home/jupyter/bucket/AD_Final/KB_cellbender/Kallisto_AD_FINAL/'\n",
        "\n",
        "samplename='Gex2'\n",
        "\n",
        "import os\n",
        "os.chdir(folder)\n",
        "if not os.path.exists('./figures'):\n",
        "    os.makedirs('./figures')"
      ],
      "execution_count": null,
      "outputs": []
    },
    {
      "cell_type": "code",
      "metadata": {
        "id": "NbQO5GHtmTS_"
      },
      "source": [
        "\"\"\"Functions for downstream work with outputs of remove-background.\"\"\"\n",
        "\n",
        "import tables\n",
        "import numpy as np\n",
        "import scipy.sparse as sp\n",
        "from typing import Dict\n",
        "\n",
        "\n",
        "def dict_from_h5(file: str) -> Dict[str, np.ndarray]:\n",
        "    \"\"\"Read in everything from an h5 file and put into a dictionary.\"\"\"\n",
        "    d = {}\n",
        "    with tables.open_file(file) as f:\n",
        "        # read in everything\n",
        "        for array in f.walk_nodes(\"/\", \"Array\"):\n",
        "            d[array.name] = array.read()\n",
        "    return d\n",
        "\n",
        "\n",
        "def anndata_from_h5(file: str,\n",
        "                    analyzed_barcodes_only: bool = True) -> 'anndata.AnnData':\n",
        "    \"\"\"Load an output h5 file into an AnnData object for downstream work.\n",
        "\n",
        "    Args:\n",
        "        file: The h5 file\n",
        "        analyzed_barcodes_only: False to load all barcodes, so that the size of\n",
        "            the AnnData object will match the size of the input raw count matrix.\n",
        "            True to load a limited set of barcodes: only those analyzed by the\n",
        "            algorithm. This allows relevant latent variables to be loaded\n",
        "            properly into adata.obs and adata.obsm, rather than adata.uns.\n",
        "\n",
        "    Returns:\n",
        "        adata: The anndata object, populated with inferred latent variables\n",
        "            and metadata.\n",
        "\n",
        "    \"\"\"\n",
        "\n",
        "    try:\n",
        "        import anndata\n",
        "    except ImportError:\n",
        "        raise ImportError('The anndata package must be installed to use the '\n",
        "                          'function anndata_from_h5()')\n",
        "\n",
        "    d = dict_from_h5(file)\n",
        "    X = sp.csc_matrix((d.pop('data'), d.pop('indices'), d.pop('indptr')),\n",
        "                      shape=d.pop('shape')).transpose().tocsr()\n",
        "\n",
        "    if analyzed_barcodes_only:\n",
        "        if 'barcodes_analyzed_inds' in d.keys():\n",
        "            X = X[d['barcodes_analyzed_inds'], :]\n",
        "            d['barcodes'] = d['barcodes'][d['barcodes_analyzed_inds']]\n",
        "        elif 'barcode_indices_for_latents' in d.keys():\n",
        "            X = X[d['barcode_indices_for_latents'], :]\n",
        "            d['barcodes'] = d['barcodes'][d['barcode_indices_for_latents']]\n",
        "        else:\n",
        "            print('Warning: analyzed_barcodes_only=True, but the key '\n",
        "                  '\"barcodes_analyzed_inds\" or \"barcode_indices_for_latents\" '\n",
        "                  'is missing from the h5 file. '\n",
        "                  'Will output all barcodes, and proceed as if '\n",
        "                  'analyzed_barcodes_only=False')\n",
        "\n",
        "    # Construct the count matrix.\n",
        "    adata = anndata.AnnData(X=X,\n",
        "                            obs={'barcode': d.pop('barcodes').astype(str)},\n",
        "                            var={'gene_name': (d.pop('gene_names') if 'gene_names' in d.keys()\n",
        "                                               else d.pop('name')).astype(str)})\n",
        "    adata.obs.set_index('barcode', inplace=True)\n",
        "    adata.var.set_index('gene_name', inplace=True)\n",
        "\n",
        "    # Add other information to the adata object in the appropriate slot.\n",
        "    for key, value in d.items():\n",
        "        try:\n",
        "            value = np.asarray(value)\n",
        "            if len(value.shape) == 0:\n",
        "                adata.uns[key] = value\n",
        "            elif value.shape[0] == X.shape[0]:\n",
        "                if (len(value.shape) < 2) or (value.shape[1] < 2):\n",
        "                    adata.obs[key] = value\n",
        "                else:\n",
        "                    adata.obsm[key] = value\n",
        "            elif value.shape[0] == X.shape[1]:\n",
        "                if value.dtype.name.startswith('bytes'):\n",
        "                    adata.var[key] = value.astype(str)\n",
        "                else:\n",
        "                    adata.var[key] = value\n",
        "            else:\n",
        "                adata.uns[key] = value\n",
        "        except Exception:\n",
        "            print('Unable to load data into AnnData: ', key, value, type(value))\n",
        "\n",
        "    if analyzed_barcodes_only:\n",
        "        for col in adata.obs.columns[adata.obs.columns.str.startswith('barcodes_analyzed')\n",
        "                                     | adata.obs.columns.str.startswith('barcode_indices')]:\n",
        "            try:\n",
        "                del adata.obs[col]\n",
        "            except Exception:\n",
        "                pass\n",
        "\n",
        "    return adata\n",
        "\n",
        "\n",
        "def load_anndata_from_input_and_output(input_file: str,\n",
        "                                       output_file: str,\n",
        "                                       analyzed_barcodes_only: bool = True,\n",
        "                                       input_layer_key: str = 'cellranger') -> 'anndata.AnnData':\n",
        "    \"\"\"Load remove-background output count matrix into an anndata object,\n",
        "    together with remove-background metadata and the raw input counts.\n",
        "\n",
        "    Args:\n",
        "        input_file: Raw h5 file used as input for remove-background.\n",
        "        output_file: Output h5 file created by remove-background (can be\n",
        "            filtered or not).\n",
        "        analyzed_barcodes_only: Argument passed to anndata_from_h5().\n",
        "            False to load all barcodes, so that the size of\n",
        "            the AnnData object will match the size of the input raw count matrix.\n",
        "            True to load a limited set of barcodes: only those analyzed by the\n",
        "            algorithm. This allows relevant latent variables to be loaded\n",
        "            properly into adata.obs and adata.obsm, rather than adata.uns.\n",
        "        input_layer_key: Key of the anndata.layer that is created for the raw\n",
        "            input count matrix.\n",
        "\n",
        "    Return:\n",
        "        adata_out: AnnData object with counts before and after remove-background,\n",
        "            as well as inferred latent variables from remove-background.\n",
        "\n",
        "    \"\"\"\n",
        "\n",
        "    # Load input data.\n",
        "    adata_raw = anndata_from_h5(input_file, analyzed_barcodes_only=False)\n",
        "\n",
        "    # Load remove-background output data.\n",
        "    adata_out = anndata_from_h5(output_file, analyzed_barcodes_only=analyzed_barcodes_only)\n",
        "\n",
        "    # Subset the raw dataset to the relevant barcodes.\n",
        "    adata_raw = adata_raw[adata_out.obs.index]\n",
        "\n",
        "    # Put count matrices into 'layers' in anndata for clarity.\n",
        "    adata_out.layers[input_layer_key] = adata_raw.X.copy()\n",
        "    adata_out.layers['cellbender'] = adata_out.X.copy()\n",
        "\n",
        "    # Pre-compute a bit of metadata.\n",
        "    adata_out.var['n_cellranger'] = np.array(adata_out.layers['cellranger'].sum(axis=0)).squeeze()\n",
        "    adata_out.var['n_cellbender'] = np.array(adata_out.layers['cellbender'].sum(axis=0)).squeeze()\n",
        "\n",
        "    return adata_out"
      ],
      "execution_count": null,
      "outputs": []
    },
    {
      "cell_type": "code",
      "metadata": {
        "colab": {
          "base_uri": "https://localhost:8080/"
        },
        "id": "9ms88E9ovw5T",
        "outputId": "be1b548d-aa53-42da-d180-3fe1ff93a526"
      },
      "source": [
        "adata = anndata_from_h5('Gex2/cellbender_filtered.h5',analyzed_barcodes_only = True)\n",
        "adata"
      ],
      "execution_count": null,
      "outputs": [
        {
          "output_type": "stream",
          "text": [
            "Warning: analyzed_barcodes_only=True, but the key \"barcodes_analyzed_inds\" or \"barcode_indices_for_latents\" is missing from the h5 file. Will output all barcodes, and proceed as if analyzed_barcodes_only=False\n"
          ],
          "name": "stdout"
        },
        {
          "output_type": "execute_result",
          "data": {
            "text/plain": [
              "AnnData object with n_obs × n_vars = 11529 × 60671\n",
              "    obs: 'latent_RT_efficiency', 'latent_cell_probability', 'latent_scale'\n",
              "    var: 'ambient_expression'\n",
              "    uns: 'contamination_fraction_params', 'fraction_data_used_for_testing', 'lambda_multiplier', 'overdispersion_mean_and_scale', 'target_false_positive_rate', 'test_elbo', 'test_epoch', 'training_elbo_per_epoch'\n",
              "    obsm: 'latent_gene_encoding'"
            ]
          },
          "metadata": {
            "tags": []
          },
          "execution_count": 46
        }
      ]
    },
    {
      "cell_type": "code",
      "metadata": {
        "colab": {
          "base_uri": "https://localhost:8080/"
        },
        "id": "zl_cGGYNcGUl",
        "outputId": "61e4ce88-df9c-4053-8da0-dee4ac67c0d7"
      },
      "source": [
        "adata=sc.read('Gex2/adata1.h5ad')\n",
        "adata"
      ],
      "execution_count": null,
      "outputs": [
        {
          "output_type": "execute_result",
          "data": {
            "text/plain": [
              "AnnData object with n_obs × n_vars = 201433 × 60671\n",
              "    var: 'gene_name'\n",
              "    layers: 'spliced', 'unspliced'"
            ]
          },
          "metadata": {
            "tags": []
          },
          "execution_count": 68
        }
      ]
    },
    {
      "cell_type": "code",
      "metadata": {
        "colab": {
          "base_uri": "https://localhost:8080/"
        },
        "id": "tzwTFd32CcS7",
        "outputId": "9b58a2a4-9723-4694-985e-0e84f82025c3"
      },
      "source": [
        "adata.X"
      ],
      "execution_count": null,
      "outputs": [
        {
          "output_type": "execute_result",
          "data": {
            "text/plain": [
              "<201433x60671 sparse matrix of type '<class 'numpy.float32'>'\n",
              "\twith 12691466 stored elements in Compressed Sparse Row format>"
            ]
          },
          "metadata": {
            "tags": []
          },
          "execution_count": 49
        }
      ]
    },
    {
      "cell_type": "code",
      "metadata": {
        "id": "3PMTeiQICpBX"
      },
      "source": [
        "adata.var"
      ],
      "execution_count": null,
      "outputs": []
    },
    {
      "cell_type": "code",
      "metadata": {
        "id": "4-W8b7YZPHOF"
      },
      "source": [
        "adata.obs.index= adata.obs.index.str.replace(r'-1$', '')"
      ],
      "execution_count": null,
      "outputs": []
    },
    {
      "cell_type": "code",
      "metadata": {
        "id": "U-JSO65XwFTO",
        "colab": {
          "base_uri": "https://localhost:8080/"
        },
        "outputId": "8fe4ab4b-8a49-43e0-f1c9-f98db942bb99"
      },
      "source": [
        "adata.X=adata.layers['spliced']+adata.layers['unspliced']\n",
        "#adata.X=adata.layers['spliced']\n",
        "adata.X = sp.csr_matrix(adata.X)\n",
        "\n",
        "t2g = pd.read_csv(\"/home/jupyter/bucket/veloindex/t2g.txt\", header=None, names=[\"tid\", \"gene_id\", \"gene_name\",'col1','col2','col3','col4'], sep=\"\\t\")\n",
        "t2g.index = t2g.tid\n",
        "t2g = t2g.loc[~t2g.index.duplicated(keep='first')]\n",
        "\n",
        "adata.var[\"gene_id\"] = adata.var.index.map(t2g[\"gene_id\"])\n",
        "adata.var.index = adata.var[\"gene_id\"]\n",
        "adata.var = adata.var.drop('gene_id', 1)\n",
        "adata.var_names_make_unique()"
      ],
      "execution_count": null,
      "outputs": [
        {
          "output_type": "stream",
          "text": [
            "/opt/conda/lib/python3.7/site-packages/anndata/utils.py:117: UserWarning: Suffix used (-[0-9]+) to deduplicate index values may make index values difficult to interpret. There values with a similar suffixes in the index. Consider using a different delimiter by passing `join={delimiter}`Example key collisions generated by the make_index_unique algorithm: ['SNORD116-1', 'SNORD116-2', 'SNORD116-3', 'SNORD116-4', 'SNORD116-5']\n"
          ],
          "name": "stderr"
        }
      ]
    },
    {
      "cell_type": "code",
      "metadata": {
        "id": "_Q0tWzZh2vCY"
      },
      "source": [
        "adata.obs['batch']=['Gex2']*adata.n_obs"
      ],
      "execution_count": null,
      "outputs": []
    },
    {
      "cell_type": "markdown",
      "metadata": {
        "id": "S6-xScc7hyCG"
      },
      "source": [
        " # QC and filtering"
      ]
    },
    {
      "cell_type": "code",
      "metadata": {
        "id": "UGZ_G0wuee0t",
        "colab": {
          "base_uri": "https://localhost:8080/"
        },
        "outputId": "75dae2bc-a545-448e-ef40-0ab685753598"
      },
      "source": [
        "# Quality control - calculate QC covariates\n",
        "adata.obs['n_counts'] = adata.X.sum(1)\n",
        "adata.obs['log_counts'] = np.log(adata.obs['n_counts'])\n",
        "adata.obs['n_genes'] = (adata.X > 0).sum(1)\n",
        "\n",
        "regex = re.compile('^(MT-).*', re.IGNORECASE)\n",
        "mito_genes = [l for l in adata.var_names for m in [regex.search(l)] if m]\n",
        "# for each cell compute fraction of counts in mito genes vs. all genes\n",
        "# the `.A1` is only necessary as X is sparse (to transform to a dense array after summing)\n",
        "adata.obs['mt_frac'] = np.sum(\n",
        "    adata[:, mito_genes].X, axis=1).A1 / np.sum(adata.X, axis=1).A1\n",
        "\n",
        "adata.var['mito'] = False\n",
        "adata.var.loc[mito_genes, 'mito'] = True\n",
        "print('Found {} mito genes and annotated.'.format(len(mito_genes)))\n",
        "\n",
        "sc.pp.calculate_qc_metrics(adata, qc_vars=['mito'], inplace=True)\n",
        "\n",
        "\n",
        "adata"
      ],
      "execution_count": null,
      "outputs": [
        {
          "output_type": "stream",
          "text": [
            "Found 0 mito genes and annotated.\n"
          ],
          "name": "stdout"
        },
        {
          "output_type": "execute_result",
          "data": {
            "text/plain": [
              "AnnData object with n_obs × n_vars = 201433 × 60671\n",
              "    obs: 'n_counts', 'log_counts', 'n_genes', 'mt_frac', 'n_genes_by_counts', 'log1p_n_genes_by_counts', 'total_counts', 'log1p_total_counts', 'pct_counts_in_top_50_genes', 'pct_counts_in_top_100_genes', 'pct_counts_in_top_200_genes', 'pct_counts_in_top_500_genes', 'total_counts_mito', 'log1p_total_counts_mito', 'pct_counts_mito'\n",
              "    var: 'gene_name', 'mito', 'n_cells_by_counts', 'mean_counts', 'log1p_mean_counts', 'pct_dropout_by_counts', 'total_counts', 'log1p_total_counts'\n",
              "    layers: 'spliced', 'unspliced'"
            ]
          },
          "metadata": {
            "tags": []
          },
          "execution_count": 69
        }
      ]
    },
    {
      "cell_type": "code",
      "metadata": {
        "id": "cRhtMJWBk3sb",
        "colab": {
          "base_uri": "https://localhost:8080/",
          "height": 624
        },
        "outputId": "a45919cd-2807-40d9-bc0c-4f944f1044ac"
      },
      "source": [
        "#Thresholding decision: genes\n",
        "p6 = sb.distplot(adata.obs['n_genes'], kde=False, bins=60)\n",
        "pl.show()\n",
        "\n",
        "p7 = sb.distplot(adata.obs['n_genes'][adata.obs['n_genes']<1000], kde=False, bins=60)\n",
        "pl.show()"
      ],
      "execution_count": null,
      "outputs": [
        {
          "output_type": "display_data",
          "data": {
            "text/plain": [
              "<Figure size 320x320 with 1 Axes>"
            ],
            "image/png": "[encoded data removed]"
          },
          "metadata": {
            "tags": [],
            "needs_background": "light"
          }
        },
        {
          "output_type": "display_data",
          "data": {
            "text/plain": [
              "<Figure size 320x320 with 1 Axes>"
            ],
            "image/png": "[encoded data removed]"
          },
          "metadata": {
            "tags": [],
            "needs_background": "light"
          }
        }
      ]
    },
    {
      "cell_type": "code",
      "metadata": {
        "id": "xKbFrWYZSHE-",
        "colab": {
          "base_uri": "https://localhost:8080/",
          "height": 923
        },
        "outputId": "377f0475-c670-4048-d35e-04373a458ef0"
      },
      "source": [
        "#Thresholding decision: counts\n",
        "p3 = sb.distplot(adata.obs['n_counts'], kde=False)\n",
        "pl.show()\n",
        "\n",
        "p4 = sb.distplot(adata.obs['n_counts'][adata.obs['n_counts']<2000], kde=False, bins=60)\n",
        "pl.show()\n",
        "\n",
        "p5 = sb.distplot(adata.obs['n_counts'][adata.obs['n_counts']>10000], kde=False, bins=60)\n",
        "pl.show()"
      ],
      "execution_count": null,
      "outputs": [
        {
          "output_type": "display_data",
          "data": {
            "text/plain": [
              "<Figure size 320x320 with 1 Axes>"
            ],
            "image/png": "[encoded data removed]"
          },
          "metadata": {
            "tags": [],
            "needs_background": "light"
          }
        },
        {
          "output_type": "display_data",
          "data": {
            "text/plain": [
              "<Figure size 320x320 with 1 Axes>"
            ],
            "image/png": "[encoded data removed]"
          },
          "metadata": {
            "tags": [],
            "needs_background": "light"
          }
        },
        {
          "output_type": "display_data",
          "data": {
            "text/plain": [
              "<Figure size 320x320 with 1 Axes>"
            ],
            "image/png": "[encoded data removed]"
          },
          "metadata": {
            "tags": [],
            "needs_background": "light"
          }
        }
      ]
    },
    {
      "cell_type": "markdown",
      "metadata": {
        "id": "pF_aNT-mls1a"
      },
      "source": [
        "## Filtering"
      ]
    },
    {
      "cell_type": "code",
      "metadata": {
        "id": "zAoTnbDlloAq",
        "colab": {
          "base_uri": "https://localhost:8080/"
        },
        "outputId": "9edd8b96-934a-4753-abfd-25259bdc4f4c"
      },
      "source": [
        "# Filter cells according to identified QC thresholds:\n",
        "print('Total number of cells: {:d}'.format(adata.n_obs))\n",
        "\n",
        "sc.pp.filter_cells(adata, min_counts = 500)\n",
        "print('Number of cells after min count filter: {:d}'.format(adata.n_obs))\n",
        "\n",
        "sc.pp.filter_cells(adata, max_counts = 100000)\n",
        "print('Number of cells after max count filter: {:d}'.format(adata.n_obs))\n",
        "\n",
        "adata = adata[adata.obs['mt_frac'] < 0.3]\n",
        "print('Number of cells after MT filter: {:d}'.format(adata.n_obs))\n",
        "\n",
        "sc.pp.filter_cells(adata, min_genes = 300)\n",
        "print('Number of cells after gene filter: {:d}'.format(adata.n_obs))"
      ],
      "execution_count": null,
      "outputs": [
        {
          "output_type": "stream",
          "text": [
            "filtered out 180873 cells that have less than 500 counts\n"
          ],
          "name": "stderr"
        },
        {
          "output_type": "stream",
          "text": [
            "Total number of cells: 201433\n",
            "Number of cells after min count filter: 20560\n"
          ],
          "name": "stdout"
        },
        {
          "output_type": "stream",
          "text": [
            "filtered out 9719 cells that have less than 300 genes expressed\n",
            "Trying to set attribute `.obs` of view, copying.\n"
          ],
          "name": "stderr"
        },
        {
          "output_type": "stream",
          "text": [
            "Number of cells after max count filter: 20560\n",
            "Number of cells after MT filter: 20560\n",
            "Number of cells after gene filter: 10841\n"
          ],
          "name": "stdout"
        }
      ]
    },
    {
      "cell_type": "code",
      "metadata": {
        "id": "mJMlQv2hlsK9",
        "colab": {
          "base_uri": "https://localhost:8080/",
          "height": 471
        },
        "outputId": "4bd6a19c-e89e-4b44-962c-c837f4ec4662"
      },
      "source": [
        "sb.set_context('paper')\n",
        "\n",
        "fig, (ax1, ax2, ax3) = pl.subplots(1, 3, figsize=(6, 3), dpi=150, sharey=False)\n",
        "adata.obs['n_genes']\n",
        "\n",
        "sb.distplot( adata.obs['n_genes'], ax=ax1, norm_hist=True, bins=10)\n",
        "sb.distplot( adata.obs['n_counts'], ax=ax2, norm_hist=True, bins=10)\n",
        "sb.distplot( adata.obs['mt_frac'], ax=ax3, norm_hist=True, bins=100)\n",
        "\n",
        "ax1.title.set_text('n_genes')\n",
        "ax2.title.set_text('n_counts')\n",
        "ax3.title.set_text('mt_frac')\n",
        "\n",
        "fig.text(0.00, 0.5, 'Frequency', ha='center', va='center', rotation='vertical', size='x-large')\n",
        "\n",
        "fig.tight_layout()\n",
        "savefig=samplename + '_filtering_panel_postfilter1.pdf'\n",
        "fig.savefig(savefig, dpi=300, bbox_inches='tight')"
      ],
      "execution_count": null,
      "outputs": [
        {
          "output_type": "stream",
          "text": [
            "/opt/conda/lib/python3.7/site-packages/seaborn/distributions.py:306: UserWarning: Dataset has 0 variance; skipping density estimate.\n"
          ],
          "name": "stderr"
        },
        {
          "output_type": "display_data",
          "data": {
            "text/plain": [
              "<Figure size 900x450 with 3 Axes>"
            ],
            "image/png": "[encoded data removed]"
          },
          "metadata": {
            "tags": [],
            "needs_background": "light"
          }
        }
      ]
    },
    {
      "cell_type": "code",
      "metadata": {
        "id": "Llecslm1nJHS",
        "colab": {
          "base_uri": "https://localhost:8080/",
          "height": 421
        },
        "outputId": "97f71f66-8ac9-48cd-9317-604ba2c53600"
      },
      "source": [
        "# plot percentage of mitochondtial genes versus count depth and n_genes\n",
        "# compute qc metrics\n",
        "regex = re.compile('^(MT-).*', re.IGNORECASE)\n",
        "mito_genes = [l for l in adata.var_names for m in [regex.search(l)] if m]\n",
        "adata.var['mito'] = False\n",
        "adata.var.loc[mito_genes, 'mito'] = True\n",
        "print('Found {} mito genes and annotated.'.format(len(mito_genes)))\n",
        "\n",
        "sc.pp.calculate_qc_metrics(adata, qc_vars=['mito'], inplace=True)\n",
        "\n",
        "pl.rcParams['figure.figsize']=(5,5) #rescale figures\n",
        "sc.pl.scatter(adata, x='total_counts', y='n_genes', color='mt_frac',save='.pdf')"
      ],
      "execution_count": null,
      "outputs": [
        {
          "output_type": "stream",
          "text": [
            "Found 37 mito genes and annotated.\n"
          ],
          "name": "stdout"
        },
        {
          "output_type": "stream",
          "text": [
            "WARNING: saving figure to file figures/scatter.pdf\n"
          ],
          "name": "stderr"
        },
        {
          "output_type": "display_data",
          "data": {
            "text/plain": [
              "<Figure size 471x400 with 2 Axes>"
            ],
            "image/png": "[encoded data removed]"
          },
          "metadata": {
            "tags": [],
            "needs_background": "light"
          }
        }
      ]
    },
    {
      "cell_type": "code",
      "metadata": {
        "id": "JxYhGoWhjuse",
        "colab": {
          "base_uri": "https://localhost:8080/",
          "height": 466
        },
        "outputId": "501be3fa-3e1a-42d7-df2e-a0688372b6ac"
      },
      "source": [
        "adata.obs"
      ],
      "execution_count": null,
      "outputs": [
        {
          "output_type": "execute_result",
          "data": {
            "text/plain": [
              "                 batch  n_counts  log_counts  n_genes   mt_frac  \\\n",
              "barcode                                                           \n",
              "AAACCCAAGCAGATAT  Gex2     815.0    6.703188      350  0.251534   \n",
              "AAACCCAAGCTCGCAC  Gex2    1651.0    7.409136      769  0.189582   \n",
              "AAACCCAAGCTGGCTC  Gex2     518.0    6.249975      238  0.268340   \n",
              "AAACCCAAGGACTATA  Gex2     537.0    6.285998      286  0.229050   \n",
              "AAACCCACACACCAGC  Gex2    1165.0    7.060476      546  0.248927   \n",
              "...                ...       ...         ...      ...       ...   \n",
              "TTTGTTGTCATCGGGC  Gex2     495.0    6.204558      238  0.288889   \n",
              "TTTGTTGTCCACTTTA  Gex2    2737.0    7.914618     1290  0.101206   \n",
              "TTTGTTGTCCCAGTGG  Gex2     806.0    6.692084      336  0.297767   \n",
              "TTTGTTGTCGAGCTGC  Gex2     619.0    6.428105      318  0.221325   \n",
              "TTTGTTGTCGCGTGCA  Gex2     546.0    6.302619      235  0.282051   \n",
              "\n",
              "                  n_genes_by_counts  log1p_n_genes_by_counts  total_counts  \\\n",
              "barcode                                                                      \n",
              "AAACCCAAGCAGATAT                350                 5.860786         815.0   \n",
              "AAACCCAAGCTCGCAC                769                 6.646391        1651.0   \n",
              "AAACCCAAGCTGGCTC                238                 5.476464         518.0   \n",
              "AAACCCAAGGACTATA                286                 5.659482         537.0   \n",
              "AAACCCACACACCAGC                546                 6.304449        1165.0   \n",
              "...                             ...                      ...           ...   \n",
              "TTTGTTGTCATCGGGC                238                 5.476464         495.0   \n",
              "TTTGTTGTCCACTTTA               1290                 7.163172        2737.0   \n",
              "TTTGTTGTCCCAGTGG                336                 5.820083         806.0   \n",
              "TTTGTTGTCGAGCTGC                318                 5.765191         619.0   \n",
              "TTTGTTGTCGCGTGCA                235                 5.463832         546.0   \n",
              "\n",
              "                  log1p_total_counts  pct_counts_in_top_50_genes  \\\n",
              "barcode                                                            \n",
              "AAACCCAAGCAGATAT            6.704414                   56.687117   \n",
              "AAACCCAAGCTCGCAC            7.409742                   40.944882   \n",
              "AAACCCAAGCTGGCTC            6.251904                   58.687259   \n",
              "AAACCCAAGGACTATA            6.287858                   54.934823   \n",
              "AAACCCACACACCAGC            7.061335                   48.841202   \n",
              "...                              ...                         ...   \n",
              "TTTGTTGTCATCGGGC            6.206576                   61.212121   \n",
              "TTTGTTGTCCACTTTA            7.914983                   34.380709   \n",
              "TTTGTTGTCCCAGTGG            6.693324                   59.305211   \n",
              "TTTGTTGTCGAGCTGC            6.429719                   50.888530   \n",
              "TTTGTTGTCGCGTGCA            6.304449                   60.256410   \n",
              "\n",
              "                  pct_counts_in_top_100_genes  pct_counts_in_top_200_genes  \\\n",
              "barcode                                                                      \n",
              "AAACCCAAGCAGATAT                    69.202454                    81.595092   \n",
              "AAACCCAAGCTCGCAC                    50.514839                    62.992126   \n",
              "AAACCCAAGCTGGCTC                    73.359073                    92.664093   \n",
              "AAACCCAAGGACTATA                    65.363128                    83.985102   \n",
              "AAACCCACACACCAGC                    57.854077                    70.300429   \n",
              "...                                       ...                          ...   \n",
              "TTTGTTGTCATCGGGC                    72.121212                    92.323232   \n",
              "TTTGTTGTCCACTTTA                    41.541834                    52.466204   \n",
              "TTTGTTGTCCCAGTGG                    70.719603                    83.126551   \n",
              "TTTGTTGTCGAGCTGC                    64.781906                    80.936995   \n",
              "TTTGTTGTCGCGTGCA                    75.274725                    93.589744   \n",
              "\n",
              "                  pct_counts_in_top_500_genes  total_counts_mito  \\\n",
              "barcode                                                            \n",
              "AAACCCAAGCAGATAT                   100.000000              205.0   \n",
              "AAACCCAAGCTCGCAC                    83.706844              313.0   \n",
              "AAACCCAAGCTGGCTC                   100.000000              139.0   \n",
              "AAACCCAAGGACTATA                   100.000000              123.0   \n",
              "AAACCCACACACCAGC                    96.051502              290.0   \n",
              "...                                       ...                ...   \n",
              "TTTGTTGTCATCGGGC                   100.000000              143.0   \n",
              "TTTGTTGTCCACTTTA                    71.136281              277.0   \n",
              "TTTGTTGTCCCAGTGG                   100.000000              240.0   \n",
              "TTTGTTGTCGAGCTGC                   100.000000              137.0   \n",
              "TTTGTTGTCGCGTGCA                   100.000000              154.0   \n",
              "\n",
              "                  log1p_total_counts_mito  pct_counts_mito  \n",
              "barcode                                                     \n",
              "AAACCCAAGCAGATAT                 5.327876        25.153374  \n",
              "AAACCCAAGCTCGCAC                 5.749393        18.958206  \n",
              "AAACCCAAGCTGGCTC                 4.941642        26.833979  \n",
              "AAACCCAAGGACTATA                 4.820282        22.905027  \n",
              "AAACCCACACACCAGC                 5.673323        24.892704  \n",
              "...                                   ...              ...  \n",
              "TTTGTTGTCATCGGGC                 4.969813        28.888889  \n",
              "TTTGTTGTCCACTTTA                 5.627621        10.120570  \n",
              "TTTGTTGTCCCAGTGG                 5.484797        29.776674  \n",
              "TTTGTTGTCGAGCTGC                 4.927254        22.132471  \n",
              "TTTGTTGTCGCGTGCA                 5.043425        28.205130  \n",
              "\n",
              "[12951 rows x 16 columns]"
            ],
            "text/html": [
              "<div>\n",
              "<style scoped>\n",
              "    .dataframe tbody tr th:only-of-type {\n",
              "        vertical-align: middle;\n",
              "    }\n",
              "\n",
              "    .dataframe tbody tr th {\n",
              "        vertical-align: top;\n",
              "    }\n",
              "\n",
              "    .dataframe thead th {\n",
              "        text-align: right;\n",
              "    }\n",
              "</style>\n",
              "<table border=\"1\" class=\"dataframe\">\n",
              "  <thead>\n",
              "    <tr style=\"text-align: right;\">\n",
              "      <th></th>\n",
              "      <th>batch</th>\n",
              "      <th>n_counts</th>\n",
              "      <th>log_counts</th>\n",
              "      <th>n_genes</th>\n",
              "      <th>mt_frac</th>\n",
              "      <th>n_genes_by_counts</th>\n",
              "      <th>log1p_n_genes_by_counts</th>\n",
              "      <th>total_counts</th>\n",
              "      <th>log1p_total_counts</th>\n",
              "      <th>pct_counts_in_top_50_genes</th>\n",
              "      <th>pct_counts_in_top_100_genes</th>\n",
              "      <th>pct_counts_in_top_200_genes</th>\n",
              "      <th>pct_counts_in_top_500_genes</th>\n",
              "      <th>total_counts_mito</th>\n",
              "      <th>log1p_total_counts_mito</th>\n",
              "      <th>pct_counts_mito</th>\n",
              "    </tr>\n",
              "    <tr>\n",
              "      <th>barcode</th>\n",
              "      <th></th>\n",
              "      <th></th>\n",
              "      <th></th>\n",
              "      <th></th>\n",
              "      <th></th>\n",
              "      <th></th>\n",
              "      <th></th>\n",
              "      <th></th>\n",
              "      <th></th>\n",
              "      <th></th>\n",
              "      <th></th>\n",
              "      <th></th>\n",
              "      <th></th>\n",
              "      <th></th>\n",
              "      <th></th>\n",
              "      <th></th>\n",
              "    </tr>\n",
              "  </thead>\n",
              "  <tbody>\n",
              "    <tr>\n",
              "      <th>AAACCCAAGCAGATAT</th>\n",
              "      <td>Gex2</td>\n",
              "      <td>815.0</td>\n",
              "      <td>6.703188</td>\n",
              "      <td>350</td>\n",
              "      <td>0.251534</td>\n",
              "      <td>350</td>\n",
              "      <td>5.860786</td>\n",
              "      <td>815.0</td>\n",
              "      <td>6.704414</td>\n",
              "      <td>56.687117</td>\n",
              "      <td>69.202454</td>\n",
              "      <td>81.595092</td>\n",
              "      <td>100.000000</td>\n",
              "      <td>205.0</td>\n",
              "      <td>5.327876</td>\n",
              "      <td>25.153374</td>\n",
              "    </tr>\n",
              "    <tr>\n",
              "      <th>AAACCCAAGCTCGCAC</th>\n",
              "      <td>Gex2</td>\n",
              "      <td>1651.0</td>\n",
              "      <td>7.409136</td>\n",
              "      <td>769</td>\n",
              "      <td>0.189582</td>\n",
              "      <td>769</td>\n",
              "      <td>6.646391</td>\n",
              "      <td>1651.0</td>\n",
              "      <td>7.409742</td>\n",
              "      <td>40.944882</td>\n",
              "      <td>50.514839</td>\n",
              "      <td>62.992126</td>\n",
              "      <td>83.706844</td>\n",
              "      <td>313.0</td>\n",
              "      <td>5.749393</td>\n",
              "      <td>18.958206</td>\n",
              "    </tr>\n",
              "    <tr>\n",
              "      <th>AAACCCAAGCTGGCTC</th>\n",
              "      <td>Gex2</td>\n",
              "      <td>518.0</td>\n",
              "      <td>6.249975</td>\n",
              "      <td>238</td>\n",
              "      <td>0.268340</td>\n",
              "      <td>238</td>\n",
              "      <td>5.476464</td>\n",
              "      <td>518.0</td>\n",
              "      <td>6.251904</td>\n",
              "      <td>58.687259</td>\n",
              "      <td>73.359073</td>\n",
              "      <td>92.664093</td>\n",
              "      <td>100.000000</td>\n",
              "      <td>139.0</td>\n",
              "      <td>4.941642</td>\n",
              "      <td>26.833979</td>\n",
              "    </tr>\n",
              "    <tr>\n",
              "      <th>AAACCCAAGGACTATA</th>\n",
              "      <td>Gex2</td>\n",
              "      <td>537.0</td>\n",
              "      <td>6.285998</td>\n",
              "      <td>286</td>\n",
              "      <td>0.229050</td>\n",
              "      <td>286</td>\n",
              "      <td>5.659482</td>\n",
              "      <td>537.0</td>\n",
              "      <td>6.287858</td>\n",
              "      <td>54.934823</td>\n",
              "      <td>65.363128</td>\n",
              "      <td>83.985102</td>\n",
              "      <td>100.000000</td>\n",
              "      <td>123.0</td>\n",
              "      <td>4.820282</td>\n",
              "      <td>22.905027</td>\n",
              "    </tr>\n",
              "    <tr>\n",
              "      <th>AAACCCACACACCAGC</th>\n",
              "      <td>Gex2</td>\n",
              "      <td>1165.0</td>\n",
              "      <td>7.060476</td>\n",
              "      <td>546</td>\n",
              "      <td>0.248927</td>\n",
              "      <td>546</td>\n",
              "      <td>6.304449</td>\n",
              "      <td>1165.0</td>\n",
              "      <td>7.061335</td>\n",
              "      <td>48.841202</td>\n",
              "      <td>57.854077</td>\n",
              "      <td>70.300429</td>\n",
              "      <td>96.051502</td>\n",
              "      <td>290.0</td>\n",
              "      <td>5.673323</td>\n",
              "      <td>24.892704</td>\n",
              "    </tr>\n",
              "    <tr>\n",
              "      <th>...</th>\n",
              "      <td>...</td>\n",
              "      <td>...</td>\n",
              "      <td>...</td>\n",
              "      <td>...</td>\n",
              "      <td>...</td>\n",
              "      <td>...</td>\n",
              "      <td>...</td>\n",
              "      <td>...</td>\n",
              "      <td>...</td>\n",
              "      <td>...</td>\n",
              "      <td>...</td>\n",
              "      <td>...</td>\n",
              "      <td>...</td>\n",
              "      <td>...</td>\n",
              "      <td>...</td>\n",
              "      <td>...</td>\n",
              "    </tr>\n",
              "    <tr>\n",
              "      <th>TTTGTTGTCATCGGGC</th>\n",
              "      <td>Gex2</td>\n",
              "      <td>495.0</td>\n",
              "      <td>6.204558</td>\n",
              "      <td>238</td>\n",
              "      <td>0.288889</td>\n",
              "      <td>238</td>\n",
              "      <td>5.476464</td>\n",
              "      <td>495.0</td>\n",
              "      <td>6.206576</td>\n",
              "      <td>61.212121</td>\n",
              "      <td>72.121212</td>\n",
              "      <td>92.323232</td>\n",
              "      <td>100.000000</td>\n",
              "      <td>143.0</td>\n",
              "      <td>4.969813</td>\n",
              "      <td>28.888889</td>\n",
              "    </tr>\n",
              "    <tr>\n",
              "      <th>TTTGTTGTCCACTTTA</th>\n",
              "      <td>Gex2</td>\n",
              "      <td>2737.0</td>\n",
              "      <td>7.914618</td>\n",
              "      <td>1290</td>\n",
              "      <td>0.101206</td>\n",
              "      <td>1290</td>\n",
              "      <td>7.163172</td>\n",
              "      <td>2737.0</td>\n",
              "      <td>7.914983</td>\n",
              "      <td>34.380709</td>\n",
              "      <td>41.541834</td>\n",
              "      <td>52.466204</td>\n",
              "      <td>71.136281</td>\n",
              "      <td>277.0</td>\n",
              "      <td>5.627621</td>\n",
              "      <td>10.120570</td>\n",
              "    </tr>\n",
              "    <tr>\n",
              "      <th>TTTGTTGTCCCAGTGG</th>\n",
              "      <td>Gex2</td>\n",
              "      <td>806.0</td>\n",
              "      <td>6.692084</td>\n",
              "      <td>336</td>\n",
              "      <td>0.297767</td>\n",
              "      <td>336</td>\n",
              "      <td>5.820083</td>\n",
              "      <td>806.0</td>\n",
              "      <td>6.693324</td>\n",
              "      <td>59.305211</td>\n",
              "      <td>70.719603</td>\n",
              "      <td>83.126551</td>\n",
              "      <td>100.000000</td>\n",
              "      <td>240.0</td>\n",
              "      <td>5.484797</td>\n",
              "      <td>29.776674</td>\n",
              "    </tr>\n",
              "    <tr>\n",
              "      <th>TTTGTTGTCGAGCTGC</th>\n",
              "      <td>Gex2</td>\n",
              "      <td>619.0</td>\n",
              "      <td>6.428105</td>\n",
              "      <td>318</td>\n",
              "      <td>0.221325</td>\n",
              "      <td>318</td>\n",
              "      <td>5.765191</td>\n",
              "      <td>619.0</td>\n",
              "      <td>6.429719</td>\n",
              "      <td>50.888530</td>\n",
              "      <td>64.781906</td>\n",
              "      <td>80.936995</td>\n",
              "      <td>100.000000</td>\n",
              "      <td>137.0</td>\n",
              "      <td>4.927254</td>\n",
              "      <td>22.132471</td>\n",
              "    </tr>\n",
              "    <tr>\n",
              "      <th>TTTGTTGTCGCGTGCA</th>\n",
              "      <td>Gex2</td>\n",
              "      <td>546.0</td>\n",
              "      <td>6.302619</td>\n",
              "      <td>235</td>\n",
              "      <td>0.282051</td>\n",
              "      <td>235</td>\n",
              "      <td>5.463832</td>\n",
              "      <td>546.0</td>\n",
              "      <td>6.304449</td>\n",
              "      <td>60.256410</td>\n",
              "      <td>75.274725</td>\n",
              "      <td>93.589744</td>\n",
              "      <td>100.000000</td>\n",
              "      <td>154.0</td>\n",
              "      <td>5.043425</td>\n",
              "      <td>28.205130</td>\n",
              "    </tr>\n",
              "  </tbody>\n",
              "</table>\n",
              "<p>12951 rows × 16 columns</p>\n",
              "</div>"
            ]
          },
          "metadata": {
            "tags": []
          },
          "execution_count": 24
        }
      ]
    },
    {
      "cell_type": "code",
      "metadata": {
        "id": "O1bZZw3JRJL5",
        "colab": {
          "base_uri": "https://localhost:8080/",
          "height": 380
        },
        "outputId": "22752832-9669-4733-cec8-230c2ba041dc"
      },
      "source": [
        "pl.rcParams['figure.figsize']=(3,2)\n",
        "pl.rcParams['lines.linewidth'] = 0.1\n",
        "\n",
        "t1 = sc.pl.violin(adata, 'n_counts', groupby='sample', size=0.5, log=True, cut=0)\n",
        "t2 = sc.pl.violin(adata, 'n_genes', groupby='sample', size=0.5, log=True, cut=0)\n",
        "t3 = sc.pl.violin(adata, 'mt_frac', groupby='sample',size=0.5)"
      ],
      "execution_count": null,
      "outputs": [
        {
          "output_type": "error",
          "ename": "KeyError",
          "evalue": "ignored",
          "traceback": [
            "\u001b[0;31m---------------------------------------------------------------------------\u001b[0m",
            "\u001b[0;31mKeyError\u001b[0m                                  Traceback (most recent call last)",
            "\u001b[0;32m<ipython-input-25-57de73a96e9c>\u001b[0m in \u001b[0;36m<module>\u001b[0;34m\u001b[0m\n\u001b[1;32m      2\u001b[0m \u001b[0mpl\u001b[0m\u001b[0;34m.\u001b[0m\u001b[0mrcParams\u001b[0m\u001b[0;34m[\u001b[0m\u001b[0;34m'lines.linewidth'\u001b[0m\u001b[0;34m]\u001b[0m \u001b[0;34m=\u001b[0m \u001b[0;36m0.1\u001b[0m\u001b[0;34m\u001b[0m\u001b[0;34m\u001b[0m\u001b[0m\n\u001b[1;32m      3\u001b[0m \u001b[0;34m\u001b[0m\u001b[0m\n\u001b[0;32m----> 4\u001b[0;31m \u001b[0mt1\u001b[0m \u001b[0;34m=\u001b[0m \u001b[0msc\u001b[0m\u001b[0;34m.\u001b[0m\u001b[0mpl\u001b[0m\u001b[0;34m.\u001b[0m\u001b[0mviolin\u001b[0m\u001b[0;34m(\u001b[0m\u001b[0madata\u001b[0m\u001b[0;34m,\u001b[0m \u001b[0;34m'n_counts'\u001b[0m\u001b[0;34m,\u001b[0m \u001b[0mgroupby\u001b[0m\u001b[0;34m=\u001b[0m\u001b[0;34m'sample'\u001b[0m\u001b[0;34m,\u001b[0m \u001b[0msize\u001b[0m\u001b[0;34m=\u001b[0m\u001b[0;36m0.5\u001b[0m\u001b[0;34m,\u001b[0m \u001b[0mlog\u001b[0m\u001b[0;34m=\u001b[0m\u001b[0;32mTrue\u001b[0m\u001b[0;34m,\u001b[0m \u001b[0mcut\u001b[0m\u001b[0;34m=\u001b[0m\u001b[0;36m0\u001b[0m\u001b[0;34m)\u001b[0m\u001b[0;34m\u001b[0m\u001b[0;34m\u001b[0m\u001b[0m\n\u001b[0m\u001b[1;32m      5\u001b[0m \u001b[0mt2\u001b[0m \u001b[0;34m=\u001b[0m \u001b[0msc\u001b[0m\u001b[0;34m.\u001b[0m\u001b[0mpl\u001b[0m\u001b[0;34m.\u001b[0m\u001b[0mviolin\u001b[0m\u001b[0;34m(\u001b[0m\u001b[0madata\u001b[0m\u001b[0;34m,\u001b[0m \u001b[0;34m'n_genes'\u001b[0m\u001b[0;34m,\u001b[0m \u001b[0mgroupby\u001b[0m\u001b[0;34m=\u001b[0m\u001b[0;34m'sample'\u001b[0m\u001b[0;34m,\u001b[0m \u001b[0msize\u001b[0m\u001b[0;34m=\u001b[0m\u001b[0;36m0.5\u001b[0m\u001b[0;34m,\u001b[0m \u001b[0mlog\u001b[0m\u001b[0;34m=\u001b[0m\u001b[0;32mTrue\u001b[0m\u001b[0;34m,\u001b[0m \u001b[0mcut\u001b[0m\u001b[0;34m=\u001b[0m\u001b[0;36m0\u001b[0m\u001b[0;34m)\u001b[0m\u001b[0;34m\u001b[0m\u001b[0;34m\u001b[0m\u001b[0m\n\u001b[1;32m      6\u001b[0m \u001b[0mt3\u001b[0m \u001b[0;34m=\u001b[0m \u001b[0msc\u001b[0m\u001b[0;34m.\u001b[0m\u001b[0mpl\u001b[0m\u001b[0;34m.\u001b[0m\u001b[0mviolin\u001b[0m\u001b[0;34m(\u001b[0m\u001b[0madata\u001b[0m\u001b[0;34m,\u001b[0m \u001b[0;34m'mt_frac'\u001b[0m\u001b[0;34m,\u001b[0m \u001b[0mgroupby\u001b[0m\u001b[0;34m=\u001b[0m\u001b[0;34m'sample'\u001b[0m\u001b[0;34m,\u001b[0m\u001b[0msize\u001b[0m\u001b[0;34m=\u001b[0m\u001b[0;36m0.5\u001b[0m\u001b[0;34m)\u001b[0m\u001b[0;34m\u001b[0m\u001b[0;34m\u001b[0m\u001b[0m\n",
            "\u001b[0;32m/opt/conda/lib/python3.7/site-packages/scanpy/plotting/_anndata.py\u001b[0m in \u001b[0;36mviolin\u001b[0;34m(adata, keys, groupby, log, use_raw, stripplot, jitter, size, layer, scale, order, multi_panel, xlabel, ylabel, rotation, show, save, ax, **kwds)\u001b[0m\n\u001b[1;32m    708\u001b[0m \u001b[0;34m\u001b[0m\u001b[0m\n\u001b[1;32m    709\u001b[0m     \u001b[0;32mif\u001b[0m \u001b[0mgroupby\u001b[0m \u001b[0;32mis\u001b[0m \u001b[0;32mnot\u001b[0m \u001b[0;32mNone\u001b[0m\u001b[0;34m:\u001b[0m\u001b[0;34m\u001b[0m\u001b[0;34m\u001b[0m\u001b[0m\n\u001b[0;32m--> 710\u001b[0;31m         \u001b[0mobs_df\u001b[0m \u001b[0;34m=\u001b[0m \u001b[0mget\u001b[0m\u001b[0;34m.\u001b[0m\u001b[0mobs_df\u001b[0m\u001b[0;34m(\u001b[0m\u001b[0madata\u001b[0m\u001b[0;34m,\u001b[0m \u001b[0mkeys\u001b[0m\u001b[0;34m=\u001b[0m\u001b[0;34m[\u001b[0m\u001b[0mgroupby\u001b[0m\u001b[0;34m]\u001b[0m \u001b[0;34m+\u001b[0m \u001b[0mkeys\u001b[0m\u001b[0;34m,\u001b[0m \u001b[0mlayer\u001b[0m\u001b[0;34m=\u001b[0m\u001b[0mlayer\u001b[0m\u001b[0;34m,\u001b[0m \u001b[0muse_raw\u001b[0m\u001b[0;34m=\u001b[0m\u001b[0muse_raw\u001b[0m\u001b[0;34m)\u001b[0m\u001b[0;34m\u001b[0m\u001b[0;34m\u001b[0m\u001b[0m\n\u001b[0m\u001b[1;32m    711\u001b[0m         \u001b[0;32mif\u001b[0m \u001b[0mkwds\u001b[0m\u001b[0;34m.\u001b[0m\u001b[0mget\u001b[0m\u001b[0;34m(\u001b[0m\u001b[0;34m'palette'\u001b[0m\u001b[0;34m,\u001b[0m \u001b[0;32mNone\u001b[0m\u001b[0;34m)\u001b[0m \u001b[0;32mis\u001b[0m \u001b[0;32mNone\u001b[0m\u001b[0;34m:\u001b[0m\u001b[0;34m\u001b[0m\u001b[0;34m\u001b[0m\u001b[0m\n\u001b[1;32m    712\u001b[0m             \u001b[0;32mif\u001b[0m \u001b[0;32mnot\u001b[0m \u001b[0mis_categorical_dtype\u001b[0m\u001b[0;34m(\u001b[0m\u001b[0madata\u001b[0m\u001b[0;34m.\u001b[0m\u001b[0mobs\u001b[0m\u001b[0;34m[\u001b[0m\u001b[0mgroupby\u001b[0m\u001b[0;34m]\u001b[0m\u001b[0;34m)\u001b[0m\u001b[0;34m:\u001b[0m\u001b[0;34m\u001b[0m\u001b[0;34m\u001b[0m\u001b[0m\n",
            "\u001b[0;32m/opt/conda/lib/python3.7/site-packages/scanpy/get/get.py\u001b[0m in \u001b[0;36mobs_df\u001b[0;34m(adata, keys, obsm_keys, layer, gene_symbols, use_raw)\u001b[0m\n\u001b[1;32m    276\u001b[0m         \u001b[0mkeys\u001b[0m\u001b[0;34m,\u001b[0m\u001b[0;34m\u001b[0m\u001b[0;34m\u001b[0m\u001b[0m\n\u001b[1;32m    277\u001b[0m         \u001b[0malias_index\u001b[0m\u001b[0;34m=\u001b[0m\u001b[0malias_index\u001b[0m\u001b[0;34m,\u001b[0m\u001b[0;34m\u001b[0m\u001b[0;34m\u001b[0m\u001b[0m\n\u001b[0;32m--> 278\u001b[0;31m         \u001b[0muse_raw\u001b[0m\u001b[0;34m=\u001b[0m\u001b[0muse_raw\u001b[0m\u001b[0;34m,\u001b[0m\u001b[0;34m\u001b[0m\u001b[0;34m\u001b[0m\u001b[0m\n\u001b[0m\u001b[1;32m    279\u001b[0m     )\n\u001b[1;32m    280\u001b[0m \u001b[0;34m\u001b[0m\u001b[0m\n",
            "\u001b[0;32m/opt/conda/lib/python3.7/site-packages/scanpy/get/get.py\u001b[0m in \u001b[0;36m_check_indices\u001b[0;34m(dim_df, alt_index, dim, keys, alias_index, use_raw)\u001b[0m\n\u001b[1;32m    166\u001b[0m     \u001b[0;32mif\u001b[0m \u001b[0mlen\u001b[0m\u001b[0;34m(\u001b[0m\u001b[0mnot_found\u001b[0m\u001b[0;34m)\u001b[0m \u001b[0;34m>\u001b[0m \u001b[0;36m0\u001b[0m\u001b[0;34m:\u001b[0m\u001b[0;34m\u001b[0m\u001b[0;34m\u001b[0m\u001b[0m\n\u001b[1;32m    167\u001b[0m         raise KeyError(\n\u001b[0;32m--> 168\u001b[0;31m             \u001b[0;34mf\"Could not find keys '{not_found}' in columns of `adata.{dim}` or in\"\u001b[0m\u001b[0;34m\u001b[0m\u001b[0;34m\u001b[0m\u001b[0m\n\u001b[0m\u001b[1;32m    169\u001b[0m             \u001b[0;34mf\" {alt_repr}.{alt_search_repr}.\"\u001b[0m\u001b[0;34m\u001b[0m\u001b[0;34m\u001b[0m\u001b[0m\n\u001b[1;32m    170\u001b[0m         )\n",
            "\u001b[0;31mKeyError\u001b[0m: \"Could not find keys '['sample']' in columns of `adata.obs` or in adata.var_names.\""
          ]
        }
      ]
    },
    {
      "cell_type": "code",
      "metadata": {
        "id": "K5dLkMUxhZIy",
        "colab": {
          "base_uri": "https://localhost:8080/",
          "height": 696
        },
        "outputId": "2ba2e9fd-20e3-439e-b4a0-ede74cd2f094"
      },
      "source": [
        "savefig=samplename + '_highest_expr_genes.pdf'\n",
        "sc.pl.highest_expr_genes(adata, n_top=40,save=savefig)"
      ],
      "execution_count": null,
      "outputs": [
        {
          "output_type": "stream",
          "text": [
            "normalizing counts per cell\n",
            "    finished (0:00:00)\n",
            "WARNING: saving figure to file figures/highest_expr_genesGex2_highest_expr_genes.pdf\n"
          ],
          "name": "stderr"
        },
        {
          "output_type": "display_data",
          "data": {
            "text/plain": [
              "<Figure size 400x760 with 1 Axes>"
            ],
            "image/png": "[encoded data removed]"
          },
          "metadata": {
            "tags": [],
            "needs_background": "light"
          }
        }
      ]
    },
    {
      "cell_type": "code",
      "metadata": {
        "id": "9QsOgtrziO08"
      },
      "source": [
        "print(adata.obs['sample'].value_counts())"
      ],
      "execution_count": null,
      "outputs": []
    },
    {
      "cell_type": "code",
      "metadata": {
        "id": "pLWFYfqliPZc"
      },
      "source": [
        "adata.obs['n_counts'].sum()/adata.obs['sample'].value_counts()"
      ],
      "execution_count": null,
      "outputs": []
    },
    {
      "cell_type": "code",
      "metadata": {
        "id": "Wui5Vuk9iRDy",
        "colab": {
          "base_uri": "https://localhost:8080/"
        },
        "outputId": "fd0b3ef7-be0c-4bad-f8f7-99a3d7e79909"
      },
      "source": [
        "adata.obs['n_counts'].sum()"
      ],
      "execution_count": null,
      "outputs": [
        {
          "output_type": "execute_result",
          "data": {
            "text/plain": [
              "16294397.0"
            ]
          },
          "metadata": {
            "tags": []
          },
          "execution_count": 28
        }
      ]
    },
    {
      "cell_type": "code",
      "metadata": {
        "id": "vWjIscH6PyzM"
      },
      "source": [
        "adata.var_names_make_unique()"
      ],
      "execution_count": null,
      "outputs": []
    },
    {
      "cell_type": "code",
      "metadata": {
        "id": "DHK5Fd2iPBjn"
      },
      "source": [
        "#sc.pp.downsample_counts(adata, counts_per_cell=180, random_state=0, replace=True)"
      ],
      "execution_count": null,
      "outputs": []
    },
    {
      "cell_type": "markdown",
      "metadata": {
        "id": "5i1X9L0FAwCf"
      },
      "source": [
        "# Filter doublets with scrublet"
      ]
    },
    {
      "cell_type": "code",
      "metadata": {
        "id": "4N7RTihXuWcx",
        "colab": {
          "base_uri": "https://localhost:8080/"
        },
        "outputId": "b9f13106-6450-401a-b0b0-40bf72ef3727"
      },
      "source": [
        "sce.pp.scrublet(adata,\n",
        "    adata_sim = None,\n",
        "    sim_doublet_ratio= 2.0,\n",
        "    expected_doublet_rate = 0.05,\n",
        "    stdev_doublet_rate = 0.02,\n",
        "    synthetic_doublet_umi_subsampling= 1.0,\n",
        "    knn_dist_metric = 'euclidean',\n",
        "    normalize_variance= True,\n",
        "    log_transform= False,\n",
        "    mean_center= True,\n",
        "    n_prin_comps= 30,\n",
        "    use_approx_neighbors= True,\n",
        "    get_doublet_neighbor_parents= False,\n",
        "    n_neighbors = None,\n",
        "    threshold = None,\n",
        "    verbose = True,\n",
        "    copy= False,\n",
        "random_state= 0,)"
      ],
      "execution_count": null,
      "outputs": [
        {
          "output_type": "stream",
          "text": [
            "Running Scrublet\n",
            "filtered out 37089 genes that are detected in less than 3 cells\n",
            "normalizing counts per cell\n",
            "    finished (0:00:00)\n",
            "extracting highly variable genes\n",
            "    finished (0:00:00)\n",
            "--> added\n",
            "    'highly_variable', boolean vector (adata.var)\n",
            "    'means', float vector (adata.var)\n",
            "    'dispersions', float vector (adata.var)\n",
            "    'dispersions_norm', float vector (adata.var)\n",
            "/opt/conda/lib/python3.7/site-packages/scanpy/preprocessing/_normalization.py:138: UserWarning: Revieved a view of an AnnData. Making a copy.\n",
            "normalizing counts per cell\n",
            "    finished (0:00:00)\n",
            "normalizing counts per cell\n",
            "    finished (0:00:00)\n",
            "Embedding transcriptomes using PCA...\n",
            "    Scrublet finished (0:00:12)\n"
          ],
          "name": "stderr"
        },
        {
          "output_type": "stream",
          "text": [
            "Automatically set threshold at doublet score = 0.62\n",
            "Detected doublet rate = 0.0%\n",
            "Estimated detectable doublet fraction = 0.2%\n",
            "Overall doublet rate:\n",
            "\tExpected   = 5.0%\n",
            "\tEstimated  = 0.0%\n"
          ],
          "name": "stdout"
        }
      ]
    },
    {
      "cell_type": "code",
      "metadata": {
        "colab": {
          "base_uri": "https://localhost:8080/",
          "height": 320
        },
        "id": "oQk-hWXVPOTI",
        "outputId": "969db043-6403-47cc-fa84-990dae377bd8"
      },
      "source": [
        "sce.pl.scrublet_score_distribution(adata)"
      ],
      "execution_count": null,
      "outputs": [
        {
          "output_type": "execute_result",
          "data": {
            "text/plain": [
              "(<Figure size 640x240 with 2 Axes>,\n",
              " array([<AxesSubplot:title={'center':'Observed transcriptomes'}, xlabel='Doublet score', ylabel='Prob. density'>,\n",
              "        <AxesSubplot:title={'center':'Simulated doublets'}, xlabel='Doublet score', ylabel='Prob. density'>],\n",
              "       dtype=object))"
            ]
          },
          "metadata": {
            "tags": []
          },
          "execution_count": 91
        },
        {
          "output_type": "display_data",
          "data": {
            "text/plain": [
              "<Figure size 640x240 with 2 Axes>"
            ],
            "image/png": "[encoded data removed]"
          },
          "metadata": {
            "tags": [],
            "needs_background": "light"
          }
        }
      ]
    },
    {
      "cell_type": "markdown",
      "metadata": {
        "id": "Vh41UlfrQSnj"
      },
      "source": [
        "## remove doublets"
      ]
    },
    {
      "cell_type": "code",
      "metadata": {
        "id": "gZdb-0PpA8I2",
        "colab": {
          "base_uri": "https://localhost:8080/"
        },
        "outputId": "08b5b2d8-c022-4776-be1e-715faf130c23"
      },
      "source": [
        "adata2 = adata[adata.obs.predicted_doublet == False]\n",
        "adata2"
      ],
      "execution_count": null,
      "outputs": [
        {
          "output_type": "execute_result",
          "data": {
            "text/plain": [
              "View of AnnData object with n_obs × n_vars = 12949 × 60671\n",
              "    obs: 'batch', 'n_counts', 'log_counts', 'n_genes', 'mt_frac', 'n_genes_by_counts', 'log1p_n_genes_by_counts', 'total_counts', 'log1p_total_counts', 'pct_counts_in_top_50_genes', 'pct_counts_in_top_100_genes', 'pct_counts_in_top_200_genes', 'pct_counts_in_top_500_genes', 'total_counts_mito', 'log1p_total_counts_mito', 'pct_counts_mito', 'doublet_score', 'predicted_doublet'\n",
              "    var: 'gene_name', 'mito', 'n_cells_by_counts', 'mean_counts', 'log1p_mean_counts', 'pct_dropout_by_counts', 'total_counts', 'log1p_total_counts'\n",
              "    uns: 'scrublet'\n",
              "    layers: 'spliced', 'unspliced'"
            ]
          },
          "metadata": {
            "tags": []
          },
          "execution_count": 31
        }
      ]
    },
    {
      "cell_type": "markdown",
      "metadata": {
        "id": "V_IUOeyDb7j2"
      },
      "source": [
        "## Export H5AD"
      ]
    },
    {
      "cell_type": "code",
      "metadata": {
        "id": "h7CUss6bb_gv"
      },
      "source": [
        "clean=samplename+\"_clean.h5ad\"\n",
        "adata.write(clean)\n",
        "\n"
      ],
      "execution_count": null,
      "outputs": []
    },
    {
      "cell_type": "code",
      "metadata": {
        "id": "TNUh345It9D3"
      },
      "source": [
        "clean_Ndoublets=samplename+\"_clean_noDoublets.h5ad\"\n",
        "adata2.write(clean_Ndoublets)"
      ],
      "execution_count": null,
      "outputs": []
    },
    {
      "cell_type": "markdown",
      "metadata": {
        "id": "sLc11646_azB"
      },
      "source": [
        "# Tagging with HTO"
      ]
    },
    {
      "cell_type": "code",
      "metadata": {
        "colab": {
          "base_uri": "https://localhost:8080/"
        },
        "id": "L48PhrHbThZs",
        "outputId": "10edc13e-15ee-427e-f533-47883f747bad"
      },
      "source": [
        "HTO=sc.read('/home/jupyter/bucket/AD_Final/Aligned/HTO2/counts_unfiltered/adata.h5ad')\n",
        "HTO"
      ],
      "execution_count": null,
      "outputs": [
        {
          "output_type": "execute_result",
          "data": {
            "text/plain": [
              "AnnData object with n_obs × n_vars = 2131303 × 10\n",
              "    var: 'feature_name'"
            ]
          },
          "metadata": {
            "tags": []
          },
          "execution_count": 76
        }
      ]
    },
    {
      "cell_type": "code",
      "metadata": {
        "colab": {
          "base_uri": "https://localhost:8080/"
        },
        "id": "1Xbi6mtF-pV6",
        "outputId": "285c4fb5-2f6e-4f8f-d92e-a8e9b425856e"
      },
      "source": [
        "HTO_clean=HTO[HTO.obs_names.isin(adata.obs.index)].copy()\n",
        "HTO_clean"
      ],
      "execution_count": null,
      "outputs": [
        {
          "output_type": "execute_result",
          "data": {
            "text/plain": [
              "AnnData object with n_obs × n_vars = 10841 × 10\n",
              "    var: 'feature_name'"
            ]
          },
          "metadata": {
            "tags": []
          },
          "execution_count": 77
        }
      ]
    },
    {
      "cell_type": "code",
      "metadata": {
        "id": "2EnoN9KN-pYB"
      },
      "source": [
        "clean=samplename+\"_clean_HTO.h5ad\"\n",
        "HTO_clean.write(clean)"
      ],
      "execution_count": null,
      "outputs": []
    },
    {
      "cell_type": "code",
      "metadata": {
        "colab": {
          "base_uri": "https://localhost:8080/"
        },
        "id": "HcB87AVQvXBt",
        "outputId": "6d7a00a5-7eee-450c-a884-617a84001b15"
      },
      "source": [
        "adata=adata[adata.obs_names.isin(HTO_clean.obs.index)].copy()\n",
        "adata"
      ],
      "execution_count": null,
      "outputs": [
        {
          "output_type": "execute_result",
          "data": {
            "text/plain": [
              "AnnData object with n_obs × n_vars = 10841 × 60671\n",
              "    obs: 'n_counts', 'log_counts', 'n_genes', 'mt_frac', 'n_genes_by_counts', 'log1p_n_genes_by_counts', 'total_counts', 'log1p_total_counts', 'pct_counts_in_top_50_genes', 'pct_counts_in_top_100_genes', 'pct_counts_in_top_200_genes', 'pct_counts_in_top_500_genes', 'total_counts_mito', 'log1p_total_counts_mito', 'pct_counts_mito'\n",
              "    var: 'gene_name', 'mito', 'n_cells_by_counts', 'mean_counts', 'log1p_mean_counts', 'pct_dropout_by_counts', 'total_counts', 'log1p_total_counts'\n",
              "    layers: 'spliced', 'unspliced'"
            ]
          },
          "metadata": {
            "tags": []
          },
          "execution_count": 79
        }
      ]
    },
    {
      "cell_type": "markdown",
      "metadata": {
        "id": "70CO_1OPAUr4"
      },
      "source": [
        "# tagging with hashsolo"
      ]
    },
    {
      "cell_type": "code",
      "metadata": {
        "colab": {
          "base_uri": "https://localhost:8080/"
        },
        "id": "xgdUFDdz-phK",
        "outputId": "e126e100-6ce6-4691-9a6b-eb1fb3f6d49d"
      },
      "source": [
        "adata=sc.read('Gex2_clean.h5ad')\n",
        "adata"
      ],
      "execution_count": null,
      "outputs": [
        {
          "output_type": "execute_result",
          "data": {
            "text/plain": [
              "AnnData object with n_obs × n_vars = 12951 × 60671\n",
              "    obs: 'batch', 'n_counts', 'log_counts', 'n_genes', 'mt_frac', 'n_genes_by_counts', 'log1p_n_genes_by_counts', 'total_counts', 'log1p_total_counts', 'pct_counts_in_top_50_genes', 'pct_counts_in_top_100_genes', 'pct_counts_in_top_200_genes', 'pct_counts_in_top_500_genes', 'total_counts_mito', 'log1p_total_counts_mito', 'pct_counts_mito', 'doublet_score', 'predicted_doublet'\n",
              "    var: 'gene_name', 'mito', 'n_cells_by_counts', 'mean_counts', 'log1p_mean_counts', 'pct_dropout_by_counts', 'total_counts', 'log1p_total_counts'\n",
              "    uns: 'scrublet'\n",
              "    layers: 'spliced', 'unspliced'"
            ]
          },
          "metadata": {
            "tags": []
          },
          "execution_count": 38
        }
      ]
    },
    {
      "cell_type": "code",
      "metadata": {
        "colab": {
          "base_uri": "https://localhost:8080/"
        },
        "id": "H4c7wXDX-pkm",
        "outputId": "d64b78ea-5a74-45ca-f62b-2f9a1ece1635"
      },
      "source": [
        "HTO=sc.read('Gex2_clean_HTO.h5ad')\n",
        "HTO"
      ],
      "execution_count": null,
      "outputs": [
        {
          "output_type": "execute_result",
          "data": {
            "text/plain": [
              "AnnData object with n_obs × n_vars = 10841 × 10\n",
              "    var: 'feature_name'"
            ]
          },
          "metadata": {
            "tags": []
          },
          "execution_count": 80
        }
      ]
    },
    {
      "cell_type": "code",
      "metadata": {
        "colab": {
          "base_uri": "https://localhost:8080/"
        },
        "id": "FN-Kn-PdBlHE",
        "outputId": "75a8fcae-5dcb-42cb-9c23-942f8937382b"
      },
      "source": [
        "sc.pp.filter_genes(HTO, min_counts=1e4)\n",
        "HTO.var_names"
      ],
      "execution_count": null,
      "outputs": [
        {
          "output_type": "stream",
          "text": [
            "filtered out 6 genes that are detected in less than 10000.0 counts\n"
          ],
          "name": "stderr"
        },
        {
          "output_type": "execute_result",
          "data": {
            "text/plain": [
              "Index(['HumanHTO1', 'HumanHTO2', 'HumanHTO3', 'HumanHTO4'], dtype='object', name='feature_id')"
            ]
          },
          "metadata": {
            "tags": []
          },
          "execution_count": 81
        }
      ]
    },
    {
      "cell_type": "code",
      "metadata": {
        "colab": {
          "base_uri": "https://localhost:8080/",
          "height": 436
        },
        "id": "mQX-9dYjLXye",
        "outputId": "7d3588a8-83ed-417d-a29f-09aa11b3de62"
      },
      "source": [
        "dfdata=pd.DataFrame(HTO.X.toarray(),index=adata.obs.index)\n",
        "dfdata.columns = ['AD8_C_T_CT',\t'AD8_H_T_HT',\t'AD20_C_R_CR',\t'AD20_H_R_HR']\n",
        "HTO.obs=dfdata\n",
        "HTO.obs"
      ],
      "execution_count": null,
      "outputs": [
        {
          "output_type": "execute_result",
          "data": {
            "text/plain": [
              "                  AD8_C_T_CT  AD8_H_T_HT  AD20_C_R_CR  AD20_H_R_HR\n",
              "barcode                                                           \n",
              "AAACCCAAGCAGATAT       110.0       104.0         53.0         81.0\n",
              "AAACCCAAGCTCGCAC       138.0       159.0        168.0         68.0\n",
              "AAACCCAAGGCCACCT       332.0       614.0        527.0         76.0\n",
              "AAACCCACACACCAGC        38.0       190.0         62.0         67.0\n",
              "AAACCCAGTAACAGGC        37.0       198.0         87.0         69.0\n",
              "...                      ...         ...          ...          ...\n",
              "TTTGTTGTCAAGCTGT        67.0       205.0        100.0        125.0\n",
              "TTTGTTGTCACCGCTT        46.0       150.0        148.0         69.0\n",
              "TTTGTTGTCCACTTTA       120.0       457.0        274.0        170.0\n",
              "TTTGTTGTCCCAGTGG       180.0       284.0        172.0        113.0\n",
              "TTTGTTGTCGAGCTGC        49.0       128.0         65.0         79.0\n",
              "\n",
              "[10841 rows x 4 columns]"
            ],
            "text/html": [
              "<div>\n",
              "<style scoped>\n",
              "    .dataframe tbody tr th:only-of-type {\n",
              "        vertical-align: middle;\n",
              "    }\n",
              "\n",
              "    .dataframe tbody tr th {\n",
              "        vertical-align: top;\n",
              "    }\n",
              "\n",
              "    .dataframe thead th {\n",
              "        text-align: right;\n",
              "    }\n",
              "</style>\n",
              "<table border=\"1\" class=\"dataframe\">\n",
              "  <thead>\n",
              "    <tr style=\"text-align: right;\">\n",
              "      <th></th>\n",
              "      <th>AD8_C_T_CT</th>\n",
              "      <th>AD8_H_T_HT</th>\n",
              "      <th>AD20_C_R_CR</th>\n",
              "      <th>AD20_H_R_HR</th>\n",
              "    </tr>\n",
              "    <tr>\n",
              "      <th>barcode</th>\n",
              "      <th></th>\n",
              "      <th></th>\n",
              "      <th></th>\n",
              "      <th></th>\n",
              "    </tr>\n",
              "  </thead>\n",
              "  <tbody>\n",
              "    <tr>\n",
              "      <th>AAACCCAAGCAGATAT</th>\n",
              "      <td>110.0</td>\n",
              "      <td>104.0</td>\n",
              "      <td>53.0</td>\n",
              "      <td>81.0</td>\n",
              "    </tr>\n",
              "    <tr>\n",
              "      <th>AAACCCAAGCTCGCAC</th>\n",
              "      <td>138.0</td>\n",
              "      <td>159.0</td>\n",
              "      <td>168.0</td>\n",
              "      <td>68.0</td>\n",
              "    </tr>\n",
              "    <tr>\n",
              "      <th>AAACCCAAGGCCACCT</th>\n",
              "      <td>332.0</td>\n",
              "      <td>614.0</td>\n",
              "      <td>527.0</td>\n",
              "      <td>76.0</td>\n",
              "    </tr>\n",
              "    <tr>\n",
              "      <th>AAACCCACACACCAGC</th>\n",
              "      <td>38.0</td>\n",
              "      <td>190.0</td>\n",
              "      <td>62.0</td>\n",
              "      <td>67.0</td>\n",
              "    </tr>\n",
              "    <tr>\n",
              "      <th>AAACCCAGTAACAGGC</th>\n",
              "      <td>37.0</td>\n",
              "      <td>198.0</td>\n",
              "      <td>87.0</td>\n",
              "      <td>69.0</td>\n",
              "    </tr>\n",
              "    <tr>\n",
              "      <th>...</th>\n",
              "      <td>...</td>\n",
              "      <td>...</td>\n",
              "      <td>...</td>\n",
              "      <td>...</td>\n",
              "    </tr>\n",
              "    <tr>\n",
              "      <th>TTTGTTGTCAAGCTGT</th>\n",
              "      <td>67.0</td>\n",
              "      <td>205.0</td>\n",
              "      <td>100.0</td>\n",
              "      <td>125.0</td>\n",
              "    </tr>\n",
              "    <tr>\n",
              "      <th>TTTGTTGTCACCGCTT</th>\n",
              "      <td>46.0</td>\n",
              "      <td>150.0</td>\n",
              "      <td>148.0</td>\n",
              "      <td>69.0</td>\n",
              "    </tr>\n",
              "    <tr>\n",
              "      <th>TTTGTTGTCCACTTTA</th>\n",
              "      <td>120.0</td>\n",
              "      <td>457.0</td>\n",
              "      <td>274.0</td>\n",
              "      <td>170.0</td>\n",
              "    </tr>\n",
              "    <tr>\n",
              "      <th>TTTGTTGTCCCAGTGG</th>\n",
              "      <td>180.0</td>\n",
              "      <td>284.0</td>\n",
              "      <td>172.0</td>\n",
              "      <td>113.0</td>\n",
              "    </tr>\n",
              "    <tr>\n",
              "      <th>TTTGTTGTCGAGCTGC</th>\n",
              "      <td>49.0</td>\n",
              "      <td>128.0</td>\n",
              "      <td>65.0</td>\n",
              "      <td>79.0</td>\n",
              "    </tr>\n",
              "  </tbody>\n",
              "</table>\n",
              "<p>10841 rows × 4 columns</p>\n",
              "</div>"
            ]
          },
          "metadata": {
            "tags": []
          },
          "execution_count": 82
        }
      ]
    },
    {
      "cell_type": "code",
      "metadata": {
        "id": "NrEw0fz5BKjP"
      },
      "source": [
        "import scanpy.external as sce"
      ],
      "execution_count": null,
      "outputs": []
    },
    {
      "cell_type": "code",
      "metadata": {
        "colab": {
          "base_uri": "https://localhost:8080/"
        },
        "id": "DexQFjoBGGz2",
        "outputId": "ce442758-368f-4ce3-b666-35d42fa2b73b"
      },
      "source": [
        "#scanpy.external.pp.hashsolo(adata, cell_hashing_columns, priors=[0.01, 0.8, 0.19], pre_existing_clusters=None, number_of_noise_barcodes=2, inplace=True)\n",
        "sce.pp.hashsolo(HTO, ['AD8_C_T_CT',\t'AD8_H_T_HT',\t'AD20_C_R_CR',\t'AD20_H_R_HR'])"
      ],
      "execution_count": null,
      "outputs": [
        {
          "output_type": "stream",
          "text": [
            "Please cite HashSolo paper:\n",
            "https://www.cell.com/cell-systems/fulltext/S2405-4712(20)30195-2\n"
          ],
          "name": "stdout"
        }
      ]
    },
    {
      "cell_type": "code",
      "metadata": {
        "colab": {
          "base_uri": "https://localhost:8080/",
          "height": 456
        },
        "id": "3OgUAQFpHOZX",
        "outputId": "e1db7ebe-4dda-47fb-ee1c-36fe7587d371"
      },
      "source": [
        "HTO.obs"
      ],
      "execution_count": null,
      "outputs": [
        {
          "output_type": "execute_result",
          "data": {
            "text/plain": [
              "                  AD8_C_T_CT  AD8_H_T_HT  AD20_C_R_CR  AD20_H_R_HR  \\\n",
              "barcode                                                              \n",
              "AAACCCAAGCAGATAT       110.0       104.0         53.0         81.0   \n",
              "AAACCCAAGCTCGCAC       138.0       159.0        168.0         68.0   \n",
              "AAACCCAAGGCCACCT       332.0       614.0        527.0         76.0   \n",
              "AAACCCACACACCAGC        38.0       190.0         62.0         67.0   \n",
              "AAACCCAGTAACAGGC        37.0       198.0         87.0         69.0   \n",
              "...                      ...         ...          ...          ...   \n",
              "TTTGTTGTCAAGCTGT        67.0       205.0        100.0        125.0   \n",
              "TTTGTTGTCACCGCTT        46.0       150.0        148.0         69.0   \n",
              "TTTGTTGTCCACTTTA       120.0       457.0        274.0        170.0   \n",
              "TTTGTTGTCCCAGTGG       180.0       284.0        172.0        113.0   \n",
              "TTTGTTGTCGAGCTGC        49.0       128.0         65.0         79.0   \n",
              "\n",
              "                  most_likely_hypothesis  cluster_feature  \\\n",
              "barcode                                                     \n",
              "AAACCCAAGCAGATAT                       1                0   \n",
              "AAACCCAAGCTCGCAC                       1                0   \n",
              "AAACCCAAGGCCACCT                       2                0   \n",
              "AAACCCACACACCAGC                       1                0   \n",
              "AAACCCAGTAACAGGC                       1                0   \n",
              "...                                  ...              ...   \n",
              "TTTGTTGTCAAGCTGT                       1                0   \n",
              "TTTGTTGTCACCGCTT                       1                0   \n",
              "TTTGTTGTCCACTTTA                       1                0   \n",
              "TTTGTTGTCCCAGTGG                       1                0   \n",
              "TTTGTTGTCGAGCTGC                       1                0   \n",
              "\n",
              "                  negative_hypothesis_probability  \\\n",
              "barcode                                             \n",
              "AAACCCAAGCAGATAT                         0.014397   \n",
              "AAACCCAAGCTCGCAC                         0.036412   \n",
              "AAACCCAAGGCCACCT                         0.000003   \n",
              "AAACCCACACACCAGC                         0.011935   \n",
              "AAACCCAGTAACAGGC                         0.008876   \n",
              "...                                           ...   \n",
              "TTTGTTGTCAAGCTGT                         0.009073   \n",
              "TTTGTTGTCACCGCTT                         0.021920   \n",
              "TTTGTTGTCCACTTTA                         0.000174   \n",
              "TTTGTTGTCCCAGTGG                         0.000815   \n",
              "TTTGTTGTCGAGCTGC                         0.038929   \n",
              "\n",
              "                  singlet_hypothesis_probability  \\\n",
              "barcode                                            \n",
              "AAACCCAAGCAGATAT                        0.817035   \n",
              "AAACCCAAGCTCGCAC                        0.828259   \n",
              "AAACCCAAGGCCACCT                        0.034005   \n",
              "AAACCCACACACCAGC                        0.976200   \n",
              "AAACCCAGTAACAGGC                        0.986194   \n",
              "...                                          ...   \n",
              "TTTGTTGTCAAGCTGT                        0.956935   \n",
              "TTTGTTGTCACCGCTT                        0.936954   \n",
              "TTTGTTGTCCACTTTA                        0.552632   \n",
              "TTTGTTGTCCCAGTGG                        0.799893   \n",
              "TTTGTTGTCGAGCTGC                        0.947136   \n",
              "\n",
              "                  doublet_hypothesis_probability Classification  \n",
              "barcode                                                          \n",
              "AAACCCAAGCAGATAT                        0.168568     AD8_C_T_CT  \n",
              "AAACCCAAGCTCGCAC                        0.135328    AD20_C_R_CR  \n",
              "AAACCCAAGGCCACCT                        0.965992        Doublet  \n",
              "AAACCCACACACCAGC                        0.011865     AD8_H_T_HT  \n",
              "AAACCCAGTAACAGGC                        0.004930     AD8_H_T_HT  \n",
              "...                                          ...            ...  \n",
              "TTTGTTGTCAAGCTGT                        0.033992     AD8_H_T_HT  \n",
              "TTTGTTGTCACCGCTT                        0.041126     AD8_H_T_HT  \n",
              "TTTGTTGTCCACTTTA                        0.447195     AD8_H_T_HT  \n",
              "TTTGTTGTCCCAGTGG                        0.199292     AD8_H_T_HT  \n",
              "TTTGTTGTCGAGCTGC                        0.013935     AD8_H_T_HT  \n",
              "\n",
              "[10841 rows x 10 columns]"
            ],
            "text/html": [
              "<div>\n",
              "<style scoped>\n",
              "    .dataframe tbody tr th:only-of-type {\n",
              "        vertical-align: middle;\n",
              "    }\n",
              "\n",
              "    .dataframe tbody tr th {\n",
              "        vertical-align: top;\n",
              "    }\n",
              "\n",
              "    .dataframe thead th {\n",
              "        text-align: right;\n",
              "    }\n",
              "</style>\n",
              "<table border=\"1\" class=\"dataframe\">\n",
              "  <thead>\n",
              "    <tr style=\"text-align: right;\">\n",
              "      <th></th>\n",
              "      <th>AD8_C_T_CT</th>\n",
              "      <th>AD8_H_T_HT</th>\n",
              "      <th>AD20_C_R_CR</th>\n",
              "      <th>AD20_H_R_HR</th>\n",
              "      <th>most_likely_hypothesis</th>\n",
              "      <th>cluster_feature</th>\n",
              "      <th>negative_hypothesis_probability</th>\n",
              "      <th>singlet_hypothesis_probability</th>\n",
              "      <th>doublet_hypothesis_probability</th>\n",
              "      <th>Classification</th>\n",
              "    </tr>\n",
              "    <tr>\n",
              "      <th>barcode</th>\n",
              "      <th></th>\n",
              "      <th></th>\n",
              "      <th></th>\n",
              "      <th></th>\n",
              "      <th></th>\n",
              "      <th></th>\n",
              "      <th></th>\n",
              "      <th></th>\n",
              "      <th></th>\n",
              "      <th></th>\n",
              "    </tr>\n",
              "  </thead>\n",
              "  <tbody>\n",
              "    <tr>\n",
              "      <th>AAACCCAAGCAGATAT</th>\n",
              "      <td>110.0</td>\n",
              "      <td>104.0</td>\n",
              "      <td>53.0</td>\n",
              "      <td>81.0</td>\n",
              "      <td>1</td>\n",
              "      <td>0</td>\n",
              "      <td>0.014397</td>\n",
              "      <td>0.817035</td>\n",
              "      <td>0.168568</td>\n",
              "      <td>AD8_C_T_CT</td>\n",
              "    </tr>\n",
              "    <tr>\n",
              "      <th>AAACCCAAGCTCGCAC</th>\n",
              "      <td>138.0</td>\n",
              "      <td>159.0</td>\n",
              "      <td>168.0</td>\n",
              "      <td>68.0</td>\n",
              "      <td>1</td>\n",
              "      <td>0</td>\n",
              "      <td>0.036412</td>\n",
              "      <td>0.828259</td>\n",
              "      <td>0.135328</td>\n",
              "      <td>AD20_C_R_CR</td>\n",
              "    </tr>\n",
              "    <tr>\n",
              "      <th>AAACCCAAGGCCACCT</th>\n",
              "      <td>332.0</td>\n",
              "      <td>614.0</td>\n",
              "      <td>527.0</td>\n",
              "      <td>76.0</td>\n",
              "      <td>2</td>\n",
              "      <td>0</td>\n",
              "      <td>0.000003</td>\n",
              "      <td>0.034005</td>\n",
              "      <td>0.965992</td>\n",
              "      <td>Doublet</td>\n",
              "    </tr>\n",
              "    <tr>\n",
              "      <th>AAACCCACACACCAGC</th>\n",
              "      <td>38.0</td>\n",
              "      <td>190.0</td>\n",
              "      <td>62.0</td>\n",
              "      <td>67.0</td>\n",
              "      <td>1</td>\n",
              "      <td>0</td>\n",
              "      <td>0.011935</td>\n",
              "      <td>0.976200</td>\n",
              "      <td>0.011865</td>\n",
              "      <td>AD8_H_T_HT</td>\n",
              "    </tr>\n",
              "    <tr>\n",
              "      <th>AAACCCAGTAACAGGC</th>\n",
              "      <td>37.0</td>\n",
              "      <td>198.0</td>\n",
              "      <td>87.0</td>\n",
              "      <td>69.0</td>\n",
              "      <td>1</td>\n",
              "      <td>0</td>\n",
              "      <td>0.008876</td>\n",
              "      <td>0.986194</td>\n",
              "      <td>0.004930</td>\n",
              "      <td>AD8_H_T_HT</td>\n",
              "    </tr>\n",
              "    <tr>\n",
              "      <th>...</th>\n",
              "      <td>...</td>\n",
              "      <td>...</td>\n",
              "      <td>...</td>\n",
              "      <td>...</td>\n",
              "      <td>...</td>\n",
              "      <td>...</td>\n",
              "      <td>...</td>\n",
              "      <td>...</td>\n",
              "      <td>...</td>\n",
              "      <td>...</td>\n",
              "    </tr>\n",
              "    <tr>\n",
              "      <th>TTTGTTGTCAAGCTGT</th>\n",
              "      <td>67.0</td>\n",
              "      <td>205.0</td>\n",
              "      <td>100.0</td>\n",
              "      <td>125.0</td>\n",
              "      <td>1</td>\n",
              "      <td>0</td>\n",
              "      <td>0.009073</td>\n",
              "      <td>0.956935</td>\n",
              "      <td>0.033992</td>\n",
              "      <td>AD8_H_T_HT</td>\n",
              "    </tr>\n",
              "    <tr>\n",
              "      <th>TTTGTTGTCACCGCTT</th>\n",
              "      <td>46.0</td>\n",
              "      <td>150.0</td>\n",
              "      <td>148.0</td>\n",
              "      <td>69.0</td>\n",
              "      <td>1</td>\n",
              "      <td>0</td>\n",
              "      <td>0.021920</td>\n",
              "      <td>0.936954</td>\n",
              "      <td>0.041126</td>\n",
              "      <td>AD8_H_T_HT</td>\n",
              "    </tr>\n",
              "    <tr>\n",
              "      <th>TTTGTTGTCCACTTTA</th>\n",
              "      <td>120.0</td>\n",
              "      <td>457.0</td>\n",
              "      <td>274.0</td>\n",
              "      <td>170.0</td>\n",
              "      <td>1</td>\n",
              "      <td>0</td>\n",
              "      <td>0.000174</td>\n",
              "      <td>0.552632</td>\n",
              "      <td>0.447195</td>\n",
              "      <td>AD8_H_T_HT</td>\n",
              "    </tr>\n",
              "    <tr>\n",
              "      <th>TTTGTTGTCCCAGTGG</th>\n",
              "      <td>180.0</td>\n",
              "      <td>284.0</td>\n",
              "      <td>172.0</td>\n",
              "      <td>113.0</td>\n",
              "      <td>1</td>\n",
              "      <td>0</td>\n",
              "      <td>0.000815</td>\n",
              "      <td>0.799893</td>\n",
              "      <td>0.199292</td>\n",
              "      <td>AD8_H_T_HT</td>\n",
              "    </tr>\n",
              "    <tr>\n",
              "      <th>TTTGTTGTCGAGCTGC</th>\n",
              "      <td>49.0</td>\n",
              "      <td>128.0</td>\n",
              "      <td>65.0</td>\n",
              "      <td>79.0</td>\n",
              "      <td>1</td>\n",
              "      <td>0</td>\n",
              "      <td>0.038929</td>\n",
              "      <td>0.947136</td>\n",
              "      <td>0.013935</td>\n",
              "      <td>AD8_H_T_HT</td>\n",
              "    </tr>\n",
              "  </tbody>\n",
              "</table>\n",
              "<p>10841 rows × 10 columns</p>\n",
              "</div>"
            ]
          },
          "metadata": {
            "tags": []
          },
          "execution_count": 85
        }
      ]
    },
    {
      "cell_type": "code",
      "metadata": {
        "colab": {
          "base_uri": "https://localhost:8080/",
          "height": 456
        },
        "id": "cah2gRilGjHp",
        "outputId": "230bf016-2e92-4235-98fb-e60c26dcdd2a"
      },
      "source": [
        "adata.obs['sample'] = HTO.obs['Classification']\n",
        "adata.obs"
      ],
      "execution_count": null,
      "outputs": [
        {
          "output_type": "execute_result",
          "data": {
            "text/plain": [
              "                  n_counts  log_counts  n_genes  mt_frac  n_genes_by_counts  \\\n",
              "barcode                                                                       \n",
              "AAACCCAAGCAGATAT     815.0    6.703188      350      0.0                350   \n",
              "AAACCCAAGCTCGCAC    1651.0    7.409136      769      0.0                769   \n",
              "AAACCCAAGGCCACCT    1173.0    7.067320      420      0.0                420   \n",
              "AAACCCACACACCAGC    1165.0    7.060476      546      0.0                546   \n",
              "AAACCCAGTAACAGGC    1156.0    7.052721      539      0.0                539   \n",
              "...                    ...         ...      ...      ...                ...   \n",
              "TTTGTTGTCAAGCTGT    2313.0    7.746301     1100      0.0               1100   \n",
              "TTTGTTGTCACCGCTT     668.0    6.504288      342      0.0                342   \n",
              "TTTGTTGTCCACTTTA    2737.0    7.914618     1290      0.0               1290   \n",
              "TTTGTTGTCCCAGTGG     806.0    6.692084      336      0.0                336   \n",
              "TTTGTTGTCGAGCTGC     619.0    6.428105      318      0.0                318   \n",
              "\n",
              "                  log1p_n_genes_by_counts  total_counts  log1p_total_counts  \\\n",
              "barcode                                                                       \n",
              "AAACCCAAGCAGATAT                 5.860786         815.0            6.704414   \n",
              "AAACCCAAGCTCGCAC                 6.646391        1651.0            7.409742   \n",
              "AAACCCAAGGCCACCT                 6.042633        1173.0            7.068172   \n",
              "AAACCCACACACCAGC                 6.304449        1165.0            7.061335   \n",
              "AAACCCAGTAACAGGC                 6.291569        1156.0            7.053586   \n",
              "...                                   ...           ...                 ...   \n",
              "TTTGTTGTCAAGCTGT                 7.003974        2313.0            7.746733   \n",
              "TTTGTTGTCACCGCTT                 5.837730         668.0            6.505784   \n",
              "TTTGTTGTCCACTTTA                 7.163172        2737.0            7.914983   \n",
              "TTTGTTGTCCCAGTGG                 5.820083         806.0            6.693324   \n",
              "TTTGTTGTCGAGCTGC                 5.765191         619.0            6.429719   \n",
              "\n",
              "                  pct_counts_in_top_50_genes  pct_counts_in_top_100_genes  \\\n",
              "barcode                                                                     \n",
              "AAACCCAAGCAGATAT                   56.687117                    69.202454   \n",
              "AAACCCAAGCTCGCAC                   40.944882                    50.514839   \n",
              "AAACCCAAGGCCACCT                   64.194373                    72.719523   \n",
              "AAACCCACACACCAGC                   48.841202                    57.854077   \n",
              "AAACCCAGTAACAGGC                   47.750865                    57.871972   \n",
              "...                                      ...                          ...   \n",
              "TTTGTTGTCAAGCTGT                   35.019455                    43.968872   \n",
              "TTTGTTGTCACCGCTT                   50.149701                    63.772455   \n",
              "TTTGTTGTCCACTTTA                   34.380709                    41.541834   \n",
              "TTTGTTGTCCCAGTGG                   59.305211                    70.719603   \n",
              "TTTGTTGTCGAGCTGC                   50.888530                    64.781906   \n",
              "\n",
              "                  pct_counts_in_top_200_genes  pct_counts_in_top_500_genes  \\\n",
              "barcode                                                                      \n",
              "AAACCCAAGCAGATAT                    81.595092                   100.000000   \n",
              "AAACCCAAGCTCGCAC                    62.992126                    83.706844   \n",
              "AAACCCAAGGCCACCT                    81.244672                   100.000000   \n",
              "AAACCCACACACCAGC                    70.300429                    96.051502   \n",
              "AAACCCAGTAACAGGC                    70.674740                    96.626298   \n",
              "...                                       ...                          ...   \n",
              "TTTGTTGTCAAGCTGT                    55.036749                    74.059663   \n",
              "TTTGTTGTCACCGCTT                    78.742515                   100.000000   \n",
              "TTTGTTGTCCACTTTA                    52.466204                    71.136281   \n",
              "TTTGTTGTCCCAGTGG                    83.126551                   100.000000   \n",
              "TTTGTTGTCGAGCTGC                    80.936995                   100.000000   \n",
              "\n",
              "                  total_counts_mito  log1p_total_counts_mito  pct_counts_mito  \\\n",
              "barcode                                                                         \n",
              "AAACCCAAGCAGATAT                0.0                      0.0              0.0   \n",
              "AAACCCAAGCTCGCAC                0.0                      0.0              0.0   \n",
              "AAACCCAAGGCCACCT                0.0                      0.0              0.0   \n",
              "AAACCCACACACCAGC                0.0                      0.0              0.0   \n",
              "AAACCCAGTAACAGGC                0.0                      0.0              0.0   \n",
              "...                             ...                      ...              ...   \n",
              "TTTGTTGTCAAGCTGT                0.0                      0.0              0.0   \n",
              "TTTGTTGTCACCGCTT                0.0                      0.0              0.0   \n",
              "TTTGTTGTCCACTTTA                0.0                      0.0              0.0   \n",
              "TTTGTTGTCCCAGTGG                0.0                      0.0              0.0   \n",
              "TTTGTTGTCGAGCTGC                0.0                      0.0              0.0   \n",
              "\n",
              "                       sample  \n",
              "barcode                        \n",
              "AAACCCAAGCAGATAT   AD8_C_T_CT  \n",
              "AAACCCAAGCTCGCAC  AD20_C_R_CR  \n",
              "AAACCCAAGGCCACCT      Doublet  \n",
              "AAACCCACACACCAGC   AD8_H_T_HT  \n",
              "AAACCCAGTAACAGGC   AD8_H_T_HT  \n",
              "...                       ...  \n",
              "TTTGTTGTCAAGCTGT   AD8_H_T_HT  \n",
              "TTTGTTGTCACCGCTT   AD8_H_T_HT  \n",
              "TTTGTTGTCCACTTTA   AD8_H_T_HT  \n",
              "TTTGTTGTCCCAGTGG   AD8_H_T_HT  \n",
              "TTTGTTGTCGAGCTGC   AD8_H_T_HT  \n",
              "\n",
              "[10841 rows x 16 columns]"
            ],
            "text/html": [
              "<div>\n",
              "<style scoped>\n",
              "    .dataframe tbody tr th:only-of-type {\n",
              "        vertical-align: middle;\n",
              "    }\n",
              "\n",
              "    .dataframe tbody tr th {\n",
              "        vertical-align: top;\n",
              "    }\n",
              "\n",
              "    .dataframe thead th {\n",
              "        text-align: right;\n",
              "    }\n",
              "</style>\n",
              "<table border=\"1\" class=\"dataframe\">\n",
              "  <thead>\n",
              "    <tr style=\"text-align: right;\">\n",
              "      <th></th>\n",
              "      <th>n_counts</th>\n",
              "      <th>log_counts</th>\n",
              "      <th>n_genes</th>\n",
              "      <th>mt_frac</th>\n",
              "      <th>n_genes_by_counts</th>\n",
              "      <th>log1p_n_genes_by_counts</th>\n",
              "      <th>total_counts</th>\n",
              "      <th>log1p_total_counts</th>\n",
              "      <th>pct_counts_in_top_50_genes</th>\n",
              "      <th>pct_counts_in_top_100_genes</th>\n",
              "      <th>pct_counts_in_top_200_genes</th>\n",
              "      <th>pct_counts_in_top_500_genes</th>\n",
              "      <th>total_counts_mito</th>\n",
              "      <th>log1p_total_counts_mito</th>\n",
              "      <th>pct_counts_mito</th>\n",
              "      <th>sample</th>\n",
              "    </tr>\n",
              "    <tr>\n",
              "      <th>barcode</th>\n",
              "      <th></th>\n",
              "      <th></th>\n",
              "      <th></th>\n",
              "      <th></th>\n",
              "      <th></th>\n",
              "      <th></th>\n",
              "      <th></th>\n",
              "      <th></th>\n",
              "      <th></th>\n",
              "      <th></th>\n",
              "      <th></th>\n",
              "      <th></th>\n",
              "      <th></th>\n",
              "      <th></th>\n",
              "      <th></th>\n",
              "      <th></th>\n",
              "    </tr>\n",
              "  </thead>\n",
              "  <tbody>\n",
              "    <tr>\n",
              "      <th>AAACCCAAGCAGATAT</th>\n",
              "      <td>815.0</td>\n",
              "      <td>6.703188</td>\n",
              "      <td>350</td>\n",
              "      <td>0.0</td>\n",
              "      <td>350</td>\n",
              "      <td>5.860786</td>\n",
              "      <td>815.0</td>\n",
              "      <td>6.704414</td>\n",
              "      <td>56.687117</td>\n",
              "      <td>69.202454</td>\n",
              "      <td>81.595092</td>\n",
              "      <td>100.000000</td>\n",
              "      <td>0.0</td>\n",
              "      <td>0.0</td>\n",
              "      <td>0.0</td>\n",
              "      <td>AD8_C_T_CT</td>\n",
              "    </tr>\n",
              "    <tr>\n",
              "      <th>AAACCCAAGCTCGCAC</th>\n",
              "      <td>1651.0</td>\n",
              "      <td>7.409136</td>\n",
              "      <td>769</td>\n",
              "      <td>0.0</td>\n",
              "      <td>769</td>\n",
              "      <td>6.646391</td>\n",
              "      <td>1651.0</td>\n",
              "      <td>7.409742</td>\n",
              "      <td>40.944882</td>\n",
              "      <td>50.514839</td>\n",
              "      <td>62.992126</td>\n",
              "      <td>83.706844</td>\n",
              "      <td>0.0</td>\n",
              "      <td>0.0</td>\n",
              "      <td>0.0</td>\n",
              "      <td>AD20_C_R_CR</td>\n",
              "    </tr>\n",
              "    <tr>\n",
              "      <th>AAACCCAAGGCCACCT</th>\n",
              "      <td>1173.0</td>\n",
              "      <td>7.067320</td>\n",
              "      <td>420</td>\n",
              "      <td>0.0</td>\n",
              "      <td>420</td>\n",
              "      <td>6.042633</td>\n",
              "      <td>1173.0</td>\n",
              "      <td>7.068172</td>\n",
              "      <td>64.194373</td>\n",
              "      <td>72.719523</td>\n",
              "      <td>81.244672</td>\n",
              "      <td>100.000000</td>\n",
              "      <td>0.0</td>\n",
              "      <td>0.0</td>\n",
              "      <td>0.0</td>\n",
              "      <td>Doublet</td>\n",
              "    </tr>\n",
              "    <tr>\n",
              "      <th>AAACCCACACACCAGC</th>\n",
              "      <td>1165.0</td>\n",
              "      <td>7.060476</td>\n",
              "      <td>546</td>\n",
              "      <td>0.0</td>\n",
              "      <td>546</td>\n",
              "      <td>6.304449</td>\n",
              "      <td>1165.0</td>\n",
              "      <td>7.061335</td>\n",
              "      <td>48.841202</td>\n",
              "      <td>57.854077</td>\n",
              "      <td>70.300429</td>\n",
              "      <td>96.051502</td>\n",
              "      <td>0.0</td>\n",
              "      <td>0.0</td>\n",
              "      <td>0.0</td>\n",
              "      <td>AD8_H_T_HT</td>\n",
              "    </tr>\n",
              "    <tr>\n",
              "      <th>AAACCCAGTAACAGGC</th>\n",
              "      <td>1156.0</td>\n",
              "      <td>7.052721</td>\n",
              "      <td>539</td>\n",
              "      <td>0.0</td>\n",
              "      <td>539</td>\n",
              "      <td>6.291569</td>\n",
              "      <td>1156.0</td>\n",
              "      <td>7.053586</td>\n",
              "      <td>47.750865</td>\n",
              "      <td>57.871972</td>\n",
              "      <td>70.674740</td>\n",
              "      <td>96.626298</td>\n",
              "      <td>0.0</td>\n",
              "      <td>0.0</td>\n",
              "      <td>0.0</td>\n",
              "      <td>AD8_H_T_HT</td>\n",
              "    </tr>\n",
              "    <tr>\n",
              "      <th>...</th>\n",
              "      <td>...</td>\n",
              "      <td>...</td>\n",
              "      <td>...</td>\n",
              "      <td>...</td>\n",
              "      <td>...</td>\n",
              "      <td>...</td>\n",
              "      <td>...</td>\n",
              "      <td>...</td>\n",
              "      <td>...</td>\n",
              "      <td>...</td>\n",
              "      <td>...</td>\n",
              "      <td>...</td>\n",
              "      <td>...</td>\n",
              "      <td>...</td>\n",
              "      <td>...</td>\n",
              "      <td>...</td>\n",
              "    </tr>\n",
              "    <tr>\n",
              "      <th>TTTGTTGTCAAGCTGT</th>\n",
              "      <td>2313.0</td>\n",
              "      <td>7.746301</td>\n",
              "      <td>1100</td>\n",
              "      <td>0.0</td>\n",
              "      <td>1100</td>\n",
              "      <td>7.003974</td>\n",
              "      <td>2313.0</td>\n",
              "      <td>7.746733</td>\n",
              "      <td>35.019455</td>\n",
              "      <td>43.968872</td>\n",
              "      <td>55.036749</td>\n",
              "      <td>74.059663</td>\n",
              "      <td>0.0</td>\n",
              "      <td>0.0</td>\n",
              "      <td>0.0</td>\n",
              "      <td>AD8_H_T_HT</td>\n",
              "    </tr>\n",
              "    <tr>\n",
              "      <th>TTTGTTGTCACCGCTT</th>\n",
              "      <td>668.0</td>\n",
              "      <td>6.504288</td>\n",
              "      <td>342</td>\n",
              "      <td>0.0</td>\n",
              "      <td>342</td>\n",
              "      <td>5.837730</td>\n",
              "      <td>668.0</td>\n",
              "      <td>6.505784</td>\n",
              "      <td>50.149701</td>\n",
              "      <td>63.772455</td>\n",
              "      <td>78.742515</td>\n",
              "      <td>100.000000</td>\n",
              "      <td>0.0</td>\n",
              "      <td>0.0</td>\n",
              "      <td>0.0</td>\n",
              "      <td>AD8_H_T_HT</td>\n",
              "    </tr>\n",
              "    <tr>\n",
              "      <th>TTTGTTGTCCACTTTA</th>\n",
              "      <td>2737.0</td>\n",
              "      <td>7.914618</td>\n",
              "      <td>1290</td>\n",
              "      <td>0.0</td>\n",
              "      <td>1290</td>\n",
              "      <td>7.163172</td>\n",
              "      <td>2737.0</td>\n",
              "      <td>7.914983</td>\n",
              "      <td>34.380709</td>\n",
              "      <td>41.541834</td>\n",
              "      <td>52.466204</td>\n",
              "      <td>71.136281</td>\n",
              "      <td>0.0</td>\n",
              "      <td>0.0</td>\n",
              "      <td>0.0</td>\n",
              "      <td>AD8_H_T_HT</td>\n",
              "    </tr>\n",
              "    <tr>\n",
              "      <th>TTTGTTGTCCCAGTGG</th>\n",
              "      <td>806.0</td>\n",
              "      <td>6.692084</td>\n",
              "      <td>336</td>\n",
              "      <td>0.0</td>\n",
              "      <td>336</td>\n",
              "      <td>5.820083</td>\n",
              "      <td>806.0</td>\n",
              "      <td>6.693324</td>\n",
              "      <td>59.305211</td>\n",
              "      <td>70.719603</td>\n",
              "      <td>83.126551</td>\n",
              "      <td>100.000000</td>\n",
              "      <td>0.0</td>\n",
              "      <td>0.0</td>\n",
              "      <td>0.0</td>\n",
              "      <td>AD8_H_T_HT</td>\n",
              "    </tr>\n",
              "    <tr>\n",
              "      <th>TTTGTTGTCGAGCTGC</th>\n",
              "      <td>619.0</td>\n",
              "      <td>6.428105</td>\n",
              "      <td>318</td>\n",
              "      <td>0.0</td>\n",
              "      <td>318</td>\n",
              "      <td>5.765191</td>\n",
              "      <td>619.0</td>\n",
              "      <td>6.429719</td>\n",
              "      <td>50.888530</td>\n",
              "      <td>64.781906</td>\n",
              "      <td>80.936995</td>\n",
              "      <td>100.000000</td>\n",
              "      <td>0.0</td>\n",
              "      <td>0.0</td>\n",
              "      <td>0.0</td>\n",
              "      <td>AD8_H_T_HT</td>\n",
              "    </tr>\n",
              "  </tbody>\n",
              "</table>\n",
              "<p>10841 rows × 16 columns</p>\n",
              "</div>"
            ]
          },
          "metadata": {
            "tags": []
          },
          "execution_count": 86
        }
      ]
    },
    {
      "cell_type": "code",
      "metadata": {
        "colab": {
          "base_uri": "https://localhost:8080/"
        },
        "id": "piTlrnzYJ7xk",
        "outputId": "7f1d57cb-53ef-488d-a3fc-53b1eb00e5ef"
      },
      "source": [
        "adata.obs['sample'].value_counts()"
      ],
      "execution_count": null,
      "outputs": [
        {
          "output_type": "execute_result",
          "data": {
            "text/plain": [
              "AD8_H_T_HT     7069\n",
              "Doublet        1462\n",
              "AD20_C_R_CR    1340\n",
              "AD20_H_R_HR     624\n",
              "AD8_C_T_CT      346\n",
              "Name: sample, dtype: int64"
            ]
          },
          "metadata": {
            "tags": []
          },
          "execution_count": 87
        }
      ]
    },
    {
      "cell_type": "code",
      "metadata": {
        "colab": {
          "base_uri": "https://localhost:8080/"
        },
        "id": "cBzlLZqbGj-n",
        "outputId": "7d6ff2b8-e80d-45b6-834c-a6d7e0cd5fb3"
      },
      "source": [
        "adata= adata[~adata.obs['sample'].isin(['Doublet','Negative']),:].copy()\n",
        "adata"
      ],
      "execution_count": null,
      "outputs": [
        {
          "output_type": "execute_result",
          "data": {
            "text/plain": [
              "AnnData object with n_obs × n_vars = 9379 × 60671\n",
              "    obs: 'n_counts', 'log_counts', 'n_genes', 'mt_frac', 'n_genes_by_counts', 'log1p_n_genes_by_counts', 'total_counts', 'log1p_total_counts', 'pct_counts_in_top_50_genes', 'pct_counts_in_top_100_genes', 'pct_counts_in_top_200_genes', 'pct_counts_in_top_500_genes', 'total_counts_mito', 'log1p_total_counts_mito', 'pct_counts_mito', 'sample'\n",
              "    var: 'gene_name', 'mito', 'n_cells_by_counts', 'mean_counts', 'log1p_mean_counts', 'pct_dropout_by_counts', 'total_counts', 'log1p_total_counts'\n",
              "    layers: 'spliced', 'unspliced'"
            ]
          },
          "metadata": {
            "tags": []
          },
          "execution_count": 88
        }
      ]
    },
    {
      "cell_type": "code",
      "metadata": {
        "colab": {
          "base_uri": "https://localhost:8080/"
        },
        "id": "StT2jym9GkDl",
        "outputId": "4b1e7cbc-f1a2-4be1-99da-e015285ca6ad"
      },
      "source": [
        "clean=samplename+\"_clean_taged.h5ad\"\n",
        "adata.write(clean)"
      ],
      "execution_count": null,
      "outputs": [
        {
          "output_type": "stream",
          "text": [
            "... storing 'sample' as categorical\n"
          ],
          "name": "stderr"
        }
      ]
    },
    {
      "cell_type": "code",
      "metadata": {
        "id": "Kfi72gbt-pvS",
        "colab": {
          "base_uri": "https://localhost:8080/",
          "height": 466
        },
        "outputId": "69e99996-7f8a-4047-8bef-f30d6911ddb1"
      },
      "source": [
        "adata.obs[['Donnor','Treatment','Condition']] = adata.obs['sample'].str.split(\"_\",expand=True,)\n",
        "adata.obs"
      ],
      "execution_count": null,
      "outputs": [
        {
          "output_type": "execute_result",
          "data": {
            "text/plain": [
              "                 batch  n_counts  log_counts  n_genes   mt_frac  \\\n",
              "barcode                                                           \n",
              "AAACCCAAGCTCGCAC  Gex2    1542.0    7.340836      743  0.190661   \n",
              "AAACCCAGTGATTAGA  Gex2    7729.0    8.952735     2023  0.042955   \n",
              "AAACCCAGTGCTCGTG  Gex2    1158.0    7.054450      518  0.187392   \n",
              "AAACGAAGTCCCAAAT  Gex2    1833.0    7.513709      804  0.109656   \n",
              "AAACGAAGTGCCGAAA  Gex2    1744.0    7.463937      817  0.012615   \n",
              "...                ...       ...         ...      ...       ...   \n",
              "TTTGTTGGTCTGCAAT  Gex2    2141.0    7.669028     1204  0.021018   \n",
              "TTTGTTGGTGCATTAC  Gex2    1817.0    7.504942      917  0.149147   \n",
              "TTTGTTGGTGCCTGAC  Gex2    1893.0    7.545918      945  0.099313   \n",
              "TTTGTTGGTGGAGAAA  Gex2    2057.0    7.629004     1076  0.012640   \n",
              "TTTGTTGTCAAGCTGT  Gex2    2067.0    7.633853     1029  0.043541   \n",
              "\n",
              "                  n_genes_by_counts  log1p_n_genes_by_counts  total_counts  \\\n",
              "barcode                                                                      \n",
              "AAACCCAAGCTCGCAC                743                 6.612041        1542.0   \n",
              "AAACCCAGTGATTAGA               2023                 7.612831        7729.0   \n",
              "AAACCCAGTGCTCGTG                518                 6.251904        1158.0   \n",
              "AAACGAAGTCCCAAAT                804                 6.690842        1833.0   \n",
              "AAACGAAGTGCCGAAA                817                 6.706862        1744.0   \n",
              "...                             ...                      ...           ...   \n",
              "TTTGTTGGTCTGCAAT               1204                 7.094235        2141.0   \n",
              "TTTGTTGGTGCATTAC                917                 6.822197        1817.0   \n",
              "TTTGTTGGTGCCTGAC                945                 6.852243        1893.0   \n",
              "TTTGTTGGTGGAGAAA               1076                 6.981935        2057.0   \n",
              "TTTGTTGTCAAGCTGT               1029                 6.937314        2067.0   \n",
              "\n",
              "                  log1p_total_counts  pct_counts_in_top_50_genes  ...  \\\n",
              "barcode                                                           ...   \n",
              "AAACCCAAGCTCGCAC            7.341484                   40.661479  ...   \n",
              "AAACCCAGTGATTAGA            8.952864                   41.363695  ...   \n",
              "AAACCCAGTGCTCGTG            7.055313                   46.891192  ...   \n",
              "AAACGAAGTCCCAAAT            7.514255                   42.225859  ...   \n",
              "AAACGAAGTGCCGAAA            7.464510                   33.371560  ...   \n",
              "...                              ...                         ...  ...   \n",
              "TTTGTTGGTCTGCAAT            7.669495                   26.156002  ...   \n",
              "TTTGTTGGTGCATTAC            7.505492                   36.653825  ...   \n",
              "TTTGTTGGTGCCTGAC            7.546446                   32.963550  ...   \n",
              "TTTGTTGGTGGAGAAA            7.629490                   27.661643  ...   \n",
              "TTTGTTGTCAAGCTGT            7.634337                   34.687954  ...   \n",
              "\n",
              "                  pct_counts_in_top_500_genes  total_counts_mito  \\\n",
              "barcode                                                            \n",
              "AAACCCAAGCTCGCAC                    84.241245              294.0   \n",
              "AAACCCAGTGATTAGA                    73.644715              332.0   \n",
              "AAACCCAGTGCTCGTG                    98.445596              217.0   \n",
              "AAACGAAGTCCCAAAT                    83.415166              201.0   \n",
              "AAACGAAGTGCCGAAA                    81.823394               22.0   \n",
              "...                                       ...                ...   \n",
              "TTTGTTGGTCTGCAAT                    67.118169               45.0   \n",
              "TTTGTTGGTGCATTAC                    77.050083              271.0   \n",
              "TTTGTTGGTGCCTGAC                    76.492340              188.0   \n",
              "TTTGTTGGTGGAGAAA                    71.998055               26.0   \n",
              "TTTGTTGTCAAGCTGT                    74.407354               90.0   \n",
              "\n",
              "                  log1p_total_counts_mito  pct_counts_mito  doublet_score  \\\n",
              "barcode                                                                     \n",
              "AAACCCAAGCTCGCAC                 5.686975        19.066147       0.103371   \n",
              "AAACCCAGTGATTAGA                 5.808143         4.295510       0.019063   \n",
              "AAACCCAGTGCTCGTG                 5.384495        18.739206       0.059970   \n",
              "AAACGAAGTCCCAAAT                 5.308268        10.965631       0.084778   \n",
              "AAACGAAGTGCCGAAA                 3.135494         1.261468       0.014215   \n",
              "...                                   ...              ...            ...   \n",
              "TTTGTTGGTCTGCAAT                 3.828641         2.101822       0.021188   \n",
              "TTTGTTGGTGCATTAC                 5.605802        14.914695       0.059970   \n",
              "TTTGTTGGTGCCTGAC                 5.241747         9.931326       0.121951   \n",
              "TTTGTTGGTGGAGAAA                 3.295837         1.263977       0.007803   \n",
              "TTTGTTGTCAAGCTGT                 4.510859         4.354136       0.004961   \n",
              "\n",
              "                  predicted_doublet    sample  Donnor Treatment Condition  \n",
              "barcode                                                                    \n",
              "AAACCCAAGCTCGCAC              False  AD20_C_R    AD20         C         R  \n",
              "AAACCCAGTGATTAGA              False   AD8_H_T     AD8         H         T  \n",
              "AAACCCAGTGCTCGTG              False   AD8_H_T     AD8         H         T  \n",
              "AAACGAAGTCCCAAAT              False   AD8_H_T     AD8         H         T  \n",
              "AAACGAAGTGCCGAAA              False   AD8_H_T     AD8         H         T  \n",
              "...                             ...       ...     ...       ...       ...  \n",
              "TTTGTTGGTCTGCAAT              False   AD8_H_T     AD8         H         T  \n",
              "TTTGTTGGTGCATTAC              False   AD8_H_T     AD8         H         T  \n",
              "TTTGTTGGTGCCTGAC              False   AD8_H_T     AD8         H         T  \n",
              "TTTGTTGGTGGAGAAA              False   AD8_H_T     AD8         H         T  \n",
              "TTTGTTGTCAAGCTGT              False   AD8_H_T     AD8         H         T  \n",
              "\n",
              "[4827 rows x 22 columns]"
            ],
            "text/html": [
              "<div>\n",
              "<style scoped>\n",
              "    .dataframe tbody tr th:only-of-type {\n",
              "        vertical-align: middle;\n",
              "    }\n",
              "\n",
              "    .dataframe tbody tr th {\n",
              "        vertical-align: top;\n",
              "    }\n",
              "\n",
              "    .dataframe thead th {\n",
              "        text-align: right;\n",
              "    }\n",
              "</style>\n",
              "<table border=\"1\" class=\"dataframe\">\n",
              "  <thead>\n",
              "    <tr style=\"text-align: right;\">\n",
              "      <th></th>\n",
              "      <th>batch</th>\n",
              "      <th>n_counts</th>\n",
              "      <th>log_counts</th>\n",
              "      <th>n_genes</th>\n",
              "      <th>mt_frac</th>\n",
              "      <th>n_genes_by_counts</th>\n",
              "      <th>log1p_n_genes_by_counts</th>\n",
              "      <th>total_counts</th>\n",
              "      <th>log1p_total_counts</th>\n",
              "      <th>pct_counts_in_top_50_genes</th>\n",
              "      <th>...</th>\n",
              "      <th>pct_counts_in_top_500_genes</th>\n",
              "      <th>total_counts_mito</th>\n",
              "      <th>log1p_total_counts_mito</th>\n",
              "      <th>pct_counts_mito</th>\n",
              "      <th>doublet_score</th>\n",
              "      <th>predicted_doublet</th>\n",
              "      <th>sample</th>\n",
              "      <th>Donnor</th>\n",
              "      <th>Treatment</th>\n",
              "      <th>Condition</th>\n",
              "    </tr>\n",
              "    <tr>\n",
              "      <th>barcode</th>\n",
              "      <th></th>\n",
              "      <th></th>\n",
              "      <th></th>\n",
              "      <th></th>\n",
              "      <th></th>\n",
              "      <th></th>\n",
              "      <th></th>\n",
              "      <th></th>\n",
              "      <th></th>\n",
              "      <th></th>\n",
              "      <th></th>\n",
              "      <th></th>\n",
              "      <th></th>\n",
              "      <th></th>\n",
              "      <th></th>\n",
              "      <th></th>\n",
              "      <th></th>\n",
              "      <th></th>\n",
              "      <th></th>\n",
              "      <th></th>\n",
              "      <th></th>\n",
              "    </tr>\n",
              "  </thead>\n",
              "  <tbody>\n",
              "    <tr>\n",
              "      <th>AAACCCAAGCTCGCAC</th>\n",
              "      <td>Gex2</td>\n",
              "      <td>1542.0</td>\n",
              "      <td>7.340836</td>\n",
              "      <td>743</td>\n",
              "      <td>0.190661</td>\n",
              "      <td>743</td>\n",
              "      <td>6.612041</td>\n",
              "      <td>1542.0</td>\n",
              "      <td>7.341484</td>\n",
              "      <td>40.661479</td>\n",
              "      <td>...</td>\n",
              "      <td>84.241245</td>\n",
              "      <td>294.0</td>\n",
              "      <td>5.686975</td>\n",
              "      <td>19.066147</td>\n",
              "      <td>0.103371</td>\n",
              "      <td>False</td>\n",
              "      <td>AD20_C_R</td>\n",
              "      <td>AD20</td>\n",
              "      <td>C</td>\n",
              "      <td>R</td>\n",
              "    </tr>\n",
              "    <tr>\n",
              "      <th>AAACCCAGTGATTAGA</th>\n",
              "      <td>Gex2</td>\n",
              "      <td>7729.0</td>\n",
              "      <td>8.952735</td>\n",
              "      <td>2023</td>\n",
              "      <td>0.042955</td>\n",
              "      <td>2023</td>\n",
              "      <td>7.612831</td>\n",
              "      <td>7729.0</td>\n",
              "      <td>8.952864</td>\n",
              "      <td>41.363695</td>\n",
              "      <td>...</td>\n",
              "      <td>73.644715</td>\n",
              "      <td>332.0</td>\n",
              "      <td>5.808143</td>\n",
              "      <td>4.295510</td>\n",
              "      <td>0.019063</td>\n",
              "      <td>False</td>\n",
              "      <td>AD8_H_T</td>\n",
              "      <td>AD8</td>\n",
              "      <td>H</td>\n",
              "      <td>T</td>\n",
              "    </tr>\n",
              "    <tr>\n",
              "      <th>AAACCCAGTGCTCGTG</th>\n",
              "      <td>Gex2</td>\n",
              "      <td>1158.0</td>\n",
              "      <td>7.054450</td>\n",
              "      <td>518</td>\n",
              "      <td>0.187392</td>\n",
              "      <td>518</td>\n",
              "      <td>6.251904</td>\n",
              "      <td>1158.0</td>\n",
              "      <td>7.055313</td>\n",
              "      <td>46.891192</td>\n",
              "      <td>...</td>\n",
              "      <td>98.445596</td>\n",
              "      <td>217.0</td>\n",
              "      <td>5.384495</td>\n",
              "      <td>18.739206</td>\n",
              "      <td>0.059970</td>\n",
              "      <td>False</td>\n",
              "      <td>AD8_H_T</td>\n",
              "      <td>AD8</td>\n",
              "      <td>H</td>\n",
              "      <td>T</td>\n",
              "    </tr>\n",
              "    <tr>\n",
              "      <th>AAACGAAGTCCCAAAT</th>\n",
              "      <td>Gex2</td>\n",
              "      <td>1833.0</td>\n",
              "      <td>7.513709</td>\n",
              "      <td>804</td>\n",
              "      <td>0.109656</td>\n",
              "      <td>804</td>\n",
              "      <td>6.690842</td>\n",
              "      <td>1833.0</td>\n",
              "      <td>7.514255</td>\n",
              "      <td>42.225859</td>\n",
              "      <td>...</td>\n",
              "      <td>83.415166</td>\n",
              "      <td>201.0</td>\n",
              "      <td>5.308268</td>\n",
              "      <td>10.965631</td>\n",
              "      <td>0.084778</td>\n",
              "      <td>False</td>\n",
              "      <td>AD8_H_T</td>\n",
              "      <td>AD8</td>\n",
              "      <td>H</td>\n",
              "      <td>T</td>\n",
              "    </tr>\n",
              "    <tr>\n",
              "      <th>AAACGAAGTGCCGAAA</th>\n",
              "      <td>Gex2</td>\n",
              "      <td>1744.0</td>\n",
              "      <td>7.463937</td>\n",
              "      <td>817</td>\n",
              "      <td>0.012615</td>\n",
              "      <td>817</td>\n",
              "      <td>6.706862</td>\n",
              "      <td>1744.0</td>\n",
              "      <td>7.464510</td>\n",
              "      <td>33.371560</td>\n",
              "      <td>...</td>\n",
              "      <td>81.823394</td>\n",
              "      <td>22.0</td>\n",
              "      <td>3.135494</td>\n",
              "      <td>1.261468</td>\n",
              "      <td>0.014215</td>\n",
              "      <td>False</td>\n",
              "      <td>AD8_H_T</td>\n",
              "      <td>AD8</td>\n",
              "      <td>H</td>\n",
              "      <td>T</td>\n",
              "    </tr>\n",
              "    <tr>\n",
              "      <th>...</th>\n",
              "      <td>...</td>\n",
              "      <td>...</td>\n",
              "      <td>...</td>\n",
              "      <td>...</td>\n",
              "      <td>...</td>\n",
              "      <td>...</td>\n",
              "      <td>...</td>\n",
              "      <td>...</td>\n",
              "      <td>...</td>\n",
              "      <td>...</td>\n",
              "      <td>...</td>\n",
              "      <td>...</td>\n",
              "      <td>...</td>\n",
              "      <td>...</td>\n",
              "      <td>...</td>\n",
              "      <td>...</td>\n",
              "      <td>...</td>\n",
              "      <td>...</td>\n",
              "      <td>...</td>\n",
              "      <td>...</td>\n",
              "      <td>...</td>\n",
              "    </tr>\n",
              "    <tr>\n",
              "      <th>TTTGTTGGTCTGCAAT</th>\n",
              "      <td>Gex2</td>\n",
              "      <td>2141.0</td>\n",
              "      <td>7.669028</td>\n",
              "      <td>1204</td>\n",
              "      <td>0.021018</td>\n",
              "      <td>1204</td>\n",
              "      <td>7.094235</td>\n",
              "      <td>2141.0</td>\n",
              "      <td>7.669495</td>\n",
              "      <td>26.156002</td>\n",
              "      <td>...</td>\n",
              "      <td>67.118169</td>\n",
              "      <td>45.0</td>\n",
              "      <td>3.828641</td>\n",
              "      <td>2.101822</td>\n",
              "      <td>0.021188</td>\n",
              "      <td>False</td>\n",
              "      <td>AD8_H_T</td>\n",
              "      <td>AD8</td>\n",
              "      <td>H</td>\n",
              "      <td>T</td>\n",
              "    </tr>\n",
              "    <tr>\n",
              "      <th>TTTGTTGGTGCATTAC</th>\n",
              "      <td>Gex2</td>\n",
              "      <td>1817.0</td>\n",
              "      <td>7.504942</td>\n",
              "      <td>917</td>\n",
              "      <td>0.149147</td>\n",
              "      <td>917</td>\n",
              "      <td>6.822197</td>\n",
              "      <td>1817.0</td>\n",
              "      <td>7.505492</td>\n",
              "      <td>36.653825</td>\n",
              "      <td>...</td>\n",
              "      <td>77.050083</td>\n",
              "      <td>271.0</td>\n",
              "      <td>5.605802</td>\n",
              "      <td>14.914695</td>\n",
              "      <td>0.059970</td>\n",
              "      <td>False</td>\n",
              "      <td>AD8_H_T</td>\n",
              "      <td>AD8</td>\n",
              "      <td>H</td>\n",
              "      <td>T</td>\n",
              "    </tr>\n",
              "    <tr>\n",
              "      <th>TTTGTTGGTGCCTGAC</th>\n",
              "      <td>Gex2</td>\n",
              "      <td>1893.0</td>\n",
              "      <td>7.545918</td>\n",
              "      <td>945</td>\n",
              "      <td>0.099313</td>\n",
              "      <td>945</td>\n",
              "      <td>6.852243</td>\n",
              "      <td>1893.0</td>\n",
              "      <td>7.546446</td>\n",
              "      <td>32.963550</td>\n",
              "      <td>...</td>\n",
              "      <td>76.492340</td>\n",
              "      <td>188.0</td>\n",
              "      <td>5.241747</td>\n",
              "      <td>9.931326</td>\n",
              "      <td>0.121951</td>\n",
              "      <td>False</td>\n",
              "      <td>AD8_H_T</td>\n",
              "      <td>AD8</td>\n",
              "      <td>H</td>\n",
              "      <td>T</td>\n",
              "    </tr>\n",
              "    <tr>\n",
              "      <th>TTTGTTGGTGGAGAAA</th>\n",
              "      <td>Gex2</td>\n",
              "      <td>2057.0</td>\n",
              "      <td>7.629004</td>\n",
              "      <td>1076</td>\n",
              "      <td>0.012640</td>\n",
              "      <td>1076</td>\n",
              "      <td>6.981935</td>\n",
              "      <td>2057.0</td>\n",
              "      <td>7.629490</td>\n",
              "      <td>27.661643</td>\n",
              "      <td>...</td>\n",
              "      <td>71.998055</td>\n",
              "      <td>26.0</td>\n",
              "      <td>3.295837</td>\n",
              "      <td>1.263977</td>\n",
              "      <td>0.007803</td>\n",
              "      <td>False</td>\n",
              "      <td>AD8_H_T</td>\n",
              "      <td>AD8</td>\n",
              "      <td>H</td>\n",
              "      <td>T</td>\n",
              "    </tr>\n",
              "    <tr>\n",
              "      <th>TTTGTTGTCAAGCTGT</th>\n",
              "      <td>Gex2</td>\n",
              "      <td>2067.0</td>\n",
              "      <td>7.633853</td>\n",
              "      <td>1029</td>\n",
              "      <td>0.043541</td>\n",
              "      <td>1029</td>\n",
              "      <td>6.937314</td>\n",
              "      <td>2067.0</td>\n",
              "      <td>7.634337</td>\n",
              "      <td>34.687954</td>\n",
              "      <td>...</td>\n",
              "      <td>74.407354</td>\n",
              "      <td>90.0</td>\n",
              "      <td>4.510859</td>\n",
              "      <td>4.354136</td>\n",
              "      <td>0.004961</td>\n",
              "      <td>False</td>\n",
              "      <td>AD8_H_T</td>\n",
              "      <td>AD8</td>\n",
              "      <td>H</td>\n",
              "      <td>T</td>\n",
              "    </tr>\n",
              "  </tbody>\n",
              "</table>\n",
              "<p>4827 rows × 22 columns</p>\n",
              "</div>"
            ]
          },
          "metadata": {
            "tags": []
          },
          "execution_count": 16
        }
      ]
    },
    {
      "cell_type": "code",
      "metadata": {
        "id": "VCSldyrtvsAM",
        "colab": {
          "base_uri": "https://localhost:8080/"
        },
        "outputId": "f97a9e33-d616-4509-e6db-50bdc4e3da4f"
      },
      "source": [
        "adata.obs['n_counts'].sum()"
      ],
      "execution_count": null,
      "outputs": [
        {
          "output_type": "execute_result",
          "data": {
            "text/plain": [
              "13771374.0"
            ]
          },
          "metadata": {
            "tags": []
          },
          "execution_count": 49
        }
      ]
    },
    {
      "cell_type": "code",
      "metadata": {
        "colab": {
          "base_uri": "https://localhost:8080/"
        },
        "id": "Mkkz_gDdRiSl",
        "outputId": "03e4160a-8193-4460-c585-f7493d827fbc"
      },
      "source": [
        "panel=['A2M','ABCB1','ABCB11','ABCC2','ABCG2','ABL1','ACOT7','ADA','ADGRE1','ADGRE5','ADGRG3','ADORA2A','AHR','AICDA','AIM2','AIRE','AKT3','ALAS2','ALCAM','AMBP','ANLN','ANP32B','ANP32E','ANXA1','ANXA5','AOC3','APOBEC3G','APOD','APOE','APP','AQP9','ARG1','ARG2','ARL4C','ASF1A','ATAD2','ATF1','ATF2','ATF6B','ATG10','ATG12','ATG16L1','ATG5','ATG7','ATM','AURKA','AURKB','AXL','AZU1','B2M','B3GAT1','BACH2','BATF','BATF3','BAX','BCL10','BCL11B','BCL2','BCL2A1','BCL2L1','BCL6','BID','BIN2','BIRC2','BIRC3','BIRC5','BLK','BLM','BLNK','BMI1','BORA','BPI','BRIP1','BST1','BST2','BTG1','BTK','BTLA','BTN3A1','BTN3A2','BUB1','C1QA','C1QB','C1QBP','C1R','C1S','C2','C3','C3AR1','C4B','C4BPA','C5','C5AR1','C6','C7','C8A','C8B','C8G','C9','CALM3','CAMP','CARD11','CARD9','CASP1','CASP10','CASP3','CASP5','CASP8','CASP8AP2','CBLB','CBX5','CCDC50','CCL1','CCL11','CCL13','CCL14','CCL15','CCL16','CCL17','CCL18','CCL19','CCL2','CCL20','CCL21','CCL22','CCL23','CCL24','CCL25','CCL26','CCL27','CCL28','CCL3','CCL3L1','CCL3L1','CCL4','CCL5','CCL7','CCL8','CCNB1','CCNB2','CCND2','CCND3','CCNE2','CCR1','CCR10','CCR2','CCR3','CCR4','CCR5','CCR6','CCR7','CCR8','CCR9','CCRL2','CD109','CD14','CD160','CD163','CD164','CD180','CD19','CD1A','CD1B','CD1C','CD1D','CD1E','CD2','CD200','CD207','CD209','CD22','CD24','CD244','CD247','CD27','CD274','CD276','CD28','CD300A','CD33','CD34','CD36','CD37','CD38','CD3D','CD3E','CD3G','CD4','CD40','CD40LG','CD44','CD46','CD47','CD48','CD5','CD52','CD53','CD55','CD58','CD59','CD6','CD63','CD68','CD69','CD7','CD70','CD72','CD74','CD79A','CD79B','CD80','CD81','CD83','CD84','CD86','CD8A','CD8B','CD9','CD96','CD99','CDC20','CDC25C','CDC45','CDC6','CDC7','CDCA2','CDCA3','CDCA7','CDCA8','CDH1','CDH5','CDK1','CDK4','CDK6','CDKN1A','CEACAM1','CEACAM6','CEACAM8','CEBPB','CENPA','CENPE','CENPF','CENPU','CES1','CFB','CFD','CFI','CFP','CHAF1B','CHI3L1','CHI3L2','CHIT1','CHST10','CHUK','CIITA','CKAP2','CKAP2L','CKAP5','CKLF','CKS1B','CKS2','CLC','CLEC10A','CLEC2D','CLEC4A','CLEC4C','CLEC4D','CLEC4E','CLEC5A','CLEC6A','CLEC7A','CLSPN','CLU','CMA1','CMKLR1','CMTM2','CMTM6','CNOT2','CNTNAP3','COL3A1','COLEC12','CPA3','CR1','CR2','CREB1','CREB5','CREBBP','CREM','CRP','CRYAB','CSF1','CSF1R','CSF2','CSF2RA','CSF2RB','CSF3','CSF3R','CST7','CTAGE1','CTCF','CTCFL','CTLA4','CTRC','CTSD','CTSG','CTSH','CTSL','CTSS','CTSW','CX3CL1','CX3CR1','CXCL1','CXCL10','CXCL11','CXCL12','CXCL13','CXCL14','CXCL16','CXCL2','CXCL3','CXCL5','CXCL6','CXCL8','CXCL9','CXCR1','CXCR2','CXCR3','CXCR4','CXCR5','CXCR6','CYBB','CYFIP2','CYLD','CYSLTR1','DCN','DCT','DDX43','DDX58','DEFA3','DEFA4','DEFB1','DLGAP5','DLK1','DMBT1','DMKN','DOCK8','DOCK9','DPP4','DSCC1','DTL','DUSP1','DUSP2','DUSP4','DUSP6','E2F8','EBF1','EBI3','ECSIT','ECT2','EDNRB','EED','EGR1','EGR2','EGR3','EHF','ELANE','ELF1','ELF2','ELF4','ELK1','ELK3','ENG','ENTPD1','EOMES','EP300','EPCAM','EPX','ERAL1','ERAP1','ETS1','ETS2','ETV3','ETV6','EWSR1','EXO1','EZH2','F12','F13A1','F2RL1','F5','FABP4','FADD','FAS','FASLG','FBXO22','FCAR','FCER1A','FCER1G','FCER2','FCGR1A','FCGR2A','FCGR2B','FCGR3A','FCGR3B','FCN1','FCRL2','FEN1','FEZ1','FGL2','FICD','FLT3','FLT3LG','FN1','FOS','FOSB','FOSL1','FOXJ1','FOXO1','FOXO3','FOXP1','FOXP3','FPR1','FPR2','FRMD4B','FRYL','FTH1','FUT4','FUT5','FUT7','FYB1','FYN','G2E3','G6PD','GAB2','GABPA','GAGE1','GAS2L3','GATA3','GFI1','GHR','GIMAP2','GIMAP5','GIMAP7','GINS2','GLG1','GMNN','GNAI2','GNG8','GNLY','GPC1','GPI','GRAMD4','GTF3C1','GTSE1','GZMA','GZMB','GZMH','GZMK','GZMM','HAMP','HAVCR1','HAVCR2','HCK','HDC','HELLS','HJURP','HLA-A','HLA-A','HLA-B','HLA-C','HLA-C','HLA-DMA','HLA-DMB','HLA-DOB','HLA-DPA1','HLA-DPB1','HLA-DQA1','HLA-DQA1','HLA-DQB1','HLA-DQB1','HLA-DQB2','HLA-DRA','HLA-DRB1','HLA-DRB1','HLA-DRB1','HLA-DRB1','HLA-DRB5','HLA-E','HLA-F','HLA-G','HMGB1','HMGB2','HMGN3','HMMR','HMOX1','HRAS','HRH4','HSD11B1','ICAM1','ICAM2','ICAM3','ICAM4','ICOS','ICOSLG','IDO1','IER3','IER5','IFI16','IFI27','IFI35','IFIH1','IFIT1','IFIT2','IFITM1','IFITM2','IFITM3','IFNA1','IFNA17','IFNA2','IFNA7','IFNA8','IFNAR1','IFNAR2','IFNB1','IFNG','IFNGR1','IFNGR2','IFNL1','IFNL2','IGBP1','IGF1R','IGF2R','IGLL1','IKBKB','IKBKE','IKBKG','IKZF1','IKZF2','IKZF4','IL10','IL10RA','IL10RB','IL11','IL11RA','IL12A','IL12B','IL12RB1','IL12RB2','IL13','IL13RA1','IL13RA2','IL15','IL15RA','IL16','IL17A','IL17B','IL17F','IL17RA','IL17RB','IL18','IL18R1','IL18RAP','IL19','IL1A','IL1B','IL1R1','IL1R2','IL1RAP','IL1RAPL2','IL1RL1','IL1RL2','IL1RN','IL2','IL21','IL21R','IL22','IL22RA1','IL22RA2','IL23A','IL23R','IL24','IL25','IL26','IL27','IL27RA','IL2RA','IL2RB','IL2RG','IL3','IL31','IL32','IL33','IL34','IL3RA','IL4','IL4I1','IL4R','IL5','IL5RA','IL6','IL6R','IL6ST','IL7','IL7R','IL9','IL9R','ILF3','INPP5D','IRAK1','IRAK2','IRAK4','IRF1','IRF2','IRF3','IRF4','IRF5','IRF7','IRF8','IRGM','ISG15','ISG20','ITCH','ITGA1','ITGA2','ITGA2B','ITGA3','ITGA4','ITGA5','ITGA6','ITGAE','ITGAL','ITGAM','ITGAX','ITGB1','ITGB2','ITGB3','ITGB4','ITGB8','ITK','JAK1','JAK2','JAK3','JAM3','JAML','JCHAIN','JPT1','JUN','JUNB','JUND','KCNE3','KDELR1','KIF11','KIF20B','KIF23','KIF2C','KIR2DL1','KIR2DL3','KIR3DL1','KIR3DL1','KIR3DL2','KIR3DL3','KIT','KLF13','KLF6','KLRB1','KLRC1','KLRC2','KLRC3','KLRC4','KLRD1','KLRF1','KLRG1','KLRK1','KRT1','KRT14','KRT16','KRT17','KRT5','KRT6A','KRTDAP','LAG3','LAIR1','LAIR2','LAMP1','LAMP2','LAMP3','LAP3','LAT','LAT2','LBP','LBR','LCK','LCN2','LCP1','LCP2','LDHA','LEF1','LGALS1','LGALS3','LGALS9','LIF','LILRA1','LILRA4','LILRA5','LILRB1','LILRB1','LILRB2','LILRB3','LILRB4','LIPA','LRBA','LRP1','LRRC3','LRRC32','LRRN3','LTA','LTB','LTBR','LTF','LTK','LUM','LY86','LY9','LY96','LYN','LYVE1','LYZ','MAF','MAGEA1','MAGEA12','MAGEA3','MAGEA4','MAGEB2','MAGEC1','MAGEC2','MALT1','MAP2K1','MAP2K2','MAP2K4','MAP3K1','MAP3K14','MAP3K5','MAP3K7','MAP4K2','MAPK1','MAPK11','MAPK14','MAPK3','MAPK8','MAPKAPK2','MARCO','MASP1','MASP2','MAST4','MAVS','MB21D2','MBL2','MCAM','MCM2','MCM4','MCM5','MCM6','MEF2C','MEFV','MERTK','MFGE8','MGP','MGST1','MICA','MICA','MICB','MIF','MITF','MKI67','MME','MMP12','MMP9','MNX1','MPPED1','MR1','MRC1','MRGPRX2','MS4A1','MS4A2','MS4A4A','MSH2','MSH3','MSH4','MSH5','MSH6','MSR1','MST1R','MUC1','MX1','MYC','MYCL','MYCN','MYD88','MZB1','NAMPT','NASP','NCAM1','NCAPD2','NCF4','NCK1','NCR1','NCR1','NCR3','NDC80','NEFL','NEIL3','NEK2','NFATC1','NFATC2','NFATC3','NFATC4','NFE2L2','NFIL3','NFKB1','NFKB2','NFKBIA','NFKBIZ','NIBAN3','NINJ2','NKG7','NLRC5','NLRP3','NOD1','NOD2','NOS2','NOTCH1','NOTCH2','NOTCH3','NR4A1','NRP1','NT5E','NTRK2','NUF2','NUP107','NUSAP1','OAS1','OAS3','OPTN','OSM','P2RX7','P2RY14','PASD1','PASK','PAX5','PBK','PCLAF','PCNA','PDCD1','PDCD1LG2','PDGFC','PDGFRB','PDIA4','PDIA6','PECAM1','PHF10','PI3','PIK3AP1','PIK3CD','PIK3CG','PIK3IP1','PIMREG','PIN1','PLA2G1B','PLA2G6','PLAT','PLAU','PLAUR','PLEKHG1','PMCH','PMEL','PMP22','PNMA1','PNOC','POLA1','POLD3','POLR1G','POU2AF1','POU2F2','PPARG','PPBP','PRAME','PRDM1','PRF1','PRG2','PRIM1','PRKCD','PRKCE','PRKCQ','PRM1','PSEN1','PSEN2','PSMB10','PSMB7','PSMB8','PSMB9','PSMD7','PSME1','PSRC1','PTAFR','PTGDR2','PTGDS','PTGER4','PTGS2','PTPRC','PTTG2','PVR','PYCARD','PYCR1','QPCT','RAB11FIP1','RAD51','RAD51AP1','RAG1','RANGAP1','RBX1','REL','RELA','RELB','REPS1','RFC2','RGS1','RGS2','RGS5','RHEBL1','RIPK2','RIPOR2','RNASE1','RNASE2','RNASE6','RNF149','RNF207','ROPN1','RORA','RORC','RPA2','RPN2','RRAD','RRM1','RRM2','RUNX1','RUNX3','S100A10','S100A12','S100A2','S100A7','S100A8','S100A9','S100B','S1PR1','S1PR2','SAA1','SBNO2','SDC1','SDHB','SELE','SELL','SELP','SELPLG','SEMA7A','SEMG1','SERPINA1','SERPINB2','SERPINE1','SERPING1','SH2B2','SH2D1A','SH2D1B','SIGIRR','SIGLEC1','SIGLEC5','SIGLEC8','SIRPA','SIRPB1','SIRPG','SIRT1','SKAP1','SLAMF1','SLAMF6','SLAMF7','SLBP','SLC11A1','SLC25A3','SLC25A37','SLC7A7','SMAD2','SMAD3','SMC4','SMCO4','SMPD3','SNCA','SOCS1','SOCS2','SOCS3','SOCS5','SOCS6','SPA17','SPACA3','SPAG1','SPANXB1','SPARCL1','SPATA24','SPATS2L','SPI1','SPIB','SPINK5','SPN','SPO11','SPOCK2','SPP1','SPPL2A','SSX1','ST6GAL1','ST8SIA4','STAT1','STAT2','STAT3','STAT4','STAT5A','STAT5B','STAT6','STING1','SUSD3','SYCP1','SYK','SYT17','TAB1','TACC3','TAGLN','TAL1','TANK','TAP1','TAP2','TAP2','TAPBP','TBK1','TBX21','TCF4','TCF7','TCL1A','TCL1B','TFAM','TFE3','TFEB','TFF3','TFPI','TFRC','TGFB1','TGFB2','TGFB3','TGFBI','THBD','THBS1','THY1','TIAF1','TICAM1','TICAM2','TIFA','TIGIT','TIPIN','TIRAP','TK1','TLR1','TLR10','TLR2','TLR3','TLR4','TLR5','TLR6','TLR7','TLR8','TLR9','TM4SF1','TMEFF2','TMEM97','TMPO','TNF','TNFAIP3','TNFAIP6','TNFRSF10B','TNFRSF10C','TNFRSF11A','TNFRSF11B','TNFRSF12A','TNFRSF13B','TNFRSF13C','TNFRSF14','TNFRSF17','TNFRSF18','TNFRSF1A','TNFRSF1B','TNFRSF25','TNFRSF4','TNFRSF8','TNFRSF9','TNFSF10','TNFSF11','TNFSF12','TNFSF13','TNFSF13B','TNFSF14','TNFSF15','TNFSF18','TNFSF4','TNFSF8','TNFSF9','TNS4','TOLLIP','TOP2A','TOX','TP53','TPSAB1','TPSB2','TPTE','TPX2','TRAF2','TRAF3','TRAF6','TRAT1','TREM1','TREM2','TRGC1','TRIB2','TSPAN32','TTC7A','TTK','TUBB4B','TXK','TXN','TXNIP','TYK2','TYMP','TYMS','TYRP1','UBASH3A','UBE2C','UBE2T','UBE3A','UBR7','UHRF1','ULBP2','UNG','USP1','USP9Y','VAV1','VCAM1','VEGFA','VEGFB','VEGFC','VMO1','VNN2','VPREB3','VPS28','VSIG4','VSIR','VTCN1','WDHD1','WDR76','WT1','XBP1','XCL1','XCL2','XCR1','YBX3','YTHDF2','ZAP70','ZBED2','ZBTB16','ZBTB7B','ZC2HC1A','ZC3H12D','ZNF205','ZNF683']\n",
        "\n",
        "len(panel)"
      ],
      "execution_count": null,
      "outputs": [
        {
          "output_type": "execute_result",
          "data": {
            "text/plain": [
              "1177"
            ]
          },
          "metadata": {
            "tags": []
          },
          "execution_count": 50
        }
      ]
    },
    {
      "cell_type": "code",
      "metadata": {
        "colab": {
          "base_uri": "https://localhost:8080/"
        },
        "id": "yNJyPTwyRiX5",
        "outputId": "84b34412-1bae-4406-b1d0-26328b0beb00"
      },
      "source": [
        "print(len(panel))\n",
        "filter=np.in1d(panel, adata.var_names)\n",
        "panel = list(np.array(panel)[filter])\n",
        "print(len(panel))"
      ],
      "execution_count": null,
      "outputs": [
        {
          "output_type": "stream",
          "text": [
            "1177\n",
            "1174\n"
          ],
          "name": "stdout"
        }
      ]
    },
    {
      "cell_type": "code",
      "metadata": {
        "colab": {
          "base_uri": "https://localhost:8080/"
        },
        "id": "lhR9cGC9RicM",
        "outputId": "943d51ff-7cdf-4474-b2be-e78d134f91ce"
      },
      "source": [
        "adata = adata[:, adata.var_names.isin(panel)] \n",
        "adata=adata.copy()\n",
        "adata.shape"
      ],
      "execution_count": null,
      "outputs": [
        {
          "output_type": "execute_result",
          "data": {
            "text/plain": [
              "(11400, 1162)"
            ]
          },
          "metadata": {
            "tags": []
          },
          "execution_count": 52
        }
      ]
    },
    {
      "cell_type": "code",
      "metadata": {
        "id": "34-mPSziR9Fw"
      },
      "source": [
        "adata.obs['n_counts'] = adata.X.sum(1)\n",
        "adata.obs['log_counts'] = np.log(adata.obs['n_counts'])\n",
        "adata.obs['n_genes'] = (adata.X > 0).sum(1)"
      ],
      "execution_count": null,
      "outputs": []
    },
    {
      "cell_type": "code",
      "metadata": {
        "colab": {
          "base_uri": "https://localhost:8080/"
        },
        "id": "HjECxDqbRrV1",
        "outputId": "f80bf36c-b1f1-4474-8144-cf3117bf185f"
      },
      "source": [
        "adata.obs['n_counts'].sum()"
      ],
      "execution_count": null,
      "outputs": [
        {
          "output_type": "execute_result",
          "data": {
            "text/plain": [
              "1205681.0"
            ]
          },
          "metadata": {
            "tags": []
          },
          "execution_count": 54
        }
      ]
    },
    {
      "cell_type": "code",
      "metadata": {
        "id": "h6USBpbxcKNc",
        "colab": {
          "base_uri": "https://localhost:8080/"
        },
        "outputId": "b4026ef6-0a8c-4aed-8c22-234d562c4cae"
      },
      "source": [
        "100*1205681/13771374"
      ],
      "execution_count": null,
      "outputs": [
        {
          "output_type": "execute_result",
          "data": {
            "text/plain": [
              "8.754979713716294"
            ]
          },
          "metadata": {
            "tags": []
          },
          "execution_count": 55
        }
      ]
    },
    {
      "cell_type": "code",
      "metadata": {
        "colab": {
          "base_uri": "https://localhost:8080/"
        },
        "id": "XvlsZ8vgcMhx",
        "outputId": "28dcc17e-773d-4b40-f498-9495532c4e18"
      },
      "source": [
        "adata.obs['n_counts'].median()"
      ],
      "execution_count": null,
      "outputs": [
        {
          "output_type": "execute_result",
          "data": {
            "text/plain": [
              "616.0"
            ]
          },
          "metadata": {
            "tags": []
          },
          "execution_count": 71
        }
      ]
    },
    {
      "cell_type": "code",
      "metadata": {
        "colab": {
          "base_uri": "https://localhost:8080/"
        },
        "id": "jsBxOzxYRrdi",
        "outputId": "9cb236e6-634e-46d0-9f91-acf96f05b73c"
      },
      "source": [
        "100*4406622/32187412"
      ],
      "execution_count": null,
      "outputs": [
        {
          "output_type": "execute_result",
          "data": {
            "text/plain": [
              "13.690513546103054"
            ]
          },
          "metadata": {
            "tags": []
          },
          "execution_count": 34
        }
      ]
    },
    {
      "cell_type": "code",
      "metadata": {
        "colab": {
          "base_uri": "https://localhost:8080/"
        },
        "id": "Jacn43IbRrlm",
        "outputId": "4281999d-a955-4fe4-9ea1-93e1a3d9fb33"
      },
      "source": [
        "14.262/5.21819"
      ],
      "execution_count": null,
      "outputs": [
        {
          "output_type": "execute_result",
          "data": {
            "text/plain": [
              "2.7331316031037582"
            ]
          },
          "metadata": {
            "tags": []
          },
          "execution_count": 58
        }
      ]
    }
  ]
}
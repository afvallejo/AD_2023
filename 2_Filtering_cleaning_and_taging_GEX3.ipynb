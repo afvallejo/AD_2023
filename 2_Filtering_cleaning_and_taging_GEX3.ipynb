{
  "nbformat": 4,
  "nbformat_minor": 0,
  "metadata": {
    "colab": {
      "provenance": [],
      "toc_visible": true,
      "machine_shape": "hm",
      "include_colab_link": true
    },
    "kernelspec": {
      "name": "python3",
      "display_name": "Python 3"
    }
  },
  "cells": [
    {
      "cell_type": "markdown",
      "metadata": {
        "id": "view-in-github",
        "colab_type": "text"
      },
      "source": [
        "<a href=\"https://colab.research.google.com/github/afvallejo/AD_2023/blob/main/2_Filtering_cleaning_and_taging_GEX3.ipynb\" target=\"_parent\"><img src=\"https://colab.research.google.com/assets/colab-badge.svg\" alt=\"Open In Colab\"/></a>"
      ]
    },
    {
      "cell_type": "markdown",
      "metadata": {
        "id": "eNhDYdHiRq10"
      },
      "source": [
        "# Setup"
      ]
    },
    {
      "cell_type": "markdown",
      "metadata": {
        "id": "iXN3o7eT3gcl"
      },
      "source": [
        "## link Gdrive"
      ]
    },
    {
      "cell_type": "code",
      "metadata": {
        "id": "3uaQHd50uiZk"
      },
      "source": [
        "from google.colab import drive\n",
        "drive.mount('/content/drive',force_remount=True)"
      ],
      "execution_count": null,
      "outputs": []
    },
    {
      "cell_type": "code",
      "metadata": {
        "id": "QIAV8cCXTx-4"
      },
      "source": [
        "!mkdir MyDrive   \n",
        "!mount --bind /content/drive/My\\ Drive /content/MyDrive"
      ],
      "execution_count": null,
      "outputs": []
    },
    {
      "cell_type": "markdown",
      "metadata": {
        "id": "evXce7PHiCTj"
      },
      "source": [
        "## Installing packages"
      ]
    },
    {
      "cell_type": "code",
      "metadata": {
        "id": "hxIW3wpDTkzf"
      },
      "source": [
        "#%%capture\n",
        "!pip install rpy2 "
      ],
      "execution_count": null,
      "outputs": []
    },
    {
      "cell_type": "code",
      "metadata": {
        "id": "d65pSmSF17oc"
      },
      "source": [
        "pip install make"
      ],
      "execution_count": null,
      "outputs": []
    },
    {
      "cell_type": "code",
      "metadata": {
        "id": "SCXxenvfA3X5"
      },
      "source": [
        "#%%capture\n",
        "!pip install scanpy[louvain] anndata2ri scrublet loompy "
      ],
      "execution_count": null,
      "outputs": []
    },
    {
      "cell_type": "code",
      "metadata": {
        "id": "S4kRGfRWRjGn",
        "cellView": "both"
      },
      "source": [
        "#%%capture\n",
        "%%!\n",
        "git clone https://github.com/afvallejo/scanpy\n",
        "cd scanpy\n",
        "pip install -e .\n",
        "cd .."
      ],
      "execution_count": null,
      "outputs": []
    },
    {
      "cell_type": "code",
      "metadata": {
        "id": "GFe9762shYOc"
      },
      "source": [
        "pip install cellrank"
      ],
      "execution_count": null,
      "outputs": []
    },
    {
      "cell_type": "code",
      "metadata": {
        "id": "RANsi-anMW2b"
      },
      "source": [
        " pip install llvmlite --ignore-installed"
      ],
      "execution_count": null,
      "outputs": []
    },
    {
      "cell_type": "code",
      "metadata": {
        "id": "yS1c-HuKEXih"
      },
      "source": [
        "!conda install -c conda-forge -c bioconda cellrank"
      ],
      "execution_count": null,
      "outputs": []
    },
    {
      "cell_type": "code",
      "metadata": {
        "id": "zJZG6TF0DBgn"
      },
      "source": [
        "%load_ext rpy2.ipython"
      ],
      "execution_count": null,
      "outputs": []
    },
    {
      "cell_type": "code",
      "metadata": {
        "id": "H-GsqdVjhzLq"
      },
      "source": [
        "%%R\n",
        "parallel::detectCores()"
      ],
      "execution_count": null,
      "outputs": []
    },
    {
      "cell_type": "code",
      "metadata": {
        "id": "Y_yK99OZEziE"
      },
      "source": [
        "%%time\n",
        "!Rscript -e \"options(Ncpus = 4)\" -e \"install.packages('BiocManager')\" -e \"BiocManager::install(c('DropletUtils', 'scater','scRNAseq'))\" "
      ],
      "execution_count": null,
      "outputs": []
    },
    {
      "cell_type": "code",
      "metadata": {
        "id": "VMtQSVNH2gON"
      },
      "source": [
        "import os\n",
        "os.kill(os.getpid(), 9)"
      ],
      "execution_count": null,
      "outputs": []
    },
    {
      "cell_type": "markdown",
      "metadata": {
        "id": "t2gGXPnOn3FD"
      },
      "source": [
        "## Load packages"
      ]
    },
    {
      "cell_type": "code",
      "metadata": {
        "id": "e_-1TbTiIBKC",
        "colab": {
          "base_uri": "https://localhost:8080/"
        },
        "outputId": "af51d1d2-34ee-44bb-9086-36d225fd4f12"
      },
      "source": [
        "import scanpy as sc\n",
        "\n",
        "# numpy et al.\n",
        "import numpy as np\n",
        "import sys\n",
        "import scipy as sp\n",
        "import pandas as pd\n",
        "import scrublet as scr\n",
        "import gc\n",
        "import loompy as lp\n",
        "import warnings\n",
        "import scanpy.external as sce\n",
        "\n",
        "# R integration\n",
        "from rpy2.robjects.packages import importr\n",
        "from rpy2.robjects.vectors import StrVector, FloatVector, ListVector\n",
        "import rpy2.robjects as ro\n",
        "import anndata2ri\n",
        "import rpy2.rinterface_lib.callbacks\n",
        "import logging\n",
        "from rpy2.robjects import pandas2ri, numpy2ri, r\n",
        "\n",
        "import matplotlib\n",
        "import matplotlib.pyplot as pl\n",
        "\n",
        "import seaborn as sb\n",
        "import re\n",
        "import datetime, time\n",
        "sc.settings.verbosity = 3               # verbosity: errors (0), warnings (1), info (2), hints (3)\n",
        "#sc.logging.print_versions()\n",
        "sc.logging.print_version_and_date()\n",
        "\n",
        "\n",
        "# R integration\n",
        "from rpy2.robjects.packages import importr\n",
        "from rpy2.robjects.vectors import StrVector, FloatVector, ListVector\n",
        "import rpy2.robjects as ro\n",
        "import anndata2ri\n",
        "import rpy2.rinterface_lib.callbacks\n",
        "import logging\n",
        "from rpy2.robjects import pandas2ri, numpy2ri, r\n",
        "import cellrank as cr\n",
        "\n",
        "%matplotlib inline\n",
        "\n",
        "# add extra code to the path\n",
        "import sys\n",
        "sys.path.append('/home/jupyter/bucket/sctoolkit/sctoolkit')\n",
        "from sctransform import sctransform\n",
        "from proportions import *\n",
        "\n",
        "\n",
        "from matplotlib import colors\n",
        "pl.rcParams['pdf.fonttype'] = 'truetype'\n",
        "sc.set_figure_params(vector_friendly=False,dpi_save=300,transparent=True)\n",
        "pl.rcParams['lines.linewidth'] = 0.1\n",
        "sc.set_figure_params(color_map='viridis')\n",
        "colorsComb = np.vstack([pl.cm.Reds(np.linspace(0, 1, 10)), pl.cm.Greys_r(np.linspace(0.7, 0.8, 0))])\n",
        "mymap = colors.LinearSegmentedColormap.from_list('my_colormap', colorsComb)\n",
        "\n",
        "\n",
        "cr.logging.print_versions()"
      ],
      "execution_count": null,
      "outputs": [
        {
          "output_type": "stream",
          "text": [
            "Running Scanpy 1.7.2, on 2021-05-23 18:17.\n"
          ],
          "name": "stdout"
        },
        {
          "output_type": "stream",
          "text": [
            "cellrank==1.3.1 scanpy==1.7.2 anndata==0.7.6 numpy==1.19.5 numba==0.51.2 scipy==1.6.3 pandas==1.2.4 pygpcca==1.0.2 scikit-learn==0.24.2 statsmodels==0.12.2 python-igraph==0.9.1 scvelo==0.2.3 pygam==0.8.0 matplotlib==3.4.2 seaborn==0.11.1\n"
          ],
          "name": "stderr"
        }
      ]
    },
    {
      "cell_type": "markdown",
      "metadata": {
        "id": "tRW_Dtqv9kAa"
      },
      "source": [
        "# Setup"
      ]
    },
    {
      "cell_type": "markdown",
      "metadata": {
        "id": "cV9xVzomjfe1"
      },
      "source": [
        "## set WD"
      ]
    },
    {
      "cell_type": "code",
      "metadata": {
        "colab": {
          "base_uri": "https://localhost:8080/"
        },
        "id": "MwOk4M3MO1Mp",
        "outputId": "c17ad41a-da2c-4c09-8103-f31454a5bbdc"
      },
      "source": [
        "%cd /home/jupyter/bucket/AD_Final/KB_cellbender/Kallisto_AD_FINAL/"
      ],
      "execution_count": null,
      "outputs": [
        {
          "output_type": "stream",
          "text": [
            "/home/jupyter/bucket/AD_Final/KB_cellbender/Kallisto_AD_FINAL\n"
          ],
          "name": "stdout"
        }
      ]
    },
    {
      "cell_type": "code",
      "metadata": {
        "id": "JLUeRkjKuz0_"
      },
      "source": [
        "folder='/home/jupyter/bucket/AD_Final/KB_cellbender/Kallisto_AD_FINAL/'\n",
        "\n",
        "samplename='Gex3'\n",
        "\n",
        "import os\n",
        "os.chdir(folder)\n",
        "if not os.path.exists('./figures'):\n",
        "    os.makedirs('./figures')"
      ],
      "execution_count": null,
      "outputs": []
    },
    {
      "cell_type": "code",
      "metadata": {
        "id": "2Tn_rG72wrdk"
      },
      "source": [],
      "execution_count": null,
      "outputs": []
    },
    {
      "cell_type": "code",
      "metadata": {
        "id": "NbQO5GHtmTS_"
      },
      "source": [
        "\"\"\"Functions for downstream work with outputs of remove-background.\"\"\"\n",
        "\n",
        "import tables\n",
        "import numpy as np\n",
        "import scipy.sparse as sp\n",
        "from typing import Dict\n",
        "\n",
        "\n",
        "def dict_from_h5(file: str) -> Dict[str, np.ndarray]:\n",
        "    \"\"\"Read in everything from an h5 file and put into a dictionary.\"\"\"\n",
        "    d = {}\n",
        "    with tables.open_file(file) as f:\n",
        "        # read in everything\n",
        "        for array in f.walk_nodes(\"/\", \"Array\"):\n",
        "            d[array.name] = array.read()\n",
        "    return d\n",
        "\n",
        "\n",
        "def anndata_from_h5(file: str,\n",
        "                    analyzed_barcodes_only: bool = True) -> 'anndata.AnnData':\n",
        "    \"\"\"Load an output h5 file into an AnnData object for downstream work.\n",
        "\n",
        "    Args:\n",
        "        file: The h5 file\n",
        "        analyzed_barcodes_only: False to load all barcodes, so that the size of\n",
        "            the AnnData object will match the size of the input raw count matrix.\n",
        "            True to load a limited set of barcodes: only those analyzed by the\n",
        "            algorithm. This allows relevant latent variables to be loaded\n",
        "            properly into adata.obs and adata.obsm, rather than adata.uns.\n",
        "\n",
        "    Returns:\n",
        "        adata: The anndata object, populated with inferred latent variables\n",
        "            and metadata.\n",
        "\n",
        "    \"\"\"\n",
        "\n",
        "    try:\n",
        "        import anndata\n",
        "    except ImportError:\n",
        "        raise ImportError('The anndata package must be installed to use the '\n",
        "                          'function anndata_from_h5()')\n",
        "\n",
        "    d = dict_from_h5(file)\n",
        "    X = sp.csc_matrix((d.pop('data'), d.pop('indices'), d.pop('indptr')),\n",
        "                      shape=d.pop('shape')).transpose().tocsr()\n",
        "\n",
        "    if analyzed_barcodes_only:\n",
        "        if 'barcodes_analyzed_inds' in d.keys():\n",
        "            X = X[d['barcodes_analyzed_inds'], :]\n",
        "            d['barcodes'] = d['barcodes'][d['barcodes_analyzed_inds']]\n",
        "        elif 'barcode_indices_for_latents' in d.keys():\n",
        "            X = X[d['barcode_indices_for_latents'], :]\n",
        "            d['barcodes'] = d['barcodes'][d['barcode_indices_for_latents']]\n",
        "        else:\n",
        "            print('Warning: analyzed_barcodes_only=True, but the key '\n",
        "                  '\"barcodes_analyzed_inds\" or \"barcode_indices_for_latents\" '\n",
        "                  'is missing from the h5 file. '\n",
        "                  'Will output all barcodes, and proceed as if '\n",
        "                  'analyzed_barcodes_only=False')\n",
        "\n",
        "    # Construct the count matrix.\n",
        "    adata = anndata.AnnData(X=X,\n",
        "                            obs={'barcode': d.pop('barcodes').astype(str)},\n",
        "                            var={'gene_name': (d.pop('gene_names') if 'gene_names' in d.keys()\n",
        "                                               else d.pop('name')).astype(str)})\n",
        "    adata.obs.set_index('barcode', inplace=True)\n",
        "    adata.var.set_index('gene_name', inplace=True)\n",
        "\n",
        "    # Add other information to the adata object in the appropriate slot.\n",
        "    for key, value in d.items():\n",
        "        try:\n",
        "            value = np.asarray(value)\n",
        "            if len(value.shape) == 0:\n",
        "                adata.uns[key] = value\n",
        "            elif value.shape[0] == X.shape[0]:\n",
        "                if (len(value.shape) < 2) or (value.shape[1] < 2):\n",
        "                    adata.obs[key] = value\n",
        "                else:\n",
        "                    adata.obsm[key] = value\n",
        "            elif value.shape[0] == X.shape[1]:\n",
        "                if value.dtype.name.startswith('bytes'):\n",
        "                    adata.var[key] = value.astype(str)\n",
        "                else:\n",
        "                    adata.var[key] = value\n",
        "            else:\n",
        "                adata.uns[key] = value\n",
        "        except Exception:\n",
        "            print('Unable to load data into AnnData: ', key, value, type(value))\n",
        "\n",
        "    if analyzed_barcodes_only:\n",
        "        for col in adata.obs.columns[adata.obs.columns.str.startswith('barcodes_analyzed')\n",
        "                                     | adata.obs.columns.str.startswith('barcode_indices')]:\n",
        "            try:\n",
        "                del adata.obs[col]\n",
        "            except Exception:\n",
        "                pass\n",
        "\n",
        "    return adata\n",
        "\n",
        "\n",
        "def load_anndata_from_input_and_output(input_file: str,\n",
        "                                       output_file: str,\n",
        "                                       analyzed_barcodes_only: bool = True,\n",
        "                                       input_layer_key: str = 'cellranger') -> 'anndata.AnnData':\n",
        "    \"\"\"Load remove-background output count matrix into an anndata object,\n",
        "    together with remove-background metadata and the raw input counts.\n",
        "\n",
        "    Args:\n",
        "        input_file: Raw h5 file used as input for remove-background.\n",
        "        output_file: Output h5 file created by remove-background (can be\n",
        "            filtered or not).\n",
        "        analyzed_barcodes_only: Argument passed to anndata_from_h5().\n",
        "            False to load all barcodes, so that the size of\n",
        "            the AnnData object will match the size of the input raw count matrix.\n",
        "            True to load a limited set of barcodes: only those analyzed by the\n",
        "            algorithm. This allows relevant latent variables to be loaded\n",
        "            properly into adata.obs and adata.obsm, rather than adata.uns.\n",
        "        input_layer_key: Key of the anndata.layer that is created for the raw\n",
        "            input count matrix.\n",
        "\n",
        "    Return:\n",
        "        adata_out: AnnData object with counts before and after remove-background,\n",
        "            as well as inferred latent variables from remove-background.\n",
        "\n",
        "    \"\"\"\n",
        "\n",
        "    # Load input data.\n",
        "    adata_raw = anndata_from_h5(input_file, analyzed_barcodes_only=False)\n",
        "\n",
        "    # Load remove-background output data.\n",
        "    adata_out = anndata_from_h5(output_file, analyzed_barcodes_only=analyzed_barcodes_only)\n",
        "\n",
        "    # Subset the raw dataset to the relevant barcodes.\n",
        "    adata_raw = adata_raw[adata_out.obs.index]\n",
        "\n",
        "    # Put count matrices into 'layers' in anndata for clarity.\n",
        "    adata_out.layers[input_layer_key] = adata_raw.X.copy()\n",
        "    adata_out.layers['cellbender'] = adata_out.X.copy()\n",
        "\n",
        "    # Pre-compute a bit of metadata.\n",
        "    adata_out.var['n_cellranger'] = np.array(adata_out.layers['cellranger'].sum(axis=0)).squeeze()\n",
        "    adata_out.var['n_cellbender'] = np.array(adata_out.layers['cellbender'].sum(axis=0)).squeeze()\n",
        "\n",
        "    return adata_out"
      ],
      "execution_count": null,
      "outputs": []
    },
    {
      "cell_type": "code",
      "metadata": {
        "id": "7BXuHQJ1wr8f"
      },
      "source": [],
      "execution_count": null,
      "outputs": []
    },
    {
      "cell_type": "code",
      "metadata": {
        "colab": {
          "base_uri": "https://localhost:8080/"
        },
        "id": "9ms88E9ovw5T",
        "outputId": "65f19736-8789-44c8-ce5b-65adec1219d8"
      },
      "source": [
        "adata = anndata_from_h5('Gex3/cellbender_filtered.h5',analyzed_barcodes_only = True)\n",
        "adata"
      ],
      "execution_count": null,
      "outputs": [
        {
          "output_type": "stream",
          "text": [
            "Warning: analyzed_barcodes_only=True, but the key \"barcodes_analyzed_inds\" or \"barcode_indices_for_latents\" is missing from the h5 file. Will output all barcodes, and proceed as if analyzed_barcodes_only=False\n"
          ],
          "name": "stdout"
        },
        {
          "output_type": "execute_result",
          "data": {
            "text/plain": [
              "AnnData object with n_obs × n_vars = 33371 × 60671\n",
              "    obs: 'latent_RT_efficiency', 'latent_cell_probability', 'latent_scale'\n",
              "    var: 'ambient_expression'\n",
              "    uns: 'contamination_fraction_params', 'fraction_data_used_for_testing', 'lambda_multiplier', 'overdispersion_mean_and_scale', 'target_false_positive_rate', 'test_elbo', 'test_epoch', 'training_elbo_per_epoch'\n",
              "    obsm: 'latent_gene_encoding'"
            ]
          },
          "metadata": {
            "tags": []
          },
          "execution_count": 13
        }
      ]
    },
    {
      "cell_type": "code",
      "metadata": {
        "id": "4-W8b7YZPHOF"
      },
      "source": [
        "adata.obs.index= adata.obs.index.str.replace(r'-1$', '')"
      ],
      "execution_count": null,
      "outputs": []
    },
    {
      "cell_type": "code",
      "metadata": {
        "id": "U-JSO65XwFTO",
        "colab": {
          "base_uri": "https://localhost:8080/"
        },
        "outputId": "57ccc8be-391a-4361-a8af-49122230f2c4"
      },
      "source": [
        "adata.X=adata.layers['spliced']+adata.layers['unspliced']\n",
        "#adata.X=adata.layers['spliced']\n",
        "adata.X = sp.sparse.csr_matrix(adata.X)\n",
        "\n",
        "t2g = pd.read_csv(\"/home/jupyter/bucket/veloindex/t2g.txt\", header=None, names=[\"tid\", \"gene_id\", \"gene_name\",'col1','col2','col3','col4'], sep=\"\\t\")\n",
        "t2g.index = t2g.tid\n",
        "t2g = t2g.loc[~t2g.index.duplicated(keep='first')]\n",
        "\n",
        "adata.var[\"gene_id\"] = adata.var.index.map(t2g[\"gene_id\"])\n",
        "adata.var.index = adata.var[\"gene_id\"]\n",
        "adata.var = adata.var.drop('gene_id', 1)\n",
        "adata.var_names_make_unique()"
      ],
      "execution_count": null,
      "outputs": [
        {
          "output_type": "stream",
          "text": [
            "/opt/conda/lib/python3.7/site-packages/anndata/utils.py:117: UserWarning: Suffix used (-[0-9]+) to deduplicate index values may make index values difficult to interpret. There values with a similar suffixes in the index. Consider using a different delimiter by passing `join={delimiter}`Example key collisions generated by the make_index_unique algorithm: ['SNORD116-1', 'SNORD116-2', 'SNORD116-3', 'SNORD116-4', 'SNORD116-5']\n"
          ],
          "name": "stderr"
        }
      ]
    },
    {
      "cell_type": "code",
      "metadata": {
        "id": "_Q0tWzZh2vCY"
      },
      "source": [
        "adata.obs['batch']=['Gex3']*adata.n_obs"
      ],
      "execution_count": null,
      "outputs": []
    },
    {
      "cell_type": "markdown",
      "metadata": {
        "id": "S6-xScc7hyCG"
      },
      "source": [
        " # QC and filtering"
      ]
    },
    {
      "cell_type": "code",
      "metadata": {
        "id": "UGZ_G0wuee0t",
        "colab": {
          "base_uri": "https://localhost:8080/"
        },
        "outputId": "fa93c25c-fcfd-4cb0-ae8c-009f242049de"
      },
      "source": [
        "# Quality control - calculate QC covariates\n",
        "adata.obs['n_counts'] = adata.X.sum(1)\n",
        "adata.obs['log_counts'] = np.log(adata.obs['n_counts'])\n",
        "adata.obs['n_genes'] = (adata.X > 0).sum(1)\n",
        "\n",
        "regex = re.compile('^(MT-).*', re.IGNORECASE)\n",
        "mito_genes = [l for l in adata.var_names for m in [regex.search(l)] if m]\n",
        "# for each cell compute fraction of counts in mito genes vs. all genes\n",
        "# the `.A1` is only necessary as X is sparse (to transform to a dense array after summing)\n",
        "adata.obs['mt_frac'] = np.sum(\n",
        "    adata[:, mito_genes].X, axis=1).A1 / np.sum(adata.X, axis=1).A1\n",
        "\n",
        "\n",
        "adata.var['mito'] = False\n",
        "adata.var.loc[mito_genes, 'mito'] = True\n",
        "print('Found {} mito genes and annotated.'.format(len(mito_genes)))\n",
        "\n",
        "sc.pp.calculate_qc_metrics(adata, qc_vars=['mito'], inplace=True)\n",
        "\n",
        "\n",
        "adata"
      ],
      "execution_count": null,
      "outputs": [
        {
          "output_type": "stream",
          "text": [
            "Found 0 mito genes and annotated.\n"
          ],
          "name": "stdout"
        },
        {
          "output_type": "execute_result",
          "data": {
            "text/plain": [
              "AnnData object with n_obs × n_vars = 33371 × 60671\n",
              "    obs: 'latent_RT_efficiency', 'latent_cell_probability', 'latent_scale', 'n_counts', 'log_counts', 'n_genes', 'mt_frac', 'n_genes_by_counts', 'log1p_n_genes_by_counts', 'total_counts', 'log1p_total_counts', 'pct_counts_in_top_50_genes', 'pct_counts_in_top_100_genes', 'pct_counts_in_top_200_genes', 'pct_counts_in_top_500_genes', 'total_counts_mito', 'log1p_total_counts_mito', 'pct_counts_mito'\n",
              "    var: 'ambient_expression', 'mito', 'n_cells_by_counts', 'mean_counts', 'log1p_mean_counts', 'pct_dropout_by_counts', 'total_counts', 'log1p_total_counts'\n",
              "    uns: 'contamination_fraction_params', 'fraction_data_used_for_testing', 'lambda_multiplier', 'overdispersion_mean_and_scale', 'target_false_positive_rate', 'test_elbo', 'test_epoch', 'training_elbo_per_epoch'\n",
              "    obsm: 'latent_gene_encoding'"
            ]
          },
          "metadata": {
            "tags": []
          },
          "execution_count": 14
        }
      ]
    },
    {
      "cell_type": "code",
      "metadata": {
        "id": "cRhtMJWBk3sb",
        "colab": {
          "base_uri": "https://localhost:8080/",
          "height": 618
        },
        "outputId": "b5fd7769-cb16-4677-8930-624801ea2739"
      },
      "source": [
        "#Thresholding decision: genes\n",
        "p6 = sb.distplot(adata.obs['n_genes'], kde=False, bins=60)\n",
        "pl.show()\n",
        "\n",
        "p7 = sb.distplot(adata.obs['n_genes'][adata.obs['n_genes']<1000], kde=False, bins=60)\n",
        "pl.show()"
      ],
      "execution_count": null,
      "outputs": [
        {
          "output_type": "display_data",
          "data": {
            "text/plain": [
              "<Figure size 320x320 with 1 Axes>"
            ],
            "image/png": "[encoded data removed]"
          },
          "metadata": {
            "tags": [],
            "needs_background": "light"
          }
        },
        {
          "output_type": "display_data",
          "data": {
            "text/plain": [
              "<Figure size 320x320 with 1 Axes>"
            ],
            "image/png": "[encoded data removed]"
          },
          "metadata": {
            "tags": [],
            "needs_background": "light"
          }
        }
      ]
    },
    {
      "cell_type": "code",
      "metadata": {
        "id": "xKbFrWYZSHE-",
        "colab": {
          "base_uri": "https://localhost:8080/",
          "height": 923
        },
        "outputId": "48a6e8b8-c55b-449e-8cc4-774b175c7243"
      },
      "source": [
        "#Thresholding decision: counts\n",
        "p3 = sb.distplot(adata.obs['n_counts'], kde=False)\n",
        "pl.show()\n",
        "\n",
        "p4 = sb.distplot(adata.obs['n_counts'][adata.obs['n_counts']<2000], kde=False, bins=60)\n",
        "pl.show()\n",
        "\n",
        "p5 = sb.distplot(adata.obs['n_counts'][adata.obs['n_counts']>10000], kde=False, bins=60)\n",
        "pl.show()"
      ],
      "execution_count": null,
      "outputs": [
        {
          "output_type": "display_data",
          "data": {
            "text/plain": [
              "<Figure size 320x320 with 1 Axes>"
            ],
            "image/png": "[encoded data removed]"
          },
          "metadata": {
            "tags": [],
            "needs_background": "light"
          }
        },
        {
          "output_type": "display_data",
          "data": {
            "text/plain": [
              "<Figure size 320x320 with 1 Axes>"
            ],
            "image/png": "[encoded data removed]"
          },
          "metadata": {
            "tags": [],
            "needs_background": "light"
          }
        },
        {
          "output_type": "display_data",
          "data": {
            "text/plain": [
              "<Figure size 320x320 with 1 Axes>"
            ],
            "image/png": "[encoded data removed]"
          },
          "metadata": {
            "tags": [],
            "needs_background": "light"
          }
        }
      ]
    },
    {
      "cell_type": "markdown",
      "metadata": {
        "id": "pF_aNT-mls1a"
      },
      "source": [
        "## Filtering"
      ]
    },
    {
      "cell_type": "code",
      "metadata": {
        "id": "zAoTnbDlloAq",
        "colab": {
          "base_uri": "https://localhost:8080/"
        },
        "outputId": "3a6c67f4-d7fb-4a7c-f8e8-044bbbd3bcd1"
      },
      "source": [
        "# Filter cells according to identified QC thresholds:\n",
        "print('Total number of cells: {:d}'.format(adata.n_obs))\n",
        "\n",
        "sc.pp.filter_cells(adata, min_counts = 200)\n",
        "print('Number of cells after min count filter: {:d}'.format(adata.n_obs))\n",
        "\n",
        "sc.pp.filter_cells(adata, max_counts = 100000)\n",
        "print('Number of cells after max count filter: {:d}'.format(adata.n_obs))\n",
        "\n",
        "adata = adata[adata.obs['mt_frac'] < 0.3]\n",
        "print('Number of cells after MT filter: {:d}'.format(adata.n_obs))\n",
        "\n",
        "sc.pp.filter_cells(adata, min_genes = 100)\n",
        "print('Number of cells after gene filter: {:d}'.format(adata.n_obs))"
      ],
      "execution_count": null,
      "outputs": [
        {
          "output_type": "stream",
          "text": [
            "filtered out 11305 cells that have less than 200 counts\n"
          ],
          "name": "stderr"
        },
        {
          "output_type": "stream",
          "text": [
            "Total number of cells: 33371\n",
            "Number of cells after min count filter: 22066\n",
            "Number of cells after max count filter: 22066\n",
            "Number of cells after MT filter: 22066\n"
          ],
          "name": "stdout"
        },
        {
          "output_type": "stream",
          "text": [
            "filtered out 12683 cells that have less than 100 genes expressed\n",
            "Trying to set attribute `.obs` of view, copying.\n"
          ],
          "name": "stderr"
        },
        {
          "output_type": "stream",
          "text": [
            "Number of cells after gene filter: 9383\n"
          ],
          "name": "stdout"
        }
      ]
    },
    {
      "cell_type": "code",
      "metadata": {
        "id": "mJMlQv2hlsK9",
        "colab": {
          "base_uri": "https://localhost:8080/",
          "height": 453
        },
        "outputId": "cd3b3784-7b81-4fb8-fc52-518991e0d303"
      },
      "source": [
        "sb.set_context('paper')\n",
        "\n",
        "fig, (ax1, ax2, ax3) = pl.subplots(1, 3, figsize=(6, 3), dpi=150, sharey=False)\n",
        "adata.obs['n_genes']\n",
        "\n",
        "sb.distplot( adata.obs['n_genes'], ax=ax1, norm_hist=True, bins=10)\n",
        "sb.distplot( adata.obs['n_counts'], ax=ax2, norm_hist=True, bins=10)\n",
        "sb.distplot( adata.obs['mt_frac'], ax=ax3, norm_hist=True, bins=100)\n",
        "\n",
        "ax1.title.set_text('n_genes')\n",
        "ax2.title.set_text('n_counts')\n",
        "ax3.title.set_text('mt_frac')\n",
        "\n",
        "fig.text(0.00, 0.5, 'Frequency', ha='center', va='center', rotation='vertical', size='x-large')\n",
        "\n",
        "fig.tight_layout()\n",
        "savefig=samplename + '_filtering_panel_postfilter1.pdf'\n",
        "fig.savefig(savefig, dpi=300, bbox_inches='tight')"
      ],
      "execution_count": null,
      "outputs": [
        {
          "output_type": "display_data",
          "data": {
            "text/plain": [
              "<Figure size 900x450 with 3 Axes>"
            ],
            "image/png": "[encoded data removed]"
          },
          "metadata": {
            "tags": [],
            "needs_background": "light"
          }
        }
      ]
    },
    {
      "cell_type": "code",
      "metadata": {
        "id": "Llecslm1nJHS",
        "colab": {
          "base_uri": "https://localhost:8080/",
          "height": 421
        },
        "outputId": "42315fe6-c422-439b-c810-4a8a06d358f7"
      },
      "source": [
        "# plot percentage of mitochondtial genes versus count depth and n_genes\n",
        "# compute qc metrics\n",
        "regex = re.compile('^(MT-).*', re.IGNORECASE)\n",
        "mito_genes = [l for l in adata.var_names for m in [regex.search(l)] if m]\n",
        "adata.var['mito'] = False\n",
        "adata.var.loc[mito_genes, 'mito'] = True\n",
        "print('Found {} mito genes and annotated.'.format(len(mito_genes)))\n",
        "\n",
        "sc.pp.calculate_qc_metrics(adata, qc_vars=['mito'], inplace=True)\n",
        "\n",
        "pl.rcParams['figure.figsize']=(5,5) #rescale figures\n",
        "sc.pl.scatter(adata, x='total_counts', y='n_genes', color='mt_frac',save='.pdf')"
      ],
      "execution_count": null,
      "outputs": [
        {
          "output_type": "stream",
          "text": [
            "Found 37 mito genes and annotated.\n"
          ],
          "name": "stdout"
        },
        {
          "output_type": "stream",
          "text": [
            "WARNING: saving figure to file figures/scatter.pdf\n"
          ],
          "name": "stderr"
        },
        {
          "output_type": "display_data",
          "data": {
            "text/plain": [
              "<Figure size 471x400 with 2 Axes>"
            ],
            "image/png": "[encoded data removed]"
          },
          "metadata": {
            "tags": [],
            "needs_background": "light"
          }
        }
      ]
    },
    {
      "cell_type": "code",
      "metadata": {
        "id": "JxYhGoWhjuse",
        "colab": {
          "base_uri": "https://localhost:8080/",
          "height": 466
        },
        "outputId": "2c4dfe16-c207-486f-f770-01c3194a67b8"
      },
      "source": [
        "adata.obs"
      ],
      "execution_count": null,
      "outputs": [
        {
          "output_type": "execute_result",
          "data": {
            "text/plain": [
              "                 batch  n_counts  log_counts  n_genes   mt_frac  \\\n",
              "barcode                                                           \n",
              "AAACCCACAAATACGA  Gex3    3261.0    8.089789     1302  0.018399   \n",
              "AAACCCACACCTGCTT  Gex3   13947.0    9.543019     3777  0.008604   \n",
              "AAACCCACACGATAGG  Gex3    4347.0    8.377241     1870  0.060732   \n",
              "AAACCCACAGGTGGAT  Gex3    6859.0    8.833317     2019  0.023181   \n",
              "AAACCCAGTACAGTAA  Gex3    1618.0    7.388946      796  0.014215   \n",
              "...                ...       ...         ...      ...       ...   \n",
              "TTTGTTGAGTGATCGG  Gex3     565.0    6.336826      343  0.185841   \n",
              "TTTGTTGCACTGGCCA  Gex3    8596.0    9.059052     2213  0.009074   \n",
              "TTTGTTGCAGACCGCT  Gex3    2680.0    7.893572     1236  0.026119   \n",
              "TTTGTTGGTTCCTTGC  Gex3    9028.0    9.108087     2223  0.023593   \n",
              "TTTGTTGGTTTCCCAC  Gex3     378.0    5.934894      190  0.018519   \n",
              "\n",
              "                  n_genes_by_counts  log1p_n_genes_by_counts  total_counts  \\\n",
              "barcode                                                                      \n",
              "AAACCCACAAATACGA               1302                 7.172425        3261.0   \n",
              "AAACCCACACCTGCTT               3777                 8.236950       13947.0   \n",
              "AAACCCACACGATAGG               1870                 7.534228        4347.0   \n",
              "AAACCCACAGGTGGAT               2019                 7.610853        6859.0   \n",
              "AAACCCAGTACAGTAA                796                 6.680855        1618.0   \n",
              "...                             ...                      ...           ...   \n",
              "TTTGTTGAGTGATCGG                343                 5.840642         565.0   \n",
              "TTTGTTGCACTGGCCA               2213                 7.702556        8596.0   \n",
              "TTTGTTGCAGACCGCT               1236                 7.120444        2680.0   \n",
              "TTTGTTGGTTCCTTGC               2223                 7.707063        9028.0   \n",
              "TTTGTTGGTTTCCCAC                190                 5.252273         378.0   \n",
              "\n",
              "                  log1p_total_counts  pct_counts_in_top_50_genes  \\\n",
              "barcode                                                            \n",
              "AAACCCACAAATACGA            8.090096                   39.558418   \n",
              "AAACCCACACCTGCTT            9.543092                   23.653832   \n",
              "AAACCCACACGATAGG            8.377471                   31.677019   \n",
              "AAACCCACAGGTGGAT            8.833463                   31.258201   \n",
              "AAACCCAGTACAGTAA            7.389564                   30.902349   \n",
              "...                              ...                         ...   \n",
              "TTTGTTGAGTGATCGG            6.338594                   48.141593   \n",
              "TTTGTTGCACTGGCCA            9.059169                   33.480689   \n",
              "TTTGTTGCAGACCGCT            7.893945                   34.514925   \n",
              "TTTGTTGGTTCCTTGC            9.108197                   36.143110   \n",
              "TTTGTTGGTTTCCCAC            5.937536                   62.433862   \n",
              "\n",
              "                  pct_counts_in_top_100_genes  pct_counts_in_top_200_genes  \\\n",
              "barcode                                                                      \n",
              "AAACCCACAAATACGA                    46.826127                    57.068384   \n",
              "AAACCCACACCTGCTT                    30.056643                    39.047824   \n",
              "AAACCCACACGATAGG                    39.038417                    48.148148   \n",
              "AAACCCACAGGTGGAT                    40.078729                    51.027847   \n",
              "AAACCCAGTACAGTAA                    43.263288                    58.343634   \n",
              "...                                       ...                          ...   \n",
              "TTTGTTGAGTGATCGG                    56.991150                    74.690265   \n",
              "TTTGTTGCACTGGCCA                    42.519777                    53.559795   \n",
              "TTTGTTGCAGACCGCT                    42.574627                    53.731343   \n",
              "TTTGTTGGTTCCTTGC                    44.638901                    55.272486   \n",
              "TTTGTTGGTTTCCCAC                    76.190476                   100.000000   \n",
              "\n",
              "                  pct_counts_in_top_500_genes  total_counts_mito  \\\n",
              "barcode                                                            \n",
              "AAACCCACAAATACGA                    75.406317               60.0   \n",
              "AAACCCACACCTGCTT                    55.122966              120.0   \n",
              "AAACCCACACGATAGG                    64.665286              264.0   \n",
              "AAACCCACAGGTGGAT                    69.266657              159.0   \n",
              "AAACCCAGTACAGTAA                    81.705810               23.0   \n",
              "...                                       ...                ...   \n",
              "TTTGTTGAGTGATCGG                   100.000000              105.0   \n",
              "TTTGTTGCACTGGCCA                    70.812006               78.0   \n",
              "TTTGTTGCAGACCGCT                    72.537313               70.0   \n",
              "TTTGTTGGTTCCTTGC                    72.031458              213.0   \n",
              "TTTGTTGGTTTCCCAC                   100.000000                7.0   \n",
              "\n",
              "                  log1p_total_counts_mito  pct_counts_mito  \n",
              "barcode                                                     \n",
              "AAACCCACAAATACGA                 4.110874         1.839926  \n",
              "AAACCCACACCTGCTT                 4.795791         0.860400  \n",
              "AAACCCACACGATAGG                 5.579730         6.073154  \n",
              "AAACCCACAGGTGGAT                 5.075174         2.318122  \n",
              "AAACCCAGTACAGTAA                 3.178054         1.421508  \n",
              "...                                   ...              ...  \n",
              "TTTGTTGAGTGATCGG                 4.663439        18.584070  \n",
              "TTTGTTGCACTGGCCA                 4.369448         0.907399  \n",
              "TTTGTTGCAGACCGCT                 4.262680         2.611940  \n",
              "TTTGTTGGTTCCTTGC                 5.365976         2.359327  \n",
              "TTTGTTGGTTTCCCAC                 2.079442         1.851852  \n",
              "\n",
              "[6530 rows x 16 columns]"
            ],
            "text/html": [
              "<div>\n",
              "<style scoped>\n",
              "    .dataframe tbody tr th:only-of-type {\n",
              "        vertical-align: middle;\n",
              "    }\n",
              "\n",
              "    .dataframe tbody tr th {\n",
              "        vertical-align: top;\n",
              "    }\n",
              "\n",
              "    .dataframe thead th {\n",
              "        text-align: right;\n",
              "    }\n",
              "</style>\n",
              "<table border=\"1\" class=\"dataframe\">\n",
              "  <thead>\n",
              "    <tr style=\"text-align: right;\">\n",
              "      <th></th>\n",
              "      <th>batch</th>\n",
              "      <th>n_counts</th>\n",
              "      <th>log_counts</th>\n",
              "      <th>n_genes</th>\n",
              "      <th>mt_frac</th>\n",
              "      <th>n_genes_by_counts</th>\n",
              "      <th>log1p_n_genes_by_counts</th>\n",
              "      <th>total_counts</th>\n",
              "      <th>log1p_total_counts</th>\n",
              "      <th>pct_counts_in_top_50_genes</th>\n",
              "      <th>pct_counts_in_top_100_genes</th>\n",
              "      <th>pct_counts_in_top_200_genes</th>\n",
              "      <th>pct_counts_in_top_500_genes</th>\n",
              "      <th>total_counts_mito</th>\n",
              "      <th>log1p_total_counts_mito</th>\n",
              "      <th>pct_counts_mito</th>\n",
              "    </tr>\n",
              "    <tr>\n",
              "      <th>barcode</th>\n",
              "      <th></th>\n",
              "      <th></th>\n",
              "      <th></th>\n",
              "      <th></th>\n",
              "      <th></th>\n",
              "      <th></th>\n",
              "      <th></th>\n",
              "      <th></th>\n",
              "      <th></th>\n",
              "      <th></th>\n",
              "      <th></th>\n",
              "      <th></th>\n",
              "      <th></th>\n",
              "      <th></th>\n",
              "      <th></th>\n",
              "      <th></th>\n",
              "    </tr>\n",
              "  </thead>\n",
              "  <tbody>\n",
              "    <tr>\n",
              "      <th>AAACCCACAAATACGA</th>\n",
              "      <td>Gex3</td>\n",
              "      <td>3261.0</td>\n",
              "      <td>8.089789</td>\n",
              "      <td>1302</td>\n",
              "      <td>0.018399</td>\n",
              "      <td>1302</td>\n",
              "      <td>7.172425</td>\n",
              "      <td>3261.0</td>\n",
              "      <td>8.090096</td>\n",
              "      <td>39.558418</td>\n",
              "      <td>46.826127</td>\n",
              "      <td>57.068384</td>\n",
              "      <td>75.406317</td>\n",
              "      <td>60.0</td>\n",
              "      <td>4.110874</td>\n",
              "      <td>1.839926</td>\n",
              "    </tr>\n",
              "    <tr>\n",
              "      <th>AAACCCACACCTGCTT</th>\n",
              "      <td>Gex3</td>\n",
              "      <td>13947.0</td>\n",
              "      <td>9.543019</td>\n",
              "      <td>3777</td>\n",
              "      <td>0.008604</td>\n",
              "      <td>3777</td>\n",
              "      <td>8.236950</td>\n",
              "      <td>13947.0</td>\n",
              "      <td>9.543092</td>\n",
              "      <td>23.653832</td>\n",
              "      <td>30.056643</td>\n",
              "      <td>39.047824</td>\n",
              "      <td>55.122966</td>\n",
              "      <td>120.0</td>\n",
              "      <td>4.795791</td>\n",
              "      <td>0.860400</td>\n",
              "    </tr>\n",
              "    <tr>\n",
              "      <th>AAACCCACACGATAGG</th>\n",
              "      <td>Gex3</td>\n",
              "      <td>4347.0</td>\n",
              "      <td>8.377241</td>\n",
              "      <td>1870</td>\n",
              "      <td>0.060732</td>\n",
              "      <td>1870</td>\n",
              "      <td>7.534228</td>\n",
              "      <td>4347.0</td>\n",
              "      <td>8.377471</td>\n",
              "      <td>31.677019</td>\n",
              "      <td>39.038417</td>\n",
              "      <td>48.148148</td>\n",
              "      <td>64.665286</td>\n",
              "      <td>264.0</td>\n",
              "      <td>5.579730</td>\n",
              "      <td>6.073154</td>\n",
              "    </tr>\n",
              "    <tr>\n",
              "      <th>AAACCCACAGGTGGAT</th>\n",
              "      <td>Gex3</td>\n",
              "      <td>6859.0</td>\n",
              "      <td>8.833317</td>\n",
              "      <td>2019</td>\n",
              "      <td>0.023181</td>\n",
              "      <td>2019</td>\n",
              "      <td>7.610853</td>\n",
              "      <td>6859.0</td>\n",
              "      <td>8.833463</td>\n",
              "      <td>31.258201</td>\n",
              "      <td>40.078729</td>\n",
              "      <td>51.027847</td>\n",
              "      <td>69.266657</td>\n",
              "      <td>159.0</td>\n",
              "      <td>5.075174</td>\n",
              "      <td>2.318122</td>\n",
              "    </tr>\n",
              "    <tr>\n",
              "      <th>AAACCCAGTACAGTAA</th>\n",
              "      <td>Gex3</td>\n",
              "      <td>1618.0</td>\n",
              "      <td>7.388946</td>\n",
              "      <td>796</td>\n",
              "      <td>0.014215</td>\n",
              "      <td>796</td>\n",
              "      <td>6.680855</td>\n",
              "      <td>1618.0</td>\n",
              "      <td>7.389564</td>\n",
              "      <td>30.902349</td>\n",
              "      <td>43.263288</td>\n",
              "      <td>58.343634</td>\n",
              "      <td>81.705810</td>\n",
              "      <td>23.0</td>\n",
              "      <td>3.178054</td>\n",
              "      <td>1.421508</td>\n",
              "    </tr>\n",
              "    <tr>\n",
              "      <th>...</th>\n",
              "      <td>...</td>\n",
              "      <td>...</td>\n",
              "      <td>...</td>\n",
              "      <td>...</td>\n",
              "      <td>...</td>\n",
              "      <td>...</td>\n",
              "      <td>...</td>\n",
              "      <td>...</td>\n",
              "      <td>...</td>\n",
              "      <td>...</td>\n",
              "      <td>...</td>\n",
              "      <td>...</td>\n",
              "      <td>...</td>\n",
              "      <td>...</td>\n",
              "      <td>...</td>\n",
              "      <td>...</td>\n",
              "    </tr>\n",
              "    <tr>\n",
              "      <th>TTTGTTGAGTGATCGG</th>\n",
              "      <td>Gex3</td>\n",
              "      <td>565.0</td>\n",
              "      <td>6.336826</td>\n",
              "      <td>343</td>\n",
              "      <td>0.185841</td>\n",
              "      <td>343</td>\n",
              "      <td>5.840642</td>\n",
              "      <td>565.0</td>\n",
              "      <td>6.338594</td>\n",
              "      <td>48.141593</td>\n",
              "      <td>56.991150</td>\n",
              "      <td>74.690265</td>\n",
              "      <td>100.000000</td>\n",
              "      <td>105.0</td>\n",
              "      <td>4.663439</td>\n",
              "      <td>18.584070</td>\n",
              "    </tr>\n",
              "    <tr>\n",
              "      <th>TTTGTTGCACTGGCCA</th>\n",
              "      <td>Gex3</td>\n",
              "      <td>8596.0</td>\n",
              "      <td>9.059052</td>\n",
              "      <td>2213</td>\n",
              "      <td>0.009074</td>\n",
              "      <td>2213</td>\n",
              "      <td>7.702556</td>\n",
              "      <td>8596.0</td>\n",
              "      <td>9.059169</td>\n",
              "      <td>33.480689</td>\n",
              "      <td>42.519777</td>\n",
              "      <td>53.559795</td>\n",
              "      <td>70.812006</td>\n",
              "      <td>78.0</td>\n",
              "      <td>4.369448</td>\n",
              "      <td>0.907399</td>\n",
              "    </tr>\n",
              "    <tr>\n",
              "      <th>TTTGTTGCAGACCGCT</th>\n",
              "      <td>Gex3</td>\n",
              "      <td>2680.0</td>\n",
              "      <td>7.893572</td>\n",
              "      <td>1236</td>\n",
              "      <td>0.026119</td>\n",
              "      <td>1236</td>\n",
              "      <td>7.120444</td>\n",
              "      <td>2680.0</td>\n",
              "      <td>7.893945</td>\n",
              "      <td>34.514925</td>\n",
              "      <td>42.574627</td>\n",
              "      <td>53.731343</td>\n",
              "      <td>72.537313</td>\n",
              "      <td>70.0</td>\n",
              "      <td>4.262680</td>\n",
              "      <td>2.611940</td>\n",
              "    </tr>\n",
              "    <tr>\n",
              "      <th>TTTGTTGGTTCCTTGC</th>\n",
              "      <td>Gex3</td>\n",
              "      <td>9028.0</td>\n",
              "      <td>9.108087</td>\n",
              "      <td>2223</td>\n",
              "      <td>0.023593</td>\n",
              "      <td>2223</td>\n",
              "      <td>7.707063</td>\n",
              "      <td>9028.0</td>\n",
              "      <td>9.108197</td>\n",
              "      <td>36.143110</td>\n",
              "      <td>44.638901</td>\n",
              "      <td>55.272486</td>\n",
              "      <td>72.031458</td>\n",
              "      <td>213.0</td>\n",
              "      <td>5.365976</td>\n",
              "      <td>2.359327</td>\n",
              "    </tr>\n",
              "    <tr>\n",
              "      <th>TTTGTTGGTTTCCCAC</th>\n",
              "      <td>Gex3</td>\n",
              "      <td>378.0</td>\n",
              "      <td>5.934894</td>\n",
              "      <td>190</td>\n",
              "      <td>0.018519</td>\n",
              "      <td>190</td>\n",
              "      <td>5.252273</td>\n",
              "      <td>378.0</td>\n",
              "      <td>5.937536</td>\n",
              "      <td>62.433862</td>\n",
              "      <td>76.190476</td>\n",
              "      <td>100.000000</td>\n",
              "      <td>100.000000</td>\n",
              "      <td>7.0</td>\n",
              "      <td>2.079442</td>\n",
              "      <td>1.851852</td>\n",
              "    </tr>\n",
              "  </tbody>\n",
              "</table>\n",
              "<p>6530 rows × 16 columns</p>\n",
              "</div>"
            ]
          },
          "metadata": {
            "tags": []
          },
          "execution_count": 23
        }
      ]
    },
    {
      "cell_type": "code",
      "metadata": {
        "id": "O1bZZw3JRJL5"
      },
      "source": [
        "pl.rcParams['figure.figsize']=(3,2)\n",
        "pl.rcParams['lines.linewidth'] = 0.1\n",
        "\n",
        "t1 = sc.pl.violin(adata, 'n_counts', groupby='sample', size=0.5, log=True, cut=0)\n",
        "t2 = sc.pl.violin(adata, 'n_genes', groupby='sample', size=0.5, log=True, cut=0)\n",
        "t3 = sc.pl.violin(adata, 'mt_frac', groupby='sample',size=0.5)"
      ],
      "execution_count": null,
      "outputs": []
    },
    {
      "cell_type": "code",
      "metadata": {
        "id": "K5dLkMUxhZIy",
        "colab": {
          "base_uri": "https://localhost:8080/",
          "height": 696
        },
        "outputId": "c798d294-68b3-465c-d2be-cc8577b79971"
      },
      "source": [
        "savefig=samplename + '_highest_expr_genes.pdf'\n",
        "sc.pl.highest_expr_genes(adata, n_top=40,save=savefig)"
      ],
      "execution_count": null,
      "outputs": [
        {
          "output_type": "stream",
          "text": [
            "normalizing counts per cell\n",
            "    finished (0:00:00)\n",
            "WARNING: saving figure to file figures/highest_expr_genesGex3_highest_expr_genes.pdf\n"
          ],
          "name": "stderr"
        },
        {
          "output_type": "display_data",
          "data": {
            "text/plain": [
              "<Figure size 400x760 with 1 Axes>"
            ],
            "image/png": "[encoded data removed]"
          },
          "metadata": {
            "tags": [],
            "needs_background": "light"
          }
        }
      ]
    },
    {
      "cell_type": "code",
      "metadata": {
        "id": "9QsOgtrziO08"
      },
      "source": [
        "print(adata.obs['sample'].value_counts())"
      ],
      "execution_count": null,
      "outputs": []
    },
    {
      "cell_type": "code",
      "metadata": {
        "id": "pLWFYfqliPZc",
        "colab": {
          "base_uri": "https://localhost:8080/"
        },
        "outputId": "10c0d97a-5a9e-4f84-f504-cc15d432fe48"
      },
      "source": [
        "adata.obs['n_counts'].sum()/adata.obs['sample'].value_counts()"
      ],
      "execution_count": null,
      "outputs": [
        {
          "output_type": "execute_result",
          "data": {
            "text/plain": [
              "sample1    6292.179905\n",
              "Name: sample, dtype: float64"
            ]
          },
          "metadata": {
            "tags": []
          },
          "execution_count": 29
        }
      ]
    },
    {
      "cell_type": "code",
      "metadata": {
        "id": "Wui5Vuk9iRDy",
        "colab": {
          "base_uri": "https://localhost:8080/"
        },
        "outputId": "c91671d7-cd3e-4876-9a6c-cf09e31c480e"
      },
      "source": [
        "adata.obs['n_counts'].sum()"
      ],
      "execution_count": null,
      "outputs": [
        {
          "output_type": "execute_result",
          "data": {
            "text/plain": [
              "27238624.0"
            ]
          },
          "metadata": {
            "tags": []
          },
          "execution_count": 26
        }
      ]
    },
    {
      "cell_type": "code",
      "metadata": {
        "id": "vWjIscH6PyzM"
      },
      "source": [
        "adata.var_names_make_unique()"
      ],
      "execution_count": null,
      "outputs": []
    },
    {
      "cell_type": "code",
      "metadata": {
        "id": "DHK5Fd2iPBjn"
      },
      "source": [
        "#sc.pp.downsample_counts(adata, counts_per_cell=180, random_state=0, replace=True)"
      ],
      "execution_count": null,
      "outputs": []
    },
    {
      "cell_type": "markdown",
      "metadata": {
        "id": "5i1X9L0FAwCf"
      },
      "source": [
        "# Filter doublets with scrublet"
      ]
    },
    {
      "cell_type": "code",
      "metadata": {
        "id": "4N7RTihXuWcx",
        "colab": {
          "base_uri": "https://localhost:8080/"
        },
        "outputId": "b976f7ff-0a50-4c83-88fa-322e13431f39"
      },
      "source": [
        "sce.pp.scrublet(adata,\n",
        "    adata_sim = None,\n",
        "    sim_doublet_ratio= 2.0,\n",
        "    expected_doublet_rate = 0.05,\n",
        "    stdev_doublet_rate = 0.02,\n",
        "    synthetic_doublet_umi_subsampling= 1.0,\n",
        "    knn_dist_metric = 'euclidean',\n",
        "    normalize_variance= True,\n",
        "    log_transform= False,\n",
        "    mean_center= True,\n",
        "    n_prin_comps= 30,\n",
        "    use_approx_neighbors= True,\n",
        "    get_doublet_neighbor_parents= False,\n",
        "    n_neighbors = None,\n",
        "    threshold = None,\n",
        "    verbose = True,\n",
        "    copy= False,\n",
        "random_state= 0,)"
      ],
      "execution_count": null,
      "outputs": [
        {
          "output_type": "stream",
          "text": [
            "Running Scrublet\n",
            "filtered out 33412 genes that are detected in less than 3 cells\n",
            "normalizing counts per cell\n",
            "    finished (0:00:00)\n",
            "extracting highly variable genes\n",
            "    finished (0:00:00)\n",
            "--> added\n",
            "    'highly_variable', boolean vector (adata.var)\n",
            "    'means', float vector (adata.var)\n",
            "    'dispersions', float vector (adata.var)\n",
            "    'dispersions_norm', float vector (adata.var)\n",
            "/opt/conda/lib/python3.7/site-packages/scanpy/preprocessing/_normalization.py:138: UserWarning: Revieved a view of an AnnData. Making a copy.\n",
            "normalizing counts per cell\n",
            "    finished (0:00:00)\n",
            "normalizing counts per cell\n",
            "    finished (0:00:00)\n",
            "Embedding transcriptomes using PCA...\n",
            "    Scrublet finished (0:00:11)\n"
          ],
          "name": "stderr"
        },
        {
          "output_type": "stream",
          "text": [
            "Automatically set threshold at doublet score = 0.57\n",
            "Detected doublet rate = 0.2%\n",
            "Estimated detectable doublet fraction = 4.3%\n",
            "Overall doublet rate:\n",
            "\tExpected   = 5.0%\n",
            "\tEstimated  = 5.3%\n"
          ],
          "name": "stdout"
        }
      ]
    },
    {
      "cell_type": "code",
      "metadata": {
        "colab": {
          "base_uri": "https://localhost:8080/",
          "height": 318
        },
        "id": "oQk-hWXVPOTI",
        "outputId": "2f1a9e5f-c231-48c8-a101-edb2ca7ddd24"
      },
      "source": [
        "sce.pl.scrublet_score_distribution(adata)"
      ],
      "execution_count": null,
      "outputs": [
        {
          "output_type": "execute_result",
          "data": {
            "text/plain": [
              "(<Figure size 640x240 with 2 Axes>,\n",
              " array([<AxesSubplot:title={'center':'Observed transcriptomes'}, xlabel='Doublet score', ylabel='Prob. density'>,\n",
              "        <AxesSubplot:title={'center':'Simulated doublets'}, xlabel='Doublet score', ylabel='Prob. density'>],\n",
              "       dtype=object))"
            ]
          },
          "metadata": {
            "tags": []
          },
          "execution_count": 29
        },
        {
          "output_type": "display_data",
          "data": {
            "text/plain": [
              "<Figure size 640x240 with 2 Axes>"
            ],
            "image/png": "[encoded data removed]"
          },
          "metadata": {
            "tags": [],
            "needs_background": "light"
          }
        }
      ]
    },
    {
      "cell_type": "markdown",
      "metadata": {
        "id": "Vh41UlfrQSnj"
      },
      "source": [
        "## remove doublets"
      ]
    },
    {
      "cell_type": "code",
      "metadata": {
        "id": "gZdb-0PpA8I2",
        "colab": {
          "base_uri": "https://localhost:8080/"
        },
        "outputId": "84b44dc8-2ab7-4c5b-dba5-816450c43f03"
      },
      "source": [
        "adata2 = adata[adata.obs.predicted_doublet == False]\n",
        "adata2"
      ],
      "execution_count": null,
      "outputs": [
        {
          "output_type": "execute_result",
          "data": {
            "text/plain": [
              "View of AnnData object with n_obs × n_vars = 6515 × 60671\n",
              "    obs: 'batch', 'n_counts', 'log_counts', 'n_genes', 'mt_frac', 'n_genes_by_counts', 'log1p_n_genes_by_counts', 'total_counts', 'log1p_total_counts', 'pct_counts_in_top_50_genes', 'pct_counts_in_top_100_genes', 'pct_counts_in_top_200_genes', 'pct_counts_in_top_500_genes', 'total_counts_mito', 'log1p_total_counts_mito', 'pct_counts_mito', 'doublet_score', 'predicted_doublet'\n",
              "    var: 'gene_name', 'mito', 'n_cells_by_counts', 'mean_counts', 'log1p_mean_counts', 'pct_dropout_by_counts', 'total_counts', 'log1p_total_counts'\n",
              "    uns: 'scrublet'\n",
              "    layers: 'spliced', 'unspliced'"
            ]
          },
          "metadata": {
            "tags": []
          },
          "execution_count": 30
        }
      ]
    },
    {
      "cell_type": "markdown",
      "metadata": {
        "id": "V_IUOeyDb7j2"
      },
      "source": [
        "## Export H5AD"
      ]
    },
    {
      "cell_type": "code",
      "metadata": {
        "id": "h7CUss6bb_gv"
      },
      "source": [
        "clean=samplename+\"_clean.h5ad\"\n",
        "adata.write(clean)\n",
        "\n"
      ],
      "execution_count": null,
      "outputs": []
    },
    {
      "cell_type": "code",
      "metadata": {
        "id": "TNUh345It9D3"
      },
      "source": [
        "clean_Ndoublets=samplename+\"_clean_noDoublets.h5ad\"\n",
        "adata2.write(clean_Ndoublets)"
      ],
      "execution_count": null,
      "outputs": []
    },
    {
      "cell_type": "markdown",
      "metadata": {
        "id": "sLc11646_azB"
      },
      "source": [
        "# Tagging with HTO"
      ]
    },
    {
      "cell_type": "code",
      "metadata": {
        "colab": {
          "base_uri": "https://localhost:8080/"
        },
        "id": "tMjFyKJC-pLY",
        "outputId": "65ea6fe2-8b0c-4c7e-84c8-e7f568973285"
      },
      "source": [
        "HTO=sc.read('/home/jupyter/bucket/AD_Final/Aligned/HTO3/counts_unfiltered/adata.h5ad')\n",
        "HTO"
      ],
      "execution_count": null,
      "outputs": [
        {
          "output_type": "execute_result",
          "data": {
            "text/plain": [
              "AnnData object with n_obs × n_vars = 3513806 × 10\n",
              "    var: 'feature_name'"
            ]
          },
          "metadata": {
            "tags": []
          },
          "execution_count": 18
        }
      ]
    },
    {
      "cell_type": "code",
      "metadata": {
        "colab": {
          "base_uri": "https://localhost:8080/"
        },
        "id": "1Xbi6mtF-pV6",
        "outputId": "1408890a-1400-4ec9-e6e6-b025e687da9c"
      },
      "source": [
        "HTO_clean=HTO[HTO.obs_names.isin(adata.obs.index)].copy()\n",
        "HTO_clean"
      ],
      "execution_count": null,
      "outputs": [
        {
          "output_type": "execute_result",
          "data": {
            "text/plain": [
              "AnnData object with n_obs × n_vars = 9383 × 10\n",
              "    var: 'feature_name'"
            ]
          },
          "metadata": {
            "tags": []
          },
          "execution_count": 19
        }
      ]
    },
    {
      "cell_type": "code",
      "metadata": {
        "id": "2EnoN9KN-pYB"
      },
      "source": [
        "clean=samplename+\"_clean_HTO.h5ad\"\n",
        "HTO_clean.write(clean)"
      ],
      "execution_count": null,
      "outputs": []
    },
    {
      "cell_type": "code",
      "metadata": {
        "colab": {
          "base_uri": "https://localhost:8080/"
        },
        "id": "pdE59O8O0vMN",
        "outputId": "8bab20d2-8ae1-4bd3-eb5d-d478a56d937f"
      },
      "source": [
        "adata=adata[adata.obs_names.isin(HTO_clean.obs.index)].copy()\n",
        "adata"
      ],
      "execution_count": null,
      "outputs": [
        {
          "output_type": "execute_result",
          "data": {
            "text/plain": [
              "AnnData object with n_obs × n_vars = 9383 × 60671\n",
              "    obs: 'latent_RT_efficiency', 'latent_cell_probability', 'latent_scale', 'n_counts', 'log_counts', 'n_genes', 'mt_frac', 'n_genes_by_counts', 'log1p_n_genes_by_counts', 'total_counts', 'log1p_total_counts', 'pct_counts_in_top_50_genes', 'pct_counts_in_top_100_genes', 'pct_counts_in_top_200_genes', 'pct_counts_in_top_500_genes', 'total_counts_mito', 'log1p_total_counts_mito', 'pct_counts_mito'\n",
              "    var: 'ambient_expression', 'mito', 'n_cells_by_counts', 'mean_counts', 'log1p_mean_counts', 'pct_dropout_by_counts', 'total_counts', 'log1p_total_counts'\n",
              "    uns: 'contamination_fraction_params', 'fraction_data_used_for_testing', 'lambda_multiplier', 'overdispersion_mean_and_scale', 'target_false_positive_rate', 'test_elbo', 'test_epoch', 'training_elbo_per_epoch'\n",
              "    obsm: 'latent_gene_encoding'"
            ]
          },
          "metadata": {
            "tags": []
          },
          "execution_count": 21
        }
      ]
    },
    {
      "cell_type": "markdown",
      "metadata": {
        "id": "70CO_1OPAUr4"
      },
      "source": [
        "# tagging with hashsolo"
      ]
    },
    {
      "cell_type": "code",
      "metadata": {
        "colab": {
          "base_uri": "https://localhost:8080/"
        },
        "id": "xgdUFDdz-phK",
        "outputId": "cf5819ff-7740-435c-f180-d7e6500f8b23"
      },
      "source": [
        "adata=sc.read('Gex3_clean.h5ad')\n",
        "adata"
      ],
      "execution_count": null,
      "outputs": [
        {
          "output_type": "execute_result",
          "data": {
            "text/plain": [
              "AnnData object with n_obs × n_vars = 6530 × 60671\n",
              "    obs: 'batch', 'n_counts', 'log_counts', 'n_genes', 'mt_frac', 'n_genes_by_counts', 'log1p_n_genes_by_counts', 'total_counts', 'log1p_total_counts', 'pct_counts_in_top_50_genes', 'pct_counts_in_top_100_genes', 'pct_counts_in_top_200_genes', 'pct_counts_in_top_500_genes', 'total_counts_mito', 'log1p_total_counts_mito', 'pct_counts_mito', 'doublet_score', 'predicted_doublet'\n",
              "    var: 'gene_name', 'mito', 'n_cells_by_counts', 'mean_counts', 'log1p_mean_counts', 'pct_dropout_by_counts', 'total_counts', 'log1p_total_counts'\n",
              "    uns: 'scrublet'\n",
              "    layers: 'spliced', 'unspliced'"
            ]
          },
          "metadata": {
            "tags": []
          },
          "execution_count": 36
        }
      ]
    },
    {
      "cell_type": "code",
      "metadata": {
        "colab": {
          "base_uri": "https://localhost:8080/"
        },
        "id": "H4c7wXDX-pkm",
        "outputId": "743f928e-7db6-42bd-f4d6-ad7fd0d69097"
      },
      "source": [
        "HTO=sc.read('Gex3_clean_HTO.h5ad')\n",
        "HTO"
      ],
      "execution_count": null,
      "outputs": [
        {
          "output_type": "execute_result",
          "data": {
            "text/plain": [
              "AnnData object with n_obs × n_vars = 9383 × 10\n",
              "    var: 'feature_name'"
            ]
          },
          "metadata": {
            "tags": []
          },
          "execution_count": 22
        }
      ]
    },
    {
      "cell_type": "code",
      "metadata": {
        "colab": {
          "base_uri": "https://localhost:8080/"
        },
        "id": "FN-Kn-PdBlHE",
        "outputId": "499ff54d-e7f9-431f-d02c-fe2d251c50a9"
      },
      "source": [
        "sc.pp.filter_genes(HTO, min_counts=1e4)\n",
        "HTO.var_names"
      ],
      "execution_count": null,
      "outputs": [
        {
          "output_type": "stream",
          "text": [
            "filtered out 6 genes that are detected in less than 10000.0 counts\n"
          ],
          "name": "stderr"
        },
        {
          "output_type": "execute_result",
          "data": {
            "text/plain": [
              "Index(['HumanHTO1', 'HumanHTO2', 'HumanHTO3', 'HumanHTO4'], dtype='object', name='feature_id')"
            ]
          },
          "metadata": {
            "tags": []
          },
          "execution_count": 23
        }
      ]
    },
    {
      "cell_type": "code",
      "metadata": {
        "colab": {
          "base_uri": "https://localhost:8080/",
          "height": 436
        },
        "id": "u6MeEBBTMNsT",
        "outputId": "a30ca3d6-75cf-43df-a4e1-dcb1a6dcf585"
      },
      "source": [
        "dfdata=pd.DataFrame(HTO.X.toarray(),index=adata.obs.index)\n",
        "dfdata.columns = ['AD5_C_T_CT',\t'AD5_H_T_HT',\t'AD12_C_R_CR',\t'AD12_H_R_HR']\n",
        "HTO.obs=dfdata\n",
        "HTO.obs"
      ],
      "execution_count": null,
      "outputs": [
        {
          "output_type": "execute_result",
          "data": {
            "text/plain": [
              "                  AD5_C_T_CT  AD5_H_T_HT  AD12_C_R_CR  AD12_H_R_HR\n",
              "barcode                                                           \n",
              "GAAATGAAGAGATTCA        86.0        97.0        298.0        261.0\n",
              "GCACTAACACGTAACT       136.0        83.0        113.0        644.0\n",
              "GAACACTAGTCCTGTA      1005.0       487.0        318.0        703.0\n",
              "CACCAAAGTACAGAAT       121.0       396.0        154.0        314.0\n",
              "GCCATTCCAGCTGTGC       122.0       120.0        497.0       1409.0\n",
              "...                      ...         ...          ...          ...\n",
              "TTTCGATCATGGAAGC       113.0       118.0        209.0        294.0\n",
              "TTCCGTGCAAGTGGCA        51.0        44.0         67.0        180.0\n",
              "TGGAGGAGTATCAAGA       350.0        87.0        145.0        373.0\n",
              "ACCCAAACATCTCGTC       271.0        53.0        105.0        252.0\n",
              "GGTCACGAGTCTTCGA       114.0        86.0        152.0        897.0\n",
              "\n",
              "[9383 rows x 4 columns]"
            ],
            "text/html": [
              "<div>\n",
              "<style scoped>\n",
              "    .dataframe tbody tr th:only-of-type {\n",
              "        vertical-align: middle;\n",
              "    }\n",
              "\n",
              "    .dataframe tbody tr th {\n",
              "        vertical-align: top;\n",
              "    }\n",
              "\n",
              "    .dataframe thead th {\n",
              "        text-align: right;\n",
              "    }\n",
              "</style>\n",
              "<table border=\"1\" class=\"dataframe\">\n",
              "  <thead>\n",
              "    <tr style=\"text-align: right;\">\n",
              "      <th></th>\n",
              "      <th>AD5_C_T_CT</th>\n",
              "      <th>AD5_H_T_HT</th>\n",
              "      <th>AD12_C_R_CR</th>\n",
              "      <th>AD12_H_R_HR</th>\n",
              "    </tr>\n",
              "    <tr>\n",
              "      <th>barcode</th>\n",
              "      <th></th>\n",
              "      <th></th>\n",
              "      <th></th>\n",
              "      <th></th>\n",
              "    </tr>\n",
              "  </thead>\n",
              "  <tbody>\n",
              "    <tr>\n",
              "      <th>GAAATGAAGAGATTCA</th>\n",
              "      <td>86.0</td>\n",
              "      <td>97.0</td>\n",
              "      <td>298.0</td>\n",
              "      <td>261.0</td>\n",
              "    </tr>\n",
              "    <tr>\n",
              "      <th>GCACTAACACGTAACT</th>\n",
              "      <td>136.0</td>\n",
              "      <td>83.0</td>\n",
              "      <td>113.0</td>\n",
              "      <td>644.0</td>\n",
              "    </tr>\n",
              "    <tr>\n",
              "      <th>GAACACTAGTCCTGTA</th>\n",
              "      <td>1005.0</td>\n",
              "      <td>487.0</td>\n",
              "      <td>318.0</td>\n",
              "      <td>703.0</td>\n",
              "    </tr>\n",
              "    <tr>\n",
              "      <th>CACCAAAGTACAGAAT</th>\n",
              "      <td>121.0</td>\n",
              "      <td>396.0</td>\n",
              "      <td>154.0</td>\n",
              "      <td>314.0</td>\n",
              "    </tr>\n",
              "    <tr>\n",
              "      <th>GCCATTCCAGCTGTGC</th>\n",
              "      <td>122.0</td>\n",
              "      <td>120.0</td>\n",
              "      <td>497.0</td>\n",
              "      <td>1409.0</td>\n",
              "    </tr>\n",
              "    <tr>\n",
              "      <th>...</th>\n",
              "      <td>...</td>\n",
              "      <td>...</td>\n",
              "      <td>...</td>\n",
              "      <td>...</td>\n",
              "    </tr>\n",
              "    <tr>\n",
              "      <th>TTTCGATCATGGAAGC</th>\n",
              "      <td>113.0</td>\n",
              "      <td>118.0</td>\n",
              "      <td>209.0</td>\n",
              "      <td>294.0</td>\n",
              "    </tr>\n",
              "    <tr>\n",
              "      <th>TTCCGTGCAAGTGGCA</th>\n",
              "      <td>51.0</td>\n",
              "      <td>44.0</td>\n",
              "      <td>67.0</td>\n",
              "      <td>180.0</td>\n",
              "    </tr>\n",
              "    <tr>\n",
              "      <th>TGGAGGAGTATCAAGA</th>\n",
              "      <td>350.0</td>\n",
              "      <td>87.0</td>\n",
              "      <td>145.0</td>\n",
              "      <td>373.0</td>\n",
              "    </tr>\n",
              "    <tr>\n",
              "      <th>ACCCAAACATCTCGTC</th>\n",
              "      <td>271.0</td>\n",
              "      <td>53.0</td>\n",
              "      <td>105.0</td>\n",
              "      <td>252.0</td>\n",
              "    </tr>\n",
              "    <tr>\n",
              "      <th>GGTCACGAGTCTTCGA</th>\n",
              "      <td>114.0</td>\n",
              "      <td>86.0</td>\n",
              "      <td>152.0</td>\n",
              "      <td>897.0</td>\n",
              "    </tr>\n",
              "  </tbody>\n",
              "</table>\n",
              "<p>9383 rows × 4 columns</p>\n",
              "</div>"
            ]
          },
          "metadata": {
            "tags": []
          },
          "execution_count": 24
        }
      ]
    },
    {
      "cell_type": "code",
      "metadata": {
        "id": "NrEw0fz5BKjP"
      },
      "source": [
        "import scanpy.external as sce"
      ],
      "execution_count": null,
      "outputs": []
    },
    {
      "cell_type": "code",
      "metadata": {
        "colab": {
          "base_uri": "https://localhost:8080/"
        },
        "id": "DexQFjoBGGz2",
        "outputId": "eeb71697-f180-44cd-9567-9219df1bf767"
      },
      "source": [
        "#scanpy.external.pp.hashsolo(adata, cell_hashing_columns, priors=[0.01, 0.8, 0.19], pre_existing_clusters=None, number_of_noise_barcodes=2, inplace=True)\n",
        "sce.pp.hashsolo(HTO, ['AD5_C_T_CT',\t'AD5_H_T_HT',\t'AD12_C_R_CR',\t'AD12_H_R_HR'])"
      ],
      "execution_count": null,
      "outputs": [
        {
          "output_type": "stream",
          "text": [
            "Please cite HashSolo paper:\n",
            "https://www.cell.com/cell-systems/fulltext/S2405-4712(20)30195-2\n"
          ],
          "name": "stdout"
        }
      ]
    },
    {
      "cell_type": "code",
      "metadata": {
        "colab": {
          "base_uri": "https://localhost:8080/",
          "height": 456
        },
        "id": "3OgUAQFpHOZX",
        "outputId": "4d8dba41-3e3e-4ecf-de5a-81cd595d60cc"
      },
      "source": [
        "HTO.obs"
      ],
      "execution_count": null,
      "outputs": [
        {
          "output_type": "execute_result",
          "data": {
            "text/plain": [
              "                  AD5_C_T_CT  AD5_H_T_HT  AD12_C_R_CR  AD12_H_R_HR  \\\n",
              "barcode                                                              \n",
              "GAAATGAAGAGATTCA        86.0        97.0        298.0        261.0   \n",
              "GCACTAACACGTAACT       136.0        83.0        113.0        644.0   \n",
              "GAACACTAGTCCTGTA      1005.0       487.0        318.0        703.0   \n",
              "CACCAAAGTACAGAAT       121.0       396.0        154.0        314.0   \n",
              "GCCATTCCAGCTGTGC       122.0       120.0        497.0       1409.0   \n",
              "...                      ...         ...          ...          ...   \n",
              "TTTCGATCATGGAAGC       113.0       118.0        209.0        294.0   \n",
              "TTCCGTGCAAGTGGCA        51.0        44.0         67.0        180.0   \n",
              "TGGAGGAGTATCAAGA       350.0        87.0        145.0        373.0   \n",
              "ACCCAAACATCTCGTC       271.0        53.0        105.0        252.0   \n",
              "GGTCACGAGTCTTCGA       114.0        86.0        152.0        897.0   \n",
              "\n",
              "                  most_likely_hypothesis  cluster_feature  \\\n",
              "barcode                                                     \n",
              "GAAATGAAGAGATTCA                       1                0   \n",
              "GCACTAACACGTAACT                       1                0   \n",
              "GAACACTAGTCCTGTA                       1                0   \n",
              "CACCAAAGTACAGAAT                       1                0   \n",
              "GCCATTCCAGCTGTGC                       2                0   \n",
              "...                                  ...              ...   \n",
              "TTTCGATCATGGAAGC                       1                0   \n",
              "TTCCGTGCAAGTGGCA                       1                0   \n",
              "TGGAGGAGTATCAAGA                       2                0   \n",
              "ACCCAAACATCTCGTC                       1                0   \n",
              "GGTCACGAGTCTTCGA                       1                0   \n",
              "\n",
              "                  negative_hypothesis_probability  \\\n",
              "barcode                                             \n",
              "GAAATGAAGAGATTCA                     3.980923e-02   \n",
              "GCACTAACACGTAACT                     6.128496e-05   \n",
              "GAACACTAGTCCTGTA                     1.007640e-03   \n",
              "CACCAAAGTACAGAAT                     2.229602e-02   \n",
              "GCCATTCCAGCTGTGC                     3.670030e-08   \n",
              "...                                           ...   \n",
              "TTTCGATCATGGAAGC                     1.174352e-02   \n",
              "TTCCGTGCAAGTGGCA                     5.725145e-02   \n",
              "TGGAGGAGTATCAAGA                     7.034962e-04   \n",
              "ACCCAAACATCTCGTC                     2.740913e-02   \n",
              "GGTCACGAGTCTTCGA                     1.183426e-05   \n",
              "\n",
              "                  singlet_hypothesis_probability  \\\n",
              "barcode                                            \n",
              "GAAATGAAGAGATTCA                        0.867919   \n",
              "GCACTAACACGTAACT                        0.988315   \n",
              "GAACACTAGTCCTGTA                        0.722336   \n",
              "CACCAAAGTACAGAAT                        0.892050   \n",
              "GCCATTCCAGCTGTGC                        0.186744   \n",
              "...                                          ...   \n",
              "TTTCGATCATGGAAGC                        0.963661   \n",
              "TTCCGTGCAAGTGGCA                        0.942405   \n",
              "TGGAGGAGTATCAAGA                        0.414408   \n",
              "ACCCAAACATCTCGTC                        0.875960   \n",
              "GGTCACGAGTCTTCGA                        0.994182   \n",
              "\n",
              "                  doublet_hypothesis_probability Classification  \n",
              "barcode                                                          \n",
              "GAAATGAAGAGATTCA                        0.092271    AD12_C_R_CR  \n",
              "GCACTAACACGTAACT                        0.011624    AD12_H_R_HR  \n",
              "GAACACTAGTCCTGTA                        0.276656     AD5_C_T_CT  \n",
              "CACCAAAGTACAGAAT                        0.085654     AD5_H_T_HT  \n",
              "GCCATTCCAGCTGTGC                        0.813256        Doublet  \n",
              "...                                          ...            ...  \n",
              "TTTCGATCATGGAAGC                        0.024595    AD12_H_R_HR  \n",
              "TTCCGTGCAAGTGGCA                        0.000344    AD12_H_R_HR  \n",
              "TGGAGGAGTATCAAGA                        0.584889        Doublet  \n",
              "ACCCAAACATCTCGTC                        0.096631     AD5_C_T_CT  \n",
              "GGTCACGAGTCTTCGA                        0.005806    AD12_H_R_HR  \n",
              "\n",
              "[9383 rows x 10 columns]"
            ],
            "text/html": [
              "<div>\n",
              "<style scoped>\n",
              "    .dataframe tbody tr th:only-of-type {\n",
              "        vertical-align: middle;\n",
              "    }\n",
              "\n",
              "    .dataframe tbody tr th {\n",
              "        vertical-align: top;\n",
              "    }\n",
              "\n",
              "    .dataframe thead th {\n",
              "        text-align: right;\n",
              "    }\n",
              "</style>\n",
              "<table border=\"1\" class=\"dataframe\">\n",
              "  <thead>\n",
              "    <tr style=\"text-align: right;\">\n",
              "      <th></th>\n",
              "      <th>AD5_C_T_CT</th>\n",
              "      <th>AD5_H_T_HT</th>\n",
              "      <th>AD12_C_R_CR</th>\n",
              "      <th>AD12_H_R_HR</th>\n",
              "      <th>most_likely_hypothesis</th>\n",
              "      <th>cluster_feature</th>\n",
              "      <th>negative_hypothesis_probability</th>\n",
              "      <th>singlet_hypothesis_probability</th>\n",
              "      <th>doublet_hypothesis_probability</th>\n",
              "      <th>Classification</th>\n",
              "    </tr>\n",
              "    <tr>\n",
              "      <th>barcode</th>\n",
              "      <th></th>\n",
              "      <th></th>\n",
              "      <th></th>\n",
              "      <th></th>\n",
              "      <th></th>\n",
              "      <th></th>\n",
              "      <th></th>\n",
              "      <th></th>\n",
              "      <th></th>\n",
              "      <th></th>\n",
              "    </tr>\n",
              "  </thead>\n",
              "  <tbody>\n",
              "    <tr>\n",
              "      <th>GAAATGAAGAGATTCA</th>\n",
              "      <td>86.0</td>\n",
              "      <td>97.0</td>\n",
              "      <td>298.0</td>\n",
              "      <td>261.0</td>\n",
              "      <td>1</td>\n",
              "      <td>0</td>\n",
              "      <td>3.980923e-02</td>\n",
              "      <td>0.867919</td>\n",
              "      <td>0.092271</td>\n",
              "      <td>AD12_C_R_CR</td>\n",
              "    </tr>\n",
              "    <tr>\n",
              "      <th>GCACTAACACGTAACT</th>\n",
              "      <td>136.0</td>\n",
              "      <td>83.0</td>\n",
              "      <td>113.0</td>\n",
              "      <td>644.0</td>\n",
              "      <td>1</td>\n",
              "      <td>0</td>\n",
              "      <td>6.128496e-05</td>\n",
              "      <td>0.988315</td>\n",
              "      <td>0.011624</td>\n",
              "      <td>AD12_H_R_HR</td>\n",
              "    </tr>\n",
              "    <tr>\n",
              "      <th>GAACACTAGTCCTGTA</th>\n",
              "      <td>1005.0</td>\n",
              "      <td>487.0</td>\n",
              "      <td>318.0</td>\n",
              "      <td>703.0</td>\n",
              "      <td>1</td>\n",
              "      <td>0</td>\n",
              "      <td>1.007640e-03</td>\n",
              "      <td>0.722336</td>\n",
              "      <td>0.276656</td>\n",
              "      <td>AD5_C_T_CT</td>\n",
              "    </tr>\n",
              "    <tr>\n",
              "      <th>CACCAAAGTACAGAAT</th>\n",
              "      <td>121.0</td>\n",
              "      <td>396.0</td>\n",
              "      <td>154.0</td>\n",
              "      <td>314.0</td>\n",
              "      <td>1</td>\n",
              "      <td>0</td>\n",
              "      <td>2.229602e-02</td>\n",
              "      <td>0.892050</td>\n",
              "      <td>0.085654</td>\n",
              "      <td>AD5_H_T_HT</td>\n",
              "    </tr>\n",
              "    <tr>\n",
              "      <th>GCCATTCCAGCTGTGC</th>\n",
              "      <td>122.0</td>\n",
              "      <td>120.0</td>\n",
              "      <td>497.0</td>\n",
              "      <td>1409.0</td>\n",
              "      <td>2</td>\n",
              "      <td>0</td>\n",
              "      <td>3.670030e-08</td>\n",
              "      <td>0.186744</td>\n",
              "      <td>0.813256</td>\n",
              "      <td>Doublet</td>\n",
              "    </tr>\n",
              "    <tr>\n",
              "      <th>...</th>\n",
              "      <td>...</td>\n",
              "      <td>...</td>\n",
              "      <td>...</td>\n",
              "      <td>...</td>\n",
              "      <td>...</td>\n",
              "      <td>...</td>\n",
              "      <td>...</td>\n",
              "      <td>...</td>\n",
              "      <td>...</td>\n",
              "      <td>...</td>\n",
              "    </tr>\n",
              "    <tr>\n",
              "      <th>TTTCGATCATGGAAGC</th>\n",
              "      <td>113.0</td>\n",
              "      <td>118.0</td>\n",
              "      <td>209.0</td>\n",
              "      <td>294.0</td>\n",
              "      <td>1</td>\n",
              "      <td>0</td>\n",
              "      <td>1.174352e-02</td>\n",
              "      <td>0.963661</td>\n",
              "      <td>0.024595</td>\n",
              "      <td>AD12_H_R_HR</td>\n",
              "    </tr>\n",
              "    <tr>\n",
              "      <th>TTCCGTGCAAGTGGCA</th>\n",
              "      <td>51.0</td>\n",
              "      <td>44.0</td>\n",
              "      <td>67.0</td>\n",
              "      <td>180.0</td>\n",
              "      <td>1</td>\n",
              "      <td>0</td>\n",
              "      <td>5.725145e-02</td>\n",
              "      <td>0.942405</td>\n",
              "      <td>0.000344</td>\n",
              "      <td>AD12_H_R_HR</td>\n",
              "    </tr>\n",
              "    <tr>\n",
              "      <th>TGGAGGAGTATCAAGA</th>\n",
              "      <td>350.0</td>\n",
              "      <td>87.0</td>\n",
              "      <td>145.0</td>\n",
              "      <td>373.0</td>\n",
              "      <td>2</td>\n",
              "      <td>0</td>\n",
              "      <td>7.034962e-04</td>\n",
              "      <td>0.414408</td>\n",
              "      <td>0.584889</td>\n",
              "      <td>Doublet</td>\n",
              "    </tr>\n",
              "    <tr>\n",
              "      <th>ACCCAAACATCTCGTC</th>\n",
              "      <td>271.0</td>\n",
              "      <td>53.0</td>\n",
              "      <td>105.0</td>\n",
              "      <td>252.0</td>\n",
              "      <td>1</td>\n",
              "      <td>0</td>\n",
              "      <td>2.740913e-02</td>\n",
              "      <td>0.875960</td>\n",
              "      <td>0.096631</td>\n",
              "      <td>AD5_C_T_CT</td>\n",
              "    </tr>\n",
              "    <tr>\n",
              "      <th>GGTCACGAGTCTTCGA</th>\n",
              "      <td>114.0</td>\n",
              "      <td>86.0</td>\n",
              "      <td>152.0</td>\n",
              "      <td>897.0</td>\n",
              "      <td>1</td>\n",
              "      <td>0</td>\n",
              "      <td>1.183426e-05</td>\n",
              "      <td>0.994182</td>\n",
              "      <td>0.005806</td>\n",
              "      <td>AD12_H_R_HR</td>\n",
              "    </tr>\n",
              "  </tbody>\n",
              "</table>\n",
              "<p>9383 rows × 10 columns</p>\n",
              "</div>"
            ]
          },
          "metadata": {
            "tags": []
          },
          "execution_count": 27
        }
      ]
    },
    {
      "cell_type": "code",
      "metadata": {
        "colab": {
          "base_uri": "https://localhost:8080/",
          "height": 456
        },
        "id": "cah2gRilGjHp",
        "outputId": "7089cc43-df8b-432f-dc91-19e70f68b30c"
      },
      "source": [
        "adata.obs['sample'] = HTO.obs['Classification']\n",
        "adata.obs"
      ],
      "execution_count": null,
      "outputs": [
        {
          "output_type": "execute_result",
          "data": {
            "text/plain": [
              "                  latent_RT_efficiency  latent_cell_probability  latent_scale  \\\n",
              "barcode                                                                         \n",
              "GAAATGAAGAGATTCA              7.495728                 0.999992   1729.346924   \n",
              "GCACTAACACGTAACT              6.418712                 0.999972   1618.234497   \n",
              "GAACACTAGTCCTGTA              6.210265                 0.999982   1516.339844   \n",
              "CACCAAAGTACAGAAT              6.258895                 0.999971   1483.773682   \n",
              "GCCATTCCAGCTGTGC              5.981774                 0.999983   1586.633179   \n",
              "...                                ...                      ...           ...   \n",
              "TTTCGATCATGGAAGC              0.944909                 0.994786    640.825439   \n",
              "TTCCGTGCAAGTGGCA              0.930552                 0.995897    618.432678   \n",
              "TGGAGGAGTATCAAGA              0.803860                 0.982980    576.867798   \n",
              "ACCCAAACATCTCGTC              0.846595                 0.995665    605.276550   \n",
              "GGTCACGAGTCTTCGA              0.806785                 0.991065    589.694946   \n",
              "\n",
              "                  n_counts  log_counts  n_genes  mt_frac  n_genes_by_counts  \\\n",
              "barcode                                                                       \n",
              "GAAATGAAGAGATTCA   37257.0   10.525595     5475      0.0               5475   \n",
              "GCACTAACACGTAACT   29660.0   10.297555     5348      0.0               5348   \n",
              "GAACACTAGTCCTGTA   27521.0   10.222705     4961      0.0               4961   \n",
              "CACCAAAGTACAGAAT   27170.0   10.209868     4253      0.0               4253   \n",
              "GCCATTCCAGCTGTGC   25704.0   10.154402     5164      0.0               5164   \n",
              "...                    ...         ...      ...      ...                ...   \n",
              "TTTCGATCATGGAAGC     204.0    5.318120      121      0.0                121   \n",
              "TTCCGTGCAAGTGGCA     203.0    5.313206      166      0.0                166   \n",
              "TGGAGGAGTATCAAGA     204.0    5.318120      128      0.0                128   \n",
              "ACCCAAACATCTCGTC     205.0    5.323010      127      0.0                127   \n",
              "GGTCACGAGTCTTCGA     206.0    5.327876      154      0.0                154   \n",
              "\n",
              "                  log1p_n_genes_by_counts  total_counts  log1p_total_counts  \\\n",
              "barcode                                                                       \n",
              "GAAATGAAGAGATTCA                 8.608130       37257.0           10.525622   \n",
              "GCACTAACACGTAACT                 8.584665       29660.0           10.297588   \n",
              "GAACACTAGTCCTGTA                 8.509564       27521.0           10.222741   \n",
              "CACCAAAGTACAGAAT                 8.355615       27170.0           10.209906   \n",
              "GCCATTCCAGCTGTGC                 8.549660       25704.0           10.154441   \n",
              "...                                   ...           ...                 ...   \n",
              "TTTCGATCATGGAAGC                 4.804021         204.0            5.323010   \n",
              "TTCCGTGCAAGTGGCA                 5.117994         203.0            5.318120   \n",
              "TGGAGGAGTATCAAGA                 4.859812         204.0            5.323010   \n",
              "ACCCAAACATCTCGTC                 4.852030         205.0            5.327876   \n",
              "GGTCACGAGTCTTCGA                 5.043425         206.0            5.332719   \n",
              "\n",
              "                  pct_counts_in_top_50_genes  pct_counts_in_top_100_genes  \\\n",
              "barcode                                                                     \n",
              "GAAATGAAGAGATTCA                   24.288053                    31.102880   \n",
              "GCACTAACACGTAACT                   21.207013                    27.737694   \n",
              "GAACACTAGTCCTGTA                   32.589659                    39.326333   \n",
              "CACCAAAGTACAGAAT                   28.251748                    36.006625   \n",
              "GCCATTCCAGCTGTGC                   34.177560                    41.923436   \n",
              "...                                      ...                          ...   \n",
              "TTTCGATCATGGAAGC                   65.196078                    89.705882   \n",
              "TTCCGTGCAAGTGGCA                   42.857143                    67.487685   \n",
              "TGGAGGAGTATCAAGA                   61.764706                    86.274510   \n",
              "ACCCAAACATCTCGTC                   62.439024                    86.829268   \n",
              "GGTCACGAGTCTTCGA                   49.514563                    73.786408   \n",
              "\n",
              "                  pct_counts_in_top_200_genes  pct_counts_in_top_500_genes  \\\n",
              "barcode                                                                      \n",
              "GAAATGAAGAGATTCA                    40.631291                    56.899375   \n",
              "GCACTAACACGTAACT                    37.039784                    53.287256   \n",
              "GAACACTAGTCCTGTA                    47.941572                    61.662004   \n",
              "CACCAAAGTACAGAAT                    46.028708                    62.432830   \n",
              "GCCATTCCAGCTGTGC                    50.447401                    62.768441   \n",
              "...                                       ...                          ...   \n",
              "TTTCGATCATGGAAGC                   100.000000                   100.000000   \n",
              "TTCCGTGCAAGTGGCA                   100.000000                   100.000000   \n",
              "TGGAGGAGTATCAAGA                   100.000000                   100.000000   \n",
              "ACCCAAACATCTCGTC                   100.000000                   100.000000   \n",
              "GGTCACGAGTCTTCGA                   100.000000                   100.000000   \n",
              "\n",
              "                  total_counts_mito  log1p_total_counts_mito  pct_counts_mito  \\\n",
              "barcode                                                                         \n",
              "GAAATGAAGAGATTCA                0.0                      0.0              0.0   \n",
              "GCACTAACACGTAACT                0.0                      0.0              0.0   \n",
              "GAACACTAGTCCTGTA                0.0                      0.0              0.0   \n",
              "CACCAAAGTACAGAAT                0.0                      0.0              0.0   \n",
              "GCCATTCCAGCTGTGC                0.0                      0.0              0.0   \n",
              "...                             ...                      ...              ...   \n",
              "TTTCGATCATGGAAGC                0.0                      0.0              0.0   \n",
              "TTCCGTGCAAGTGGCA                0.0                      0.0              0.0   \n",
              "TGGAGGAGTATCAAGA                0.0                      0.0              0.0   \n",
              "ACCCAAACATCTCGTC                0.0                      0.0              0.0   \n",
              "GGTCACGAGTCTTCGA                0.0                      0.0              0.0   \n",
              "\n",
              "                       sample  \n",
              "barcode                        \n",
              "GAAATGAAGAGATTCA  AD12_C_R_CR  \n",
              "GCACTAACACGTAACT  AD12_H_R_HR  \n",
              "GAACACTAGTCCTGTA   AD5_C_T_CT  \n",
              "CACCAAAGTACAGAAT   AD5_H_T_HT  \n",
              "GCCATTCCAGCTGTGC      Doublet  \n",
              "...                       ...  \n",
              "TTTCGATCATGGAAGC  AD12_H_R_HR  \n",
              "TTCCGTGCAAGTGGCA  AD12_H_R_HR  \n",
              "TGGAGGAGTATCAAGA      Doublet  \n",
              "ACCCAAACATCTCGTC   AD5_C_T_CT  \n",
              "GGTCACGAGTCTTCGA  AD12_H_R_HR  \n",
              "\n",
              "[9383 rows x 19 columns]"
            ],
            "text/html": [
              "<div>\n",
              "<style scoped>\n",
              "    .dataframe tbody tr th:only-of-type {\n",
              "        vertical-align: middle;\n",
              "    }\n",
              "\n",
              "    .dataframe tbody tr th {\n",
              "        vertical-align: top;\n",
              "    }\n",
              "\n",
              "    .dataframe thead th {\n",
              "        text-align: right;\n",
              "    }\n",
              "</style>\n",
              "<table border=\"1\" class=\"dataframe\">\n",
              "  <thead>\n",
              "    <tr style=\"text-align: right;\">\n",
              "      <th></th>\n",
              "      <th>latent_RT_efficiency</th>\n",
              "      <th>latent_cell_probability</th>\n",
              "      <th>latent_scale</th>\n",
              "      <th>n_counts</th>\n",
              "      <th>log_counts</th>\n",
              "      <th>n_genes</th>\n",
              "      <th>mt_frac</th>\n",
              "      <th>n_genes_by_counts</th>\n",
              "      <th>log1p_n_genes_by_counts</th>\n",
              "      <th>total_counts</th>\n",
              "      <th>log1p_total_counts</th>\n",
              "      <th>pct_counts_in_top_50_genes</th>\n",
              "      <th>pct_counts_in_top_100_genes</th>\n",
              "      <th>pct_counts_in_top_200_genes</th>\n",
              "      <th>pct_counts_in_top_500_genes</th>\n",
              "      <th>total_counts_mito</th>\n",
              "      <th>log1p_total_counts_mito</th>\n",
              "      <th>pct_counts_mito</th>\n",
              "      <th>sample</th>\n",
              "    </tr>\n",
              "    <tr>\n",
              "      <th>barcode</th>\n",
              "      <th></th>\n",
              "      <th></th>\n",
              "      <th></th>\n",
              "      <th></th>\n",
              "      <th></th>\n",
              "      <th></th>\n",
              "      <th></th>\n",
              "      <th></th>\n",
              "      <th></th>\n",
              "      <th></th>\n",
              "      <th></th>\n",
              "      <th></th>\n",
              "      <th></th>\n",
              "      <th></th>\n",
              "      <th></th>\n",
              "      <th></th>\n",
              "      <th></th>\n",
              "      <th></th>\n",
              "      <th></th>\n",
              "    </tr>\n",
              "  </thead>\n",
              "  <tbody>\n",
              "    <tr>\n",
              "      <th>GAAATGAAGAGATTCA</th>\n",
              "      <td>7.495728</td>\n",
              "      <td>0.999992</td>\n",
              "      <td>1729.346924</td>\n",
              "      <td>37257.0</td>\n",
              "      <td>10.525595</td>\n",
              "      <td>5475</td>\n",
              "      <td>0.0</td>\n",
              "      <td>5475</td>\n",
              "      <td>8.608130</td>\n",
              "      <td>37257.0</td>\n",
              "      <td>10.525622</td>\n",
              "      <td>24.288053</td>\n",
              "      <td>31.102880</td>\n",
              "      <td>40.631291</td>\n",
              "      <td>56.899375</td>\n",
              "      <td>0.0</td>\n",
              "      <td>0.0</td>\n",
              "      <td>0.0</td>\n",
              "      <td>AD12_C_R_CR</td>\n",
              "    </tr>\n",
              "    <tr>\n",
              "      <th>GCACTAACACGTAACT</th>\n",
              "      <td>6.418712</td>\n",
              "      <td>0.999972</td>\n",
              "      <td>1618.234497</td>\n",
              "      <td>29660.0</td>\n",
              "      <td>10.297555</td>\n",
              "      <td>5348</td>\n",
              "      <td>0.0</td>\n",
              "      <td>5348</td>\n",
              "      <td>8.584665</td>\n",
              "      <td>29660.0</td>\n",
              "      <td>10.297588</td>\n",
              "      <td>21.207013</td>\n",
              "      <td>27.737694</td>\n",
              "      <td>37.039784</td>\n",
              "      <td>53.287256</td>\n",
              "      <td>0.0</td>\n",
              "      <td>0.0</td>\n",
              "      <td>0.0</td>\n",
              "      <td>AD12_H_R_HR</td>\n",
              "    </tr>\n",
              "    <tr>\n",
              "      <th>GAACACTAGTCCTGTA</th>\n",
              "      <td>6.210265</td>\n",
              "      <td>0.999982</td>\n",
              "      <td>1516.339844</td>\n",
              "      <td>27521.0</td>\n",
              "      <td>10.222705</td>\n",
              "      <td>4961</td>\n",
              "      <td>0.0</td>\n",
              "      <td>4961</td>\n",
              "      <td>8.509564</td>\n",
              "      <td>27521.0</td>\n",
              "      <td>10.222741</td>\n",
              "      <td>32.589659</td>\n",
              "      <td>39.326333</td>\n",
              "      <td>47.941572</td>\n",
              "      <td>61.662004</td>\n",
              "      <td>0.0</td>\n",
              "      <td>0.0</td>\n",
              "      <td>0.0</td>\n",
              "      <td>AD5_C_T_CT</td>\n",
              "    </tr>\n",
              "    <tr>\n",
              "      <th>CACCAAAGTACAGAAT</th>\n",
              "      <td>6.258895</td>\n",
              "      <td>0.999971</td>\n",
              "      <td>1483.773682</td>\n",
              "      <td>27170.0</td>\n",
              "      <td>10.209868</td>\n",
              "      <td>4253</td>\n",
              "      <td>0.0</td>\n",
              "      <td>4253</td>\n",
              "      <td>8.355615</td>\n",
              "      <td>27170.0</td>\n",
              "      <td>10.209906</td>\n",
              "      <td>28.251748</td>\n",
              "      <td>36.006625</td>\n",
              "      <td>46.028708</td>\n",
              "      <td>62.432830</td>\n",
              "      <td>0.0</td>\n",
              "      <td>0.0</td>\n",
              "      <td>0.0</td>\n",
              "      <td>AD5_H_T_HT</td>\n",
              "    </tr>\n",
              "    <tr>\n",
              "      <th>GCCATTCCAGCTGTGC</th>\n",
              "      <td>5.981774</td>\n",
              "      <td>0.999983</td>\n",
              "      <td>1586.633179</td>\n",
              "      <td>25704.0</td>\n",
              "      <td>10.154402</td>\n",
              "      <td>5164</td>\n",
              "      <td>0.0</td>\n",
              "      <td>5164</td>\n",
              "      <td>8.549660</td>\n",
              "      <td>25704.0</td>\n",
              "      <td>10.154441</td>\n",
              "      <td>34.177560</td>\n",
              "      <td>41.923436</td>\n",
              "      <td>50.447401</td>\n",
              "      <td>62.768441</td>\n",
              "      <td>0.0</td>\n",
              "      <td>0.0</td>\n",
              "      <td>0.0</td>\n",
              "      <td>Doublet</td>\n",
              "    </tr>\n",
              "    <tr>\n",
              "      <th>...</th>\n",
              "      <td>...</td>\n",
              "      <td>...</td>\n",
              "      <td>...</td>\n",
              "      <td>...</td>\n",
              "      <td>...</td>\n",
              "      <td>...</td>\n",
              "      <td>...</td>\n",
              "      <td>...</td>\n",
              "      <td>...</td>\n",
              "      <td>...</td>\n",
              "      <td>...</td>\n",
              "      <td>...</td>\n",
              "      <td>...</td>\n",
              "      <td>...</td>\n",
              "      <td>...</td>\n",
              "      <td>...</td>\n",
              "      <td>...</td>\n",
              "      <td>...</td>\n",
              "      <td>...</td>\n",
              "    </tr>\n",
              "    <tr>\n",
              "      <th>TTTCGATCATGGAAGC</th>\n",
              "      <td>0.944909</td>\n",
              "      <td>0.994786</td>\n",
              "      <td>640.825439</td>\n",
              "      <td>204.0</td>\n",
              "      <td>5.318120</td>\n",
              "      <td>121</td>\n",
              "      <td>0.0</td>\n",
              "      <td>121</td>\n",
              "      <td>4.804021</td>\n",
              "      <td>204.0</td>\n",
              "      <td>5.323010</td>\n",
              "      <td>65.196078</td>\n",
              "      <td>89.705882</td>\n",
              "      <td>100.000000</td>\n",
              "      <td>100.000000</td>\n",
              "      <td>0.0</td>\n",
              "      <td>0.0</td>\n",
              "      <td>0.0</td>\n",
              "      <td>AD12_H_R_HR</td>\n",
              "    </tr>\n",
              "    <tr>\n",
              "      <th>TTCCGTGCAAGTGGCA</th>\n",
              "      <td>0.930552</td>\n",
              "      <td>0.995897</td>\n",
              "      <td>618.432678</td>\n",
              "      <td>203.0</td>\n",
              "      <td>5.313206</td>\n",
              "      <td>166</td>\n",
              "      <td>0.0</td>\n",
              "      <td>166</td>\n",
              "      <td>5.117994</td>\n",
              "      <td>203.0</td>\n",
              "      <td>5.318120</td>\n",
              "      <td>42.857143</td>\n",
              "      <td>67.487685</td>\n",
              "      <td>100.000000</td>\n",
              "      <td>100.000000</td>\n",
              "      <td>0.0</td>\n",
              "      <td>0.0</td>\n",
              "      <td>0.0</td>\n",
              "      <td>AD12_H_R_HR</td>\n",
              "    </tr>\n",
              "    <tr>\n",
              "      <th>TGGAGGAGTATCAAGA</th>\n",
              "      <td>0.803860</td>\n",
              "      <td>0.982980</td>\n",
              "      <td>576.867798</td>\n",
              "      <td>204.0</td>\n",
              "      <td>5.318120</td>\n",
              "      <td>128</td>\n",
              "      <td>0.0</td>\n",
              "      <td>128</td>\n",
              "      <td>4.859812</td>\n",
              "      <td>204.0</td>\n",
              "      <td>5.323010</td>\n",
              "      <td>61.764706</td>\n",
              "      <td>86.274510</td>\n",
              "      <td>100.000000</td>\n",
              "      <td>100.000000</td>\n",
              "      <td>0.0</td>\n",
              "      <td>0.0</td>\n",
              "      <td>0.0</td>\n",
              "      <td>Doublet</td>\n",
              "    </tr>\n",
              "    <tr>\n",
              "      <th>ACCCAAACATCTCGTC</th>\n",
              "      <td>0.846595</td>\n",
              "      <td>0.995665</td>\n",
              "      <td>605.276550</td>\n",
              "      <td>205.0</td>\n",
              "      <td>5.323010</td>\n",
              "      <td>127</td>\n",
              "      <td>0.0</td>\n",
              "      <td>127</td>\n",
              "      <td>4.852030</td>\n",
              "      <td>205.0</td>\n",
              "      <td>5.327876</td>\n",
              "      <td>62.439024</td>\n",
              "      <td>86.829268</td>\n",
              "      <td>100.000000</td>\n",
              "      <td>100.000000</td>\n",
              "      <td>0.0</td>\n",
              "      <td>0.0</td>\n",
              "      <td>0.0</td>\n",
              "      <td>AD5_C_T_CT</td>\n",
              "    </tr>\n",
              "    <tr>\n",
              "      <th>GGTCACGAGTCTTCGA</th>\n",
              "      <td>0.806785</td>\n",
              "      <td>0.991065</td>\n",
              "      <td>589.694946</td>\n",
              "      <td>206.0</td>\n",
              "      <td>5.327876</td>\n",
              "      <td>154</td>\n",
              "      <td>0.0</td>\n",
              "      <td>154</td>\n",
              "      <td>5.043425</td>\n",
              "      <td>206.0</td>\n",
              "      <td>5.332719</td>\n",
              "      <td>49.514563</td>\n",
              "      <td>73.786408</td>\n",
              "      <td>100.000000</td>\n",
              "      <td>100.000000</td>\n",
              "      <td>0.0</td>\n",
              "      <td>0.0</td>\n",
              "      <td>0.0</td>\n",
              "      <td>AD12_H_R_HR</td>\n",
              "    </tr>\n",
              "  </tbody>\n",
              "</table>\n",
              "<p>9383 rows × 19 columns</p>\n",
              "</div>"
            ]
          },
          "metadata": {
            "tags": []
          },
          "execution_count": 28
        }
      ]
    },
    {
      "cell_type": "code",
      "metadata": {
        "colab": {
          "base_uri": "https://localhost:8080/"
        },
        "id": "piTlrnzYJ7xk",
        "outputId": "a05fc46b-12ef-4717-dcd8-9149a1dbafb6"
      },
      "source": [
        "adata.obs['sample'].value_counts()"
      ],
      "execution_count": null,
      "outputs": [
        {
          "output_type": "execute_result",
          "data": {
            "text/plain": [
              "AD12_H_R_HR    5299\n",
              "Doublet        1891\n",
              "AD12_C_R_CR     805\n",
              "AD5_H_T_HT      725\n",
              "AD5_C_T_CT      663\n",
              "Name: sample, dtype: int64"
            ]
          },
          "metadata": {
            "tags": []
          },
          "execution_count": 29
        }
      ]
    },
    {
      "cell_type": "code",
      "metadata": {
        "colab": {
          "base_uri": "https://localhost:8080/"
        },
        "id": "cBzlLZqbGj-n",
        "outputId": "6e8773b4-fe55-41a5-f1ea-41d7328984a3"
      },
      "source": [
        "adata= adata[~adata.obs['sample'].isin(['Doublet','Negative']),:].copy()\n",
        "adata"
      ],
      "execution_count": null,
      "outputs": [
        {
          "output_type": "execute_result",
          "data": {
            "text/plain": [
              "AnnData object with n_obs × n_vars = 7492 × 60671\n",
              "    obs: 'latent_RT_efficiency', 'latent_cell_probability', 'latent_scale', 'n_counts', 'log_counts', 'n_genes', 'mt_frac', 'n_genes_by_counts', 'log1p_n_genes_by_counts', 'total_counts', 'log1p_total_counts', 'pct_counts_in_top_50_genes', 'pct_counts_in_top_100_genes', 'pct_counts_in_top_200_genes', 'pct_counts_in_top_500_genes', 'total_counts_mito', 'log1p_total_counts_mito', 'pct_counts_mito', 'sample'\n",
              "    var: 'ambient_expression', 'mito', 'n_cells_by_counts', 'mean_counts', 'log1p_mean_counts', 'pct_dropout_by_counts', 'total_counts', 'log1p_total_counts'\n",
              "    uns: 'contamination_fraction_params', 'fraction_data_used_for_testing', 'lambda_multiplier', 'overdispersion_mean_and_scale', 'target_false_positive_rate', 'test_elbo', 'test_epoch', 'training_elbo_per_epoch'\n",
              "    obsm: 'latent_gene_encoding'"
            ]
          },
          "metadata": {
            "tags": []
          },
          "execution_count": 30
        }
      ]
    },
    {
      "cell_type": "code",
      "metadata": {
        "colab": {
          "base_uri": "https://localhost:8080/"
        },
        "id": "StT2jym9GkDl",
        "outputId": "ab30a53a-8a62-4075-b69a-58915c01c109"
      },
      "source": [
        "clean=samplename+\"_clean_taged.h5ad\"\n",
        "adata.write(clean)"
      ],
      "execution_count": null,
      "outputs": [
        {
          "output_type": "stream",
          "text": [
            "... storing 'sample' as categorical\n"
          ],
          "name": "stderr"
        }
      ]
    },
    {
      "cell_type": "code",
      "metadata": {
        "id": "Kfi72gbt-pvS"
      },
      "source": [
        "adata.obs[['Donnor','Treatment','Condition']] = adata.obs['sample'].str.split(\"_\",expand=True,)\n",
        "adata.obs"
      ],
      "execution_count": null,
      "outputs": []
    },
    {
      "cell_type": "code",
      "metadata": {
        "id": "VCSldyrtvsAM",
        "colab": {
          "base_uri": "https://localhost:8080/"
        },
        "outputId": "77a7f30c-04e7-474f-d0e1-452a05c20789"
      },
      "source": [
        "adata.obs['n_counts'].sum()"
      ],
      "execution_count": null,
      "outputs": [
        {
          "output_type": "execute_result",
          "data": {
            "text/plain": [
              "21628900.0"
            ]
          },
          "metadata": {
            "tags": []
          },
          "execution_count": 47
        }
      ]
    },
    {
      "cell_type": "code",
      "metadata": {
        "colab": {
          "base_uri": "https://localhost:8080/"
        },
        "id": "Mkkz_gDdRiSl",
        "outputId": "40849bc4-445c-4b1f-95dc-fe76a77086be"
      },
      "source": [
        "panel=['A2M','ABCB1','ABCB11','ABCC2','ABCG2','ABL1','ACOT7','ADA','ADGRE1','ADGRE5','ADGRG3','ADORA2A','AHR','AICDA','AIM2','AIRE','AKT3','ALAS2','ALCAM','AMBP','ANLN','ANP32B','ANP32E','ANXA1','ANXA5','AOC3','APOBEC3G','APOD','APOE','APP','AQP9','ARG1','ARG2','ARL4C','ASF1A','ATAD2','ATF1','ATF2','ATF6B','ATG10','ATG12','ATG16L1','ATG5','ATG7','ATM','AURKA','AURKB','AXL','AZU1','B2M','B3GAT1','BACH2','BATF','BATF3','BAX','BCL10','BCL11B','BCL2','BCL2A1','BCL2L1','BCL6','BID','BIN2','BIRC2','BIRC3','BIRC5','BLK','BLM','BLNK','BMI1','BORA','BPI','BRIP1','BST1','BST2','BTG1','BTK','BTLA','BTN3A1','BTN3A2','BUB1','C1QA','C1QB','C1QBP','C1R','C1S','C2','C3','C3AR1','C4B','C4BPA','C5','C5AR1','C6','C7','C8A','C8B','C8G','C9','CALM3','CAMP','CARD11','CARD9','CASP1','CASP10','CASP3','CASP5','CASP8','CASP8AP2','CBLB','CBX5','CCDC50','CCL1','CCL11','CCL13','CCL14','CCL15','CCL16','CCL17','CCL18','CCL19','CCL2','CCL20','CCL21','CCL22','CCL23','CCL24','CCL25','CCL26','CCL27','CCL28','CCL3','CCL3L1','CCL3L1','CCL4','CCL5','CCL7','CCL8','CCNB1','CCNB2','CCND2','CCND3','CCNE2','CCR1','CCR10','CCR2','CCR3','CCR4','CCR5','CCR6','CCR7','CCR8','CCR9','CCRL2','CD109','CD14','CD160','CD163','CD164','CD180','CD19','CD1A','CD1B','CD1C','CD1D','CD1E','CD2','CD200','CD207','CD209','CD22','CD24','CD244','CD247','CD27','CD274','CD276','CD28','CD300A','CD33','CD34','CD36','CD37','CD38','CD3D','CD3E','CD3G','CD4','CD40','CD40LG','CD44','CD46','CD47','CD48','CD5','CD52','CD53','CD55','CD58','CD59','CD6','CD63','CD68','CD69','CD7','CD70','CD72','CD74','CD79A','CD79B','CD80','CD81','CD83','CD84','CD86','CD8A','CD8B','CD9','CD96','CD99','CDC20','CDC25C','CDC45','CDC6','CDC7','CDCA2','CDCA3','CDCA7','CDCA8','CDH1','CDH5','CDK1','CDK4','CDK6','CDKN1A','CEACAM1','CEACAM6','CEACAM8','CEBPB','CENPA','CENPE','CENPF','CENPU','CES1','CFB','CFD','CFI','CFP','CHAF1B','CHI3L1','CHI3L2','CHIT1','CHST10','CHUK','CIITA','CKAP2','CKAP2L','CKAP5','CKLF','CKS1B','CKS2','CLC','CLEC10A','CLEC2D','CLEC4A','CLEC4C','CLEC4D','CLEC4E','CLEC5A','CLEC6A','CLEC7A','CLSPN','CLU','CMA1','CMKLR1','CMTM2','CMTM6','CNOT2','CNTNAP3','COL3A1','COLEC12','CPA3','CR1','CR2','CREB1','CREB5','CREBBP','CREM','CRP','CRYAB','CSF1','CSF1R','CSF2','CSF2RA','CSF2RB','CSF3','CSF3R','CST7','CTAGE1','CTCF','CTCFL','CTLA4','CTRC','CTSD','CTSG','CTSH','CTSL','CTSS','CTSW','CX3CL1','CX3CR1','CXCL1','CXCL10','CXCL11','CXCL12','CXCL13','CXCL14','CXCL16','CXCL2','CXCL3','CXCL5','CXCL6','CXCL8','CXCL9','CXCR1','CXCR2','CXCR3','CXCR4','CXCR5','CXCR6','CYBB','CYFIP2','CYLD','CYSLTR1','DCN','DCT','DDX43','DDX58','DEFA3','DEFA4','DEFB1','DLGAP5','DLK1','DMBT1','DMKN','DOCK8','DOCK9','DPP4','DSCC1','DTL','DUSP1','DUSP2','DUSP4','DUSP6','E2F8','EBF1','EBI3','ECSIT','ECT2','EDNRB','EED','EGR1','EGR2','EGR3','EHF','ELANE','ELF1','ELF2','ELF4','ELK1','ELK3','ENG','ENTPD1','EOMES','EP300','EPCAM','EPX','ERAL1','ERAP1','ETS1','ETS2','ETV3','ETV6','EWSR1','EXO1','EZH2','F12','F13A1','F2RL1','F5','FABP4','FADD','FAS','FASLG','FBXO22','FCAR','FCER1A','FCER1G','FCER2','FCGR1A','FCGR2A','FCGR2B','FCGR3A','FCGR3B','FCN1','FCRL2','FEN1','FEZ1','FGL2','FICD','FLT3','FLT3LG','FN1','FOS','FOSB','FOSL1','FOXJ1','FOXO1','FOXO3','FOXP1','FOXP3','FPR1','FPR2','FRMD4B','FRYL','FTH1','FUT4','FUT5','FUT7','FYB1','FYN','G2E3','G6PD','GAB2','GABPA','GAGE1','GAS2L3','GATA3','GFI1','GHR','GIMAP2','GIMAP5','GIMAP7','GINS2','GLG1','GMNN','GNAI2','GNG8','GNLY','GPC1','GPI','GRAMD4','GTF3C1','GTSE1','GZMA','GZMB','GZMH','GZMK','GZMM','HAMP','HAVCR1','HAVCR2','HCK','HDC','HELLS','HJURP','HLA-A','HLA-A','HLA-B','HLA-C','HLA-C','HLA-DMA','HLA-DMB','HLA-DOB','HLA-DPA1','HLA-DPB1','HLA-DQA1','HLA-DQA1','HLA-DQB1','HLA-DQB1','HLA-DQB2','HLA-DRA','HLA-DRB1','HLA-DRB1','HLA-DRB1','HLA-DRB1','HLA-DRB5','HLA-E','HLA-F','HLA-G','HMGB1','HMGB2','HMGN3','HMMR','HMOX1','HRAS','HRH4','HSD11B1','ICAM1','ICAM2','ICAM3','ICAM4','ICOS','ICOSLG','IDO1','IER3','IER5','IFI16','IFI27','IFI35','IFIH1','IFIT1','IFIT2','IFITM1','IFITM2','IFITM3','IFNA1','IFNA17','IFNA2','IFNA7','IFNA8','IFNAR1','IFNAR2','IFNB1','IFNG','IFNGR1','IFNGR2','IFNL1','IFNL2','IGBP1','IGF1R','IGF2R','IGLL1','IKBKB','IKBKE','IKBKG','IKZF1','IKZF2','IKZF4','IL10','IL10RA','IL10RB','IL11','IL11RA','IL12A','IL12B','IL12RB1','IL12RB2','IL13','IL13RA1','IL13RA2','IL15','IL15RA','IL16','IL17A','IL17B','IL17F','IL17RA','IL17RB','IL18','IL18R1','IL18RAP','IL19','IL1A','IL1B','IL1R1','IL1R2','IL1RAP','IL1RAPL2','IL1RL1','IL1RL2','IL1RN','IL2','IL21','IL21R','IL22','IL22RA1','IL22RA2','IL23A','IL23R','IL24','IL25','IL26','IL27','IL27RA','IL2RA','IL2RB','IL2RG','IL3','IL31','IL32','IL33','IL34','IL3RA','IL4','IL4I1','IL4R','IL5','IL5RA','IL6','IL6R','IL6ST','IL7','IL7R','IL9','IL9R','ILF3','INPP5D','IRAK1','IRAK2','IRAK4','IRF1','IRF2','IRF3','IRF4','IRF5','IRF7','IRF8','IRGM','ISG15','ISG20','ITCH','ITGA1','ITGA2','ITGA2B','ITGA3','ITGA4','ITGA5','ITGA6','ITGAE','ITGAL','ITGAM','ITGAX','ITGB1','ITGB2','ITGB3','ITGB4','ITGB8','ITK','JAK1','JAK2','JAK3','JAM3','JAML','JCHAIN','JPT1','JUN','JUNB','JUND','KCNE3','KDELR1','KIF11','KIF20B','KIF23','KIF2C','KIR2DL1','KIR2DL3','KIR3DL1','KIR3DL1','KIR3DL2','KIR3DL3','KIT','KLF13','KLF6','KLRB1','KLRC1','KLRC2','KLRC3','KLRC4','KLRD1','KLRF1','KLRG1','KLRK1','KRT1','KRT14','KRT16','KRT17','KRT5','KRT6A','KRTDAP','LAG3','LAIR1','LAIR2','LAMP1','LAMP2','LAMP3','LAP3','LAT','LAT2','LBP','LBR','LCK','LCN2','LCP1','LCP2','LDHA','LEF1','LGALS1','LGALS3','LGALS9','LIF','LILRA1','LILRA4','LILRA5','LILRB1','LILRB1','LILRB2','LILRB3','LILRB4','LIPA','LRBA','LRP1','LRRC3','LRRC32','LRRN3','LTA','LTB','LTBR','LTF','LTK','LUM','LY86','LY9','LY96','LYN','LYVE1','LYZ','MAF','MAGEA1','MAGEA12','MAGEA3','MAGEA4','MAGEB2','MAGEC1','MAGEC2','MALT1','MAP2K1','MAP2K2','MAP2K4','MAP3K1','MAP3K14','MAP3K5','MAP3K7','MAP4K2','MAPK1','MAPK11','MAPK14','MAPK3','MAPK8','MAPKAPK2','MARCO','MASP1','MASP2','MAST4','MAVS','MB21D2','MBL2','MCAM','MCM2','MCM4','MCM5','MCM6','MEF2C','MEFV','MERTK','MFGE8','MGP','MGST1','MICA','MICA','MICB','MIF','MITF','MKI67','MME','MMP12','MMP9','MNX1','MPPED1','MR1','MRC1','MRGPRX2','MS4A1','MS4A2','MS4A4A','MSH2','MSH3','MSH4','MSH5','MSH6','MSR1','MST1R','MUC1','MX1','MYC','MYCL','MYCN','MYD88','MZB1','NAMPT','NASP','NCAM1','NCAPD2','NCF4','NCK1','NCR1','NCR1','NCR3','NDC80','NEFL','NEIL3','NEK2','NFATC1','NFATC2','NFATC3','NFATC4','NFE2L2','NFIL3','NFKB1','NFKB2','NFKBIA','NFKBIZ','NIBAN3','NINJ2','NKG7','NLRC5','NLRP3','NOD1','NOD2','NOS2','NOTCH1','NOTCH2','NOTCH3','NR4A1','NRP1','NT5E','NTRK2','NUF2','NUP107','NUSAP1','OAS1','OAS3','OPTN','OSM','P2RX7','P2RY14','PASD1','PASK','PAX5','PBK','PCLAF','PCNA','PDCD1','PDCD1LG2','PDGFC','PDGFRB','PDIA4','PDIA6','PECAM1','PHF10','PI3','PIK3AP1','PIK3CD','PIK3CG','PIK3IP1','PIMREG','PIN1','PLA2G1B','PLA2G6','PLAT','PLAU','PLAUR','PLEKHG1','PMCH','PMEL','PMP22','PNMA1','PNOC','POLA1','POLD3','POLR1G','POU2AF1','POU2F2','PPARG','PPBP','PRAME','PRDM1','PRF1','PRG2','PRIM1','PRKCD','PRKCE','PRKCQ','PRM1','PSEN1','PSEN2','PSMB10','PSMB7','PSMB8','PSMB9','PSMD7','PSME1','PSRC1','PTAFR','PTGDR2','PTGDS','PTGER4','PTGS2','PTPRC','PTTG2','PVR','PYCARD','PYCR1','QPCT','RAB11FIP1','RAD51','RAD51AP1','RAG1','RANGAP1','RBX1','REL','RELA','RELB','REPS1','RFC2','RGS1','RGS2','RGS5','RHEBL1','RIPK2','RIPOR2','RNASE1','RNASE2','RNASE6','RNF149','RNF207','ROPN1','RORA','RORC','RPA2','RPN2','RRAD','RRM1','RRM2','RUNX1','RUNX3','S100A10','S100A12','S100A2','S100A7','S100A8','S100A9','S100B','S1PR1','S1PR2','SAA1','SBNO2','SDC1','SDHB','SELE','SELL','SELP','SELPLG','SEMA7A','SEMG1','SERPINA1','SERPINB2','SERPINE1','SERPING1','SH2B2','SH2D1A','SH2D1B','SIGIRR','SIGLEC1','SIGLEC5','SIGLEC8','SIRPA','SIRPB1','SIRPG','SIRT1','SKAP1','SLAMF1','SLAMF6','SLAMF7','SLBP','SLC11A1','SLC25A3','SLC25A37','SLC7A7','SMAD2','SMAD3','SMC4','SMCO4','SMPD3','SNCA','SOCS1','SOCS2','SOCS3','SOCS5','SOCS6','SPA17','SPACA3','SPAG1','SPANXB1','SPARCL1','SPATA24','SPATS2L','SPI1','SPIB','SPINK5','SPN','SPO11','SPOCK2','SPP1','SPPL2A','SSX1','ST6GAL1','ST8SIA4','STAT1','STAT2','STAT3','STAT4','STAT5A','STAT5B','STAT6','STING1','SUSD3','SYCP1','SYK','SYT17','TAB1','TACC3','TAGLN','TAL1','TANK','TAP1','TAP2','TAP2','TAPBP','TBK1','TBX21','TCF4','TCF7','TCL1A','TCL1B','TFAM','TFE3','TFEB','TFF3','TFPI','TFRC','TGFB1','TGFB2','TGFB3','TGFBI','THBD','THBS1','THY1','TIAF1','TICAM1','TICAM2','TIFA','TIGIT','TIPIN','TIRAP','TK1','TLR1','TLR10','TLR2','TLR3','TLR4','TLR5','TLR6','TLR7','TLR8','TLR9','TM4SF1','TMEFF2','TMEM97','TMPO','TNF','TNFAIP3','TNFAIP6','TNFRSF10B','TNFRSF10C','TNFRSF11A','TNFRSF11B','TNFRSF12A','TNFRSF13B','TNFRSF13C','TNFRSF14','TNFRSF17','TNFRSF18','TNFRSF1A','TNFRSF1B','TNFRSF25','TNFRSF4','TNFRSF8','TNFRSF9','TNFSF10','TNFSF11','TNFSF12','TNFSF13','TNFSF13B','TNFSF14','TNFSF15','TNFSF18','TNFSF4','TNFSF8','TNFSF9','TNS4','TOLLIP','TOP2A','TOX','TP53','TPSAB1','TPSB2','TPTE','TPX2','TRAF2','TRAF3','TRAF6','TRAT1','TREM1','TREM2','TRGC1','TRIB2','TSPAN32','TTC7A','TTK','TUBB4B','TXK','TXN','TXNIP','TYK2','TYMP','TYMS','TYRP1','UBASH3A','UBE2C','UBE2T','UBE3A','UBR7','UHRF1','ULBP2','UNG','USP1','USP9Y','VAV1','VCAM1','VEGFA','VEGFB','VEGFC','VMO1','VNN2','VPREB3','VPS28','VSIG4','VSIR','VTCN1','WDHD1','WDR76','WT1','XBP1','XCL1','XCL2','XCR1','YBX3','YTHDF2','ZAP70','ZBED2','ZBTB16','ZBTB7B','ZC2HC1A','ZC3H12D','ZNF205','ZNF683']\n",
        "\n",
        "len(panel)"
      ],
      "execution_count": null,
      "outputs": [
        {
          "output_type": "execute_result",
          "data": {
            "text/plain": [
              "1177"
            ]
          },
          "metadata": {
            "tags": []
          },
          "execution_count": 48
        }
      ]
    },
    {
      "cell_type": "code",
      "metadata": {
        "colab": {
          "base_uri": "https://localhost:8080/"
        },
        "id": "yNJyPTwyRiX5",
        "outputId": "1d68ed7a-62c6-4c03-b7ba-ac518603eb31"
      },
      "source": [
        "print(len(panel))\n",
        "filter=np.in1d(panel, adata.var_names)\n",
        "panel = list(np.array(panel)[filter])\n",
        "print(len(panel))"
      ],
      "execution_count": null,
      "outputs": [
        {
          "output_type": "stream",
          "text": [
            "1177\n",
            "1174\n"
          ],
          "name": "stdout"
        }
      ]
    },
    {
      "cell_type": "code",
      "metadata": {
        "colab": {
          "base_uri": "https://localhost:8080/"
        },
        "id": "lhR9cGC9RicM",
        "outputId": "9fdb203d-d18c-4724-f87b-8ec8e1004469"
      },
      "source": [
        "adata = adata[:, adata.var_names.isin(panel)] \n",
        "adata=adata.copy()\n",
        "adata.shape"
      ],
      "execution_count": null,
      "outputs": [
        {
          "output_type": "execute_result",
          "data": {
            "text/plain": [
              "(5229, 1162)"
            ]
          },
          "metadata": {
            "tags": []
          },
          "execution_count": 50
        }
      ]
    },
    {
      "cell_type": "code",
      "metadata": {
        "id": "34-mPSziR9Fw"
      },
      "source": [
        "adata.obs['n_counts'] = adata.X.sum(1)\n",
        "adata.obs['log_counts'] = np.log(adata.obs['n_counts'])\n",
        "adata.obs['n_genes'] = (adata.X > 0).sum(1)"
      ],
      "execution_count": null,
      "outputs": []
    },
    {
      "cell_type": "code",
      "metadata": {
        "colab": {
          "base_uri": "https://localhost:8080/"
        },
        "id": "HjECxDqbRrV1",
        "outputId": "ce8e44ea-44a1-4f6f-c32b-7e0b5662d996"
      },
      "source": [
        "adata.obs['n_counts'].sum()"
      ],
      "execution_count": null,
      "outputs": [
        {
          "output_type": "execute_result",
          "data": {
            "text/plain": [
              "2297594.0"
            ]
          },
          "metadata": {
            "tags": []
          },
          "execution_count": 52
        }
      ]
    },
    {
      "cell_type": "code",
      "metadata": {
        "id": "h6USBpbxcKNc",
        "colab": {
          "base_uri": "https://localhost:8080/"
        },
        "outputId": "cc29a543-c735-4921-9907-ff25f0e2a976"
      },
      "source": [
        "2297594*100/21628900\n"
      ],
      "execution_count": null,
      "outputs": [
        {
          "output_type": "execute_result",
          "data": {
            "text/plain": [
              "10.622796351178284"
            ]
          },
          "metadata": {
            "tags": []
          },
          "execution_count": 54
        }
      ]
    },
    {
      "cell_type": "code",
      "metadata": {
        "colab": {
          "base_uri": "https://localhost:8080/"
        },
        "id": "XvlsZ8vgcMhx",
        "outputId": "28dcc17e-773d-4b40-f498-9495532c4e18"
      },
      "source": [
        "adata.obs['n_counts'].median()"
      ],
      "execution_count": null,
      "outputs": [
        {
          "output_type": "execute_result",
          "data": {
            "text/plain": [
              "616.0"
            ]
          },
          "metadata": {
            "tags": []
          },
          "execution_count": 71
        }
      ]
    },
    {
      "cell_type": "code",
      "metadata": {
        "colab": {
          "base_uri": "https://localhost:8080/"
        },
        "id": "jsBxOzxYRrdi",
        "outputId": "9cb236e6-634e-46d0-9f91-acf96f05b73c"
      },
      "source": [
        "100*4406622/32187412"
      ],
      "execution_count": null,
      "outputs": [
        {
          "output_type": "execute_result",
          "data": {
            "text/plain": [
              "13.690513546103054"
            ]
          },
          "metadata": {
            "tags": []
          },
          "execution_count": 34
        }
      ]
    },
    {
      "cell_type": "code",
      "metadata": {
        "colab": {
          "base_uri": "https://localhost:8080/"
        },
        "id": "Jacn43IbRrlm",
        "outputId": "4281999d-a955-4fe4-9ea1-93e1a3d9fb33"
      },
      "source": [
        "14.262/5.21819"
      ],
      "execution_count": null,
      "outputs": [
        {
          "output_type": "execute_result",
          "data": {
            "text/plain": [
              "2.7331316031037582"
            ]
          },
          "metadata": {
            "tags": []
          },
          "execution_count": 58
        }
      ]
    }
  ]
}
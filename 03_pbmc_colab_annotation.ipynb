{
  "cells": [
    {
      "cell_type": "markdown",
      "metadata": {
        "id": "view-in-github",
        "colab_type": "text"
      },
      "source": [
        "<a href=\"https://colab.research.google.com/github/afvallejo/AD_2023/blob/main/03_pbmc_colab_annotation.ipynb\" target=\"_parent\"><img src=\"https://colab.research.google.com/assets/colab-badge.svg\" alt=\"Open In Colab\"/></a>"
      ]
    },
    {
      "cell_type": "markdown",
      "metadata": {
        "id": "7ANe3RjE5hES"
      },
      "source": [
        "# Single-Cell Transcriptomics with Scanpy: A Google Colab Tutorial\n",
        "### Description:\n",
        "This tutorial walks you through the analysis of single-cell RNA sequencing data using Scanpy, specifically focusing on 3k peripheral blood mononuclear cells (PBMCs) as provided by 10X. You will learn how to load, preprocess, and visualize single-cell data in Python."
      ],
      "id": "7ANe3RjE5hES"
    },
    {
      "cell_type": "markdown",
      "metadata": {
        "id": "SwN9MqgS5hEU"
      },
      "source": [
        "## Setup: Install Required Packages\n",
        "Let's start by setting up our environment in Google Colab. We'll need to install `scanpy`, `matplotlib`, and a few other important packages."
      ],
      "id": "SwN9MqgS5hEU"
    },
    {
      "cell_type": "code",
      "execution_count": null,
      "metadata": {
        "id": "5jGsxJyB5hEU"
      },
      "outputs": [],
      "source": [
        "!pip install scanpy\n",
        "!pip install anndata\n",
        "!pip install matplotlib\n",
        "!pip install seaborn\n",
        "!pip install h5py\n",
        "!pip install leidenalg"
      ],
      "id": "5jGsxJyB5hEU"
    },
    {
      "cell_type": "markdown",
      "metadata": {
        "id": "hQODKx9j5hEU"
      },
      "source": [
        "## Import Libraries\n",
        "Now that the packages are installed, we need to import them."
      ],
      "id": "hQODKx9j5hEU"
    },
    {
      "cell_type": "code",
      "execution_count": null,
      "metadata": {
        "id": "CXe7B6gm5hEU"
      },
      "outputs": [],
      "source": [
        "import scanpy as sc\n",
        "import anndata as ad\n",
        "import matplotlib.pyplot as plt\n",
        "import seaborn as sns\n",
        "import numpy as np"
      ],
      "id": "CXe7B6gm5hEU"
    },
    {
      "cell_type": "markdown",
      "metadata": {
        "id": "UA9-g8_w5hEV"
      },
      "source": [
        "## Load Data\n",
        "The PBMC dataset can be downloaded directly from the Parse Biosciences website. Here, for educational purposes, we're going to use an example dataset that can be downloaded directly from Scanpy."
      ],
      "id": "UA9-g8_w5hEV"
    },
    {
      "cell_type": "code",
      "source": [],
      "metadata": {
        "id": "fa0HHZJG7Oyi"
      },
      "id": "fa0HHZJG7Oyi",
      "execution_count": null,
      "outputs": []
    },
    {
      "cell_type": "code",
      "execution_count": null,
      "metadata": {
        "id": "wG5Mn_cG5hEV"
      },
      "outputs": [],
      "source": [
        "# Download and load the PBMC dataset\n",
        "adata = sc.datasets.pbmc3k()  # This is a demo PBMC dataset\n",
        "\n",
        "# Display basic information about the dataset\n",
        "adata"
      ],
      "id": "wG5Mn_cG5hEV"
    },
    {
      "cell_type": "markdown",
      "metadata": {
        "id": "kCLQ0Ymf5hEV"
      },
      "source": [
        "## Data Preprocessing\n",
        "In this section, we'll preprocess the dataset, which includes filtering the cells, normalizing the data, and finding highly variable genes."
      ],
      "id": "kCLQ0Ymf5hEV"
    },
    {
      "cell_type": "code",
      "execution_count": null,
      "metadata": {
        "id": "uwpEC9II5hEV"
      },
      "outputs": [],
      "source": [
        "# Filter out low-quality cells and genes\n",
        "sc.pp.filter_cells(adata, min_genes=200)\n",
        "sc.pp.filter_genes(adata, min_cells=3)\n",
        "\n",
        "# Calculate the percentage of mitochondrial genes in each cell\n",
        "adata.var['mt'] = adata.var_names.str.startswith('MT-')\n",
        "sc.pp.calculate_qc_metrics(adata, qc_vars=['mt'], percent_top=None, log1p=False, inplace=True)\n",
        "\n",
        "# Plot QC metrics to get an overview\n",
        "sc.pl.violin(adata, ['n_genes_by_counts', 'total_counts', 'pct_counts_mt'], jitter=0.4, multi_panel=True)\n",
        "\n",
        "# Filter cells based on quality control metrics\n",
        "adata = adata[adata.obs.n_genes_by_counts < 2500, :]\n",
        "adata = adata[adata.obs.pct_counts_mt < 5, :]"
      ],
      "id": "uwpEC9II5hEV"
    },
    {
      "cell_type": "markdown",
      "metadata": {
        "id": "go_SgJuF5hEV"
      },
      "source": [
        "## Normalization & Log Transformation\n",
        "Next, we'll normalize the data so that each cell has the same total read count. We'll then apply a log transformation to bring the data to a suitable scale for downstream analysis."
      ],
      "id": "go_SgJuF5hEV"
    },
    {
      "cell_type": "code",
      "execution_count": null,
      "metadata": {
        "id": "mcFcX_jY5hEV"
      },
      "outputs": [],
      "source": [
        "# Normalize the data to 10,000 reads per cell\n",
        "sc.pp.normalize_total(adata, target_sum=1e4)\n",
        "\n",
        "# Log-transform the data\n",
        "sc.pp.log1p(adata)"
      ],
      "id": "mcFcX_jY5hEV"
    },
    {
      "cell_type": "markdown",
      "metadata": {
        "id": "roLujqaY5hEV"
      },
      "source": [
        "## Identify Highly Variable Genes\n",
        "We now need to identify highly variable genes, as these will be informative for downstream analysis like clustering."
      ],
      "id": "roLujqaY5hEV"
    },
    {
      "cell_type": "code",
      "source": [
        "# Ensure variable names are unique\n",
        "adata.var_names_make_unique()"
      ],
      "metadata": {
        "id": "sRvn248L6ZNe"
      },
      "id": "sRvn248L6ZNe",
      "execution_count": null,
      "outputs": []
    },
    {
      "cell_type": "code",
      "execution_count": null,
      "metadata": {
        "id": "HWOkxY9t5hEW"
      },
      "outputs": [],
      "source": [
        "# Identify highly variable genes\n",
        "sc.pp.highly_variable_genes(adata, min_mean=0.0125, max_mean=3, min_disp=0.5)\n",
        "\n",
        "# Plot the highly variable genes\n",
        "sc.pl.highly_variable_genes(adata)\n",
        "\n",
        "# Keep only highly variable genes\n",
        "adata = adata[:, adata.var.highly_variable]"
      ],
      "id": "HWOkxY9t5hEW"
    },
    {
      "cell_type": "markdown",
      "metadata": {
        "id": "F0s4v57D5hEW"
      },
      "source": [
        "## Dimensionality Reduction\n",
        "We use PCA to reduce the dimensionality of the dataset, which helps us to visualize and better understand our data."
      ],
      "id": "F0s4v57D5hEW"
    },
    {
      "cell_type": "code",
      "execution_count": null,
      "metadata": {
        "id": "A2UpDe3o5hEW"
      },
      "outputs": [],
      "source": [
        "# Perform PCA for dimensionality reduction\n",
        "sc.pp.scale(adata, max_value=10)\n",
        "sc.tl.pca(adata, svd_solver='arpack')\n",
        "\n",
        "# Visualize the PCA results\n",
        "sc.pl.pca_variance_ratio(adata, log=True)"
      ],
      "id": "A2UpDe3o5hEW"
    },
    {
      "cell_type": "markdown",
      "metadata": {
        "id": "4fOQzSMN5hEW"
      },
      "source": [
        "## Clustering\n",
        "We can now proceed to cluster the cells based on gene expression patterns using neighborhood graphs and Louvain clustering."
      ],
      "id": "4fOQzSMN5hEW"
    },
    {
      "cell_type": "code",
      "execution_count": null,
      "metadata": {
        "id": "MBS3maGH5hEW"
      },
      "outputs": [],
      "source": [
        "# Compute the neighborhood graph\n",
        "sc.pp.neighbors(adata, n_neighbors=10, n_pcs=40)\n",
        "\n",
        "# Perform clustering using the Louvain algorithm\n",
        "sc.tl.leiden(adata)\n",
        "\n",
        "# Visualize the clustering using UMAP\n",
        "sc.tl.umap(adata)\n",
        "sc.pl.umap(adata, color=['leiden'])"
      ],
      "id": "MBS3maGH5hEW"
    },
    {
      "cell_type": "markdown",
      "metadata": {
        "id": "3UJZtVGT5hEW"
      },
      "source": [
        "## Marker Gene Analysis\n",
        "We want to identify marker genes that define each cluster and use them to annotate cell types."
      ],
      "id": "3UJZtVGT5hEW"
    },
    {
      "cell_type": "code",
      "execution_count": null,
      "metadata": {
        "id": "Wsd_xA915hEW"
      },
      "outputs": [],
      "source": [
        "# Find marker genes for each cluster\n",
        "sc.tl.rank_genes_groups(adata, 'leiden', method='t-test')\n",
        "sc.pl.rank_genes_groups(adata, n_genes=25, sharey=False)"
      ],
      "id": "Wsd_xA915hEW"
    },
    {
      "cell_type": "code",
      "source": [
        "#method : {‘logreg’, ‘t-test’, ‘wilcoxon’, ‘t-test_overestim_var’} | None (default: None)\n",
        "import pandas as pd\n",
        "sc.tl.rank_genes_groups(adata, 'leiden', method='wilcoxon',n_genes=adata.shape[1], rankby_abs=False,corr_method='bonferroni',key_added='wilcoxon_rank_genes_groups' )\n",
        "wilcoxon=pd.DataFrame(adata.uns['wilcoxon_rank_genes_groups']['names']).head(20)\n",
        "wilcoxon"
      ],
      "metadata": {
        "id": "FHFtMOhf_Hlc"
      },
      "id": "FHFtMOhf_Hlc",
      "execution_count": null,
      "outputs": []
    },
    {
      "cell_type": "markdown",
      "source": [
        "## Student Exercise: Annotating Clusters\n",
        "\n",
        "Now that we have identified clusters and marker genes, let's annotate the clusters.\n",
        "\n",
        "### Question for Students:\n",
        "- Based on the marker gene analysis, can you identify which cell types each cluster might represent?\n",
        "- Look at the top marker genes for each cluster and use external resources (e.g., literature or online databases) to annotate the clusters.\n",
        "\n",
        "### Problem:\n",
        "- Write a code snippet to add your annotations to the clusters. Use the `adata.obs['louvain']` column to assign cell type labels."
      ],
      "metadata": {
        "id": "Zg4q_lKh50KD"
      },
      "id": "Zg4q_lKh50KD"
    },
    {
      "cell_type": "markdown",
      "source": [
        "## Example Solution:\n"
      ],
      "metadata": {
        "id": "cNXyqY6o-Kkl"
      },
      "id": "cNXyqY6o-Kkl"
    },
    {
      "cell_type": "code",
      "source": [
        "# Example of adding annotations\n",
        "# Replace the cluster numbers with your identified cell types\n",
        "cluster_annotations = {\n",
        "    '0': 'Naive T cells',\n",
        "    '1': 'Memory T cells',\n",
        "    '2': 'B cells',\n",
        "    '3': 'NK cells',\n",
        "    '4': 'Monocytes'\n",
        "}\n",
        "\n",
        "# Annotate the clusters\n",
        "adata.obs['cell_type'] = adata.obs['leiden'].map(cluster_annotations).astype('category')\n"
      ],
      "metadata": {
        "id": "NB8rzNhE5tOz"
      },
      "id": "NB8rzNhE5tOz",
      "execution_count": null,
      "outputs": []
    },
    {
      "cell_type": "code",
      "source": [
        "# Visualize the annotated clusters\n",
        "sc.pl.umap(adata, color=['cell_type'])"
      ],
      "metadata": {
        "id": "hJ49FUCv5tRD"
      },
      "id": "hJ49FUCv5tRD",
      "execution_count": null,
      "outputs": []
    },
    {
      "cell_type": "code",
      "source": [],
      "metadata": {
        "id": "MNb3L64R5teK"
      },
      "id": "MNb3L64R5teK",
      "execution_count": null,
      "outputs": []
    }
  ],
  "metadata": {
    "kernelspec": {
      "display_name": "Python 3",
      "language": "python",
      "name": "python3"
    },
    "language_info": {
      "name": "python",
      "version": "3.7"
    },
    "colab": {
      "provenance": [],
      "include_colab_link": true
    }
  },
  "nbformat": 4,
  "nbformat_minor": 5
}